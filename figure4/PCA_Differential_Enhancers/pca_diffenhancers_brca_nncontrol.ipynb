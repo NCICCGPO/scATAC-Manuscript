{
 "cells": [
  {
   "cell_type": "code",
   "execution_count": null,
   "metadata": {
    "scrolled": true,
    "vscode": {
     "languageId": "r"
    }
   },
   "outputs": [],
   "source": [
    "library(BiocManager)\n",
    "library(BSgenome.Hsapiens.UCSC.hg38)\n",
    "library(ArchR)\n",
    "library(ggplot2)\n",
    "library(TFBSTools)\n",
    "library(Seurat)\n",
    "library(ggplot2)\n",
    "library(dplyr)\n",
    "library(harmony)\n",
    "library(BSgenome.Hsapiens.UCSC.hg38)\n",
    "library(edgeR)\n",
    "\n",
    "library(ArchR)\n",
    "data(\"geneAnnoHg38\")\n",
    "data(\"genomeAnnoHg38\")\n",
    "geneAnno <- geneAnnoHg38\n",
    "genomeAnno <- genomeAnnoHg38\n",
    "addArchRThreads(24)\n"
   ]
  },
  {
   "cell_type": "code",
   "execution_count": 2,
   "metadata": {
    "vscode": {
     "languageId": "r"
    }
   },
   "outputs": [],
   "source": [
    "library(Matrix)\n",
    "library(SummarizedExperiment)\n",
    "library(uwot)\n",
    "library(edgeR)\n",
    "library(FNN)\n",
    "library(matrixStats)\n",
    "library(Rcpp)\n",
    "set.seed(1)"
   ]
  },
  {
   "cell_type": "code",
   "execution_count": 3,
   "metadata": {
    "vscode": {
     "languageId": "r"
    }
   },
   "outputs": [],
   "source": [
    "get_up_enhancer_peakset <- function(comma_sep_data_in) {\n",
    "    comma_sep_data <- strsplit(comma_sep_data_in, \",\")\n",
    "    comma_sep_data <- matrix(unlist(comma_sep_data), ncol = 5, byrow = TRUE)\n",
    "    comma_sep_data <- data.frame(comma_sep_data)\n",
    "    colnames(comma_sep_data) <- c(\"seqnames\", \"tmp\", \"start\" ,\"tmp2\", \"end\")\n",
    "    comma_sep_data[c(\"seqnames\",\"start\",\"end\")]\n",
    "    \n",
    "    }"
   ]
  },
  {
   "cell_type": "code",
   "execution_count": 4,
   "metadata": {
    "vscode": {
     "languageId": "r"
    }
   },
   "outputs": [],
   "source": [
    "get_subtype_marking <- function(name) {\n",
    "    cleaned_text <- tolower(gsub(\":.*\", \"\", name))\n",
    "    subtype <- cleaned_text\n",
    "    if (grepl(\"lum\", cleaned_text)) {\n",
    "        subtype <- \"Lum\"\n",
    "    }\n",
    "    if (grepl(\"basal\", cleaned_text)) {\n",
    "        subtype <- \"BASAL\"\n",
    "    }\n",
    "    if (grepl(\"her2\", cleaned_text)) {\n",
    "        subtype <- \"HER2\"\n",
    "    }\n",
    "    subtype\n",
    "}\n",
    "\n",
    "get_sample_marking <- function(name) {\n",
    "    cleaned_text <- tolower(gsub(\"_cancer\", \"\", name))\n",
    "    cleaned_text <- tolower(gsub(\"_control\", \"\", cleaned_text))\n",
    "    cleaned_text\n",
    "}\n",
    "\n",
    "\n",
    "get_cancer_marking <- function(name) {\n",
    "    subtype <- \"\"\n",
    "    if (grepl(\"_control\", name)) {\n",
    "        subtype <- \"Control\"\n",
    "    }\n",
    "    if (grepl(\"_cancer\", name)) {\n",
    "        subtype <- \"Cancer\"\n",
    "    }\n",
    "    subtype\n",
    "}"
   ]
  },
  {
   "cell_type": "code",
   "execution_count": 5,
   "metadata": {
    "vscode": {
     "languageId": "r"
    }
   },
   "outputs": [],
   "source": [
    "get_pca_plot <- function(mat_sample_by_peak,samplename,selection,minsamples) {\n",
    "    \n",
    "    rownames_toconsider <- c()\n",
    "    \n",
    "    print(selection)\n",
    "    if (selection == \"cancer\") {\n",
    "        rownames_toconsider <- c()\n",
    "        for (nm in rownames(mat_sample_by_peak)) {\n",
    "            if (grepl(\"_cancer\",nm)){\n",
    "                rownames_toconsider <- append(rownames_toconsider,nm)\n",
    "                }\n",
    "            }\n",
    "        }\n",
    "        \n",
    "    else if (selection == \"control\") {\n",
    "        for (nm in rownames(mat_sample_by_peak)) {\n",
    "            if (grepl(\"_control\",nm)){\n",
    "                rownames_toconsider <- append(rownames_toconsider,nm)\n",
    "                }\n",
    "            }\n",
    "        }\n",
    "        \n",
    "    else if (selection == \"cancer_and_control\") {\n",
    "        rownames_toconsider <- rownames(mat_sample_by_peak)\n",
    "    }\n",
    "\n",
    "    \n",
    "    mat_sample_by_peak_subset <- mat_sample_by_peak[rownames_toconsider,]\n",
    "    mat_sample_by_peak_subset<- mat_sample_by_peak_subset[,colSums(mat_sample_by_peak_subset) > minsamples]\n",
    "    print(paste0(\"after subsetting \",dim(mat_sample_by_peak_subset)))\n",
    "    \n",
    "    set.seed(94404)\n",
    "    pca_obj <- prcomp(mat_sample_by_peak_subset)\n",
    "    mat_sample_by_peak_pca <- predict(pca_obj, mat_sample_by_peak_subset)\n",
    "    print(dim(mat_sample_by_peak_pca))\n",
    "    print(summary(pca_obj))\n",
    "    \n",
    "    \n",
    "    subtypes <- c()\n",
    "    for (name in rownames(mat_sample_by_peak_subset)) {\n",
    "        cluster_name <- get_subtype_marking(name)\n",
    "        subtypes <- append(subtypes,cluster_name)\n",
    "    }\n",
    "    print(subtypes)\n",
    "\n",
    "    indicators <- c()\n",
    "    for (name in rownames(mat_sample_by_peak_subset)) {\n",
    "        cluster_name <- get_cancer_marking(name)\n",
    "        indicators <- append(indicators,cluster_name)\n",
    "    }\n",
    "    print(indicators)\n",
    "\n",
    "    sample_names <- c()\n",
    "    for (name in rownames(mat_sample_by_peak_subset)) {\n",
    "        cluster_name <- get_sample_marking(name)\n",
    "        sample_names <- append(sample_names,cluster_name)\n",
    "    }\n",
    "    print(sample_names)\n",
    "    \n",
    "    \n",
    "    df_pca <- data.frame(\n",
    "        x = mat_sample_by_peak_pca[,1],\n",
    "        y = mat_sample_by_peak_pca[,2],\n",
    "        subtype = subtypes,\n",
    "        cancer_control=indicators,\n",
    "        sample=sample_names\n",
    "        )\n",
    "    df_pca\n",
    "    \n",
    "    title <- paste0(samplename,\"_\",selection,\"_\",minsamples)\n",
    "    print(title)\n",
    "    picture <- ggplot(df_pca,aes(x,y,colour=subtype,shape=cancer_control)) + \n",
    "                geom_point() + \n",
    "                xlab(\"PCA Dimension 1\") + \n",
    "                ylab(\"PCA Dimension 2\") + theme_bw() + theme(panel.grid.major = element_blank(),\n",
    "                                                panel.grid.minor = element_blank(), axis.line = element_line(colour = \"black\")) + ggtitle(title)\n",
    "\n",
    "    picture\n",
    "    \n",
    "}"
   ]
  },
  {
   "cell_type": "markdown",
   "metadata": {},
   "source": [
    "### create sample by differential peaks matrix"
   ]
  },
  {
   "cell_type": "code",
   "execution_count": 6,
   "metadata": {
    "vscode": {
     "languageId": "r"
    }
   },
   "outputs": [],
   "source": [
    "sample_names <- c(\"brca\",\"brca_noher2\",\"luad\",\"blca\")\n",
    "\n",
    "BRCA_DIFF_RDS <- \"./BRCA_differential_enhancers_obj.rds\" ## TODO\n",
    "LUAD_DIFF_RDS <- \"./LUAD_differential_enhancers_obj.rds\" ## TODO\n",
    "BLCA_DIFF_RDS <- \"./BLCA_differential_enhancers_obj.rds\" ## TODO\n",
    "\n",
    "sample_enhancer_files <- c(BRCA_DIFF_RDS,BRCA_DIFF_RDS,LUAD_DIFF_RDS,BLCA_DIFF_RDS)\n"
   ]
  },
  {
   "cell_type": "code",
   "execution_count": 7,
   "metadata": {
    "vscode": {
     "languageId": "r"
    }
   },
   "outputs": [],
   "source": [
    "sample_index <- 1 ### 1 is for brca, 2 is for brca without her2, 3 is luad and 4 is blca"
   ]
  },
  {
   "cell_type": "code",
   "execution_count": 8,
   "metadata": {
    "vscode": {
     "languageId": "r"
    }
   },
   "outputs": [
    {
     "name": "stdout",
     "output_type": "stream",
     "text": [
      "[1] \"brca\"\n",
      "[1] \"./BRCA_differential_enhancers_obj.rds\"\n",
      " [1] \"LumA_1: 08499A64_3FD8_4E62_AF08_3C66AF93CAE7\" \n",
      " [2] \"LumB_4: 14AD76EE_12F9_40B3_8DCD_4A256E02CF8D\" \n",
      " [3] \"HER2_4: 1D939DC3_EF0C_40BF_BC60_8C5D46345265\" \n",
      " [4] \"BASAL1: 2A65DC63_F8CC_4EF4_AB23_3F5FD880FB5E\" \n",
      " [5] \"LumA_2: 5C54B79C_DA02_4B22_9FC2_3D61BFFC5559\" \n",
      " [6] \"BASAL2: 7C6A3AE4_E2EA_42B3_B3F1_81C19E6F2170\" \n",
      " [7] \"HER2_1: 8D1E6006_85CB_484A_8B5C_30766D90137B\" \n",
      " [8] \"HER2_1a: 8D1E6006_85CB_484A_8B5C_30766D90137B\"\n",
      " [9] \"HER2_3: 94AF19F0_1F2A_41EC_8CB6_96C76227811F\" \n",
      "[10] \"LumA_3: A91AADEA_8299_46D9_A250_76896D690AFD\" \n",
      "[11] \"HER2_2: C147AAD5_A8F1_41D5_8709_21820BE50902\" \n",
      "[12] \"LumB_5: C9C8D426_A3FD_4455_89A9_768BC01D66A9\" \n",
      "[13] \"BASAL3: CB96A542_7AC1_4FEC_A5D2_458D8EEDC6C4\" \n",
      "[14] \"BASAL5: CC102C17_C1CA_427A_8C7D_D3E79748A0CD\" \n",
      "[15] \"BASAL4: DD69EDE9_142D_46E2_AA06_58D07D3230FB\" \n",
      "[1] 15\n",
      "[1] 506237\n"
     ]
    }
   ],
   "source": [
    "sample_name <- sample_names[sample_index]\n",
    "print(sample_name)\n",
    "enhancer_diff <- sample_enhancer_files[sample_index]\n",
    "print(enhancer_diff)\n",
    "enhancer_df <- readRDS(enhancer_diff)\n",
    "print(names(enhancer_df))\n",
    "print(length(names(enhancer_df)))\n",
    "num_rows <- length(rownames(enhancer_df[[names(enhancer_df)[1]]]))\n",
    "print(num_rows)"
   ]
  },
  {
   "cell_type": "code",
   "execution_count": 9,
   "metadata": {
    "vscode": {
     "languageId": "r"
    }
   },
   "outputs": [],
   "source": [
    "if (sample_name == \"blca\") {\n",
    "    blca_keys <- c(\"1067A79F-15D6-4D64-BBC3-268BE15434A1\",\n",
    "    \"CC5A9968-1F7F-4698-B483-1D426BF00AE3\",\n",
    "    \"3E71B261-9C29-4025-973A-3901B0826643\",\n",
    "    \"CC57A8ED-A5DB-4ADA-A038-ABE5AA7A6A2B\",\n",
    "    \"6E1FF9EA-8875-439E-AF5A-A7B7DDFB247C\",\n",
    "    \"795D3511-E7DB-456E-9D80-4EE5B50B66E1\",\n",
    "    \"C1820F13-D6CF-4BCF-A842-A01D6E6C61EB\",\n",
    "    \"761A45CF-D6D2-46EA-93EC-5238A95517B8\",\n",
    "    \"6728BCB4-B161-41DD-BF27-16000A1A9A94\")\n",
    "\n",
    "\n",
    "    blca_values <- c(\"ARIDA1A_WT\",\n",
    "    \"ARIDA1Amut\",\n",
    "    \"ARIDA1Amut\",\n",
    "    \"ARIDA1A_WT\",\n",
    "    \"FGD4\",\n",
    "    \"ARIDA1A_WT\",\n",
    "    \"ARIDA1Amut\",\n",
    "    \"ARIDA1Amut\",\n",
    "    \"ARIDA1A_WT\")\n",
    "\n",
    "    blca_name_type_dict <- setNames(blca_values, blca_keys)\n",
    "    blca_name_type_dict\n",
    "\n",
    "    newnames <- c()\n",
    "    for (name in names(enhancer_df)) {\n",
    "        cleaned_text <- gsub(\".*: \", \"\", name)\n",
    "        cleaned_text <- gsub(\"_\", \"-\", cleaned_text)\n",
    "        print(cleaned_text)\n",
    "        blca_type_text <- unname(blca_name_type_dict[cleaned_text])\n",
    "        print(blca_type_text)\n",
    "        newnames <- append(newnames,paste0(blca_type_text,\": \",gsub(\".*: \", \"\", name)))\n",
    "    }\n",
    "\n",
    "    names(enhancer_df) <- newnames\n",
    "    names(enhancer_df)\n",
    "}"
   ]
  },
  {
   "cell_type": "code",
   "execution_count": null,
   "metadata": {
    "scrolled": true,
    "vscode": {
     "languageId": "r"
    }
   },
   "outputs": [],
   "source": [
    "### binary\n",
    "df<-data.frame(matrix(nrow=num_rows,ncol=0))\n",
    "for (name in names(enhancer_df)) {\n",
    "    \n",
    "    print(name)\n",
    "    en1 <- enhancer_df[[name]]\n",
    "    head(en1)\n",
    "    \n",
    "    if (name %in% c('BASAL5: CC102C17_C1CA_427A_8C7D_D3E79748A0CD')) {\n",
    "        next\n",
    "    }\n",
    "    \n",
    "        ### comment this out to include HER2 samples\n",
    "    if (sample_name == \"brca_noher2\") {\n",
    "        if (get_subtype_marking(name) %in% c(\"HER2\")) {\n",
    "            next\n",
    "        }\n",
    "    }\n",
    "\n",
    "    ### comment this out to exclude cancer samples\n",
    "    en1$up_values <- 1\n",
    "    en1$up_values[en1$FDR >= 0.05] <- 0\n",
    "    en1$up_values[en1$log2FC <= 1] <- 0\n",
    "    print(paste0(\"sanity check \",sum(en1$up_values != 0) == sum(en1$type == \"up-regulated\")))\n",
    "    print(sum(en1$type == \"up-regulated\"))\n",
    "    df[paste0(name,\"_cancer\")] <- abs(en1$up_values)\n",
    "    \n",
    "    ### comment this out to exclude control samples\n",
    "    en1$down_values <- 1\n",
    "    en1$down_values[en1$FDR >= 0.05] <- 0\n",
    "    en1$down_values[en1$log2FC >= -1] <- 0\n",
    "    print(paste0(\"sanity check \",sum(en1$down_values != 0) == sum(en1$type == \"do-regulated\")))\n",
    "    df[paste0(name,\"_control\")] <- abs(en1$down_values)\n",
    "\n",
    "    }\n",
    "\n",
    "mat_sample_by_peak <- t(data.matrix(df))\n",
    "dim(mat_sample_by_peak)\n",
    "colnames(mat_sample_by_peak) <- rownames(en1)\n",
    "\n"
   ]
  },
  {
   "cell_type": "code",
   "execution_count": 11,
   "metadata": {
    "scrolled": false,
    "vscode": {
     "languageId": "r"
    }
   },
   "outputs": [
    {
     "name": "stdout",
     "output_type": "stream",
     "text": [
      "[1] \"cancer_and_control\"\n",
      "[1] \"after subsetting 28\"     \"after subsetting 118189\"\n",
      "[1] 28 28\n",
      "Importance of components:\n",
      "                          PC1      PC2      PC3      PC4      PC5      PC6\n",
      "Standard deviation     69.357 45.60105 35.86351 32.88602 32.24193 30.08396\n",
      "Proportion of Variance  0.223  0.09638  0.05962  0.05013  0.04818  0.04195\n",
      "Cumulative Proportion   0.223  0.31935  0.37896  0.42909  0.47727  0.51922\n",
      "                            PC7      PC8      PC9     PC10     PC11     PC12\n",
      "Standard deviation     28.97348 27.05740 26.53555 26.29228 26.01183 24.27335\n",
      "Proportion of Variance  0.03891  0.03393  0.03264  0.03204  0.03136  0.02731\n",
      "Cumulative Proportion   0.55813  0.59206  0.62470  0.65674  0.68810  0.71541\n",
      "                           PC13     PC14     PC15     PC16     PC17     PC18\n",
      "Standard deviation     23.62965 23.34116 23.09993 22.28173 21.77871 21.25828\n",
      "Proportion of Variance  0.02588  0.02525  0.02473  0.02301  0.02198  0.02095\n",
      "Cumulative Proportion   0.74129  0.76655  0.79128  0.81429  0.83627  0.85722\n",
      "                           PC19     PC20     PC21    PC22     PC23     PC24\n",
      "Standard deviation     20.81262 20.59641 20.12849 20.0299 19.36097 18.82493\n",
      "Proportion of Variance  0.02008  0.01966  0.01878  0.0186  0.01737  0.01643\n",
      "Cumulative Proportion   0.87730  0.89696  0.91574  0.9343  0.95171  0.96814\n",
      "                           PC25     PC26     PC27      PC28\n",
      "Standard deviation     17.90784 15.14980 11.71627 1.068e-12\n",
      "Proportion of Variance  0.01486  0.01064  0.00636 0.000e+00\n",
      "Cumulative Proportion   0.98300  0.99364  1.00000 1.000e+00\n",
      " [1] \"Lum\"   \"Lum\"   \"Lum\"   \"Lum\"   \"HER2\"  \"HER2\"  \"BASAL\" \"BASAL\" \"Lum\"  \n",
      "[10] \"Lum\"   \"BASAL\" \"BASAL\" \"HER2\"  \"HER2\"  \"HER2\"  \"HER2\"  \"HER2\"  \"HER2\" \n",
      "[19] \"Lum\"   \"Lum\"   \"HER2\"  \"HER2\"  \"Lum\"   \"Lum\"   \"BASAL\" \"BASAL\" \"BASAL\"\n",
      "[28] \"BASAL\"\n",
      " [1] \"Cancer\"  \"Control\" \"Cancer\"  \"Control\" \"Cancer\"  \"Control\" \"Cancer\" \n",
      " [8] \"Control\" \"Cancer\"  \"Control\" \"Cancer\"  \"Control\" \"Cancer\"  \"Control\"\n",
      "[15] \"Cancer\"  \"Control\" \"Cancer\"  \"Control\" \"Cancer\"  \"Control\" \"Cancer\" \n",
      "[22] \"Control\" \"Cancer\"  \"Control\" \"Cancer\"  \"Control\" \"Cancer\"  \"Control\"\n",
      " [1] \"luma_1: 08499a64_3fd8_4e62_af08_3c66af93cae7\" \n",
      " [2] \"luma_1: 08499a64_3fd8_4e62_af08_3c66af93cae7\" \n",
      " [3] \"lumb_4: 14ad76ee_12f9_40b3_8dcd_4a256e02cf8d\" \n",
      " [4] \"lumb_4: 14ad76ee_12f9_40b3_8dcd_4a256e02cf8d\" \n",
      " [5] \"her2_4: 1d939dc3_ef0c_40bf_bc60_8c5d46345265\" \n",
      " [6] \"her2_4: 1d939dc3_ef0c_40bf_bc60_8c5d46345265\" \n",
      " [7] \"basal1: 2a65dc63_f8cc_4ef4_ab23_3f5fd880fb5e\" \n",
      " [8] \"basal1: 2a65dc63_f8cc_4ef4_ab23_3f5fd880fb5e\" \n",
      " [9] \"luma_2: 5c54b79c_da02_4b22_9fc2_3d61bffc5559\" \n",
      "[10] \"luma_2: 5c54b79c_da02_4b22_9fc2_3d61bffc5559\" \n",
      "[11] \"basal2: 7c6a3ae4_e2ea_42b3_b3f1_81c19e6f2170\" \n",
      "[12] \"basal2: 7c6a3ae4_e2ea_42b3_b3f1_81c19e6f2170\" \n",
      "[13] \"her2_1: 8d1e6006_85cb_484a_8b5c_30766d90137b\" \n",
      "[14] \"her2_1: 8d1e6006_85cb_484a_8b5c_30766d90137b\" \n",
      "[15] \"her2_1a: 8d1e6006_85cb_484a_8b5c_30766d90137b\"\n",
      "[16] \"her2_1a: 8d1e6006_85cb_484a_8b5c_30766d90137b\"\n",
      "[17] \"her2_3: 94af19f0_1f2a_41ec_8cb6_96c76227811f\" \n",
      "[18] \"her2_3: 94af19f0_1f2a_41ec_8cb6_96c76227811f\" \n",
      "[19] \"luma_3: a91aadea_8299_46d9_a250_76896d690afd\" \n",
      "[20] \"luma_3: a91aadea_8299_46d9_a250_76896d690afd\" \n",
      "[21] \"her2_2: c147aad5_a8f1_41d5_8709_21820be50902\" \n",
      "[22] \"her2_2: c147aad5_a8f1_41d5_8709_21820be50902\" \n",
      "[23] \"lumb_5: c9c8d426_a3fd_4455_89a9_768bc01d66a9\" \n",
      "[24] \"lumb_5: c9c8d426_a3fd_4455_89a9_768bc01d66a9\" \n",
      "[25] \"basal3: cb96a542_7ac1_4fec_a5d2_458d8eedc6c4\" \n",
      "[26] \"basal3: cb96a542_7ac1_4fec_a5d2_458d8eedc6c4\" \n",
      "[27] \"basal4: dd69ede9_142d_46e2_aa06_58d07d3230fb\" \n",
      "[28] \"basal4: dd69ede9_142d_46e2_aa06_58d07d3230fb\" \n",
      "[1] \"brca_cancer_and_control_4\"\n"
     ]
    },
    {
     "data": {
      "image/png": "[encoded data removed]",
      "text/plain": [
       "plot without title"
      ]
     },
     "metadata": {
      "image/png": {
       "height": 420,
       "width": 420
      }
     },
     "output_type": "display_data"
    }
   ],
   "source": [
    "fig<-get_pca_plot(mat_sample_by_peak,samplename=sample_name,selection=\"cancer_and_control\",minsamples=4)\n",
    "fig"
   ]
  },
  {
   "cell_type": "code",
   "execution_count": null,
   "metadata": {
    "vscode": {
     "languageId": "r"
    }
   },
   "outputs": [],
   "source": []
  }
 ],
 "metadata": {
  "kernelspec": {
   "display_name": "R",
   "language": "R",
   "name": "ir"
  },
  "language_info": {
   "codemirror_mode": "r",
   "file_extension": ".r",
   "mimetype": "text/x-r-source",
   "name": "R",
   "pygments_lexer": "r",
   "version": "4.2.0"
  }
 },
 "nbformat": 4,
 "nbformat_minor": 2
}
