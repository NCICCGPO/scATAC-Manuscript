{
 "cells": [
  {
   "cell_type": "code",
   "execution_count": null,
   "metadata": {
    "scrolled": true
   },
   "outputs": [],
   "source": [
    "library(BiocManager)\n",
    "library(BSgenome.Hsapiens.UCSC.hg38)\n",
    "library(ArchR)\n",
    "library(ggplot2)\n",
    "library(TFBSTools)\n",
    "library(Seurat)\n",
    "library(ggplot2)\n",
    "library(dplyr)\n",
    "library(reticulate)\n",
    "data(\"geneAnnoHg38\")\n",
    "data(\"genomeAnnoHg38\")\n",
    "geneAnno <- geneAnnoHg38\n",
    "genomeAnno <- genomeAnnoHg38\n",
    "addArchRThreads(24)\n",
    "\n",
    "\n",
    "fn <- unclass(lsf.str(envir = asNamespace(\"ArchR\"), all = TRUE))\n",
    "  for(i in seq_along(fn)){\n",
    "    tryCatch({\n",
    "      eval(parse(text=paste0(fn[i], '<-ArchR:::', fn[i])))\n",
    "    }, error = function(x){\n",
    "    })\n",
    "  }"
   ]
  },
  {
   "cell_type": "code",
   "execution_count": null,
   "metadata": {
    "scrolled": true
   },
   "outputs": [],
   "source": [
    "#Load Archr Project with all cancer cells\n",
    "proj<-loadArchRProject('ArchR project with all cancer cells')\n",
    "\n",
    "proj\n"
   ]
  },
  {
   "cell_type": "code",
   "execution_count": null,
   "metadata": {},
   "outputs": [],
   "source": [
    "cancertype <- 'Cancer name' #BRCA BLCA KIRC ..."
   ]
  },
  {
   "cell_type": "code",
   "execution_count": null,
   "metadata": {},
   "outputs": [],
   "source": [
    "#Extracting the top 30 LSI dimensions from IterativeLSI\n",
    "lsi <- getReducedDims(proj, reducedDims = \"IterativeLSI\", returnMatrix = FALSE)\n",
    "\n",
    "#load cells chosen for the KNN \n",
    "svdDisease_rownames<-read.csv(paste0('svdDiseaseCells_ChosenforNN_',cancertype,'.csv'))\n",
    "svdReference_rownames<-read.csv(paste0('svdReferenceCells_ChosenforNN_',cancertype,'.csv'))\n",
    "\n",
    "\n",
    "#Loading cell metadata and splitting cells into query and reference cells\n",
    "cellcoldata<-getCellColData(proj)\n",
    "matSVD <- data.frame(lsi$matSVD)\n",
    "svdDisease <- matSVD[svdDisease_rownames$x,]\n",
    "svdReference<-matSVD[svdReference_rownames$x,]\n",
    "\n",
    "\n",
    "#KNN Nearest Neighbor using FNN 5NN\n",
    "input_knn <- 5\n",
    "library(FNN)\n",
    "set.seed(1)\n",
    "knnDisease <- get.knnx(\n",
    "    data = svdReference,\n",
    "    query = svdDisease,\n",
    "    k = input_knn)\n",
    "\n",
    "cellcoldata<-getCellColData(proj)\n",
    "NN_index<-data.frame(knnDisease$nn.index)\n",
    "\n",
    "\n",
    "# Counting the number of cells from same sample vs same cancer different sample in 5NN\n",
    "stats_table <- data.frame()\n",
    "j=1\n",
    "for (row in 1:nrow(NN_index)) {\n",
    "    i <- as.matrix(NN_index)[row,]\n",
    "    reqnames <- rownames(svdReference[as.vector(i),])\n",
    "    query_name <- rownames(svdDisease)[j]\n",
    "    query_tumour_type <-  cellcoldata[rownames(cellcoldata) == query_name,'cleaned_sample']\n",
    "    query_samplename <-  cellcoldata[rownames(cellcoldata) == query_name,'Sample']\n",
    "    NN_tumour_type <- cellcoldata[reqnames,'cleaned_sample']\n",
    "    NN_samplename <- cellcoldata[reqnames,'Sample']\n",
    "    df<-data.frame(cbind(NN_tumour_type,NN_samplename))\n",
    "    same_samplecount <- dim(df[df$NN_samplename == query_samplename,])[1]\n",
    "    same_cancercount <- dim(df[ (df$NN_samplename != query_samplename ) & (df$NN_tumour_type == query_tumour_type ),])[1]\n",
    "    diff_cancercount <- dim(df[ (df$NN_samplename != query_samplename) & (df$NN_tumour_type != query_tumour_type ),])[1]\n",
    "    stats_table <- rbind(stats_table, c(query_name,same_samplecount,same_cancercount,diff_cancercount))  \n",
    "    j=j+1\n",
    "    #break\n",
    "}\n",
    "column_names<-c('barcode','Same_sample','Same_cancer','Different_cancer')\n",
    "colnames(stats_table) <- column_names\n",
    "\n",
    "stats_table$Same_sample<-as.integer(stats_table$Same_sample)\n",
    "stats_table$Same_cancer<-as.integer(stats_table$Same_cancer)\n",
    "stats_table$Different_cancer<-as.integer(stats_table$Different_cancer)\n",
    "\n",
    "\n",
    "\n",
    "\n"
   ]
  },
  {
   "cell_type": "code",
   "execution_count": null,
   "metadata": {},
   "outputs": [],
   "source": []
  },
  {
   "cell_type": "code",
   "execution_count": null,
   "metadata": {},
   "outputs": [],
   "source": []
  }
 ],
 "metadata": {
  "kernelspec": {
   "display_name": "R",
   "language": "R",
   "name": "ir"
  },
  "language_info": {
   "codemirror_mode": "r",
   "file_extension": ".r",
   "mimetype": "text/x-r-source",
   "name": "R",
   "pygments_lexer": "r",
   "version": "4.4.0"
  }
 },
 "nbformat": 4,
 "nbformat_minor": 2
}
