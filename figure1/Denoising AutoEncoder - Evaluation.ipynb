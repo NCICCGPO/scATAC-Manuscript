{
 "cells": [
  {
   "cell_type": "code",
   "execution_count": null,
   "id": "76b2afc1",
   "metadata": {},
   "outputs": [],
   "source": [
    "import scanpy as sc"
   ]
  },
  {
   "cell_type": "code",
   "execution_count": null,
   "id": "44952e51",
   "metadata": {},
   "outputs": [],
   "source": [
    "#pip install torch\n",
    "import os\n",
    "import time\n",
    "import datetime\n",
    "import numpy as np\n",
    "from collections import OrderedDict\n",
    "import tqdm\n",
    "import argparse\n",
    "import pickle\n",
    "import warnings\n",
    "\n",
    "import scanpy as sc\n",
    "\n",
    "import torch\n",
    "import torch.nn as nn\n",
    "import torch.nn.functional as F\n",
    "\n",
    "import sys\n",
    "\n",
    "import sys\n",
    "#sys.path.append(prj_path)\n",
    "from drscax.scripts import models as tcgamodels\n",
    "from drscax.scripts import eval_ as tcgaeval\n",
    "from drscax.scripts import data as tcgadata\n",
    "from drscax.scripts import train as tcgatrain"
   ]
  },
  {
   "cell_type": "code",
   "execution_count": null,
   "id": "6a2a08fb",
   "metadata": {},
   "outputs": [],
   "source": [
    "job_name='v062_woimmune_bst8layer50k_221012_165814'\n",
    "data_version='cancer_only'\n",
    "block='bst8layer50k'\n",
    "approach='2'\n",
    "model='cAE'\n",
    "beta=0.0\n",
    "nocondition=True\n",
    "binarizeinput=False\n",
    "initial_lr=0.001\n",
    "batch_size=1024\n",
    "nolrscheduler=False\n",
    "layer_norm=True\n",
    "inject_c1_eachlayer=False"
   ]
  },
  {
   "cell_type": "code",
   "execution_count": null,
   "id": "06f908b4",
   "metadata": {},
   "outputs": [],
   "source": [
    "adata = sc.read('PublicationPage/tcga_canceronly_top50klogtfidf_221011.h5ad')\n",
    "criterion = tcgatrain.VAELoss(beta=beta, reconstruction='cont') if model=='cVAE' else nn.MSELoss(reduction='sum')"
   ]
  },
  {
   "cell_type": "code",
   "execution_count": null,
   "id": "ea497cf1",
   "metadata": {},
   "outputs": [],
   "source": [
    "job_name='v062_woimmune_bst8layer50k_221012_165814'\n",
    "data_version='cancer_only'\n",
    "block='bst8layer50k'\n",
    "approach='2'\n",
    "model='cAE'\n",
    "beta=0.0\n",
    "nocondition=True\n",
    "binarizeinput=False\n",
    "initial_lr=0.001\n",
    "batch_size=1024\n",
    "nolrscheduler=False\n",
    "layer_norm=True\n",
    "inject_c1_eachlayer=False"
   ]
  },
  {
   "cell_type": "code",
   "execution_count": null,
   "id": "191738ab",
   "metadata": {},
   "outputs": [],
   "source": [
    "if block == 'bst8layer50k':\n",
    "    block = [50000, 1024, 1024, 1024, 1024, 1024, 1024, 1024, 1024]\n"
   ]
  },
  {
   "cell_type": "code",
   "execution_count": null,
   "id": "14e740e3",
   "metadata": {},
   "outputs": [],
   "source": [
    "if model == 'cAE':\n",
    "\n",
    "    net = tcgamodels.cAE_v05(\n",
    "        layer_io=block,\n",
    "        layer_norm=layer_norm,\n",
    "        n_c1_class=0 if nocondition else len(adata.obs['batch'].unique()),\n",
    "        c1_embed_dim=0 if nocondition else 8,\n",
    "        inject_c1_eachlayer=inject_c1_eachlayer,\n",
    "        sigmoid_out=binarizeinput,\n",
    "        return_latent=True,\n",
    "    )\n",
    "\n",
    "else:\n",
    "    print('\\nInvalid model specified [choose one of cVAE or cAE]. Exiting.')"
   ]
  },
  {
   "cell_type": "code",
   "execution_count": null,
   "id": "88f530fc",
   "metadata": {},
   "outputs": [],
   "source": [
    "device = torch.device('cuda' if torch.cuda.is_available() else 'cpu')\n",
    "if device.type == 'cuda':\n",
    "    torch.cuda.empty_cache()\n",
    "\n",
    "net = net.to(device)\n",
    "print(net)"
   ]
  },
  {
   "cell_type": "code",
   "execution_count": null,
   "id": "e2c2f8c0",
   "metadata": {},
   "outputs": [],
   "source": [
    "state_dict = torch.load(\"PublicationPage/v062_woimmune_bst8layer50k_221012_165814.pt\")"
   ]
  },
  {
   "cell_type": "code",
   "execution_count": null,
   "id": "6de3b0f5",
   "metadata": {},
   "outputs": [],
   "source": [
    "net.load_state_dict(state_dict['net'])"
   ]
  },
  {
   "cell_type": "code",
   "execution_count": null,
   "id": "95a2e6a5",
   "metadata": {},
   "outputs": [],
   "source": [
    "def viz_umap(mat, barcodes, md, use_pca=False, plot_file=None, include_leiden=True, optional_color='tissue'):\n",
    "    from sklearn.decomposition import PCA\n",
    "    # make adata for approach 1\n",
    "    tdata = sc.AnnData(X=mat.numpy(), obs=md.loc[barcodes, :])\n",
    "    if 'tissue' not in tdata.obs.columns:\n",
    "        tdata.obs['tissue'] = tdata.obs['Sample'].apply(lambda s: s.split('_')[1])\n",
    "    if 'n_idx' not in tdata.obs.columns:\n",
    "        # add a numerical index\n",
    "        tdata.obs['n_idx'] = np.arange(tdata.shape[0])\n",
    "    if use_pca:\n",
    "        pca = PCA(n_components=30)\n",
    "        pca.fit(tdata.X)\n",
    "        tdata.obsm['X_pca'] = pca.transform(tdata.X)\n",
    "        sc.pp.neighbors(tdata, n_pcs=30)\n",
    "    else:\n",
    "        sc.pp.neighbors(tdata, n_pcs=0, use_rep=None) # use .X\n",
    "    if include_leiden:\n",
    "        sc.tl.leiden(tdata)\n",
    "    sc.tl.umap(tdata)\n",
    "    if plot_file is not None:\n",
    "        sc.settings.figdir, save_name = os.path.split(plot_file)\n",
    "    else:\n",
    "        save_name = None\n",
    "    if include_leiden:\n",
    "        colors = ['batch', optional_color, 'leiden']\n",
    "    else:\n",
    "        colors = ['batch', optional_color]\n",
    "    sc.pl.umap(tdata, color=colors,\n",
    "               save=save_name)\n",
    "    return tdata"
   ]
  },
  {
   "cell_type": "code",
   "execution_count": null,
   "id": "01a99370",
   "metadata": {},
   "outputs": [],
   "source": [
    "net.eval()"
   ]
  },
  {
   "cell_type": "code",
   "execution_count": null,
   "id": "73bef705",
   "metadata": {},
   "outputs": [],
   "source": [
    "N = adata.shape[0]\n",
    "barcodes = []\n",
    "chunk_size=1024\n",
    "net.eval()\n",
    "count = 0\n",
    "for i in tqdm.tqdm(range(0, N, chunk_size)):\n",
    "        x = torch.tensor(adata.X[i:i+chunk_size].toarray(), dtype=torch.float32)\n",
    "        x = x.to(device)\n",
    "        n = x.shape[0]\n",
    "        #\n",
    "        xhat, z= net(x)\n",
    "        #\n",
    "        barcodes += adata.obs.iloc[i:i+chunk_size].index.to_list()\n",
    "        #\n",
    "        if i==0:\n",
    "            X = torch.empty(N, x.shape[1])\n",
    "            Xhat = torch.empty(N, xhat.shape[1])\n",
    "            Z = torch.empty(N, z.shape[1])\n",
    "        X[count:count+n] = x.detach().cpu()\n",
    "        Xhat[count:count+n] = xhat.detach().cpu()\n",
    "        Z[count:count+n] = z.detach().cpu()\n",
    "        count += n\n",
    "        \n"
   ]
  },
  {
   "cell_type": "code",
   "execution_count": null,
   "id": "1c58ca13",
   "metadata": {},
   "outputs": [],
   "source": [
    "\n",
    "tdata_Z_PCA = viz_umap(Z, barcodes, adata.obs, use_pca=True,  include_leiden=False)\n",
    "        \n",
    "\n"
   ]
  },
  {
   "cell_type": "code",
   "execution_count": null,
   "id": "6ab21db3",
   "metadata": {},
   "outputs": [],
   "source": [
    "np.save(\"Z_PCA.npy\", tdata_Z_PCA.obsm['X_pca'])"
   ]
  },
  {
   "cell_type": "code",
   "execution_count": null,
   "id": "04048dcb",
   "metadata": {},
   "outputs": [],
   "source": [
    "np.save(\"Z_PCA_barcode_index.npy\", tdata_Z.obs.index.tolist())\n"
   ]
  },
  {
   "cell_type": "code",
   "execution_count": null,
   "id": "5df357a3",
   "metadata": {},
   "outputs": [],
   "source": []
  }
 ],
 "metadata": {
  "kernelspec": {
   "display_name": "Python 3 (ipykernel)",
   "language": "python",
   "name": "python3"
  },
  "language_info": {
   "codemirror_mode": {
    "name": "ipython",
    "version": 3
   },
   "file_extension": ".py",
   "mimetype": "text/x-python",
   "name": "python",
   "nbconvert_exporter": "python",
   "pygments_lexer": "ipython3",
   "version": "3.11.5"
  }
 },
 "nbformat": 4,
 "nbformat_minor": 5
}
