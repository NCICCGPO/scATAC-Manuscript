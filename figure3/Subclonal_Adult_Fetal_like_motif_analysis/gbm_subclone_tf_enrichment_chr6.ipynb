{
 "cells": [
  {
   "cell_type": "code",
   "execution_count": 1,
   "id": "8dd87be7",
   "metadata": {},
   "outputs": [],
   "source": [
    "import pandas as pd"
   ]
  },
  {
   "cell_type": "code",
   "execution_count": null,
   "id": "d6eb33f5",
   "metadata": {},
   "outputs": [],
   "source": [
    "import pandas as pd\n",
    "from seq2atac.stable import read_pickle, write_pickle\n",
    "from pybedtools import BedTool\n",
    "import scipy.stats"
   ]
  },
  {
   "cell_type": "markdown",
   "id": "2cc81d2c",
   "metadata": {},
   "source": [
    "### Get differential peaks and get nearest gene"
   ]
  },
  {
   "cell_type": "code",
   "execution_count": null,
   "id": "41f5d10a",
   "metadata": {},
   "outputs": [],
   "source": [
    "!rm DatabaseExtract_v_1.01.csv\n",
    "!wget https://humantfs.ccbr.utoronto.ca/download/v_1.01/DatabaseExtract_v_1.01.csv ### Downloading a curated list of TFs"
   ]
  },
  {
   "cell_type": "code",
   "execution_count": 4,
   "id": "577629ae",
   "metadata": {},
   "outputs": [],
   "source": [
    "gbm_45b_peak_file = \"./GBM_Clone_Peaks/GBM45_cloneB_peaks.csv\" ### TODO\n",
    "tss_file = \"./tss_tcga.csv\" ### TODO\n",
    "gbm45b_uncleaned_motifs_path = \"./GBM_Clone_Uncleaned_Motifs/vierstra_Archetype_GBM45_cloneBagg.csv.bed\" ### TODO\n",
    "gbm45_cleaned_motifs_path = \"./GBM_Clone_Cleaned_Motifs/ismshap_gbm_subclone_vierstrav1_GBM45_cloneB.csv\" ### TODO"
   ]
  },
  {
   "cell_type": "code",
   "execution_count": null,
   "id": "3fa9a2c6",
   "metadata": {
    "scrolled": true
   },
   "outputs": [],
   "source": [
    "df_45b_peaks = pd.read_csv(gbm_45b_peak_file)[[\"seqnames\",\"start\",\"end\"]]\n",
    "df_45b_peaks[\"summit\"] = (df_45b_peaks[\"start\"] + df_45b_peaks[\"end\"])//2\n",
    "df_45b_peaks[\"summit_1\"] = df_45b_peaks[\"summit\"] + 1\n",
    "df_45b_peaks[\"peak_id\"] = df_45b_peaks.index\n",
    "df_45b_peaks\n"
   ]
  },
  {
   "cell_type": "code",
   "execution_count": 6,
   "id": "7ac3b58c",
   "metadata": {},
   "outputs": [],
   "source": [
    "peaksize=500\n",
    "df_45b_peaks[\"start\"] = df_45b_peaks[\"start\"] + (500-peaksize)//2\n",
    "df_45b_peaks[\"end\"] = df_45b_peaks[\"start\"] + peaksize"
   ]
  },
  {
   "cell_type": "code",
   "execution_count": 7,
   "id": "9348d27f",
   "metadata": {},
   "outputs": [],
   "source": [
    "peak_bed = BedTool.from_dataframe(df_45b_peaks[[\"seqnames\",\"summit\",\"summit_1\",\"peak_id\"]])\n",
    "tss_df = pd.read_csv(tss_file)\n",
    "tss_bed = BedTool.from_dataframe(tss_df)"
   ]
  },
  {
   "cell_type": "code",
   "execution_count": null,
   "id": "f2e034fc",
   "metadata": {
    "scrolled": false
   },
   "outputs": [],
   "source": [
    "peak_annotated = peak_bed.sort().closest(tss_bed.sort(), d=True, t=\"first\").to_dataframe(names=[\"seqnames\",\"summit\",\"summit_1\",\"peak_id\",\"chr\",\"tss\",\"tss_1\",\"gene\",\"distance_to_tss\"])\n",
    "peak_annotated"
   ]
  },
  {
   "cell_type": "code",
   "execution_count": null,
   "id": "60de8fff",
   "metadata": {
    "scrolled": true
   },
   "outputs": [],
   "source": [
    "df_45b_peaks_merged = df_45b_peaks.merge(peak_annotated, how=\"left\", on=[\"seqnames\",\"summit\",\"summit_1\",\"peak_id\"])\n",
    "assert len(df_45b_peaks_merged) == len(df_45b_peaks)\n",
    "df_45b_peaks_merged"
   ]
  },
  {
   "cell_type": "markdown",
   "id": "0f4f18cc",
   "metadata": {},
   "source": [
    "### Read all cleaned motifs"
   ]
  },
  {
   "cell_type": "code",
   "execution_count": null,
   "id": "de5fae97",
   "metadata": {},
   "outputs": [],
   "source": [
    "gbm45b_allmotifs = pd.read_csv(gbm45b_uncleaned_motifs_path)\n",
    "gbm45b_allmotifs"
   ]
  },
  {
   "cell_type": "code",
   "execution_count": null,
   "id": "7e185a50",
   "metadata": {
    "scrolled": true
   },
   "outputs": [],
   "source": [
    "gbm45b_motifs = pd.read_csv(gbm45_cleaned_motifs_path)\n",
    "print(len(gbm45b_motifs))\n",
    "gbm45b_motifs = gbm45b_motifs.merge(gbm45b_allmotifs)\n",
    "gbm45b_motifs"
   ]
  },
  {
   "cell_type": "code",
   "execution_count": null,
   "id": "a8b3f47a",
   "metadata": {
    "scrolled": true
   },
   "outputs": [],
   "source": [
    "gbm45b_motifs = gbm45b_motifs[[\"seqnames\",\"start\",\"end\",\"group_name\",\"individual_match\",\"es\"]]\n",
    "gbm45b_motifs"
   ]
  },
  {
   "cell_type": "markdown",
   "id": "41b3a7ff",
   "metadata": {},
   "source": [
    "### Get all cleaned motif instances overlapping differential peaks"
   ]
  },
  {
   "cell_type": "code",
   "execution_count": null,
   "id": "958e0ec7",
   "metadata": {
    "scrolled": false
   },
   "outputs": [],
   "source": [
    "motif_bed = BedTool.from_dataframe(gbm45b_motifs)\n",
    "peaks_bed = BedTool.from_dataframe(df_45b_peaks_merged[[\"seqnames\",\"start\",\"end\"]])\n",
    "\n",
    "motif_bed_intersected = motif_bed.intersect(peaks_bed, wa=True, wb=True).to_dataframe(names=[\"motif_chr\",\"motif_start\",\"motif_end\",\"group_name\",\"individual_match\",\"es\",\"seqnames\",\"start\",\"end\"]).merge(df_45b_peaks_merged)\n",
    "motif_bed_intersected"
   ]
  },
  {
   "cell_type": "code",
   "execution_count": 14,
   "id": "ceca4f75",
   "metadata": {},
   "outputs": [],
   "source": [
    "### Subset to those instances whose archetype contains a Chr6 TF"
   ]
  },
  {
   "cell_type": "code",
   "execution_count": null,
   "id": "fd2dd427",
   "metadata": {
    "scrolled": true
   },
   "outputs": [],
   "source": [
    "all_tfs = pd.read_csv(\"DatabaseExtract_v_1.01.csv\")\n",
    "display(all_tfs)\n",
    "tss_df = pd.read_csv(tss_file)\n",
    "display(tss_df)"
   ]
  },
  {
   "cell_type": "code",
   "execution_count": 16,
   "id": "1f119a09",
   "metadata": {},
   "outputs": [],
   "source": [
    "tf_chromosome = \"chr6\""
   ]
  },
  {
   "cell_type": "code",
   "execution_count": 17,
   "id": "986b272d",
   "metadata": {
    "scrolled": true
   },
   "outputs": [
    {
     "name": "stdout",
     "output_type": "stream",
     "text": [
      "136\n"
     ]
    },
    {
     "data": {
      "text/html": [
       "['AGER', 'ARID1B', 'ATF6B', 'BACH2', 'BCLAF1', 'CASP8AP2', 'CDC5L', 'CDKN1A', 'CITED2', 'DAXX', 'DEK', 'DSP', 'E2F3', 'EDN1', 'ESR1', 'ETV7', 'EXOC2', 'FOXC1', 'FOXF2', 'FOXO3', 'FOXP4', 'FOXQ1', 'GCM1', 'GCM2', 'GTF2H4', 'HDAC2', 'HEY2', 'HIVEP1', 'HIVEP2', 'HLA-DQB1', 'HLA-DQB2', 'HLA-DRB1', 'HLA-DRB5', 'HMGA1', 'HMGN3', 'HSF2', 'HSPA1A', 'HSPA1B', 'ID4', 'IRF4', 'JARID2', 'L3MBTL3', 'LIN28B', 'MAP3K7', 'MAPK14', 'MDFI', 'MED23', 'MYB', 'NCOA7', 'NFKBIL1', 'NFYA', 'NR2E1', 'OLIG3', 'PBX2', 'PGBD1', 'PHF1', 'PIM1', 'PKHD1', 'PLAGL1', 'POLH', 'POU3F2', 'POU5F1', 'PPARD', 'PPP1R10', 'PRDM1', 'PRDM13', 'PRIM2', 'PRKN', 'PRR3', 'RFX6', 'RING1', 'RIPK1', 'RREB1', 'RUNX2', 'RXRB', 'SCML4', 'SGK1', 'SHPRH', 'SIM1', 'SNRPC', 'SOGA3', 'SOX4', 'SPDEF', 'SRF', 'TAB2', 'TAF11', 'TAF8', 'TBP', 'TBPL1', 'TBX18', 'TCF19', 'TCF21', 'TDP2', 'TEAD3', 'TFAP2A', 'TFAP2B', 'TFAP2D', 'TFEB', 'TNF', 'TNFAIP3', 'TRERF1', 'TRIM15', 'TRIM26', 'TRIM27', 'TRIM31', 'TRIM38', 'TRIM40', 'TULP4', 'UFL1', 'VEGFA', 'VGLL2', 'ZBED9', 'ZBTB12', 'ZBTB2', 'ZBTB22', 'ZBTB24', 'ZBTB9', 'ZFP57', 'ZKSCAN3', 'ZKSCAN4', 'ZKSCAN8', 'ZNF165', 'ZNF184', 'ZNF292', 'ZNF311', 'ZNF318', 'ZNF322', 'ZNF391', 'ZNF451', 'ZNF76', 'ZSCAN12', 'ZSCAN16', 'ZSCAN23', 'ZSCAN26', 'ZSCAN31', 'ZSCAN9']"
      ],
      "text/plain": [
       "['AGER',\n",
       " 'ARID1B',\n",
       " 'ATF6B',\n",
       " 'BACH2',\n",
       " 'BCLAF1',\n",
       " 'CASP8AP2',\n",
       " 'CDC5L',\n",
       " 'CDKN1A',\n",
       " 'CITED2',\n",
       " 'DAXX',\n",
       " 'DEK',\n",
       " 'DSP',\n",
       " 'E2F3',\n",
       " 'EDN1',\n",
       " 'ESR1',\n",
       " 'ETV7',\n",
       " 'EXOC2',\n",
       " 'FOXC1',\n",
       " 'FOXF2',\n",
       " 'FOXO3',\n",
       " 'FOXP4',\n",
       " 'FOXQ1',\n",
       " 'GCM1',\n",
       " 'GCM2',\n",
       " 'GTF2H4',\n",
       " 'HDAC2',\n",
       " 'HEY2',\n",
       " 'HIVEP1',\n",
       " 'HIVEP2',\n",
       " 'HLA-DQB1',\n",
       " 'HLA-DQB2',\n",
       " 'HLA-DRB1',\n",
       " 'HLA-DRB5',\n",
       " 'HMGA1',\n",
       " 'HMGN3',\n",
       " 'HSF2',\n",
       " 'HSPA1A',\n",
       " 'HSPA1B',\n",
       " 'ID4',\n",
       " 'IRF4',\n",
       " 'JARID2',\n",
       " 'L3MBTL3',\n",
       " 'LIN28B',\n",
       " 'MAP3K7',\n",
       " 'MAPK14',\n",
       " 'MDFI',\n",
       " 'MED23',\n",
       " 'MYB',\n",
       " 'NCOA7',\n",
       " 'NFKBIL1',\n",
       " 'NFYA',\n",
       " 'NR2E1',\n",
       " 'OLIG3',\n",
       " 'PBX2',\n",
       " 'PGBD1',\n",
       " 'PHF1',\n",
       " 'PIM1',\n",
       " 'PKHD1',\n",
       " 'PLAGL1',\n",
       " 'POLH',\n",
       " 'POU3F2',\n",
       " 'POU5F1',\n",
       " 'PPARD',\n",
       " 'PPP1R10',\n",
       " 'PRDM1',\n",
       " 'PRDM13',\n",
       " 'PRIM2',\n",
       " 'PRKN',\n",
       " 'PRR3',\n",
       " 'RFX6',\n",
       " 'RING1',\n",
       " 'RIPK1',\n",
       " 'RREB1',\n",
       " 'RUNX2',\n",
       " 'RXRB',\n",
       " 'SCML4',\n",
       " 'SGK1',\n",
       " 'SHPRH',\n",
       " 'SIM1',\n",
       " 'SNRPC',\n",
       " 'SOGA3',\n",
       " 'SOX4',\n",
       " 'SPDEF',\n",
       " 'SRF',\n",
       " 'TAB2',\n",
       " 'TAF11',\n",
       " 'TAF8',\n",
       " 'TBP',\n",
       " 'TBPL1',\n",
       " 'TBX18',\n",
       " 'TCF19',\n",
       " 'TCF21',\n",
       " 'TDP2',\n",
       " 'TEAD3',\n",
       " 'TFAP2A',\n",
       " 'TFAP2B',\n",
       " 'TFAP2D',\n",
       " 'TFEB',\n",
       " 'TNF',\n",
       " 'TNFAIP3',\n",
       " 'TRERF1',\n",
       " 'TRIM15',\n",
       " 'TRIM26',\n",
       " 'TRIM27',\n",
       " 'TRIM31',\n",
       " 'TRIM38',\n",
       " 'TRIM40',\n",
       " 'TULP4',\n",
       " 'UFL1',\n",
       " 'VEGFA',\n",
       " 'VGLL2',\n",
       " 'ZBED9',\n",
       " 'ZBTB12',\n",
       " 'ZBTB2',\n",
       " 'ZBTB22',\n",
       " 'ZBTB24',\n",
       " 'ZBTB9',\n",
       " 'ZFP57',\n",
       " 'ZKSCAN3',\n",
       " 'ZKSCAN4',\n",
       " 'ZKSCAN8',\n",
       " 'ZNF165',\n",
       " 'ZNF184',\n",
       " 'ZNF292',\n",
       " 'ZNF311',\n",
       " 'ZNF318',\n",
       " 'ZNF322',\n",
       " 'ZNF391',\n",
       " 'ZNF451',\n",
       " 'ZNF76',\n",
       " 'ZSCAN12',\n",
       " 'ZSCAN16',\n",
       " 'ZSCAN23',\n",
       " 'ZSCAN26',\n",
       " 'ZSCAN31',\n",
       " 'ZSCAN9']"
      ]
     },
     "execution_count": 17,
     "metadata": {},
     "output_type": "execute_result"
    }
   ],
   "source": [
    "chr6tfs = sorted(list(tss_df[(tss_df[\"gene\"].isin(all_tfs[\"HGNC symbol\"])) & (tss_df[\"chr\"]==tf_chromosome)][\"gene\"].unique()))\n",
    "print(len(chr6tfs))\n",
    "chr6tfs"
   ]
  },
  {
   "cell_type": "code",
   "execution_count": null,
   "id": "241b5266",
   "metadata": {},
   "outputs": [],
   "source": [
    "all_individual_motif_names = list(motif_bed_intersected[\"individual_match\"].unique())\n",
    "all_individual_motif_names"
   ]
  },
  {
   "cell_type": "code",
   "execution_count": 19,
   "id": "757afb7e",
   "metadata": {},
   "outputs": [
    {
     "data": {
      "text/plain": [
       "108"
      ]
     },
     "execution_count": 19,
     "metadata": {},
     "output_type": "execute_result"
    }
   ],
   "source": [
    "chr6_individual_names = []\n",
    "for gene in chr6tfs:\n",
    "    for ind_name in all_individual_motif_names:\n",
    "        \n",
    "        if gene.upper() in ind_name.upper():\n",
    "            \n",
    "            chr6_individual_names.append(ind_name)\n",
    "            \n",
    "len(chr6_individual_names)"
   ]
  },
  {
   "cell_type": "code",
   "execution_count": null,
   "id": "ec4f05a8",
   "metadata": {},
   "outputs": [],
   "source": [
    "chr6_individual_names"
   ]
  },
  {
   "cell_type": "code",
   "execution_count": 21,
   "id": "2577d32c",
   "metadata": {},
   "outputs": [],
   "source": [
    "indiviual_name_to_archetype_dict = dict(zip(motif_bed_intersected[\"individual_match\"],\n",
    "                                            motif_bed_intersected[\"group_name\"]))"
   ]
  },
  {
   "cell_type": "code",
   "execution_count": 22,
   "id": "a13911f7",
   "metadata": {
    "scrolled": true
   },
   "outputs": [
    {
     "name": "stdout",
     "output_type": "stream",
     "text": [
      "['POU/2', 'RUNX/1', 'OCT4+SOX2', 'E2F/1', 'KLF/SP/2', 'ETS/1', 'MYB/3', 'HD/12', 'MYB/5', 'ZNF143', 'FOX/7', 'RFX/3', 'FOX/5', 'Ebox/CACGTG/1', 'NFY', 'TFAP2/2', 'FOX/2', 'HD/16', 'Ebox/CATATG', 'RUNX/2', 'PRDM1', 'IRF/2', 'ZNF57', 'Ebox/CACCTG', 'NR/14', 'SPDEF/1', 'HSF', 'Ebox/CAGCTG', 'TFAP2/1', 'TATA', 'MYB/1', 'NR/17', 'SOX/4', 'NR/1', 'SOX/1', 'IRF/1', 'SRF', 'TEAD', 'FOX/6', 'POU/3', 'NR/16', 'MYB/2', 'MYB/4', 'FOX/4', 'POU/1', 'GCM', 'AP1/2', 'SPDEF/2', 'E2F/2']\n"
     ]
    },
    {
     "data": {
      "text/html": [
       "['AP1/2', 'E2F/1', 'E2F/2', 'ETS/1', 'Ebox/CACCTG', 'Ebox/CACGTG/1', 'Ebox/CAGCTG', 'Ebox/CATATG', 'FOX/2', 'FOX/4', 'FOX/5', 'FOX/6', 'FOX/7', 'GCM', 'HD/12', 'HD/16', 'HSF', 'IRF/1', 'IRF/2', 'KLF/SP/2', 'MYB/1', 'MYB/2', 'MYB/3', 'MYB/4', 'MYB/5', 'NFY', 'NR/1', 'NR/14', 'NR/16', 'NR/17', 'OCT4+SOX2', 'POU/1', 'POU/2', 'POU/3', 'PRDM1', 'RFX/3', 'RUNX/1', 'RUNX/2', 'SOX/1', 'SOX/4', 'SPDEF/1', 'SPDEF/2', 'SRF', 'TATA', 'TEAD', 'TFAP2/1', 'TFAP2/2', 'ZNF143', 'ZNF57']"
      ],
      "text/plain": [
       "['AP1/2',\n",
       " 'E2F/1',\n",
       " 'E2F/2',\n",
       " 'ETS/1',\n",
       " 'Ebox/CACCTG',\n",
       " 'Ebox/CACGTG/1',\n",
       " 'Ebox/CAGCTG',\n",
       " 'Ebox/CATATG',\n",
       " 'FOX/2',\n",
       " 'FOX/4',\n",
       " 'FOX/5',\n",
       " 'FOX/6',\n",
       " 'FOX/7',\n",
       " 'GCM',\n",
       " 'HD/12',\n",
       " 'HD/16',\n",
       " 'HSF',\n",
       " 'IRF/1',\n",
       " 'IRF/2',\n",
       " 'KLF/SP/2',\n",
       " 'MYB/1',\n",
       " 'MYB/2',\n",
       " 'MYB/3',\n",
       " 'MYB/4',\n",
       " 'MYB/5',\n",
       " 'NFY',\n",
       " 'NR/1',\n",
       " 'NR/14',\n",
       " 'NR/16',\n",
       " 'NR/17',\n",
       " 'OCT4+SOX2',\n",
       " 'POU/1',\n",
       " 'POU/2',\n",
       " 'POU/3',\n",
       " 'PRDM1',\n",
       " 'RFX/3',\n",
       " 'RUNX/1',\n",
       " 'RUNX/2',\n",
       " 'SOX/1',\n",
       " 'SOX/4',\n",
       " 'SPDEF/1',\n",
       " 'SPDEF/2',\n",
       " 'SRF',\n",
       " 'TATA',\n",
       " 'TEAD',\n",
       " 'TFAP2/1',\n",
       " 'TFAP2/2',\n",
       " 'ZNF143',\n",
       " 'ZNF57']"
      ]
     },
     "execution_count": 22,
     "metadata": {},
     "output_type": "execute_result"
    }
   ],
   "source": [
    "chr6_tf_group_names = []\n",
    "\n",
    "for ind_name in chr6_individual_names:\n",
    "    \n",
    "    chr6_tf_group_names.append(indiviual_name_to_archetype_dict[ind_name])\n",
    "\n",
    "chr6_tf_group_names = list(set(chr6_tf_group_names))\n",
    "print(chr6_tf_group_names)\n",
    "sorted(chr6_tf_group_names)"
   ]
  },
  {
   "cell_type": "code",
   "execution_count": null,
   "id": "908ca5ea",
   "metadata": {
    "scrolled": true
   },
   "outputs": [],
   "source": [
    "motif_bed_intersected = motif_bed_intersected[(motif_bed_intersected[\"group_name\"].isin(chr6_tf_group_names))]\n",
    "motif_bed_intersected\n"
   ]
  },
  {
   "cell_type": "code",
   "execution_count": null,
   "id": "97fdae43",
   "metadata": {
    "scrolled": false
   },
   "outputs": [],
   "source": [
    "motif_bed_intersected = motif_bed_intersected.drop_duplicates([\"peak_id\"])\n",
    "motif_bed_intersected"
   ]
  },
  {
   "cell_type": "code",
   "execution_count": null,
   "id": "0260d298",
   "metadata": {
    "scrolled": true
   },
   "outputs": [],
   "source": [
    "motif_bed_intersected[\"tf_not\"] = motif_bed_intersected[\"gene\"].apply(lambda g : int(g in all_tfs[\"HGNC symbol\"].tolist()))\n",
    "motif_bed_intersected"
   ]
  },
  {
   "cell_type": "code",
   "execution_count": 26,
   "id": "8479b441",
   "metadata": {
    "scrolled": true
   },
   "outputs": [],
   "source": [
    "l1 = len(motif_bed_intersected[motif_bed_intersected[\"tf_not\"]==1])\n",
    "l2 = len(motif_bed_intersected[motif_bed_intersected[\"tf_not\"]==0])\n",
    "l3 = len(all_tfs)\n",
    "total_numgenes = 19619\n",
    "l4 = total_numgenes-len(all_tfs)"
   ]
  },
  {
   "cell_type": "code",
   "execution_count": 27,
   "id": "2307bf94",
   "metadata": {},
   "outputs": [
    {
     "data": {
      "text/html": [
       "[[11645, 53809], [2765, 16854]]"
      ],
      "text/plain": [
       "[[11645, 53809], [2765, 16854]]"
      ]
     },
     "execution_count": 27,
     "metadata": {},
     "output_type": "execute_result"
    }
   ],
   "source": [
    "contingency = [[l1,l2],[l3,l4]]\n",
    "contingency"
   ]
  },
  {
   "cell_type": "code",
   "execution_count": 28,
   "id": "152dc971",
   "metadata": {
    "scrolled": false
   },
   "outputs": [
    {
     "data": {
      "text/plain": [
       "(1.3191446660324273, 8.52289537064899e-35)"
      ]
     },
     "execution_count": 28,
     "metadata": {},
     "output_type": "execute_result"
    }
   ],
   "source": [
    "scipy.stats.fisher_exact(contingency)"
   ]
  },
  {
   "cell_type": "code",
   "execution_count": null,
   "id": "59b416c0",
   "metadata": {},
   "outputs": [],
   "source": []
  }
 ],
 "metadata": {
  "kernelspec": {
   "display_name": "Python 3 (ipykernel)",
   "language": "python",
   "name": "python3"
  },
  "language_info": {
   "codemirror_mode": {
    "name": "ipython",
    "version": 3
   },
   "file_extension": ".py",
   "mimetype": "text/x-python",
   "name": "python",
   "nbconvert_exporter": "python",
   "pygments_lexer": "ipython3",
   "version": "3.10.4"
  }
 },
 "nbformat": 4,
 "nbformat_minor": 5
}
