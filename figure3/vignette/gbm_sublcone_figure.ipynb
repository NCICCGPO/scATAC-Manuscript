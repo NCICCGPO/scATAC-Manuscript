{
 "cells": [
  {
   "cell_type": "code",
   "execution_count": null,
   "id": "8dd87be7",
   "metadata": {},
   "outputs": [],
   "source": [
    "import pandas as pd"
   ]
  },
  {
   "cell_type": "code",
   "execution_count": null,
   "id": "5681464c",
   "metadata": {},
   "outputs": [],
   "source": [
    "import os\n",
    "import glob\n",
    "import matplotlib.pyplot as plt\n",
    "import numpy as np\n",
    "import pandas as pd\n",
    "from IPython.display import display, HTML\n",
    "import itertools\n",
    "from functools import reduce\n",
    "import scipy.stats\n",
    "from copy import deepcopy\n",
    "from pybedtools import BedTool\n",
    "import pickle\n",
    "from tqdm import tqdm\n",
    "from multiprocessing import Pool\n",
    "from pyfaidx import Fasta\n",
    "from seq2atac.analysis.mutation_processing_pipeline_utils import annotateNearestGene, annotateScore\n",
    "from seq2atac.stable import compute_gc_bed, one_hot_encode, plot_weights_given_ax, read_pickle, compute_signal, write_pickle\n",
    "from seq2atac.stable.models.convolutional import get_bpnet_model\n",
    "from seq2atac.analysis import get_promoterai_tss, get_cosmic_pancan_genes, sizesfile, fasta_file\n",
    "from seq2atac.analysis.enrichment_utils import compute_ref_alt_scores, load_tracks\n",
    "from seq2atac.analysis.enrichment_utils import create_pancancer_distribution_plots, create_pancancer_correlations, create_pancancer_valuecounts\n",
    "from seq2atac.analysis.sample_controls import matching_logic\n",
    "from seq2atac.analysis.mutation_utils import search_names_in_vierstra_group, compute_vierstra_groups, compute_trinuc, compute_motif_hits, intersect_motif_file, compute_gene_annotation, compute_closest_gene_annotation, ingene_indicator\n",
    "\n",
    "myround = lambda x:np.format_float_scientific(x, precision=3)\n",
    "all_tcga_cancers = [\"BLCA\",\"BRCA\",\"COAD\",\"GBM\",\"KIRC\",\"KIRP\",\"LUAD\",\"SKCM\"]"
   ]
  },
  {
   "cell_type": "markdown",
   "id": "2cc81d2c",
   "metadata": {},
   "source": [
    "### differential peaks - annotate closest gene"
   ]
  },
  {
   "cell_type": "code",
   "execution_count": null,
   "id": "3fa9a2c6",
   "metadata": {
    "scrolled": true
   },
   "outputs": [],
   "source": [
    "df_45b_peaks = pd.read_csv(\"/illumina/scratch/deep_learning/lsundaram/singlecelldatasets/TCGA/SubClonal_Identification/GBM45_cloneB_peaks.csv\")[[\"seqnames\",\"start\",\"end\"]]\n",
    "# df_45b_peaks = pd.read_csv(\"/illumina/scratch/deep_learning/lsundaram/singlecelldatasets/TCGA/SubClonal_Identification/GBM45_cloneB_peaks.csv\")[[\"seqnames\",\"start\",\"end\"]]\n",
    "df_45b_peaks[\"summit\"] = (df_45b_peaks[\"start\"] + df_45b_peaks[\"end\"])//2\n",
    "df_45b_peaks[\"summit_1\"] = df_45b_peaks[\"summit\"] + 1\n",
    "df_45b_peaks[\"peak_id\"] = df_45b_peaks.index\n",
    "df_45b_peaks\n"
   ]
  },
  {
   "cell_type": "code",
   "execution_count": null,
   "id": "7ac3b58c",
   "metadata": {},
   "outputs": [],
   "source": [
    "peaksize=500\n",
    "df_45b_peaks[\"start\"] = df_45b_peaks[\"start\"] + (500-peaksize)//2\n",
    "df_45b_peaks[\"end\"] = df_45b_peaks[\"start\"] + peaksize"
   ]
  },
  {
   "cell_type": "code",
   "execution_count": null,
   "id": "9348d27f",
   "metadata": {},
   "outputs": [],
   "source": [
    "peak_bed = BedTool.from_dataframe(df_45b_peaks[[\"seqnames\",\"summit\",\"summit_1\",\"peak_id\"]])\n",
    "tss_df = get_promoterai_tss()\n",
    "tss_df\n",
    "tss_bed = BedTool.from_dataframe(tss_df)"
   ]
  },
  {
   "cell_type": "code",
   "execution_count": null,
   "id": "f2e034fc",
   "metadata": {
    "scrolled": false
   },
   "outputs": [],
   "source": [
    "peak_annotated = peak_bed.sort().closest(tss_bed.sort(), d=True, t=\"first\").to_dataframe(names=[\"seqnames\",\"summit\",\"summit_1\",\"peak_id\",\"chr\",\"tss\",\"tss_1\",\"gene\",\"distance_to_tss\"])\n",
    "peak_annotated"
   ]
  },
  {
   "cell_type": "code",
   "execution_count": null,
   "id": "60de8fff",
   "metadata": {
    "scrolled": true
   },
   "outputs": [],
   "source": [
    "df_45b_peaks_merged = df_45b_peaks.merge(peak_annotated, how=\"left\", on=[\"seqnames\",\"summit\",\"summit_1\",\"peak_id\"])\n",
    "assert len(df_45b_peaks_merged) == len(df_45b_peaks)\n",
    "df_45b_peaks_merged"
   ]
  },
  {
   "cell_type": "markdown",
   "id": "0f4f18cc",
   "metadata": {},
   "source": [
    "### Read all cleaned motifs"
   ]
  },
  {
   "cell_type": "code",
   "execution_count": null,
   "id": "de5fae97",
   "metadata": {},
   "outputs": [],
   "source": [
    "gbm45b_allmotifs = pd.read_csv('/illumina/scratch/deep_learning/akumar22/TCGA/vierstra_peaks/vierstra_Archetype_GBM45_cloneBagg.csv.bed')\n",
    "gbm45b_allmotifs"
   ]
  },
  {
   "cell_type": "code",
   "execution_count": null,
   "id": "7e185a50",
   "metadata": {
    "scrolled": true
   },
   "outputs": [],
   "source": [
    "gbm45b_motifs = pd.read_csv('/illumina/scratch/deep_learning/nravindra/results/reg_diffs/ismshap_gbm_subclone_vierstrav1_GBM45_cloneB.csv')\n",
    "print(len(gbm45b_motifs))\n",
    "gbm45b_motifs = gbm45b_motifs.merge(gbm45b_allmotifs)\n",
    "gbm45b_motifs"
   ]
  },
  {
   "cell_type": "code",
   "execution_count": null,
   "id": "a8b3f47a",
   "metadata": {
    "scrolled": true
   },
   "outputs": [],
   "source": [
    "gbm45b_motifs = gbm45b_motifs[[\"seqnames\",\"start\",\"end\",\"group_name\",\"individual_match\",\"es\"]]\n",
    "gbm45b_motifs"
   ]
  },
  {
   "cell_type": "markdown",
   "id": "41b3a7ff",
   "metadata": {},
   "source": [
    "### Get all cleaned motif instances overlapping differential peaks"
   ]
  },
  {
   "cell_type": "code",
   "execution_count": null,
   "id": "958e0ec7",
   "metadata": {
    "scrolled": false
   },
   "outputs": [],
   "source": [
    "motif_bed = BedTool.from_dataframe(gbm45b_motifs)\n",
    "peaks_bed = BedTool.from_dataframe(df_45b_peaks_merged[[\"seqnames\",\"start\",\"end\"]])\n",
    "\n",
    "motif_bed_intersected = motif_bed.intersect(peaks_bed, wa=True, wb=True).to_dataframe(names=[\"motif_chr\",\"motif_start\",\"motif_end\",\"group_name\",\"individual_match\",\"es\",\"seqnames\",\"start\",\"end\"]).merge(df_45b_peaks_merged)\n",
    "motif_bed_intersected"
   ]
  },
  {
   "cell_type": "code",
   "execution_count": null,
   "id": "ceca4f75",
   "metadata": {},
   "outputs": [],
   "source": [
    "### Subset to those instances whose archetype contains a Chr6 TF"
   ]
  },
  {
   "cell_type": "code",
   "execution_count": null,
   "id": "fd2dd427",
   "metadata": {
    "scrolled": true
   },
   "outputs": [],
   "source": [
    "all_tfs = pd.read_csv(\"DatabaseExtract_v_1.01.csv\")\n",
    "display(all_tfs)\n",
    "tss_df = pd.read_csv(\"/illumina/scratch/deep_learning/nersaro/promoterAI/data/ref_data/gencodev39_cage_ratio_to_sum_refined_tss_positions_transcripts_protein_coding_inclZeros_withTranscriptID.tsv\",sep=\"\\t\")\n",
    "display(tss_df)"
   ]
  },
  {
   "cell_type": "code",
   "execution_count": null,
   "id": "1f119a09",
   "metadata": {},
   "outputs": [],
   "source": [
    "tf_chromosome = \"chr6\""
   ]
  },
  {
   "cell_type": "code",
   "execution_count": null,
   "id": "986b272d",
   "metadata": {},
   "outputs": [],
   "source": [
    "chr6tfs = sorted(list(tss_df[(tss_df[\"gene\"].isin(all_tfs[\"HGNC symbol\"])) & (tss_df[\"chrom\"]==tf_chromosome)][\"gene\"].unique()))\n",
    "print(len(chr6tfs))\n",
    "chr6tfs"
   ]
  },
  {
   "cell_type": "code",
   "execution_count": null,
   "id": "241b5266",
   "metadata": {},
   "outputs": [],
   "source": [
    "all_individual_motif_names = list(motif_bed_intersected[\"individual_match\"].unique())\n",
    "all_individual_motif_names"
   ]
  },
  {
   "cell_type": "code",
   "execution_count": null,
   "id": "757afb7e",
   "metadata": {},
   "outputs": [],
   "source": [
    "chr6_individual_names = []\n",
    "for gene in chr6tfs:\n",
    "    for ind_name in all_individual_motif_names:\n",
    "        \n",
    "        if gene.upper() in ind_name.upper():\n",
    "            \n",
    "            chr6_individual_names.append(ind_name)\n",
    "            \n",
    "len(chr6_individual_names)"
   ]
  },
  {
   "cell_type": "code",
   "execution_count": null,
   "id": "ec4f05a8",
   "metadata": {},
   "outputs": [],
   "source": [
    "chr6_individual_names"
   ]
  },
  {
   "cell_type": "code",
   "execution_count": null,
   "id": "2577d32c",
   "metadata": {},
   "outputs": [],
   "source": [
    "indiviual_name_to_archetype_dict = dict(zip(motif_bed_intersected[\"individual_match\"],\n",
    "                                            motif_bed_intersected[\"group_name\"]))"
   ]
  },
  {
   "cell_type": "code",
   "execution_count": null,
   "id": "584a3d47",
   "metadata": {},
   "outputs": [],
   "source": [
    "write_pickle(indiviual_name_to_archetype_dict,\"indiviual_name_to_archetype_dict.pkl\")"
   ]
  },
  {
   "cell_type": "code",
   "execution_count": null,
   "id": "a13911f7",
   "metadata": {
    "scrolled": true
   },
   "outputs": [],
   "source": [
    "chr6_tf_group_names = []\n",
    "\n",
    "for ind_name in chr6_individual_names:\n",
    "    \n",
    "    chr6_tf_group_names.append(indiviual_name_to_archetype_dict[ind_name])\n",
    "\n",
    "chr6_tf_group_names = list(set(chr6_tf_group_names))\n",
    "print(chr6_tf_group_names)\n",
    "sorted(chr6_tf_group_names)"
   ]
  },
  {
   "cell_type": "code",
   "execution_count": null,
   "id": "d35a1665",
   "metadata": {},
   "outputs": [],
   "source": [
    "write_pickle(motif_bed_intersected,\"motif_bed_intersected_presubsetting.pkl\")"
   ]
  },
  {
   "cell_type": "code",
   "execution_count": null,
   "id": "7c6df13d",
   "metadata": {
    "scrolled": true
   },
   "outputs": [],
   "source": [
    "motif_bed_intersected = read_pickle(\"motif_bed_intersected_presubsetting.pkl\")\n",
    "motif_bed_intersected"
   ]
  },
  {
   "cell_type": "code",
   "execution_count": null,
   "id": "908ca5ea",
   "metadata": {
    "scrolled": true
   },
   "outputs": [],
   "source": [
    "motif_bed_intersected = motif_bed_intersected[(motif_bed_intersected[\"group_name\"].isin(chr6_tf_group_names))]\n",
    "motif_bed_intersected\n"
   ]
  },
  {
   "cell_type": "code",
   "execution_count": null,
   "id": "97fdae43",
   "metadata": {
    "scrolled": false
   },
   "outputs": [],
   "source": [
    "motif_bed_intersected = motif_bed_intersected.drop_duplicates([\"peak_id\"])\n",
    "motif_bed_intersected"
   ]
  },
  {
   "cell_type": "code",
   "execution_count": null,
   "id": "0260d298",
   "metadata": {
    "scrolled": true
   },
   "outputs": [],
   "source": [
    "motif_bed_intersected[\"tf_not\"] = motif_bed_intersected[\"gene\"].apply(lambda g : int(g in all_tfs[\"HGNC symbol\"].tolist()))\n",
    "motif_bed_intersected"
   ]
  },
  {
   "cell_type": "code",
   "execution_count": null,
   "id": "8479b441",
   "metadata": {},
   "outputs": [],
   "source": [
    "l1 = len(motif_bed_intersected[motif_bed_intersected[\"tf_not\"]==1])\n",
    "l2 = len(motif_bed_intersected[motif_bed_intersected[\"tf_not\"]==0])\n",
    "l3 = len(all_tfs)\n",
    "total_numgenes = len(pd.read_csv(\"/illumina/scratch/deep_learning/public_data/refdata/hg38/genes/gencodev39/gencode.v39.CAGEcanonical.protein_coding.incl_chrX.tsv\", sep=\"\\t\"))\n",
    "l4 = total_numgenes-len(all_tfs)"
   ]
  },
  {
   "cell_type": "code",
   "execution_count": null,
   "id": "2307bf94",
   "metadata": {},
   "outputs": [],
   "source": [
    "contingency = [[l1,l2],[l3,l4]]\n",
    "contingency"
   ]
  },
  {
   "cell_type": "code",
   "execution_count": null,
   "id": "152dc971",
   "metadata": {
    "scrolled": false
   },
   "outputs": [],
   "source": [
    "scipy.stats.fisher_exact(contingency)"
   ]
  },
  {
   "cell_type": "code",
   "execution_count": null,
   "id": "a493addb",
   "metadata": {},
   "outputs": [],
   "source": [
    "# l1 = len(motif_bed_intersected[(motif_bed_intersected[\"tf_not\"]==1) & (motif_bed_intersected[\"distance_to_tss\"] <= 250000)])\n",
    "# l2 = len(motif_bed_intersected[(motif_bed_intersected[\"tf_not\"]==0) & (motif_bed_intersected[\"distance_to_tss\"] <= 250000)])\n",
    "# l3 = len(motif_bed_intersected[(motif_bed_intersected[\"tf_not\"]==1) & (motif_bed_intersected[\"distance_to_tss\"] > 250000)])\n",
    "# l4 = len(motif_bed_intersected[(motif_bed_intersected[\"tf_not\"]==0) & (motif_bed_intersected[\"distance_to_tss\"] > 250000)])\n"
   ]
  },
  {
   "cell_type": "code",
   "execution_count": null,
   "id": "e529352e",
   "metadata": {},
   "outputs": [],
   "source": [
    "# contingency = [[l1,l2],[l3,l4]]\n",
    "# contingency"
   ]
  },
  {
   "cell_type": "code",
   "execution_count": null,
   "id": "28840c2e",
   "metadata": {
    "scrolled": true
   },
   "outputs": [],
   "source": [
    "# scipy.stats.fisher_exact(contingency)"
   ]
  },
  {
   "cell_type": "code",
   "execution_count": null,
   "id": "24070b24",
   "metadata": {
    "scrolled": true
   },
   "outputs": [],
   "source": [
    "motif_bed_intersected = read_pickle(\"motif_bed_intersected_presubsetting.pkl\")\n",
    "motif_bed_intersected"
   ]
  },
  {
   "cell_type": "code",
   "execution_count": null,
   "id": "6b946815",
   "metadata": {
    "scrolled": false
   },
   "outputs": [],
   "source": [
    "motif_bed_intersected = motif_bed_intersected[(motif_bed_intersected[\"individual_match\"].isin(chr6_individual_names))]\n",
    "motif_bed_intersected\n"
   ]
  },
  {
   "cell_type": "code",
   "execution_count": null,
   "id": "91aeff97",
   "metadata": {
    "scrolled": true
   },
   "outputs": [],
   "source": [
    "interest = motif_bed_intersected[(motif_bed_intersected[\"individual_match\"].isin([\"SOX4_HUMAN.H11MO.0.B\", \"SOX4_HMG_1\"])) & \n",
    "                                  (motif_bed_intersected[\"gene\"].isin(all_tfs[\"HGNC symbol\"])) &\n",
    "                                (motif_bed_intersected[\"distance_to_tss\"] < 10000) ].sort_values(\"es\",ascending=False)\n",
    "interest"
   ]
  },
  {
   "cell_type": "code",
   "execution_count": null,
   "id": "4b43806c",
   "metadata": {
    "scrolled": true
   },
   "outputs": [],
   "source": [
    "interest = interest[interest[\"gene\"]==\"MYCL\"]\n",
    "interest"
   ]
  },
  {
   "cell_type": "code",
   "execution_count": null,
   "id": "db747315",
   "metadata": {},
   "outputs": [],
   "source": [
    "### before this step, read the master motif_bed_intersected\n",
    "motif_bed_intersected[(motif_bed_intersected[\"seqnames\"]==\"chr1\") &\n",
    "                      (motif_bed_intersected[\"peak_id\"]==2068) & \n",
    "                      (motif_bed_intersected[\"motif_start\"] >= 39898399-100) &\n",
    "                      (motif_bed_intersected[\"motif_end\"] <= 39898412+100)]"
   ]
  },
  {
   "cell_type": "code",
   "execution_count": null,
   "id": "3fe4e2ee",
   "metadata": {},
   "outputs": [],
   "source": [
    "from seq2atac.stable import one_hot_encode\n",
    "from seq2atac.analysis.shap_utils import score_classification, compute_shap_score"
   ]
  },
  {
   "cell_type": "code",
   "execution_count": null,
   "id": "e82921a3",
   "metadata": {},
   "outputs": [],
   "source": [
    "from seq2atac.analysis.shap_utils import plot_summit_centered, plot_mutation_centered, predict_classification_proba, plot_peak\n",
    "import glob\n",
    "from seq2atac.stable.models.convolutional import get_bpnet_model\n",
    "model = get_bpnet_model(1364,8)\n",
    "fasta_seq = Fasta(fasta_file)"
   ]
  },
  {
   "cell_type": "code",
   "execution_count": null,
   "id": "aa20f366",
   "metadata": {},
   "outputs": [],
   "source": [
    "cancer_name = \"GBM45_cloneB\"\n",
    "weights_files = glob.glob(f\"../../../models_250_1364_minibatch_prejitter/gbm_subclone/{cancer_name}/fold_*/model.h5\")\n",
    "weights_files"
   ]
  },
  {
   "cell_type": "code",
   "execution_count": null,
   "id": "76de5eab",
   "metadata": {},
   "outputs": [],
   "source": [
    "import matplotlib\n",
    "plt.rcParams[\"figure.figsize\"]=20,10\n",
    "matplotlib.rcParams['pdf.fonttype']=42\n",
    "!mkdir brca_vignette_figure/"
   ]
  },
  {
   "cell_type": "code",
   "execution_count": null,
   "id": "ba6bb9ec",
   "metadata": {},
   "outputs": [],
   "source": [
    "!mkdir sox4_near_mycl_vignette"
   ]
  },
  {
   "cell_type": "code",
   "execution_count": null,
   "id": "3bae9479",
   "metadata": {},
   "outputs": [],
   "source": []
  },
  {
   "cell_type": "code",
   "execution_count": null,
   "id": "1360451b",
   "metadata": {
    "scrolled": true
   },
   "outputs": [],
   "source": [
    "### centering on summit\n",
    "chrom = interest.iloc[0][\"seqnames\"]\n",
    "start = interest.iloc[0][\"start\"]\n",
    "end = interest.iloc[0][\"end\"]\n",
    "\n",
    "input_size = 1364\n",
    "summit = (start+end)//2\n",
    "start = summit - input_size//2\n",
    "end = start + input_size\n",
    "X_ref = one_hot_encode([fasta_seq[chrom][start:end]])\n",
    "\n",
    "score1 = score_classification(X_ref,model,weights_files,compute_shap_score) * X_ref\n",
    "prob_recalc = predict_classification_proba(X_ref, model, weights_files)[0]\n",
    "print(\"score: \",prob_recalc)\n",
    "np.save(\"sox4_near_mycl_vignette_summit_centered.npy\",score1)"
   ]
  },
  {
   "cell_type": "code",
   "execution_count": null,
   "id": "1f31d1b0",
   "metadata": {},
   "outputs": [],
   "source": [
    "row = interest.iloc[0]\n",
    "for flank in [25,50,100,250]:\n",
    "    \n",
    "    # set up plot\n",
    "    fig,axes = plt.subplots(figsize=(30*flank/100,3))\n",
    "    mid_pt = 1364//2\n",
    "    plt_start = mid_pt-flank\n",
    "    plt_end = mid_pt+flank\n",
    "    \n",
    "    score1 = np.load(\"sox4_near_mycl_vignette_summit_centered.npy\")\n",
    "    plot_weights_given_ax(axes,score1[0][plt_start:plt_end], subticks_frequency=20)\n",
    "\n",
    "    motif_start, motif_end = row[\"motif_start\"], row[\"motif_end\"]\n",
    "    motif_len = motif_end - motif_start\n",
    "    motif_relative_to_summit = motif_start - (summit - flank)\n",
    "    axes.axvspan(motif_relative_to_summit, motif_relative_to_summit+motif_len, alpha=0.2, color='gray')\n",
    "    \n",
    "    ymax = score1[0][plt_start:plt_end].max()\n",
    "    axes.set_ylim(-ymax,ymax)\n",
    "    \n",
    "    fig_title = f\"{cancer_name} {chrom}:{start}-{end}\"\n",
    "        \n",
    "    fig.suptitle(fig_title)\n",
    "    fig.tight_layout()\n",
    "    \n",
    "    plt.savefig(f'sox4_near_mycl_vignette/summit_centered_{flank}.pdf',dpi=1200)\n",
    "    \n",
    "    "
   ]
  },
  {
   "cell_type": "code",
   "execution_count": null,
   "id": "6a57bc4f",
   "metadata": {
    "scrolled": true
   },
   "outputs": [],
   "source": [
    "### centering on motif\n",
    "chrom = interest.iloc[0][\"motif_chr\"]\n",
    "start = interest.iloc[0][\"motif_start\"]\n",
    "end = interest.iloc[0][\"motif_end\"]\n",
    "\n",
    "input_size = 1364\n",
    "summit = (start+end)//2\n",
    "start = summit - input_size//2\n",
    "end = start + input_size\n",
    "X_ref = one_hot_encode([fasta_seq[chrom][start:end]])\n",
    "\n",
    "score2 = score_classification(X_ref,model,weights_files,compute_shap_score) * X_ref\n",
    "prob_recalc = predict_classification_proba(X_ref, model, weights_files)[0]\n",
    "print(\"score: \",prob_recalc)\n",
    "np.save(\"sox4_near_mycl_vignette_motif_centered.npy\",score2)"
   ]
  },
  {
   "cell_type": "code",
   "execution_count": null,
   "id": "be68a358",
   "metadata": {},
   "outputs": [],
   "source": [
    "row = interest.iloc[0]\n",
    "for flank in [25,50,100,250]:\n",
    "    \n",
    "    # set up plot\n",
    "    fig,axes = plt.subplots(figsize=(30*flank/100,3))\n",
    "    mid_pt = 1364//2\n",
    "    plt_start = mid_pt-flank\n",
    "    plt_end = mid_pt+flank\n",
    "    \n",
    "    score1 = np.load(\"sox4_near_mycl_vignette_motif_centered.npy\")\n",
    "    plot_weights_given_ax(axes,score1[0][plt_start:plt_end], subticks_frequency=20)\n",
    "\n",
    "    motif_start, motif_end = row[\"motif_start\"], row[\"motif_end\"]\n",
    "    motif_len = motif_end - motif_start\n",
    "    motif_relative_to_summit = motif_start - (summit - flank)\n",
    "    axes.axvspan(motif_relative_to_summit, motif_relative_to_summit+motif_len, alpha=0.2, color='gray')\n",
    "    \n",
    "    ymax = score1[0][plt_start:plt_end].max()\n",
    "    axes.set_ylim(-ymax,ymax)\n",
    "    \n",
    "    fig_title = f\"{cancer_name} {chrom}:{start}-{end}\"\n",
    "        \n",
    "    fig.suptitle(fig_title)\n",
    "    fig.tight_layout()\n",
    "    \n",
    "    plt.savefig(f'sox4_near_mycl_vignette/motif_centered_{flank}.pdf',dpi=1200)\n",
    "    \n",
    "    "
   ]
  },
  {
   "cell_type": "code",
   "execution_count": null,
   "id": "f2f08599",
   "metadata": {},
   "outputs": [],
   "source": []
  }
 ],
 "metadata": {
  "kernelspec": {
   "display_name": "Python 3 (ipykernel)",
   "language": "python",
   "name": "python3"
  },
  "language_info": {
   "codemirror_mode": {
    "name": "ipython",
    "version": 3
   },
   "file_extension": ".py",
   "mimetype": "text/x-python",
   "name": "python",
   "nbconvert_exporter": "python",
   "pygments_lexer": "ipython3",
   "version": "3.10.4"
  }
 },
 "nbformat": 4,
 "nbformat_minor": 5
}
