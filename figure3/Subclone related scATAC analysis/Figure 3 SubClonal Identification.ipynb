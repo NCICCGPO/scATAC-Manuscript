{
 "cells": [
  {
   "cell_type": "code",
   "execution_count": null,
   "id": "db6d739c",
   "metadata": {
    "scrolled": true
   },
   "outputs": [],
   "source": [
    "library(BiocManager)\n",
    "library(BSgenome.Hsapiens.UCSC.hg38)\n",
    "library(ArchR)\n",
    "library(ggplot2)\n",
    "library(TFBSTools)\n",
    "library(Seurat)\n",
    "library(ggplot2)\n",
    "library(dplyr)\n",
    "library(harmony)\n",
    "library(Signac)\n",
    "library(BSgenome.Hsapiens.UCSC.hg38)\n",
    "library(JASPAR2018)\n",
    "library(edgeR)\n",
    "library(sctransform)\n",
    "data(\"geneAnnoHg38\")\n",
    "data(\"genomeAnnoHg38\")\n",
    "geneAnno <- geneAnnoHg38\n",
    "genomeAnno <- genomeAnnoHg38\n",
    "addArchRThreads(24)\n",
    "\n",
    "\n",
    "#may be dont run this for getting cnv calls\n",
    "fn <- unclass(lsf.str(envir = asNamespace(\"ArchR\"), all = TRUE))\n",
    "  for(i in seq_along(fn)){\n",
    "    tryCatch({\n",
    "      eval(parse(text=paste0(fn[i], '<-ArchR:::', fn[i])))\n",
    "    }, error = function(x){\n",
    "    })\n",
    "  }"
   ]
  },
  {
   "cell_type": "markdown",
   "id": "e8067262-24c1-47af-8444-42ab765eceb1",
   "metadata": {},
   "source": [
    "### Creating scATAC LSI and plotting sub clone clusters in scATAC LSI based UMAP"
   ]
  },
  {
   "cell_type": "code",
   "execution_count": null,
   "id": "64d077f6",
   "metadata": {},
   "outputs": [],
   "source": [
    "proj<-loadArchRProject('ArchR project for GBM39/45')\n"
   ]
  },
  {
   "cell_type": "code",
   "execution_count": null,
   "id": "f606960e",
   "metadata": {},
   "outputs": [],
   "source": [
    "#Reading the metadata information for barcode subclone matchin from scatools package\n",
    "subclone_metadata<-read.table('TableS11/TableS12',\n",
    "                            sep='\\t',header=TRUE)\n",
    "coldata<-getCellColData(proj)"
   ]
  },
  {
   "cell_type": "code",
   "execution_count": null,
   "id": "f6fc4b5f",
   "metadata": {},
   "outputs": [],
   "source": [
    "#subsetting to cells with subclone calls\n",
    "proj1<-subsetCells(proj, cellNames = rownames(coldata[rownames(coldata) %in% subclone_metadata$newbarcode,]))\n"
   ]
  },
  {
   "cell_type": "code",
   "execution_count": null,
   "id": "882085ef",
   "metadata": {},
   "outputs": [],
   "source": [
    "proj1 <- addIterativeLSI(\n",
    "  ArchRProj = proj1, \n",
    "  useMatrix = \"TileMatrix\",force=TRUE,iterations = 2\n",
    ")\n",
    "\n",
    "proj1 <- addUMAP(\n",
    "  ArchRProj = proj1, \n",
    "  reducedDims = \"IterativeLSI\",force=TRUE\n",
    ")\n",
    "\n",
    "proj1 <- addClusters(input = proj1, reducedDims = \"IterativeLSI\", resolution =0.2,force=TRUE)\n",
    "\n",
    "\n"
   ]
  },
  {
   "cell_type": "code",
   "execution_count": null,
   "id": "9647ce0a",
   "metadata": {},
   "outputs": [],
   "source": [
    "coldata1<-getCellColData(proj1)\n"
   ]
  },
  {
   "cell_type": "code",
   "execution_count": null,
   "id": "46e257f0",
   "metadata": {},
   "outputs": [],
   "source": [
    "rownames(subclone_metadata)<-subclone_metadata$newbarcode"
   ]
  },
  {
   "cell_type": "code",
   "execution_count": null,
   "id": "90c39428",
   "metadata": {},
   "outputs": [],
   "source": [
    "coldata1$subclone_clusters<-subclone_metadata[rownames(coldata1),]$clusters\n"
   ]
  },
  {
   "cell_type": "code",
   "execution_count": null,
   "id": "e4867ad8",
   "metadata": {},
   "outputs": [],
   "source": [
    "#Assigning subcluster as a metadata column\n",
    "proj1$subcloneclusters<-coldata1$subclone_clusters"
   ]
  },
  {
   "cell_type": "code",
   "execution_count": null,
   "id": "a6115d81-3a23-433a-ae9e-7c1750e48dcd",
   "metadata": {},
   "outputs": [],
   "source": [
    "saveArchRProjecT(proj1, 'path to saved archr project')\n",
    "\n"
   ]
  },
  {
   "cell_type": "markdown",
   "id": "761df76a-7294-476a-9d22-43dff1b96429",
   "metadata": {},
   "source": [
    "### Finding differential peaks between sub clones"
   ]
  },
  {
   "cell_type": "code",
   "execution_count": null,
   "id": "6f6eeaf1-a083-4375-856e-25f01b949be7",
   "metadata": {},
   "outputs": [],
   "source": [
    "proj <- loadArchRProject('path to save archr project')"
   ]
  },
  {
   "cell_type": "code",
   "execution_count": null,
   "id": "dab38ccd",
   "metadata": {},
   "outputs": [],
   "source": [
    "#getting reproducible peak \n",
    "proj <- addGroupCoverages(ArchRProj = proj, groupBy = \"Clusters\",force=TRUE)\n",
    "#Call Reproducible Peaks w/ Macs2 (~5-10 minutes)\n",
    "proj <- addReproduciblePeakSet(ArchRProj = proj,groupBy = \"Clusters\",force=TRUE)\n",
    "#Add Peak Matrix\n",
    "proj <- addPeakMatrix(ArchRProj = proj)\n",
    "\n"
   ]
  },
  {
   "cell_type": "code",
   "execution_count": null,
   "id": "187f43b4",
   "metadata": {},
   "outputs": [],
   "source": [
    "#Identifying marker peaks between two sub clones\n",
    "markersPeaks <- getMarkerFeatures(\n",
    "    ArchRProj = proj, \n",
    "    useMatrix = \"PeakMatrix\", \n",
    "    groupBy = \"subcloneclusters\",\n",
    "  bias = c(\"TSSEnrichment\", \"log10(nFrags)\"),\n",
    "  testMethod = \"wilcoxon\"\n",
    ")"
   ]
  },
  {
   "cell_type": "code",
   "execution_count": null,
   "id": "9c84e3e1",
   "metadata": {},
   "outputs": [],
   "source": [
    "#plotting the differential peaks from the marker test\n",
    "heatmapPeaks <- markerHeatmap(\n",
    "  seMarker = markersPeaks, \n",
    "  cutOff = \"FDR <= 0.1 & Log2FC >= 0.5\",\n",
    "  transpose = TRUE\n",
    ")"
   ]
  },
  {
   "cell_type": "code",
   "execution_count": null,
   "id": "2f251b2e",
   "metadata": {},
   "outputs": [],
   "source": [
    "peakset_info<-data.frame(getPeakSet(proj))\n"
   ]
  },
  {
   "cell_type": "markdown",
   "id": "fb236adf-4ea3-4849-978c-b4a9215946ab",
   "metadata": {},
   "source": [
    "### Subsetting differential peaks that are in copy neutral regions to perform motif enrichment"
   ]
  },
  {
   "cell_type": "code",
   "execution_count": null,
   "id": "5066dbac",
   "metadata": {
    "scrolled": true
   },
   "outputs": [],
   "source": [
    "annotated_peaks<-read.csv('GBM45/39_peaks_cnv_annotated.csv')\n",
    "annotated_peaks$GroupReplicate<-NULL\n",
    "annotated_peaks$distToGeneStart<-NULL\n",
    "annotated_peaks$peakType<-NULL\n",
    "annotated_peaks$distToTSS<-NULL\n",
    "annotated_peaks$idx<-NULL\n",
    "annotated_peaks$N<-NULL\n",
    "annotated_peaks$nearestTSS<-NULL\n",
    "annotated_peaks$score<-NULL\n",
    "annotated_peaks$replicateScoreQuantile<-NULL\n",
    "annotated_peaks$groupScoreQuantile<-NULL\n",
    "annotated_peaks$Reproducibility<-NULL\n",
    "annotated_peaks$allele_state_A<-NULL\n",
    "annotated_peaks$allele_state_B<-NULL\n",
    "annotated_peaks$allele_state_C<-NULL\n",
    "annotated_peaks$mhf_jointseg_A<-NULL\n",
    "annotated_peaks$mhf_jointseg_B<-NULL\n",
    "annotated_peaks$bin_idx<-NULL\n",
    "annotated_peaks$GC<-NULL\n",
    "annotated_peaks$strand.peaks<-NULL\n",
    "annotated_peaks$width.peaks<-NULL\n",
    "annotated_peaks$bin_id<-NULL\n",
    "annotated_peaks$start.cnv_bins<-NULL\n",
    "annotated_peaks$end.cnv_bins<-NULL\n",
    "annotated_peaks$width.cnv_bins<-NULL\n",
    "annotated_peaks$seqnames.cnv_bins<-NULL\n",
    "annotated_peaks$width.cnv_bins<-NULL\n",
    "annotated_peaks$mhf_jointseg_C<-NULL\n",
    "annotated_peaks$strand.cnv_bins<-NULL\n",
    "\n",
    "\n",
    "\n"
   ]
  },
  {
   "cell_type": "code",
   "execution_count": null,
   "id": "83d42d52",
   "metadata": {},
   "outputs": [],
   "source": [
    "annotated_peaks_trim=annotated_peaks[(annotated_peaks$cnv_state_A =='neutral') & (annotated_peaks$cnv_state_B =='neutral'),c('seqnames.peaks','start.peaks','end.peaks')]\n",
    "names(annotated_peaks_trim)<-c('seqnames','start','end')\n",
    "head(annotated_peaks_trim)\n"
   ]
  },
  {
   "cell_type": "code",
   "execution_count": null,
   "id": "32a14485",
   "metadata": {},
   "outputs": [],
   "source": [
    "req_peaks<-merge(peakset_info,annotated_peaks_trim,by=c('seqnames','start','end'))\n",
    "proj<-addPeakSet(proj,peakSet=GRanges(req_peaks),force=TRUE)\n",
    "proj<-addPeakMatrix(proj,force=TRUE)"
   ]
  },
  {
   "cell_type": "code",
   "execution_count": null,
   "id": "278d036b",
   "metadata": {},
   "outputs": [],
   "source": [
    "markerTest <- getMarkerFeatures(\n",
    "  ArchRProj = proj, \n",
    "  useMatrix = \"PeakMatrix\",\n",
    "  groupBy = \"subcloneclusters\",\n",
    "  testMethod = \"wilcoxon\",\n",
    "  bias = c(\"TSSEnrichment\", \"log10(nFrags)\"),\n",
    "  useGroups = \"A\",\n",
    "  bgdGroups = \"B\"\n",
    ")"
   ]
  },
  {
   "cell_type": "markdown",
   "id": "1e12a242-039b-4b6c-9ce0-c0108486a82f",
   "metadata": {},
   "source": [
    "### Plotting the motif enrichment between Fetal vs Adult clones from GBM 39 and 45"
   ]
  },
  {
   "cell_type": "code",
   "execution_count": null,
   "id": "7d5204c5",
   "metadata": {},
   "outputs": [],
   "source": [
    "df1<-read.csv('fetal_significant_sorted.csv')\n",
    "\n",
    "\n",
    "df <- data.frame(TF = df1$modified_names, OR = df1$av)\n",
    "df$rank1<-df1$gbm39_cloneA_Score\n",
    "df <- df[order(df$OR, decreasing = TRUE),]\n",
    "df$rank <- seq_len(nrow(df))\n",
    "\n",
    "\n",
    "ggUp <- ggplot(df, aes(rank, OR, color = OR)) + \n",
    "  geom_point(size = 1) +\n",
    "  ggrepel::geom_label_repel(\n",
    "        data = df[rev(seq_len(10)), ], aes(x = rank, y = OR, label = TF), \n",
    "        size = 1.5,\n",
    "        nudge_x = 1,\n",
    "        color = \"black\"\n",
    "  ) + theme_ArchR() + \n",
    "  ylab(\"Motif Enrichment OR\") + \n",
    "  xlab(\"Rank Sorted TFs Enriched\") +\n",
    "  scale_color_gradientn(colors = paletteContinuous(set = \"comet\"))\n",
    "\n",
    "\n",
    "\n",
    "ggUp\n",
    "\n"
   ]
  },
  {
   "cell_type": "code",
   "execution_count": null,
   "id": "786daf4a",
   "metadata": {},
   "outputs": [],
   "source": [
    "df1<-read.csv('adult_significant_sorted.csv')\n",
    "\n",
    "df <- data.frame(TF = df1$modified_names, OR = df1$av)\n",
    "df$rank1<-df1$gbm39_cloneA_Score\n",
    "df <- df[order(df$OR, decreasing = TRUE),]\n",
    "df$rank <- seq_len(nrow(df))\n",
    "\n",
    "\n",
    "ggUp <- ggplot(df, aes(rank, OR, color = OR)) + \n",
    "  geom_point(size = 0.5) +\n",
    "  ggrepel::geom_label_repel(\n",
    "        data = df[rev(seq_len(15)), ], aes(x = rank, y = OR, label = TF), \n",
    "        size = 1.5,\n",
    "        nudge_x = 10,\n",
    "        color = \"black\"\n",
    "  ) + theme_ArchR() + \n",
    "  ylab(\"Motif Enrichment OR\") + \n",
    "  xlab(\"Rank Sorted TFs Enriched\") +\n",
    "  scale_color_gradientn(colors = paletteContinuous(set = \"comet\"))\n",
    "\n",
    "plotPDF(ggUp, name = \"SUBCLONAL_ADULT_differentialmotifenrichment_NEW\", width = 6, height = 6, ArchRProj = proj, addDOC = FALSE)\n",
    "\n",
    "ggUp\n",
    "\n"
   ]
  },
  {
   "cell_type": "markdown",
   "id": "bd864c89-78cd-47b4-a9d3-2c4a188dbd41",
   "metadata": {},
   "source": [
    "### Creating peaksets for the sub clones in GBM39 and GBM45"
   ]
  },
  {
   "cell_type": "code",
   "execution_count": null,
   "id": "b189a300",
   "metadata": {},
   "outputs": [],
   "source": [
    "proj_new<-loadArchRProject('GBM 39/45 ArchrProject')\n"
   ]
  },
  {
   "cell_type": "code",
   "execution_count": null,
   "id": "3a0105f3",
   "metadata": {},
   "outputs": [],
   "source": [
    "saveArchRProject(proj_new,' Copy of Archr project for Clone A')\n",
    "saveArchRProject(proj_new,' Copy of Archr project for Clone B')\n"
   ]
  },
  {
   "cell_type": "code",
   "execution_count": null,
   "id": "a840036e",
   "metadata": {},
   "outputs": [],
   "source": [
    "proj_cloneA<-loadArchRProject('GBM39/45 cloneA ArchR Project Path')\n",
    "coldata<-getCellColData(proj_cloneA)\n",
    "\n",
    "proj_cloneA<-subsetCells(proj_cloneA, cellNames = rownames(coldata[coldata$subcloneclusters=='A',]))\n",
    "proj_cloneA\n",
    "\n",
    "#getting reproducible peak \n",
    "proj_cloneA <- addGroupCoverages(ArchRProj = proj_cloneA, groupBy = \"Sample\",force=TRUE)\n",
    "#Call Reproducible Peaks w/ Macs2 (~5-10 minutes)\n",
    "proj_cloneA <- addReproduciblePeakSet(ArchRProj = proj_cloneA,groupBy = \"Sample\",force=TRUE)\n",
    "#Add Peak Matrix\n",
    "proj_cloneA <- addPeakMatrix(ArchRProj = proj_cloneA)\n",
    "saveArchRProject(proj_cloneA)"
   ]
  },
  {
   "cell_type": "code",
   "execution_count": null,
   "id": "2c5d8c25",
   "metadata": {},
   "outputs": [],
   "source": [
    "proj_cloneB<-loadArchRProject('GBM39/45 cloneB ArchR Project Path')\n",
    "coldata<-getCellColData(proj_cloneB)\n",
    "\n",
    "proj_cloneB<-subsetCells(proj_cloneB, cellNames = rownames(coldata[coldata$subcloneclusters=='B',]))\n",
    "proj_cloneB\n",
    "\n",
    "#getting reproducible peak \n",
    "proj_cloneB <- addGroupCoverages(ArchRProj = proj_cloneB, groupBy = \"Sample\",force=TRUE)\n",
    "#Call Reproducible Peaks w/ Macs2 (~5-10 minutes)\n",
    "proj_cloneB <- addReproduciblePeakSet(ArchRProj = proj_cloneB,groupBy = \"Sample\",force=TRUE)\n",
    "#Add Peak Matrix\n",
    "proj_cloneB <- addPeakMatrix(ArchRProj = proj_cloneB)\n",
    "\n",
    "saveArchRProject(proj_cloneB)\n"
   ]
  },
  {
   "cell_type": "markdown",
   "id": "eae3c913-3c89-4848-8992-79c4ccb74615",
   "metadata": {},
   "source": [
    "### Plotting the MYCL genome browser plot"
   ]
  },
  {
   "cell_type": "code",
   "execution_count": null,
   "id": "09c7b69a",
   "metadata": {},
   "outputs": [],
   "source": [
    "proj_data<-loadArchRProject('GBM45 ArchR Project')\n",
    "proj_data"
   ]
  },
  {
   "cell_type": "code",
   "execution_count": null,
   "id": "6b4d3aac",
   "metadata": {},
   "outputs": [],
   "source": [
    "p<-plotBrowserTrack(ArchRProj = proj, \n",
    "    groupBy = \"subcloneclusters\", \n",
    "    pal=c('A'='#E69F00', 'B'='#56B4E9'), \n",
    "    useGroups=c('A','B'),\n",
    "    region=GRanges('chr1:39888399-39908412'),\n",
    "    loops=NULL)\n",
    "\n",
    "\n",
    "\n",
    "grid::grid.newpage()\n",
    "grid::grid.draw(p)\n",
    "\n",
    "\n"
   ]
  }
 ],
 "metadata": {
  "kernelspec": {
   "display_name": "R",
   "language": "R",
   "name": "ir"
  },
  "language_info": {
   "codemirror_mode": "r",
   "file_extension": ".r",
   "mimetype": "text/x-r-source",
   "name": "R",
   "pygments_lexer": "r",
   "version": "4.0.5"
  }
 },
 "nbformat": 4,
 "nbformat_minor": 5
}
