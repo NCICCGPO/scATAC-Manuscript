{
 "cells": [
  {
   "cell_type": "code",
   "execution_count": 1,
   "metadata": {
    "scrolled": true
   },
   "outputs": [
    {
     "name": "stderr",
     "output_type": "stream",
     "text": [
      "Bioconductor version '3.12' is out-of-date; the current release version '3.16'\n",
      "  is available with R version '4.2'; see https://bioconductor.org/install\n",
      "\n",
      "Loading required package: BSgenome\n",
      "\n",
      "Loading required package: BiocGenerics\n",
      "\n",
      "Loading required package: parallel\n",
      "\n",
      "\n",
      "Attaching package: ‘BiocGenerics’\n",
      "\n",
      "\n",
      "The following objects are masked from ‘package:parallel’:\n",
      "\n",
      "    clusterApply, clusterApplyLB, clusterCall, clusterEvalQ,\n",
      "    clusterExport, clusterMap, parApply, parCapply, parLapply,\n",
      "    parLapplyLB, parRapply, parSapply, parSapplyLB\n",
      "\n",
      "\n",
      "The following objects are masked from ‘package:stats’:\n",
      "\n",
      "    IQR, mad, sd, var, xtabs\n",
      "\n",
      "\n",
      "The following objects are masked from ‘package:base’:\n",
      "\n",
      "    anyDuplicated, append, as.data.frame, basename, cbind, colnames,\n",
      "    dirname, do.call, duplicated, eval, evalq, Filter, Find, get, grep,\n",
      "    grepl, intersect, is.unsorted, lapply, Map, mapply, match, mget,\n",
      "    order, paste, pmax, pmax.int, pmin, pmin.int, Position, rank,\n",
      "    rbind, Reduce, rownames, sapply, setdiff, sort, table, tapply,\n",
      "    union, unique, unsplit, which.max, which.min\n",
      "\n",
      "\n",
      "Loading required package: S4Vectors\n",
      "\n",
      "Loading required package: stats4\n",
      "\n",
      "\n",
      "Attaching package: ‘S4Vectors’\n",
      "\n",
      "\n",
      "The following object is masked from ‘package:base’:\n",
      "\n",
      "    expand.grid\n",
      "\n",
      "\n",
      "Loading required package: IRanges\n",
      "\n",
      "Loading required package: GenomeInfoDb\n",
      "\n",
      "Loading required package: GenomicRanges\n",
      "\n",
      "Loading required package: Biostrings\n",
      "\n",
      "Loading required package: XVector\n",
      "\n",
      "\n",
      "Attaching package: ‘Biostrings’\n",
      "\n",
      "\n",
      "The following object is masked from ‘package:base’:\n",
      "\n",
      "    strsplit\n",
      "\n",
      "\n",
      "Loading required package: rtracklayer\n",
      "\n",
      "Loading required package: ggplot2\n",
      "\n",
      "Loading required package: SummarizedExperiment\n",
      "\n",
      "Loading required package: MatrixGenerics\n",
      "\n",
      "Loading required package: matrixStats\n",
      "\n",
      "\n",
      "Attaching package: ‘MatrixGenerics’\n",
      "\n",
      "\n",
      "The following objects are masked from ‘package:matrixStats’:\n",
      "\n",
      "    colAlls, colAnyNAs, colAnys, colAvgsPerRowSet, colCollapse,\n",
      "    colCounts, colCummaxs, colCummins, colCumprods, colCumsums,\n",
      "    colDiffs, colIQRDiffs, colIQRs, colLogSumExps, colMadDiffs,\n",
      "    colMads, colMaxs, colMeans2, colMedians, colMins, colOrderStats,\n",
      "    colProds, colQuantiles, colRanges, colRanks, colSdDiffs, colSds,\n",
      "    colSums2, colTabulates, colVarDiffs, colVars, colWeightedMads,\n",
      "    colWeightedMeans, colWeightedMedians, colWeightedSds,\n",
      "    colWeightedVars, rowAlls, rowAnyNAs, rowAnys, rowAvgsPerColSet,\n",
      "    rowCollapse, rowCounts, rowCummaxs, rowCummins, rowCumprods,\n",
      "    rowCumsums, rowDiffs, rowIQRDiffs, rowIQRs, rowLogSumExps,\n",
      "    rowMadDiffs, rowMads, rowMaxs, rowMeans2, rowMedians, rowMins,\n",
      "    rowOrderStats, rowProds, rowQuantiles, rowRanges, rowRanks,\n",
      "    rowSdDiffs, rowSds, rowSums2, rowTabulates, rowVarDiffs, rowVars,\n",
      "    rowWeightedMads, rowWeightedMeans, rowWeightedMedians,\n",
      "    rowWeightedSds, rowWeightedVars\n",
      "\n",
      "\n",
      "Loading required package: Biobase\n",
      "\n",
      "Welcome to Bioconductor\n",
      "\n",
      "    Vignettes contain introductory material; view with\n",
      "    'browseVignettes()'. To cite Bioconductor, see\n",
      "    'citation(\"Biobase\")', and for packages 'citation(\"pkgname\")'.\n",
      "\n",
      "\n",
      "\n",
      "Attaching package: ‘Biobase’\n",
      "\n",
      "\n",
      "The following object is masked from ‘package:MatrixGenerics’:\n",
      "\n",
      "    rowMedians\n",
      "\n",
      "\n",
      "The following objects are masked from ‘package:matrixStats’:\n",
      "\n",
      "    anyMissing, rowMedians\n",
      "\n",
      "\n",
      "Loading required package: data.table\n",
      "\n",
      "\n",
      "Attaching package: ‘data.table’\n",
      "\n",
      "\n",
      "The following object is masked from ‘package:SummarizedExperiment’:\n",
      "\n",
      "    shift\n",
      "\n",
      "\n",
      "The following object is masked from ‘package:GenomicRanges’:\n",
      "\n",
      "    shift\n",
      "\n",
      "\n",
      "The following object is masked from ‘package:IRanges’:\n",
      "\n",
      "    shift\n",
      "\n",
      "\n",
      "The following objects are masked from ‘package:S4Vectors’:\n",
      "\n",
      "    first, second\n",
      "\n",
      "\n",
      "Loading required package: Matrix\n",
      "\n",
      "\n",
      "Attaching package: ‘Matrix’\n",
      "\n",
      "\n",
      "The following object is masked from ‘package:S4Vectors’:\n",
      "\n",
      "    expand\n",
      "\n",
      "\n",
      "Loading required package: rhdf5\n",
      "\n",
      "Loading required package: magrittr\n",
      "\n",
      "\n",
      "\n",
      "\n",
      "Attaching package: ‘TFBSTools’\n",
      "\n",
      "\n",
      "The following object is masked from ‘package:Matrix’:\n",
      "\n",
      "    Matrix\n",
      "\n",
      "\n",
      "Attaching SeuratObject\n",
      "\n",
      "\n",
      "Attaching package: ‘Seurat’\n",
      "\n",
      "\n",
      "The following object is masked from ‘package:SummarizedExperiment’:\n",
      "\n",
      "    Assays\n",
      "\n",
      "\n",
      "\n",
      "Attaching package: ‘dplyr’\n",
      "\n",
      "\n",
      "The following objects are masked from ‘package:data.table’:\n",
      "\n",
      "    between, first, last\n",
      "\n",
      "\n",
      "The following object is masked from ‘package:Biobase’:\n",
      "\n",
      "    combine\n",
      "\n",
      "\n",
      "The following object is masked from ‘package:matrixStats’:\n",
      "\n",
      "    count\n",
      "\n",
      "\n",
      "The following objects are masked from ‘package:Biostrings’:\n",
      "\n",
      "    collapse, intersect, setdiff, setequal, union\n",
      "\n",
      "\n",
      "The following object is masked from ‘package:XVector’:\n",
      "\n",
      "    slice\n",
      "\n",
      "\n",
      "The following objects are masked from ‘package:GenomicRanges’:\n",
      "\n",
      "    intersect, setdiff, union\n",
      "\n",
      "\n",
      "The following object is masked from ‘package:GenomeInfoDb’:\n",
      "\n",
      "    intersect\n",
      "\n",
      "\n",
      "The following objects are masked from ‘package:IRanges’:\n",
      "\n",
      "    collapse, desc, intersect, setdiff, slice, union\n",
      "\n",
      "\n",
      "The following objects are masked from ‘package:S4Vectors’:\n",
      "\n",
      "    first, intersect, rename, setdiff, setequal, union\n",
      "\n",
      "\n",
      "The following objects are masked from ‘package:BiocGenerics’:\n",
      "\n",
      "    combine, intersect, setdiff, union\n",
      "\n",
      "\n",
      "The following objects are masked from ‘package:stats’:\n",
      "\n",
      "    filter, lag\n",
      "\n",
      "\n",
      "The following objects are masked from ‘package:base’:\n",
      "\n",
      "    intersect, setdiff, setequal, union\n",
      "\n",
      "\n",
      "Loading required package: Rcpp\n",
      "\n",
      "Loading required package: limma\n",
      "\n",
      "\n",
      "Attaching package: ‘limma’\n",
      "\n",
      "\n",
      "The following object is masked from ‘package:BiocGenerics’:\n",
      "\n",
      "    plotMA\n",
      "\n",
      "\n",
      "Setting default number of Parallel threads to 12.\n",
      "\n"
     ]
    }
   ],
   "source": [
    "library(BiocManager)\n",
    "library(BSgenome.Hsapiens.UCSC.hg38)\n",
    "library(ArchR)\n",
    "library(ggplot2)\n",
    "library(TFBSTools)\n",
    "library(Seurat)\n",
    "library(ggplot2)\n",
    "library(dplyr)\n",
    "library(harmony)\n",
    "#library(SeuratData)\n",
    "library(Signac)\n",
    "library(BSgenome.Hsapiens.UCSC.hg38)\n",
    "library(JASPAR2018)\n",
    "library(edgeR)\n",
    "\n",
    "library(ArchR)\n",
    "data(\"geneAnnoHg38\")\n",
    "data(\"genomeAnnoHg38\")\n",
    "geneAnno <- geneAnnoHg38\n",
    "genomeAnno <- genomeAnnoHg38\n",
    "addArchRThreads(12)\n"
   ]
  },
  {
   "cell_type": "code",
   "execution_count": 3,
   "metadata": {},
   "outputs": [],
   "source": [
    "library(Matrix)\n",
    "library(SummarizedExperiment)\n",
    "library(uwot)\n",
    "library(edgeR)\n",
    "library(FNN)\n",
    "library(matrixStats)\n",
    "library(Rcpp)\n",
    "set.seed(1)"
   ]
  },
  {
   "cell_type": "code",
   "execution_count": 4,
   "metadata": {},
   "outputs": [],
   "source": [
    "sparseRowVariances <- function (m){\n",
    "    rM <- Matrix::rowMeans(m)\n",
    "    rV <- computeSparseRowVariances(m@i + 1, m@x, rM, ncol(m))\n",
    "    return(rV)\n",
    "}\n",
    "\n",
    "#Helper function for summing sparse matrix groups\n",
    "groupSums <- function (mat, groups = NULL, na.rm = TRUE, sparse = FALSE){\n",
    "    stopifnot(!is.null(groups))\n",
    "    stopifnot(length(groups) == ncol(mat))\n",
    "    gm <- lapply(unique(groups), function(x) {\n",
    "        if (sparse) {\n",
    "            Matrix::rowSums(mat[, which(groups == x), drop = F], na.rm = na.rm)\n",
    "        }\n",
    "        else {\n",
    "            rowSums(mat[, which(groups == x), drop = F], na.rm = na.rm)\n",
    "        }\n",
    "    }) %>% Reduce(\"cbind\", .)\n",
    "    colnames(gm) <- unique(groups)\n",
    "    return(gm)\n",
    "}\n",
    "\n",
    "sparseMatTTest <- function(mat1, mat2, m0 = 0){\n",
    "\t#Get Population Values\n",
    "\tn1 <- ncol(mat1)\n",
    "\tn2 <- ncol(mat2)\n",
    "\tn <- n1 + n2\n",
    "\t#Sparse Row Means\n",
    "\tm1 <- Matrix::rowMeans(mat1, na.rm=TRUE)\n",
    "\tm2 <- Matrix::rowMeans(mat2, na.rm=TRUE)\n",
    "\t#Sparse Row Variances\n",
    "\tv1 <- ArchR:::computeSparseRowVariances(mat1@i + 1, mat1@x, m1, n1)\n",
    "\tv2 <- ArchR:::computeSparseRowVariances(mat2@i + 1, mat2@x, m2, n2)\n",
    "\t#Calculate T Statistic\n",
    "\tse <- sqrt( (1/n1 + 1/n2) * ((n1-1)*v1 + (n2-1)*v2)/(n1+n2-2) )\n",
    "    tstat <- (m1-m2-m0)/se\n",
    "\t#tstat <- sqrt((n1 * n2) / n) / sqrt((n1-1)/(n-2)*v1 + (n2-1)/(n-2)*v2)\n",
    "\tpvalue <- 2*pt(-abs(tstat), n - 2)\n",
    "\tfdr <- p.adjust(pvalue, method = \"fdr\")\n",
    "\tout <- data.frame(fdr = fdr, pval = pvalue, tstat = tstat, mean1 = m1, mean2 = m2, var1 = v1, var2 = v2, n1 = n1, n2 = n2)\n",
    "\treturn(out)\n",
    "}"
   ]
  },
  {
   "cell_type": "code",
   "execution_count": 5,
   "metadata": {},
   "outputs": [],
   "source": [
    "fn <- unclass(lsf.str(envir = asNamespace(\"ArchR\"), all = TRUE))\n",
    " for(i in seq_along(fn)){\n",
    "  tryCatch({\n",
    "   eval(parse(text=paste0(fn[i], '<-ArchR:::', fn[i])))\n",
    "  }, error = function(x){\n",
    "  })\n",
    " }"
   ]
  },
  {
   "cell_type": "code",
   "execution_count": 6,
   "metadata": {},
   "outputs": [],
   "source": [
    "# Code below adapted from ArchR function\n",
    "projectLSI <- function(mat_se = NULL, LSI = NULL){  \n",
    "    require(Matrix)\n",
    "    set.seed(LSI$seed)\n",
    "\n",
    "    subset_rows <- paste(rowData(mat_se)$seqnames, rowData(mat_se)$start) %in% paste(LSI$LSIFeatures$seqnames, LSI$LSIFeatures$start)\n",
    "    mat <- assay(mat_se)\n",
    "    mat <- mat[subset_rows,]\n",
    "\n",
    "    #Get Same Features--whats stored here in lsi isnt exactly whats needed, so I added the lines above this to subset\n",
    "    mat <- mat[LSI$idx,]\n",
    "\n",
    "    #Binarize Matrix\n",
    "    if(LSI$binarize){\n",
    "        mat@x[mat@x > 0] <- 1       \n",
    "    }\n",
    "    \n",
    "    #TF\n",
    "    colSm <- Matrix::colSums(mat)\n",
    "    if(any(colSm == 0)){\n",
    "      exclude <- which(colSm==0)\n",
    "      mat <- mat[,-exclude]\n",
    "      colSm <- colSm[-exclude]\n",
    "    }\n",
    "    mat@x <- mat@x / rep.int(colSm, Matrix::diff(mat@p))\n",
    "\n",
    "    #Adapted from Stuart et al.\n",
    "\n",
    "    #IDF\n",
    "    idf   <- as(LSI$nCol / LSI$rowSm, \"sparseVector\")\n",
    "\n",
    "    #TF-IDF\n",
    "    mat <- as(Matrix::Diagonal(x=as.vector(idf)), \"sparseMatrix\") %*% mat\n",
    "\n",
    "    #Log transform TF-IDF\n",
    "    mat@x <- log(mat@x * LSI$scaleTo + 1) \n",
    "\n",
    "    gc()\n",
    "\n",
    "    #Clean Up Matrix\n",
    "    idxNA <- Matrix::which(is.na(mat),arr.ind=TRUE)\n",
    "    if(length(idxNA) > 0){\n",
    "        mat[idxNA] <- 0\n",
    "    }\n",
    "\n",
    "    #Calc V\n",
    "    V <- Matrix::t(mat) %*% LSI$svd$u %*% Matrix::diag(1/LSI$svd$d)\n",
    "\n",
    "    #LSI Diagonal\n",
    "    svdDiag <- matrix(0, nrow=LSI$nDimensions, ncol=LSI$nDimensions)\n",
    "    diag(svdDiag) <- LSI$svd$d\n",
    "    matSVD <- Matrix::t(svdDiag %*% Matrix::t(V))\n",
    "    matSVD <- as.matrix(matSVD)\n",
    "    rownames(matSVD) <- colnames(mat)\n",
    "    colnames(matSVD) <- paste0(\"LSI\",seq_len(ncol(matSVD)))\n",
    "    matSVD\n",
    "}\n"
   ]
  },
  {
   "cell_type": "code",
   "execution_count": 42,
   "metadata": {
    "scrolled": true
   },
   "outputs": [
    {
     "name": "stderr",
     "output_type": "stream",
     "text": [
      "Successfully loaded ArchRProject!\n",
      "\n",
      "\n",
      "                                                   / |\n",
      "                                                 /    \\\n",
      "            .                                  /      |.\n",
      "            \\\\\\                              /        |.\n",
      "              \\\\\\                          /           `|.\n",
      "                \\\\\\                      /              |.\n",
      "                  \\                    /                |\\\n",
      "                  \\\\#####\\           /                  ||\n",
      "                ==###########>      /                   ||\n",
      "                 \\\\##==......\\    /                     ||\n",
      "            ______ =       =|__ /__                     ||      \\\\\\\n",
      "        ,--' ,----`-,__ ___/'  --,-`-===================##========>\n",
      "       \\               '        ##_______ _____ ,--,__,=##,__   ///\n",
      "        ,    __==    ___,-,__,--'#'  ==='      `-'    | ##,-/\n",
      "        -,____,---'       \\\\####\\\\________________,--\\\\_##,/\n",
      "           ___      .______        ______  __    __  .______      \n",
      "          /   \\     |   _  \\      /      ||  |  |  | |   _  \\     \n",
      "         /  ^  \\    |  |_)  |    |  ,----'|  |__|  | |  |_)  |    \n",
      "        /  /_\\  \\   |      /     |  |     |   __   | |      /     \n",
      "       /  _____  \\  |  |\\  \\\\___ |  `----.|  |  |  | |  |\\  \\\\___.\n",
      "      /__/     \\__\\ | _| `._____| \\______||__|  |__| | _| `._____|\n",
      "    \n",
      "\n",
      "Successfully loaded ArchRProject!\n",
      "\n",
      "\n",
      "                                                   / |\n",
      "                                                 /    \\\n",
      "            .                                  /      |.\n",
      "            \\\\\\                              /        |.\n",
      "              \\\\\\                          /           `|.\n",
      "                \\\\\\                      /              |.\n",
      "                  \\                    /                |\\\n",
      "                  \\\\#####\\           /                  ||\n",
      "                ==###########>      /                   ||\n",
      "                 \\\\##==......\\    /                     ||\n",
      "            ______ =       =|__ /__                     ||      \\\\\\\n",
      "        ,--' ,----`-,__ ___/'  --,-`-===================##========>\n",
      "       \\               '        ##_______ _____ ,--,__,=##,__   ///\n",
      "        ,    __==    ___,-,__,--'#'  ==='      `-'    | ##,-/\n",
      "        -,____,---'       \\\\####\\\\________________,--\\\\_##,/\n",
      "           ___      .______        ______  __    __  .______      \n",
      "          /   \\     |   _  \\      /      ||  |  |  | |   _  \\     \n",
      "         /  ^  \\    |  |_)  |    |  ,----'|  |__|  | |  |_)  |    \n",
      "        /  /_\\  \\   |      /     |  |     |   __   | |      /     \n",
      "       /  _____  \\  |  |\\  \\\\___ |  `----.|  |  |  | |  |\\  \\\\___.\n",
      "      /__/     \\__\\ | _| `._____| \\______||__|  |__| | _| `._____|\n",
      "    \n",
      "\n"
     ]
    }
   ],
   "source": [
    "# Load normal project and project for all samples\n",
    "proj_featal_invivo <- loadArchRProject(path = \"Path to archr file with healthy fetal and adult tissue\")\n",
    "\n",
    "\n",
    "proj_all_invitro_peaks <- loadArchRProject(path = \"Path to archr file with GBM39 or GBM45 cancer project\")\n",
    "\n"
   ]
  },
  {
   "cell_type": "code",
   "execution_count": 9,
   "metadata": {},
   "outputs": [],
   "source": [
    "# Load saved lsi\n",
    "lsi <- getReducedDims(proj_featal_invivo, reducedDims = \"IterativeLSI\", returnMatrix = FALSE)\n",
    "\n",
    "# Load Saved UMAP Manifold\n",
    "umap <- getEmbedding(proj_featal_invivo, embedding = \"UMAP\", returnDF = FALSE)\n",
    "umapManifold <- uwot::load_uwot(umap$params$uwotModel[1])\n",
    "\n"
   ]
  },
  {
   "cell_type": "code",
   "execution_count": 64,
   "metadata": {},
   "outputs": [
    {
     "name": "stderr",
     "output_type": "stream",
     "text": [
      "ArchR logging to : ArchRLogs/ArchR-getMatrixFromProject-7af03ff948e1-Date-2023-04-05_Time-18-11-49.log\n",
      "If there is an issue, please report to github with logFile!\n",
      "\n",
      "2023-04-05 18:12:06 : Organizing colData, 0.288 mins elapsed.\n",
      "\n",
      "2023-04-05 18:12:06 : Organizing rowData, 0.288 mins elapsed.\n",
      "\n",
      "2023-04-05 18:12:06 : Organizing rowRanges, 0.288 mins elapsed.\n",
      "\n",
      "2023-04-05 18:12:06 : Organizing Assays (1 of 1), 0.288 mins elapsed.\n",
      "\n",
      "2023-04-05 18:12:06 : Constructing SummarizedExperiment, 0.288 mins elapsed.\n",
      "\n",
      "2023-04-05 18:12:08 : Finished Matrix Creation, 0.32 mins elapsed.\n",
      "\n",
      "18:12:18 Read 217 rows\n",
      " and found 30 numeric columns\n",
      "\n",
      "18:12:18 Processing block 1 of 1\n",
      "\n",
      "18:12:18 Writing NN index file to temp file /scratch/5189594.1.himem/RtmpconR0x/file7af03f62be9b\n",
      "\n",
      "18:12:18 Searching Annoy index using 48 threads, search_k = 4000\n",
      "\n",
      "18:12:18 Commencing smooth kNN distance calibration using 48 threads\n",
      "\n",
      "18:12:18 Initializing by weighted average of neighbor coordinates using 48 threads\n",
      "\n",
      "18:12:18 Commencing optimization for 67 epochs, with 8680 positive edges\n",
      "\n",
      "18:12:18 Finished\n",
      "\n",
      "Plotting Ggplot!\n",
      "\n"
     ]
    },
    {
     "data": {
      "image/png": "[encoded data removed]",
      "text/plain": [
       "plot without title"
      ]
     },
     "metadata": {
      "image/png": {
       "height": 420,
       "width": 420
      }
     },
     "output_type": "display_data"
    }
   ],
   "source": [
    "#subsetting subclones and projecting it to fetal or adult cells\n",
    "temp<-subsetCells(proj_all_invitro_peaks,cell=rownames(proj_all_invitro_peaks[ (proj_all_invitro_peaks$subcloneclusters %in% c('B')) ,]))\n",
    "\n",
    "mat_se <- getMatrixFromProject(temp,\n",
    "  useMatrix = \"TileMatrix\",\n",
    "  useSeqnames = NULL,\n",
    "  verbose = TRUE,\n",
    "  binarize = TRUE\n",
    ")\n",
    "\n",
    "\n",
    "\n",
    "\n",
    "\n",
    "lsiProjection <- projectLSI(mat_se, lsi)\n",
    "#UMAP Projection\n",
    "set.seed(1)\n",
    "umapProjection <- uwot::umap_transform(as.matrix(lsiProjection)[,1:30], umapManifold, verbose = TRUE)\n",
    "#Plot Projection\n",
    "refDF <- data.frame(row.names = proj_featal_invivo$CellNames , X1 = umapManifold$embedding[,1], X2 = umapManifold$embedding[,2], Type = \"reference\")\n",
    "proDF <- data.frame(row.names = temp$cellNames, X1 = umapProjection[,1], X2 = umapProjection[,2], Type = \"CLONE_B\")\n",
    "#proDF <- data.frame(row.names = proj_all_invitro_peaks$CellNames, X1 = umapProjection[,1], X2 = umapProjection[,2], Type = \"Tcells\")\n",
    "projectionDF <- rbind(refDF, proDF)\n",
    "#\n",
    "plotParams <- list()\n",
    "plotParams$x <- projectionDF[, 'X1']\n",
    "plotParams$y <- projectionDF[, 'X2']\n",
    "plotParams$title <- \" Colored by Clusters\"\n",
    "plotParams$baseSize <- 6\n",
    "plotParams$rastr <- FALSE\n",
    "plotParams$xlabel <- \"UMAP Dimension 1\"\n",
    "plotParams$ylabel <- \"UMAP Dimension 2\"\n",
    "plotParams$color <- as.character(projectionDF$Type)\n",
    "plotParams$size <- 0.1\n",
    "plotParams$randomize <- TRUE\n",
    "plotParams$pal <- c(\"reference\"=\"#E0ECFF\",\"CLONE_B\"=\"#725ca5\")\n",
    "plotParams$labelMeans <- FALSE\n",
    "gg<-do.call(ggPoint,plotParams)\n",
    "gg\n",
    "#\n",
    "\n",
    "\n"
   ]
  },
  {
   "cell_type": "code",
   "execution_count": 50,
   "metadata": {},
   "outputs": [],
   "source": [
    "input_knn <- 25\n",
    "\n",
    "#LSI-SVD\n",
    "svdReference <- as.data.frame(lsi$matSVD) #loaded lsi\n",
    "svdDisease <- as.data.frame(as.matrix(lsiProjection)) # defined from projectLSI\n",
    "\n",
    "#KNN Nearest Neighbor using FNN #find 25 nn cells\n",
    "library(FNN)\n",
    "set.seed(1)\n",
    "knnDisease <- get.knnx(\n",
    "    data = svdReference,\n",
    "    query = svdDisease,\n",
    "    k = input_knn)\n"
   ]
  },
  {
   "cell_type": "code",
   "execution_count": 51,
   "metadata": {},
   "outputs": [
    {
     "data": {
      "text/html": [
       "<style>\n",
       ".list-inline {list-style: none; margin:0; padding: 0}\n",
       ".list-inline>li {display: inline-block}\n",
       ".list-inline>li:not(:last-child)::after {content: \"\\00b7\"; padding: 0 .5ex}\n",
       "</style>\n",
       "<ol class=list-inline><li>'Adult'</li><li>'Fetal'</li></ol>\n"
      ],
      "text/latex": [
       "\\begin{enumerate*}\n",
       "\\item 'Adult'\n",
       "\\item 'Fetal'\n",
       "\\end{enumerate*}\n"
      ],
      "text/markdown": [
       "1. 'Adult'\n",
       "2. 'Fetal'\n",
       "\n",
       "\n"
      ],
      "text/plain": [
       "[1] \"Adult\" \"Fetal\""
      ]
     },
     "metadata": {},
     "output_type": "display_data"
    }
   ],
   "source": [
    "cellcoldata<-getCellColData(proj_featal_invivo)\n",
    "reqnames<-rownames(lsi$matSVD[as.vector(knnDisease$nn.index),])"
   ]
  },
  {
   "cell_type": "code",
   "execution_count": 53,
   "metadata": {},
   "outputs": [
    {
     "data": {
      "text/html": [
       "<table class=\"dataframe\">\n",
       "<caption>A data.frame: 2 × 3</caption>\n",
       "<thead>\n",
       "\t<tr><th></th><th scope=col>temp_df</th><th scope=col>Freq</th><th scope=col>Rank</th></tr>\n",
       "\t<tr><th></th><th scope=col>&lt;fct&gt;</th><th scope=col>&lt;dbl&gt;</th><th scope=col>&lt;dbl&gt;</th></tr>\n",
       "</thead>\n",
       "<tbody>\n",
       "\t<tr><th scope=row>1</th><td>Adult</td><td>0.6254378</td><td>2</td></tr>\n",
       "\t<tr><th scope=row>2</th><td>Fetal</td><td>0.3745622</td><td>1</td></tr>\n",
       "</tbody>\n",
       "</table>\n"
      ],
      "text/latex": [
       "A data.frame: 2 × 3\n",
       "\\begin{tabular}{r|lll}\n",
       "  & temp\\_df & Freq & Rank\\\\\n",
       "  & <fct> & <dbl> & <dbl>\\\\\n",
       "\\hline\n",
       "\t1 & Adult & 0.6254378 & 2\\\\\n",
       "\t2 & Fetal & 0.3745622 & 1\\\\\n",
       "\\end{tabular}\n"
      ],
      "text/markdown": [
       "\n",
       "A data.frame: 2 × 3\n",
       "\n",
       "| <!--/--> | temp_df &lt;fct&gt; | Freq &lt;dbl&gt; | Rank &lt;dbl&gt; |\n",
       "|---|---|---|---|\n",
       "| 1 | Adult | 0.6254378 | 2 |\n",
       "| 2 | Fetal | 0.3745622 | 1 |\n",
       "\n"
      ],
      "text/plain": [
       "  temp_df Freq      Rank\n",
       "1 Adult   0.6254378 2   \n",
       "2 Fetal   0.3745622 1   "
      ]
     },
     "metadata": {},
     "output_type": "display_data"
    },
    {
     "data": {
      "text/html": [
       "<table class=\"dataframe\">\n",
       "<caption>A data.frame: 2 × 3</caption>\n",
       "<thead>\n",
       "\t<tr><th></th><th scope=col>temp_df</th><th scope=col>Freq</th><th scope=col>Rank</th></tr>\n",
       "\t<tr><th></th><th scope=col>&lt;fct&gt;</th><th scope=col>&lt;dbl&gt;</th><th scope=col>&lt;dbl&gt;</th></tr>\n",
       "</thead>\n",
       "<tbody>\n",
       "\t<tr><th scope=row>1</th><td>Adult</td><td>0.6254378</td><td>2</td></tr>\n",
       "\t<tr><th scope=row>2</th><td>Fetal</td><td>0.3745622</td><td>1</td></tr>\n",
       "</tbody>\n",
       "</table>\n"
      ],
      "text/latex": [
       "A data.frame: 2 × 3\n",
       "\\begin{tabular}{r|lll}\n",
       "  & temp\\_df & Freq & Rank\\\\\n",
       "  & <fct> & <dbl> & <dbl>\\\\\n",
       "\\hline\n",
       "\t1 & Adult & 0.6254378 & 2\\\\\n",
       "\t2 & Fetal & 0.3745622 & 1\\\\\n",
       "\\end{tabular}\n"
      ],
      "text/markdown": [
       "\n",
       "A data.frame: 2 × 3\n",
       "\n",
       "| <!--/--> | temp_df &lt;fct&gt; | Freq &lt;dbl&gt; | Rank &lt;dbl&gt; |\n",
       "|---|---|---|---|\n",
       "| 1 | Adult | 0.6254378 | 2 |\n",
       "| 2 | Fetal | 0.3745622 | 1 |\n",
       "\n"
      ],
      "text/plain": [
       "  temp_df Freq      Rank\n",
       "1 Adult   0.6254378 2   \n",
       "2 Fetal   0.3745622 1   "
      ]
     },
     "metadata": {},
     "output_type": "display_data"
    }
   ],
   "source": [
    "reqnames<-rownames(lsi$matSVD[as.vector(knnDisease$nn.index),])\n",
    "temp_df<-data.frame(cellcoldata[reqnames,'Sample1'])\n",
    "names(temp_df)<-'Tissue type'\n",
    "a<-data.frame(table(temp_df)/dim(temp_df)[1])\n",
    "a$Rank<-rank(a$Freq)\n"
   ]
  },
  {
   "cell_type": "code",
   "execution_count": 48,
   "metadata": {},
   "outputs": [],
   "source": [
    "clonea_numbers<-a"
   ]
  },
  {
   "cell_type": "code",
   "execution_count": 54,
   "metadata": {},
   "outputs": [],
   "source": [
    "cloneb_numbers<-a"
   ]
  },
  {
   "cell_type": "code",
   "execution_count": 55,
   "metadata": {},
   "outputs": [],
   "source": [
    "clonea_numbers$type='clone A'\n",
    "cloneb_numbers$type='clone B'"
   ]
  },
  {
   "cell_type": "code",
   "execution_count": 56,
   "metadata": {},
   "outputs": [
    {
     "data": {
      "text/html": [
       "<table class=\"dataframe\">\n",
       "<caption>A data.frame: 4 × 4</caption>\n",
       "<thead>\n",
       "\t<tr><th></th><th scope=col>temp_df</th><th scope=col>Freq</th><th scope=col>Rank</th><th scope=col>type</th></tr>\n",
       "\t<tr><th></th><th scope=col>&lt;fct&gt;</th><th scope=col>&lt;dbl&gt;</th><th scope=col>&lt;dbl&gt;</th><th scope=col>&lt;chr&gt;</th></tr>\n",
       "</thead>\n",
       "<tbody>\n",
       "\t<tr><th scope=row>1</th><td>Adult</td><td>0.1101318</td><td>1</td><td>clone A</td></tr>\n",
       "\t<tr><th scope=row>2</th><td>Fetal</td><td>0.8898682</td><td>2</td><td>clone A</td></tr>\n",
       "\t<tr><th scope=row>3</th><td>Adult</td><td>0.6254378</td><td>2</td><td>clone B</td></tr>\n",
       "\t<tr><th scope=row>4</th><td>Fetal</td><td>0.3745622</td><td>1</td><td>clone B</td></tr>\n",
       "</tbody>\n",
       "</table>\n"
      ],
      "text/latex": [
       "A data.frame: 4 × 4\n",
       "\\begin{tabular}{r|llll}\n",
       "  & temp\\_df & Freq & Rank & type\\\\\n",
       "  & <fct> & <dbl> & <dbl> & <chr>\\\\\n",
       "\\hline\n",
       "\t1 & Adult & 0.1101318 & 1 & clone A\\\\\n",
       "\t2 & Fetal & 0.8898682 & 2 & clone A\\\\\n",
       "\t3 & Adult & 0.6254378 & 2 & clone B\\\\\n",
       "\t4 & Fetal & 0.3745622 & 1 & clone B\\\\\n",
       "\\end{tabular}\n"
      ],
      "text/markdown": [
       "\n",
       "A data.frame: 4 × 4\n",
       "\n",
       "| <!--/--> | temp_df &lt;fct&gt; | Freq &lt;dbl&gt; | Rank &lt;dbl&gt; | type &lt;chr&gt; |\n",
       "|---|---|---|---|---|\n",
       "| 1 | Adult | 0.1101318 | 1 | clone A |\n",
       "| 2 | Fetal | 0.8898682 | 2 | clone A |\n",
       "| 3 | Adult | 0.6254378 | 2 | clone B |\n",
       "| 4 | Fetal | 0.3745622 | 1 | clone B |\n",
       "\n"
      ],
      "text/plain": [
       "  temp_df Freq      Rank type   \n",
       "1 Adult   0.1101318 1    clone A\n",
       "2 Fetal   0.8898682 2    clone A\n",
       "3 Adult   0.6254378 2    clone B\n",
       "4 Fetal   0.3745622 1    clone B"
      ]
     },
     "metadata": {},
     "output_type": "display_data"
    },
    {
     "data": {
      "text/html": [
       "<style>\n",
       ".list-inline {list-style: none; margin:0; padding: 0}\n",
       ".list-inline>li {display: inline-block}\n",
       ".list-inline>li:not(:last-child)::after {content: \"\\00b7\"; padding: 0 .5ex}\n",
       "</style>\n",
       "<ol class=list-inline><li>4</li><li>4</li></ol>\n"
      ],
      "text/latex": [
       "\\begin{enumerate*}\n",
       "\\item 4\n",
       "\\item 4\n",
       "\\end{enumerate*}\n"
      ],
      "text/markdown": [
       "1. 4\n",
       "2. 4\n",
       "\n",
       "\n"
      ],
      "text/plain": [
       "[1] 4 4"
      ]
     },
     "metadata": {},
     "output_type": "display_data"
    }
   ],
   "source": [
    "newdf<-rbind(clonea_numbers,cloneb_numbers)\n",
    "head(newdf)\n",
    "dim(newdf)"
   ]
  },
  {
   "cell_type": "code",
   "execution_count": 57,
   "metadata": {},
   "outputs": [
    {
     "data": {
      "text/html": [
       "<strong>png:</strong> 2"
      ],
      "text/latex": [
       "\\textbf{png:} 2"
      ],
      "text/markdown": [
       "**png:** 2"
      ],
      "text/plain": [
       "png \n",
       "  2 "
      ]
     },
     "metadata": {},
     "output_type": "display_data"
    }
   ],
   "source": [
    "pdf(file = \"GBM39_NearestNeighboursplot.pdf\", width = 8, height = 6) \n",
    "p1 <- ggplot(newdf) +\n",
    "    geom_col(aes(x = type, y = Freq, fill = temp_df ) ) +scale_fill_manual(values = c(\"Adult\"=\"#FFAC53\",\"Fetal\"=\"#79FFFF\")) + theme_classic()\n",
    "\n",
    "p1\n",
    "\n",
    "dev.off()"
   ]
  },
  {
   "cell_type": "code",
   "execution_count": 46,
   "metadata": {},
   "outputs": [
    {
     "data": {
      "image/png": "[encoded data removed]",
      "text/plain": [
       "plot without title"
      ]
     },
     "metadata": {
      "image/png": {
       "height": 420,
       "width": 420
      }
     },
     "output_type": "display_data"
    }
   ],
   "source": [
    "# Use position=position_dodge()\n",
    "ggplot(data=df, aes(x=type, y=d, fill=sup)) +\n",
    "geom_bar(stat=\"identity\", position=position_dodge()) + \n",
    "  theme_minimal()"
   ]
  },
  {
   "cell_type": "code",
   "execution_count": null,
   "metadata": {},
   "outputs": [],
   "source": []
  },
  {
   "cell_type": "code",
   "execution_count": null,
   "metadata": {},
   "outputs": [],
   "source": [
    "1 vs 1 \n",
    "8952\n",
    "2244\n",
    "\n",
    "1vs 2 \n",
    "8545\n",
    "2361\n",
    "\n",
    "2 vs 1\n",
    "\n",
    "28302\n",
    "13212\n",
    "\n",
    "2 vs 2 \n",
    "\n",
    "13920\n",
    "3826\n"
   ]
  },
  {
   "cell_type": "code",
   "execution_count": null,
   "metadata": {},
   "outputs": [],
   "source": []
  },
  {
   "cell_type": "code",
   "execution_count": null,
   "metadata": {},
   "outputs": [],
   "source": []
  },
  {
   "cell_type": "code",
   "execution_count": null,
   "metadata": {},
   "outputs": [],
   "source": []
  },
  {
   "cell_type": "code",
   "execution_count": null,
   "metadata": {},
   "outputs": [],
   "source": []
  },
  {
   "cell_type": "code",
   "execution_count": 16,
   "metadata": {},
   "outputs": [
    {
     "data": {
      "text/html": [
       "<table class=\"dataframe\">\n",
       "<caption>A data.frame: 6 × 18</caption>\n",
       "<thead>\n",
       "\t<tr><th></th><th scope=col>seqnames</th><th scope=col>start</th><th scope=col>end</th><th scope=col>width</th><th scope=col>strand</th><th scope=col>score</th><th scope=col>replicateScoreQuantile</th><th scope=col>groupScoreQuantile</th><th scope=col>Reproducibility</th><th scope=col>GroupReplicate</th><th scope=col>distToGeneStart</th><th scope=col>nearestGene</th><th scope=col>peakType</th><th scope=col>distToTSS</th><th scope=col>nearestTSS</th><th scope=col>GC</th><th scope=col>idx</th><th scope=col>N</th></tr>\n",
       "\t<tr><th></th><th scope=col>&lt;fct&gt;</th><th scope=col>&lt;int&gt;</th><th scope=col>&lt;int&gt;</th><th scope=col>&lt;int&gt;</th><th scope=col>&lt;fct&gt;</th><th scope=col>&lt;dbl&gt;</th><th scope=col>&lt;dbl&gt;</th><th scope=col>&lt;dbl&gt;</th><th scope=col>&lt;dbl&gt;</th><th scope=col>&lt;chr&gt;</th><th scope=col>&lt;int&gt;</th><th scope=col>&lt;chr&gt;</th><th scope=col>&lt;chr&gt;</th><th scope=col>&lt;int&gt;</th><th scope=col>&lt;chr&gt;</th><th scope=col>&lt;dbl&gt;</th><th scope=col>&lt;int&gt;</th><th scope=col>&lt;dbl&gt;</th></tr>\n",
       "</thead>\n",
       "<tbody>\n",
       "\t<tr><th scope=row>1</th><td>chr1</td><td>792780</td><td>793280</td><td>501</td><td>*</td><td> 2.23157</td><td>0.316</td><td>0.085</td><td>2</td><td>scATAC_BRCA_C9C8D426_A3FD_4455_89A9_768BC01D66A9_X009_S02_B1_T1._.Rep2</td><td>24340</td><td>FAM87B</td><td>Distal  </td><td>7229</td><td>uc057aum.1</td><td>0.4431</td><td>1</td><td>0</td></tr>\n",
       "\t<tr><th scope=row>2</th><td>chr1</td><td>817103</td><td>817603</td><td>501</td><td>*</td><td> 4.61015</td><td>0.770</td><td>0.471</td><td>2</td><td>scATAC_BRCA_CC102C17_C1CA_427A_8C7D_D3E79748A0CD_X012_S07_B1_T1._.Rep2</td><td>   17</td><td>FAM87B</td><td>Promoter</td><td>  17</td><td>uc057aum.1</td><td>0.4790</td><td>2</td><td>0</td></tr>\n",
       "\t<tr><th scope=row>3</th><td>chr1</td><td>817792</td><td>818292</td><td>501</td><td>*</td><td>13.71580</td><td>0.565</td><td>0.295</td><td>2</td><td>scATAC_BRCA_CB96A542_7AC1_4FEC_A5D2_458D8EEDC6C4_X013_S06_B1_T1._.Rep1</td><td>  670</td><td>FAM87B</td><td>Exonic  </td><td> 670</td><td>uc057aum.1</td><td>0.5349</td><td>3</td><td>0</td></tr>\n",
       "\t<tr><th scope=row>4</th><td>chr1</td><td>818807</td><td>819307</td><td>501</td><td>*</td><td> 3.60163</td><td>0.155</td><td>0.012</td><td>2</td><td>scATAC_RM002_BRST_CC_002_X013_S05_B1_T1._.Rep1                        </td><td> 1685</td><td>FAM87B</td><td>Exonic  </td><td>1685</td><td>uc057aum.1</td><td>0.4890</td><td>4</td><td>0</td></tr>\n",
       "\t<tr><th scope=row>5</th><td>chr1</td><td>819855</td><td>820355</td><td>501</td><td>*</td><td> 3.27537</td><td>0.557</td><td>0.251</td><td>2</td><td>scATAC_BRCA_CB96A542_7AC1_4FEC_A5D2_458D8EEDC6C4_X013_S06_B1_T1._.Rep2</td><td> 2733</td><td>FAM87B</td><td>Distal  </td><td>2733</td><td>uc057aum.1</td><td>0.5409</td><td>5</td><td>0</td></tr>\n",
       "\t<tr><th scope=row>6</th><td>chr1</td><td>820503</td><td>821003</td><td>501</td><td>*</td><td> 2.08553</td><td>0.272</td><td>0.056</td><td>2</td><td>scATAC_BRCA_CB96A542_7AC1_4FEC_A5D2_458D8EEDC6C4_X013_S06_B1_T1._.Rep2</td><td> 3381</td><td>FAM87B</td><td>Distal  </td><td>3381</td><td>uc057aum.1</td><td>0.5589</td><td>6</td><td>0</td></tr>\n",
       "</tbody>\n",
       "</table>\n"
      ],
      "text/latex": [
       "A data.frame: 6 × 18\n",
       "\\begin{tabular}{r|llllllllllllllllll}\n",
       "  & seqnames & start & end & width & strand & score & replicateScoreQuantile & groupScoreQuantile & Reproducibility & GroupReplicate & distToGeneStart & nearestGene & peakType & distToTSS & nearestTSS & GC & idx & N\\\\\n",
       "  & <fct> & <int> & <int> & <int> & <fct> & <dbl> & <dbl> & <dbl> & <dbl> & <chr> & <int> & <chr> & <chr> & <int> & <chr> & <dbl> & <int> & <dbl>\\\\\n",
       "\\hline\n",
       "\t1 & chr1 & 792780 & 793280 & 501 & * &  2.23157 & 0.316 & 0.085 & 2 & scATAC\\_BRCA\\_C9C8D426\\_A3FD\\_4455\\_89A9\\_768BC01D66A9\\_X009\\_S02\\_B1\\_T1.\\_.Rep2 & 24340 & FAM87B & Distal   & 7229 & uc057aum.1 & 0.4431 & 1 & 0\\\\\n",
       "\t2 & chr1 & 817103 & 817603 & 501 & * &  4.61015 & 0.770 & 0.471 & 2 & scATAC\\_BRCA\\_CC102C17\\_C1CA\\_427A\\_8C7D\\_D3E79748A0CD\\_X012\\_S07\\_B1\\_T1.\\_.Rep2 &    17 & FAM87B & Promoter &   17 & uc057aum.1 & 0.4790 & 2 & 0\\\\\n",
       "\t3 & chr1 & 817792 & 818292 & 501 & * & 13.71580 & 0.565 & 0.295 & 2 & scATAC\\_BRCA\\_CB96A542\\_7AC1\\_4FEC\\_A5D2\\_458D8EEDC6C4\\_X013\\_S06\\_B1\\_T1.\\_.Rep1 &   670 & FAM87B & Exonic   &  670 & uc057aum.1 & 0.5349 & 3 & 0\\\\\n",
       "\t4 & chr1 & 818807 & 819307 & 501 & * &  3.60163 & 0.155 & 0.012 & 2 & scATAC\\_RM002\\_BRST\\_CC\\_002\\_X013\\_S05\\_B1\\_T1.\\_.Rep1                         &  1685 & FAM87B & Exonic   & 1685 & uc057aum.1 & 0.4890 & 4 & 0\\\\\n",
       "\t5 & chr1 & 819855 & 820355 & 501 & * &  3.27537 & 0.557 & 0.251 & 2 & scATAC\\_BRCA\\_CB96A542\\_7AC1\\_4FEC\\_A5D2\\_458D8EEDC6C4\\_X013\\_S06\\_B1\\_T1.\\_.Rep2 &  2733 & FAM87B & Distal   & 2733 & uc057aum.1 & 0.5409 & 5 & 0\\\\\n",
       "\t6 & chr1 & 820503 & 821003 & 501 & * &  2.08553 & 0.272 & 0.056 & 2 & scATAC\\_BRCA\\_CB96A542\\_7AC1\\_4FEC\\_A5D2\\_458D8EEDC6C4\\_X013\\_S06\\_B1\\_T1.\\_.Rep2 &  3381 & FAM87B & Distal   & 3381 & uc057aum.1 & 0.5589 & 6 & 0\\\\\n",
       "\\end{tabular}\n"
      ],
      "text/markdown": [
       "\n",
       "A data.frame: 6 × 18\n",
       "\n",
       "| <!--/--> | seqnames &lt;fct&gt; | start &lt;int&gt; | end &lt;int&gt; | width &lt;int&gt; | strand &lt;fct&gt; | score &lt;dbl&gt; | replicateScoreQuantile &lt;dbl&gt; | groupScoreQuantile &lt;dbl&gt; | Reproducibility &lt;dbl&gt; | GroupReplicate &lt;chr&gt; | distToGeneStart &lt;int&gt; | nearestGene &lt;chr&gt; | peakType &lt;chr&gt; | distToTSS &lt;int&gt; | nearestTSS &lt;chr&gt; | GC &lt;dbl&gt; | idx &lt;int&gt; | N &lt;dbl&gt; |\n",
       "|---|---|---|---|---|---|---|---|---|---|---|---|---|---|---|---|---|---|---|\n",
       "| 1 | chr1 | 792780 | 793280 | 501 | * |  2.23157 | 0.316 | 0.085 | 2 | scATAC_BRCA_C9C8D426_A3FD_4455_89A9_768BC01D66A9_X009_S02_B1_T1._.Rep2 | 24340 | FAM87B | Distal   | 7229 | uc057aum.1 | 0.4431 | 1 | 0 |\n",
       "| 2 | chr1 | 817103 | 817603 | 501 | * |  4.61015 | 0.770 | 0.471 | 2 | scATAC_BRCA_CC102C17_C1CA_427A_8C7D_D3E79748A0CD_X012_S07_B1_T1._.Rep2 |    17 | FAM87B | Promoter |   17 | uc057aum.1 | 0.4790 | 2 | 0 |\n",
       "| 3 | chr1 | 817792 | 818292 | 501 | * | 13.71580 | 0.565 | 0.295 | 2 | scATAC_BRCA_CB96A542_7AC1_4FEC_A5D2_458D8EEDC6C4_X013_S06_B1_T1._.Rep1 |   670 | FAM87B | Exonic   |  670 | uc057aum.1 | 0.5349 | 3 | 0 |\n",
       "| 4 | chr1 | 818807 | 819307 | 501 | * |  3.60163 | 0.155 | 0.012 | 2 | scATAC_RM002_BRST_CC_002_X013_S05_B1_T1._.Rep1                         |  1685 | FAM87B | Exonic   | 1685 | uc057aum.1 | 0.4890 | 4 | 0 |\n",
       "| 5 | chr1 | 819855 | 820355 | 501 | * |  3.27537 | 0.557 | 0.251 | 2 | scATAC_BRCA_CB96A542_7AC1_4FEC_A5D2_458D8EEDC6C4_X013_S06_B1_T1._.Rep2 |  2733 | FAM87B | Distal   | 2733 | uc057aum.1 | 0.5409 | 5 | 0 |\n",
       "| 6 | chr1 | 820503 | 821003 | 501 | * |  2.08553 | 0.272 | 0.056 | 2 | scATAC_BRCA_CB96A542_7AC1_4FEC_A5D2_458D8EEDC6C4_X013_S06_B1_T1._.Rep2 |  3381 | FAM87B | Distal   | 3381 | uc057aum.1 | 0.5589 | 6 | 0 |\n",
       "\n"
      ],
      "text/plain": [
       "  seqnames start  end    width strand score    replicateScoreQuantile\n",
       "1 chr1     792780 793280 501   *       2.23157 0.316                 \n",
       "2 chr1     817103 817603 501   *       4.61015 0.770                 \n",
       "3 chr1     817792 818292 501   *      13.71580 0.565                 \n",
       "4 chr1     818807 819307 501   *       3.60163 0.155                 \n",
       "5 chr1     819855 820355 501   *       3.27537 0.557                 \n",
       "6 chr1     820503 821003 501   *       2.08553 0.272                 \n",
       "  groupScoreQuantile Reproducibility\n",
       "1 0.085              2              \n",
       "2 0.471              2              \n",
       "3 0.295              2              \n",
       "4 0.012              2              \n",
       "5 0.251              2              \n",
       "6 0.056              2              \n",
       "  GroupReplicate                                                        \n",
       "1 scATAC_BRCA_C9C8D426_A3FD_4455_89A9_768BC01D66A9_X009_S02_B1_T1._.Rep2\n",
       "2 scATAC_BRCA_CC102C17_C1CA_427A_8C7D_D3E79748A0CD_X012_S07_B1_T1._.Rep2\n",
       "3 scATAC_BRCA_CB96A542_7AC1_4FEC_A5D2_458D8EEDC6C4_X013_S06_B1_T1._.Rep1\n",
       "4 scATAC_RM002_BRST_CC_002_X013_S05_B1_T1._.Rep1                        \n",
       "5 scATAC_BRCA_CB96A542_7AC1_4FEC_A5D2_458D8EEDC6C4_X013_S06_B1_T1._.Rep2\n",
       "6 scATAC_BRCA_CB96A542_7AC1_4FEC_A5D2_458D8EEDC6C4_X013_S06_B1_T1._.Rep2\n",
       "  distToGeneStart nearestGene peakType distToTSS nearestTSS GC     idx N\n",
       "1 24340           FAM87B      Distal   7229      uc057aum.1 0.4431 1   0\n",
       "2    17           FAM87B      Promoter   17      uc057aum.1 0.4790 2   0\n",
       "3   670           FAM87B      Exonic    670      uc057aum.1 0.5349 3   0\n",
       "4  1685           FAM87B      Exonic   1685      uc057aum.1 0.4890 4   0\n",
       "5  2733           FAM87B      Distal   2733      uc057aum.1 0.5409 5   0\n",
       "6  3381           FAM87B      Distal   3381      uc057aum.1 0.5589 6   0"
      ]
     },
     "metadata": {},
     "output_type": "display_data"
    }
   ],
   "source": [
    "peakset<-data.frame(getPeakSet(all_combined))\n",
    "head(peakset)"
   ]
  },
  {
   "cell_type": "code",
   "execution_count": 17,
   "metadata": {},
   "outputs": [
    {
     "data": {
      "text/html": [
       "<style>\n",
       ".list-inline {list-style: none; margin:0; padding: 0}\n",
       ".list-inline>li {display: inline-block}\n",
       ".list-inline>li:not(:last-child)::after {content: \"\\00b7\"; padding: 0 .5ex}\n",
       "</style>\n",
       "<ol class=list-inline><li>122586</li><li>7</li></ol>\n"
      ],
      "text/latex": [
       "\\begin{enumerate*}\n",
       "\\item 122586\n",
       "\\item 7\n",
       "\\end{enumerate*}\n"
      ],
      "text/markdown": [
       "1. 122586\n",
       "2. 7\n",
       "\n",
       "\n"
      ],
      "text/plain": [
       "[1] 122586      7"
      ]
     },
     "metadata": {},
     "output_type": "display_data"
    },
    {
     "data": {
      "text/html": [
       "<style>\n",
       ".list-inline {list-style: none; margin:0; padding: 0}\n",
       ".list-inline>li {display: inline-block}\n",
       ".list-inline>li:not(:last-child)::after {content: \"\\00b7\"; padding: 0 .5ex}\n",
       "</style>\n",
       "<ol class=list-inline><li>506237</li><li>7</li></ol>\n"
      ],
      "text/latex": [
       "\\begin{enumerate*}\n",
       "\\item 506237\n",
       "\\item 7\n",
       "\\end{enumerate*}\n"
      ],
      "text/markdown": [
       "1. 506237\n",
       "2. 7\n",
       "\n",
       "\n"
      ],
      "text/plain": [
       "[1] 506237      7"
      ]
     },
     "metadata": {},
     "output_type": "display_data"
    }
   ],
   "source": [
    "df<-cbind(cbind(cbind(as.character(peakset$seqnames),peakset$start),peakset$end),plotDiff)\n",
    "dim(df[df$type!='not-differential',])\n",
    "dim(df)\n",
    "#head(df)"
   ]
  },
  {
   "cell_type": "code",
   "execution_count": 18,
   "metadata": {},
   "outputs": [
    {
     "data": {
      "text/html": [
       "'scATAC_BRCA_A91AADEA_8299_46D9_A250_76896D690AFD_X006_S02_B1_T1'"
      ],
      "text/latex": [
       "'scATAC\\_BRCA\\_A91AADEA\\_8299\\_46D9\\_A250\\_76896D690AFD\\_X006\\_S02\\_B1\\_T1'"
      ],
      "text/markdown": [
       "'scATAC_BRCA_A91AADEA_8299_46D9_A250_76896D690AFD_X006_S02_B1_T1'"
      ],
      "text/plain": [
       "[1] \"scATAC_BRCA_A91AADEA_8299_46D9_A250_76896D690AFD_X006_S02_B1_T1\""
      ]
     },
     "metadata": {},
     "output_type": "display_data"
    }
   ],
   "source": [
    "sampleName"
   ]
  },
  {
   "cell_type": "code",
   "execution_count": 19,
   "metadata": {},
   "outputs": [],
   "source": [
    "write.table(df[df$type!='not-differential',],\n",
    "'/illumina/scratch/deep_learning/lsundaram/singlecelldatasets/TCGA/Fig4_differentials/scATAC_BRCA_A91AADEA_8299_46D9_A250_76896D690AFD_X006_S02_B1_T1_NN_differential.csv',\n",
    "               quote=FALSE,row.names=FALSE,col.names=FALSE,sep='\\t')\n"
   ]
  },
  {
   "cell_type": "code",
   "execution_count": 20,
   "metadata": {},
   "outputs": [
    {
     "data": {
      "text/html": [
       "<table class=\"dataframe\">\n",
       "<caption>A data.frame: 6 × 7</caption>\n",
       "<thead>\n",
       "\t<tr><th></th><th scope=col>GDC_Aliquot</th><th scope=col>Chromosome</th><th scope=col>Start</th><th scope=col>End</th><th scope=col>Copy_Number</th><th scope=col>Major_Copy_Number</th><th scope=col>Minor_Copy_Number</th></tr>\n",
       "\t<tr><th></th><th scope=col>&lt;chr&gt;</th><th scope=col>&lt;chr&gt;</th><th scope=col>&lt;int&gt;</th><th scope=col>&lt;int&gt;</th><th scope=col>&lt;int&gt;</th><th scope=col>&lt;int&gt;</th><th scope=col>&lt;int&gt;</th></tr>\n",
       "</thead>\n",
       "<tbody>\n",
       "\t<tr><th scope=row>1</th><td>7cd9ac40-f6b5-4c68-9d9a-d57845b812db</td><td>chr1</td><td> 13116</td><td> 89946</td><td>6</td><td>6</td><td>0</td></tr>\n",
       "\t<tr><th scope=row>2</th><td>7cd9ac40-f6b5-4c68-9d9a-d57845b812db</td><td>chr1</td><td> 91515</td><td>586198</td><td>5</td><td>5</td><td>0</td></tr>\n",
       "\t<tr><th scope=row>3</th><td>7cd9ac40-f6b5-4c68-9d9a-d57845b812db</td><td>chr1</td><td>591356</td><td>611267</td><td>4</td><td>4</td><td>0</td></tr>\n",
       "\t<tr><th scope=row>4</th><td>7cd9ac40-f6b5-4c68-9d9a-d57845b812db</td><td>chr1</td><td>629218</td><td>632427</td><td>1</td><td>1</td><td>0</td></tr>\n",
       "\t<tr><th scope=row>5</th><td>7cd9ac40-f6b5-4c68-9d9a-d57845b812db</td><td>chr1</td><td>633714</td><td>635258</td><td>3</td><td>3</td><td>0</td></tr>\n",
       "\t<tr><th scope=row>6</th><td>7cd9ac40-f6b5-4c68-9d9a-d57845b812db</td><td>chr1</td><td>638771</td><td>775930</td><td>6</td><td>6</td><td>0</td></tr>\n",
       "</tbody>\n",
       "</table>\n"
      ],
      "text/latex": [
       "A data.frame: 6 × 7\n",
       "\\begin{tabular}{r|lllllll}\n",
       "  & GDC\\_Aliquot & Chromosome & Start & End & Copy\\_Number & Major\\_Copy\\_Number & Minor\\_Copy\\_Number\\\\\n",
       "  & <chr> & <chr> & <int> & <int> & <int> & <int> & <int>\\\\\n",
       "\\hline\n",
       "\t1 & 7cd9ac40-f6b5-4c68-9d9a-d57845b812db & chr1 &  13116 &  89946 & 6 & 6 & 0\\\\\n",
       "\t2 & 7cd9ac40-f6b5-4c68-9d9a-d57845b812db & chr1 &  91515 & 586198 & 5 & 5 & 0\\\\\n",
       "\t3 & 7cd9ac40-f6b5-4c68-9d9a-d57845b812db & chr1 & 591356 & 611267 & 4 & 4 & 0\\\\\n",
       "\t4 & 7cd9ac40-f6b5-4c68-9d9a-d57845b812db & chr1 & 629218 & 632427 & 1 & 1 & 0\\\\\n",
       "\t5 & 7cd9ac40-f6b5-4c68-9d9a-d57845b812db & chr1 & 633714 & 635258 & 3 & 3 & 0\\\\\n",
       "\t6 & 7cd9ac40-f6b5-4c68-9d9a-d57845b812db & chr1 & 638771 & 775930 & 6 & 6 & 0\\\\\n",
       "\\end{tabular}\n"
      ],
      "text/markdown": [
       "\n",
       "A data.frame: 6 × 7\n",
       "\n",
       "| <!--/--> | GDC_Aliquot &lt;chr&gt; | Chromosome &lt;chr&gt; | Start &lt;int&gt; | End &lt;int&gt; | Copy_Number &lt;int&gt; | Major_Copy_Number &lt;int&gt; | Minor_Copy_Number &lt;int&gt; |\n",
       "|---|---|---|---|---|---|---|---|\n",
       "| 1 | 7cd9ac40-f6b5-4c68-9d9a-d57845b812db | chr1 |  13116 |  89946 | 6 | 6 | 0 |\n",
       "| 2 | 7cd9ac40-f6b5-4c68-9d9a-d57845b812db | chr1 |  91515 | 586198 | 5 | 5 | 0 |\n",
       "| 3 | 7cd9ac40-f6b5-4c68-9d9a-d57845b812db | chr1 | 591356 | 611267 | 4 | 4 | 0 |\n",
       "| 4 | 7cd9ac40-f6b5-4c68-9d9a-d57845b812db | chr1 | 629218 | 632427 | 1 | 1 | 0 |\n",
       "| 5 | 7cd9ac40-f6b5-4c68-9d9a-d57845b812db | chr1 | 633714 | 635258 | 3 | 3 | 0 |\n",
       "| 6 | 7cd9ac40-f6b5-4c68-9d9a-d57845b812db | chr1 | 638771 | 775930 | 6 | 6 | 0 |\n",
       "\n"
      ],
      "text/plain": [
       "  GDC_Aliquot                          Chromosome Start  End    Copy_Number\n",
       "1 7cd9ac40-f6b5-4c68-9d9a-d57845b812db chr1        13116  89946 6          \n",
       "2 7cd9ac40-f6b5-4c68-9d9a-d57845b812db chr1        91515 586198 5          \n",
       "3 7cd9ac40-f6b5-4c68-9d9a-d57845b812db chr1       591356 611267 4          \n",
       "4 7cd9ac40-f6b5-4c68-9d9a-d57845b812db chr1       629218 632427 1          \n",
       "5 7cd9ac40-f6b5-4c68-9d9a-d57845b812db chr1       633714 635258 3          \n",
       "6 7cd9ac40-f6b5-4c68-9d9a-d57845b812db chr1       638771 775930 6          \n",
       "  Major_Copy_Number Minor_Copy_Number\n",
       "1 6                 0                \n",
       "2 5                 0                \n",
       "3 4                 0                \n",
       "4 1                 0                \n",
       "5 3                 0                \n",
       "6 6                 0                "
      ]
     },
     "metadata": {},
     "output_type": "display_data"
    }
   ],
   "source": [
    "cnv_data<-read.csv('/illumina/scratch/deep_learning/lsundaram/singlecelldatasets/TCGA/Synapse/cleaned_AWS/A91AADEA_8299_46D9_A250_76896D690AFD.csv')\n",
    "write.table(cnv_data[c('Chromosome','Start','End','Copy_Number')],\n",
    "            '/illumina/scratch/deep_learning/lsundaram/singlecelldatasets/TCGA/Fig4_differentials/scATAC_BRCA_A91AADEA_8299_46D9_A250_76896D690AFD_X006_S02_B1_T1_NN_cnv.csv',\n",
    "           quote=FALSE,row.names=FALSE,col.names=FALSE,sep='\\t')\n",
    "head(cnv_data)"
   ]
  },
  {
   "cell_type": "code",
   "execution_count": null,
   "metadata": {},
   "outputs": [],
   "source": [
    "bedtools intersect -a scATAC_BRCA_A91AADEA_8299_46D9_A250_76896D690AFD_X006_S02_B1_T1_NN_differential.csv -b scATAC_BRCA_A91AADEA_8299_46D9_A250_76896D690AFD_X006_S02_B1_T1_NN_cnv.csv -wo > scATAC_BRCA_A91AADEA_8299_46D9_A250_76896D690AFD_X006_S02_B1_T1_NN_differential_csv_merged.csv\n",
    "\n",
    "\n",
    "bedtools intersect -a scATAC_BRCA_08499A64_3FD8_4E62_AF08_3C66AF93CAE7_X009_S01_B1_T1_NN_differential.csv -b scATAC_BRCA_08499A64_3FD8_4E62_AF08_3C66AF93CAE7_X009_S01_B1_T1_NN_cnv.csv -wo > scATAC_BRCA_08499A64_3FD8_4E62_AF08_3C66AF93CAE7_X009_S01_B1_T1_NN_differential_csv_merged.csv\n",
    "\n",
    "bedtools intersect -a scATAC_BRCA_14AD76EE_12F9_40B3_8DCD_4A256E02CF8D_X003_S02_B1_T1_NN_differential.csv -b scATAC_BRCA_14AD76EE_12F9_40B3_8DCD_4A256E02CF8D_X003_S02_B1_T1_NN_cnv.csv -wo > scATAC_BRCA_14AD76EE_12F9_40B3_8DCD_4A256E02CF8D_X003_S02_B1_T1_NN_differential_csv_merged.csv\n",
    "\n",
    "bedtools intersect -a scATAC_BRCA_1D939DC3_EF0C_40BF_BC60_8C5D46345265_X004_S02_B1_T1_NN_differential.csv -b scATAC_BRCA_1D939DC3_EF0C_40BF_BC60_8C5D46345265_X004_S02_B1_T1_NN_cnv.csv -wo > scATAC_BRCA_1D939DC3_EF0C_40BF_BC60_8C5D46345265_X004_S02_B1_T1_NN_differential_csv_merged.csv\n",
    "\n",
    "bedtools intersect -a scATAC_BRCA_2A65DC63_F8CC_4EF4_AB23_3F5FD880FB5E_X010_S02_B1_T1_NN_differential.csv -b scATAC_BRCA_2A65DC63_F8CC_4EF4_AB23_3F5FD880FB5E_X010_S02_B1_T1_NN_cnv.csv -wo > scATAC_BRCA_2A65DC63_F8CC_4EF4_AB23_3F5FD880FB5E_X010_S02_B1_T1_NN_differential_csv_merged.csv\n",
    "\n",
    "bedtools intersect -a scATAC_BRCA_5C54B79C_DA02_4B22_9FC2_3D61BFFC5559_X011_S02_B1_T1_NN_differential.csv -b scATAC_BRCA_5C54B79C_DA02_4B22_9FC2_3D61BFFC5559_X011_S02_B1_T1_NN_cnv.csv -wo > scATAC_BRCA_5C54B79C_DA02_4B22_9FC2_3D61BFFC5559_X011_S02_B1_T1_NN_differential_csv_merged.csv\n",
    "\n",
    "bedtools intersect -a scATAC_BRCA_7C6A3AE4_E2EA_42B3_B3F1_81C19E6F2170_X005_S02_B1_T1_NN_differential.csv -b scATAC_BRCA_7C6A3AE4_E2EA_42B3_B3F1_81C19E6F2170_X005_S02_B1_T1_NN_cnv.csv -wo > scATAC_BRCA_7C6A3AE4_E2EA_42B3_B3F1_81C19E6F2170_X005_S02_B1_T1_NN_differential_csv_merged.csv\n",
    "\n",
    "\n",
    "\n"
   ]
  },
  {
   "cell_type": "code",
   "execution_count": null,
   "metadata": {},
   "outputs": [],
   "source": []
  },
  {
   "cell_type": "code",
   "execution_count": null,
   "metadata": {},
   "outputs": [],
   "source": []
  },
  {
   "cell_type": "code",
   "execution_count": null,
   "metadata": {},
   "outputs": [],
   "source": []
  },
  {
   "cell_type": "code",
   "execution_count": null,
   "metadata": {},
   "outputs": [],
   "source": [
    "name_col<-'monocytes'\n",
    "tt<-data.frame(plotDiff$log2FC)\n",
    "names(tt)<-name_col\n",
    "#\n",
    "tt1<-data.frame(plotDiff$FDR)\n",
    "names(tt1)<-name_col\n",
    "#\n",
    "tt2<-data.frame(plotDiff$log2Mean)\n",
    "names(tt2)<-name_col"
   ]
  },
  {
   "cell_type": "code",
   "execution_count": null,
   "metadata": {
    "scrolled": true
   },
   "outputs": [],
   "source": [
    "enrich_se <- SummarizedExperiment(assays =  SimpleList(Log2FC = tt, FDR=tt1, log2Mean=tt2 ) )\n",
    "rowData(enrich_se)<-data.frame(getPeakSet(all_combined))[c('seqnames','idx','start','end')]\n",
    "metadata(enrich_se)$Params$useMatrix<-\"PeakMatrix\"\n",
    "motifsUp <- peakAnnoEnrichment(\n",
    "    seMarker = enrich_se,\n",
    "    ArchRProj = all_combined,\n",
    "    peakAnnotation = \"Motif\",\n",
    "    cutOff = \"Log2FC >= 0.5 & FDR <= 0.1\" \n",
    " )\n",
    "\n",
    "\n",
    "motifsDo <- peakAnnoEnrichment(\n",
    "    seMarker = enrich_se,\n",
    "    ArchRProj = all_combined,\n",
    "    peakAnnotation = \"Motif\",\n",
    "    cutOff = \"FDR <= 0.1 & Log2FC <= -0.5\" \n",
    " )\n",
    "\n"
   ]
  },
  {
   "cell_type": "code",
   "execution_count": null,
   "metadata": {},
   "outputs": [],
   "source": [
    "#\n",
    "df_up <- data.frame(TF = rownames(motifsUp), mlog10Padj = assay(motifsUp)[,1])\n",
    "df_up <- df_up[order(df_up$mlog10Padj, decreasing = TRUE),]\n",
    "df_up$rank <- seq_len(nrow(df_up))\n",
    "#\n",
    "df_down <- data.frame(TF = rownames(motifsDo), mlog10Padj = assay(motifsDo)[,1])\n",
    "df_down <- df_down[order(df_down$mlog10Padj, decreasing = TRUE),]\n",
    "df_down$rank <- seq_len(nrow(df_down))"
   ]
  },
  {
   "cell_type": "code",
   "execution_count": null,
   "metadata": {},
   "outputs": [],
   "source": [
    "#tcELLS\n",
    "wt_1_plotdiff<-plotDiff\n",
    "wt_1_up<-df_up\n",
    "wt_1_down<-df_down"
   ]
  },
  {
   "cell_type": "code",
   "execution_count": null,
   "metadata": {},
   "outputs": [],
   "source": [
    "head(wt_1_up)"
   ]
  },
  {
   "cell_type": "code",
   "execution_count": null,
   "metadata": {},
   "outputs": [],
   "source": [
    "#bcells\n",
    "mt_1_plotdiff<-plotDiff\n",
    "mt_1_up<-df_up\n",
    "mt_1_down<-df_down"
   ]
  },
  {
   "cell_type": "code",
   "execution_count": null,
   "metadata": {},
   "outputs": [],
   "source": [
    "#monocytes\n",
    "wt_2_plotdiff<-plotDiff\n",
    "wt_2_up<-df_up\n",
    "wt_2_down<-df_down"
   ]
  },
  {
   "cell_type": "code",
   "execution_count": null,
   "metadata": {},
   "outputs": [],
   "source": [
    "#CC102C17\n",
    "mt_2_plotdiff<-plotDiff\n",
    "mt_2_up<-df_up\n",
    "mt_2_down<-df_down"
   ]
  },
  {
   "cell_type": "code",
   "execution_count": null,
   "metadata": {},
   "outputs": [],
   "source": [
    "wt_3_plotdiff<-plotDiff\n",
    "wt_3_up<-df_up\n",
    "wt_3_down<-df_down"
   ]
  },
  {
   "cell_type": "code",
   "execution_count": null,
   "metadata": {},
   "outputs": [],
   "source": [
    "mt_3_plotdiff<-plotDiff\n",
    "mt_3_up<-df_up\n",
    "mt_3_down<-df_down"
   ]
  },
  {
   "cell_type": "code",
   "execution_count": null,
   "metadata": {},
   "outputs": [],
   "source": [
    "wt_4_plotdiff<-plotDiff\n",
    "wt_4_up<-df_up\n",
    "wt_4_down<-df_down"
   ]
  },
  {
   "cell_type": "code",
   "execution_count": null,
   "metadata": {},
   "outputs": [],
   "source": [
    "mt_4_plotdiff<-plotDiff\n",
    "mt_4_up<-df_up\n",
    "mt_4_down<-df_down"
   ]
  },
  {
   "cell_type": "code",
   "execution_count": null,
   "metadata": {},
   "outputs": [],
   "source": [
    "wt_5_plotdiff<-plotDiff\n",
    "wt_5_up<-df_up\n",
    "wt_5_down<-df_down"
   ]
  },
  {
   "cell_type": "code",
   "execution_count": null,
   "metadata": {},
   "outputs": [],
   "source": [
    "a<-wt_1_up\n",
    "b<-wt_2_up\n",
    "c<-mt_1_up\n",
    "\n",
    "names(a)<-c('TF','basal_1_fdr_up','basal_1_rank_up')\n",
    "names(b)<-c('TF','basal_2_fdr_up','basal_2_rank_up')\n",
    "names(c)<-c('TF','basal_3_fdr_up','basal_3_rank_up')\n",
    "\n",
    "\n",
    "j<-wt_1_down\n",
    "k<-wt_2_down\n",
    "l<-mt_1_down\n",
    "\n",
    "names(j)<-c('TF','basal_1_fdr_down','basal_1_rank_down')\n",
    "names(k)<-c('TF','basal_2_fdr_down','basal_2_rank_down')\n",
    "names(l)<-c('TF','basal_3_fdr_down','basal_3_rank_down')\n",
    "\n",
    "\n",
    "\n",
    "\n"
   ]
  },
  {
   "cell_type": "code",
   "execution_count": null,
   "metadata": {},
   "outputs": [],
   "source": [
    "a<-wt_1_up\n",
    "b<-wt_2_up\n",
    "c<-wt_3_up\n",
    "d<-wt_4_up\n",
    "#e<-wt_5_up\n",
    "#f<-mt_1_up\n",
    "#g<-mt_2_up\n",
    "#h<-mt_3_up\n",
    "#i<-mt_4_up\n",
    "names(a)<-c('TF','basal_1_fdr_up','basal_1_rank_up')\n",
    "names(b)<-c('TF','basal_2_fdr_up','basal_2_rank_up')\n",
    "names(c)<-c('TF','basal_3_fdr_up','basal_3_rank_up')\n",
    "#names(d)<-c('TF','basal_4_fdr_up','basal_4_rank_up')\n",
    "names(e)<-c('TF','basal_5_fdr_up','basal_5_rank_up')\n",
    "names(f)<-c('TF','basal_6_fdr_up','basal_6_rank_up')\n",
    "names(g)<-c('TF','basal_7_fdr_up','basal_7_rank_up')\n",
    "names(h)<-c('TF','basal_8_fdr_up','basal_8_rank_up')\n",
    "names(i)<-c('TF','basal_9_fdr_up','basal_9_rank_up')\n",
    "\n",
    "j<-wt_1_down\n",
    "k<-wt_2_down\n",
    "l<-wt_3_down\n",
    "m<-wt_4_down\n",
    "n<-wt_5_down\n",
    "o<-mt_1_down\n",
    "p<-mt_2_down\n",
    "q<-mt_3_down\n",
    "r<-mt_4_down\n",
    "\n",
    "names(j)<-c('TF','basal_1_fdr_down','basal_1_rank_down')\n",
    "names(k)<-c('TF','basal_2_fdr_down','basal_2_rank_down')\n",
    "names(l)<-c('TF','basal_3_fdr_down','basal_3_rank_down')\n",
    "names(m)<-c('TF','basal_4_fdr_down','basal_4_rank_down')\n",
    "names(n)<-c('TF','basal_5_fdr_down','basal_5_rank_down')\n",
    "names(o)<-c('TF','basal_6_fdr_down','basal_6_rank_down')\n",
    "names(p)<-c('TF','basal_7_fdr_down','basal_7_rank_down')\n",
    "names(q)<-c('TF','basal_8_fdr_down','basal_8_rank_down')\n",
    "names(r)<-c('TF','basal_9_fdr_down','basal_9_rank_down')\n",
    "\n",
    "\n",
    "\n"
   ]
  },
  {
   "cell_type": "code",
   "execution_count": null,
   "metadata": {},
   "outputs": [],
   "source": [
    "dim(temp)"
   ]
  },
  {
   "cell_type": "code",
   "execution_count": null,
   "metadata": {},
   "outputs": [],
   "source": [
    "temp<-merge(a,b,on='TF')\n",
    "temp<-merge(temp,c,on='TF')\n",
    "temp<-merge(temp,j,on='TF')\n",
    "temp<-merge(temp,k,on='TF')\n",
    "temp<-merge(temp,l,on='TF')"
   ]
  },
  {
   "cell_type": "code",
   "execution_count": null,
   "metadata": {},
   "outputs": [],
   "source": [
    "temp<-merge(a,b,on='TF')\n",
    "temp<-merge(temp,c,on='TF')\n",
    "temp<-merge(temp,d,on='TF')\n",
    "temp<-merge(temp,e,on='TF')\n",
    "temp<-merge(temp,f,on='TF')\n",
    "temp<-merge(temp,g,on='TF')\n",
    "temp<-merge(temp,h,on='TF')\n",
    "temp<-merge(temp,i,on='TF')\n",
    "temp<-merge(temp,j,on='TF')\n",
    "temp<-merge(temp,k,on='TF')\n",
    "temp<-merge(temp,l,on='TF')\n",
    "temp<-merge(temp,m,on='TF')\n",
    "temp<-merge(temp,n,on='TF')\n",
    "temp<-merge(temp,o,on='TF')\n",
    "temp<-merge(temp,p,on='TF')\n",
    "temp<-merge(temp,q,on='TF')\n",
    "temp<-merge(temp,r,on='TF')\n",
    "\n"
   ]
  },
  {
   "cell_type": "code",
   "execution_count": null,
   "metadata": {},
   "outputs": [],
   "source": [
    "head(temp)"
   ]
  },
  {
   "cell_type": "code",
   "execution_count": null,
   "metadata": {},
   "outputs": [],
   "source": [
    "#write.csv(temp,'/illumina/scratch/deep_learning/lsundaram/single_cell_datasets/cardiomyogenesis/all_tf_nearestneighbours_enrichments.csv',\n",
    "#         row.names=FALSE,quote=FALSE)"
   ]
  },
  {
   "cell_type": "code",
   "execution_count": null,
   "metadata": {},
   "outputs": [],
   "source": [
    "#filtering based on ranking in all pairs top 25 ranks\n",
    "temp1<-temp[ ((temp$basal_1_rank_up<20) | (temp$basal_2_rank_up<20) | (temp$basal_3_rank_up<20) | \n",
    "             (temp$basal_1_rank_down<20) | (temp$basal_2_rank_down<20) | (temp$basal_3_rank_down<20)) ,]\n"
   ]
  },
  {
   "cell_type": "code",
   "execution_count": null,
   "metadata": {},
   "outputs": [],
   "source": [
    "#filtering based on ranking in all pairs top 25 ranks\n",
    "temp1<-temp[ ((temp$basal_1_rank_up<15) | (temp$basal_2_rank_up<15) | (temp$basal_3_rank_up<15) | (temp$basal_4_rank_up<15) | (temp$basal_5_rank_up<15)| (temp$basal_6_rank_up<15) | (temp$basal_7_rank_up<15)| (temp$basal_8_rank_up<15)| (temp$basal_9_rank_up<15) | \n",
    "              (temp$basal_1_rank_down<15) | (temp$basal_2_rank_down<15) | (temp$basal_3_rank_down<15) | (temp$basal_4_rank_down<15) | (temp$basal_5_rank_down<15)| (temp$basal_6_rank_down<15) | (temp$basal_7_rank_down<15)| (temp$basal_8_rank_down<15)| (temp$basal_9_rank_down<15) \n",
    "              ) ,]\n"
   ]
  },
  {
   "cell_type": "code",
   "execution_count": null,
   "metadata": {},
   "outputs": [],
   "source": [
    "head(temp)\n",
    "dim(temp1)"
   ]
  },
  {
   "cell_type": "code",
   "execution_count": null,
   "metadata": {},
   "outputs": [],
   "source": [
    "#choosing an fdr threshold instead \n",
    "#5.2 is 10 ^ -2\n",
    "#not doing this for now \n",
    "\"\"\"\n",
    "temp1<-temp[ ((temp$vcm_fdr_up>5.2) | (temp$pvcm_fdr_up>5.2) | (temp$ec_fdr_up>5.2) | (temp$smc_fdr_up>5.2) | \n",
    "             (temp$epc_fdr_up>5.2) | (temp$cf_fdr_up>5.2) | (temp$vcm_fdr_down>5.2) | (temp$pvcm_fdr_down>5.2) | \n",
    "              (temp$ec_fdr_down>5.2) | (temp$smc_fdr_down>5.2) | \n",
    "             (temp$epc_fdr_down>5.2) | (temp$cf_fdr_down>5.2)) ,]\n",
    "\n",
    "dim(temp1)\n",
    "\"\"\""
   ]
  },
  {
   "cell_type": "code",
   "execution_count": null,
   "metadata": {},
   "outputs": [],
   "source": [
    "head(temp1[temp1$TF %like% 'TCF',])\n",
    "\n",
    "#temp1$basal_1_fdr_down<--temp1$basal_1_fdr_down\n",
    "#temp1$basal_2_fdr_down<--temp1$basal_2_fdr_down\n",
    "#temp1$basal_3_fdr_down<--temp1$basal_3_fdr_down\n",
    "#temp1$basal_4_fdr_down<--temp1$basal_4_fdr_down\n"
   ]
  },
  {
   "cell_type": "code",
   "execution_count": null,
   "metadata": {},
   "outputs": [],
   "source": [
    "#htmap<-temp1[c('vcm_fdr_up','pvcm_fdr_up','ec_fdr_up','smc_fdr_up','cf_fdr_up','epc_fdr_up',\n",
    "#              'vcm_fdr_down','pvcm_fdr_down','ec_fdr_down','smc_fdr_down','cf_fdr_down','epc_fdr_down')]\n",
    "#rownames(htmap)<-temp1$TF\n",
    "#htmap<-htmap[complete.cases(htmap),]\n",
    "#tail(htmap)"
   ]
  },
  {
   "cell_type": "code",
   "execution_count": null,
   "metadata": {},
   "outputs": [],
   "source": [
    "temp1$sum<-temp1$basal_1_fdr_up+temp1$basal_2_fdr_up+temp1$basal_3_fdr_up\n",
    "temp1$down_sum<-temp1$basal_1_fdr_down+temp1$basal_2_fdr_down+temp1$basal_3_fdr_down\n",
    "\n"
   ]
  },
  {
   "cell_type": "code",
   "execution_count": null,
   "metadata": {},
   "outputs": [],
   "source": [
    "temp1$sum<-temp1$basal_1_fdr_up+temp1$basal_2_fdr_up+temp1$basal_3_fdr_up+temp1$basal_4_fdr_up+temp1$basal_5_fdr_up+temp1$basal_6_fdr_up+temp1$basal_7_fdr_up+temp1$basal_8_fdr_up+temp1$basal_9_fdr_up\n"
   ]
  },
  {
   "cell_type": "code",
   "execution_count": null,
   "metadata": {},
   "outputs": [],
   "source": [
    "temp1$down_sum<-temp1$basal_1_fdr_down+temp1$basal_2_fdr_down+temp1$basal_3_fdr_down+temp1$basal_4_fdr_down+temp1$basal_5_fdr_down+temp1$basal_6_fdr_down+temp1$basal_7_fdr_down+temp1$basal_8_fdr_down+temp1$basal_9_fdr_down\n"
   ]
  },
  {
   "cell_type": "code",
   "execution_count": null,
   "metadata": {},
   "outputs": [],
   "source": [
    "palOut<-c('#000075' ,'#032789', '#064E9E' ,'#0B71AE' ,'#168EB6', '#21ABBD' ,'#4DC5CD', '#8ADDE1', '#C8F6F5', \n",
    "          '#DCF9F8', '#F1FCFC','#FFFFFF' ,'#FDDF86' ,'#FBC72B' ,'#FBBF25' ,'#FBBF49', \n",
    "          '#FCBF6E', '#F9A654', '#F68D3B' ,'#F37327' ,'#F3561D' ,'#F23912' ,'#D52A0E', '#AA210D', '#7F180D')\n",
    "\n",
    "\n"
   ]
  },
  {
   "cell_type": "code",
   "execution_count": null,
   "metadata": {},
   "outputs": [],
   "source": [
    "head(temp1)"
   ]
  },
  {
   "cell_type": "code",
   "execution_count": null,
   "metadata": {},
   "outputs": [],
   "source": [
    "unique(proj_all_invitro_peaks$cleaned_sample1)"
   ]
  },
  {
   "cell_type": "code",
   "execution_count": null,
   "metadata": {},
   "outputs": [],
   "source": [
    "#htmap<-temp1[c('vcm_fdr_up','pvcm_fdr_up','ec_fdr_up','smc_fdr_up','cf_fdr_up','epc_fdr_up')]\n",
    "#htmap<-temp1[(temp1$sum!=0),c('basal_1_fdr_up','basal_2_fdr_up','basal_3_fdr_up','basal_4_fdr_up','basal_5_fdr_up','basal_6_fdr_up','basal_7_fdr_up','basal_8_fdr_up','basal_9_fdr_up')]\n",
    "htmap<-temp1[(temp1$sum!=0),c('basal_1_fdr_up','basal_2_fdr_up','basal_3_fdr_up')]\n",
    "rownames(htmap)<-temp1[(temp1$sum!=0.0),'TF']\n",
    "htmap<-htmap[complete.cases(htmap),]\n",
    "#colnames(htmap)<-c('WT1','MT2','WT4','WT5','MT4','WT3','MT3','WT2','MT1')\n",
    "#colnames(htmap)<-c('s1','s2','s3')\n",
    "tail(htmap)\n",
    "palOut<-c('#FFFFFF' ,'#FDDF86' ,'#FBC72B' ,'#FBBF25' ,'#FBBF49', \n",
    "          '#FCBF6E', '#F9A654', '#F68D3B' ,'#F37327' ,'#F3561D' ,'#F23912' ,'#D52A0E', '#AA210D', '#7F180D')\n",
    "\n",
    "#pal = paletteContinuous(c(\"5\"=\"white\",\"2\"=\"#2488F0\",\"4\"=\"#7F3F98\",\"3\"=\"#E22929\",\"1\"=\"#FCB31A\"), n = 100) \n",
    "pal<-palOut\n",
    "n = 10\n",
    "cutOff = 20\n",
    "pMax = Inf \n",
    "clusterCols = TRUE \n",
    "binaryClusterRows = TRUE\n",
    "labelRows = TRUE\n",
    "rastr = FALSE \n",
    "transpose = FALSE \n",
    "returnMatrix = FALSE\n",
    "borderColor <- TRUE\n",
    "a<-.ArchRHeatmap(mat = as.matrix(htmap), scale = FALSE, \n",
    "                limits = c(min(htmap), max(htmap)), color = pal, clusterCols = TRUE, \n",
    "                clusterRows = TRUE, labelRows = TRUE, useRaster = rastr, \n",
    "                fontSizeCols = 6, borderColor = borderColor, \n",
    "                customColLabel = seq_len(ncol(htmap)), showRowDendrogram = FALSE, \n",
    "                draw = FALSE, name = \"Norm. Enrichment -log10(P-adj) [0-Max]\")\n",
    "\n",
    "\n"
   ]
  },
  {
   "cell_type": "code",
   "execution_count": null,
   "metadata": {},
   "outputs": [],
   "source": [
    "plotPDF(a, name = \"immune_motif_heatmap_up_endothelium\", width = 5, height = 12, ArchRProj = all_combined, addDOC = FALSE)"
   ]
  },
  {
   "cell_type": "code",
   "execution_count": null,
   "metadata": {},
   "outputs": [],
   "source": [
    "all_combined"
   ]
  },
  {
   "cell_type": "code",
   "execution_count": null,
   "metadata": {},
   "outputs": [],
   "source": [
    "#htmap<-temp1[(temp1$down_sum!=0),c('basal_1_fdr_down','basal_2_fdr_down','basal_3_fdr_down','basal_4_fdr_down','basal_5_fdr_down','basal_6_fdr_down','basal_7_fdr_down','basal_8_fdr_down','basal_9_fdr_down')]\n",
    "htmap<-temp1[(temp1$down_sum!=0),c('basal_1_fdr_down','basal_2_fdr_down','basal_3_fdr_down')]\n",
    "rownames(htmap)<-temp1[(temp1$down_sum!=0.0),'TF']\n",
    "htmap<-htmap[complete.cases(htmap),]\n",
    "#colnames(htmap)<-c('WT1','MT2','WT4','WT5','MT4','WT3','MT3','WT2','MT1')\n",
    "tail(htmap)\n",
    "\n",
    "palOut<-c('#F1FCFC','#DCF9F8','#C8F6F5','#8ADDE1','#4DC5CD','#21ABBD','#168EB6','#0B71AE','#064E9E','#032789',\n",
    "          '#000075')\n",
    "\n",
    "#pal = paletteContinuous(c(\"5\"=\"white\",\"2\"=\"#2488F0\",\"4\"=\"#7F3F98\",\"3\"=\"#E22929\",\"1\"=\"#FCB31A\"), n = 100) \n",
    "pal<-palOut\n",
    "n = 10\n",
    "cutOff = 20\n",
    "pMax = Inf \n",
    "clusterCols = TRUE \n",
    "binaryClusterRows = TRUE\n",
    "labelRows = TRUE\n",
    "rastr = FALSE \n",
    "transpose = FALSE \n",
    "returnMatrix = FALSE\n",
    "borderColor <- TRUE\n",
    "a<-.ArchRHeatmap(mat = as.matrix(htmap), scale = FALSE, \n",
    "                limits = c(min(htmap), max(htmap)), color = pal, clusterCols = TRUE, \n",
    "                clusterRows = TRUE, labelRows = TRUE, useRaster = rastr, \n",
    "                fontSizeCols = 6, borderColor = borderColor, \n",
    "                customColLabel = seq_len(ncol(htmap)), showRowDendrogram = FALSE, \n",
    "                draw = FALSE, name = \"Norm. Enrichment -log10(P-adj) [0-Max]\")\n",
    "\n",
    "plotPDF(a, name = \"immune_motif_heatmap_down_endothelium\", width = 5, height = 12, ArchRProj = all_combined, addDOC = FALSE)\n"
   ]
  },
  {
   "cell_type": "code",
   "execution_count": null,
   "metadata": {},
   "outputs": [],
   "source": []
  },
  {
   "cell_type": "code",
   "execution_count": null,
   "metadata": {},
   "outputs": [],
   "source": []
  },
  {
   "cell_type": "code",
   "execution_count": null,
   "metadata": {},
   "outputs": [],
   "source": []
  },
  {
   "cell_type": "code",
   "execution_count": null,
   "metadata": {},
   "outputs": [],
   "source": []
  }
 ],
 "metadata": {
  "kernelspec": {
   "display_name": "R",
   "language": "R",
   "name": "ir"
  },
  "language_info": {
   "codemirror_mode": "r",
   "file_extension": ".r",
   "mimetype": "text/x-r-source",
   "name": "R",
   "pygments_lexer": "r",
   "version": "4.0.5"
  }
 },
 "nbformat": 4,
 "nbformat_minor": 4
}
