{
 "cells": [
  {
   "cell_type": "markdown",
   "id": "87147943-9ba1-4873-bbbc-c373309a8290",
   "metadata": {},
   "source": [
    "# Compute enrichments of motif families in different cancer types / samples\n"
   ]
  },
  {
   "cell_type": "code",
   "execution_count": null,
   "id": "c2e40da9-a0b3-4ab4-90d7-0849b8d6d4f8",
   "metadata": {
    "scrolled": false
   },
   "outputs": [],
   "source": [
    "%matplotlib inline\n",
    "from seq2atac.stable import read_pickle\n",
    "from helper_utils import viz_compare_enrich, chi2ovr"
   ]
  },
  {
   "cell_type": "markdown",
   "id": "2f6e4f67-b7b8-4efc-a7ef-2334f3f0cc1f",
   "metadata": {},
   "source": [
    "## Individual BRCA samples"
   ]
  },
  {
   "cell_type": "code",
   "execution_count": 2,
   "id": "8388a698",
   "metadata": {},
   "outputs": [],
   "source": [
    "cleaned_motifs_brca = 'cleaned_instances_brca.pkl' ### TODO"
   ]
  },
  {
   "cell_type": "code",
   "execution_count": 3,
   "id": "c8aba3c5-b149-47d5-ad5b-2d0f61b36a04",
   "metadata": {
    "scrolled": true
   },
   "outputs": [
    {
     "data": {
      "text/plain": [
       "{'brca10': 'luminal.10',\n",
       " 'brca12': 'luminal.12',\n",
       " 'brca15': 'luminal.15',\n",
       " 'brca20': 'luminal.20',\n",
       " 'brca22': 'luminal.22',\n",
       " 'brca14': 'basal.14',\n",
       " 'brca16': 'basal.16',\n",
       " 'brca23': 'basal.23',\n",
       " 'brca24': 'basal.24',\n",
       " 'brca25': 'basal.25',\n",
       " 'brca11': 'her2.11',\n",
       " 'brca13': 'her2.13',\n",
       " 'brca17': 'her2.17',\n",
       " 'brca18': 'her2.18',\n",
       " 'brca19': 'her2.19',\n",
       " 'brca21': 'her2.21'}"
      ]
     },
     "execution_count": 3,
     "metadata": {},
     "output_type": "execute_result"
    }
   ],
   "source": [
    "# specify groups\n",
    "\n",
    "groups = {'luminal': ['brca{}'.format(n) for n in ['10', '12', '15', '20', '22', ]],\n",
    "          'basal': ['brca{}'.format(n) for n in ['14', '16', '23', '24', '25', ]],\n",
    "          'her2': ['brca{}'.format(n) for n in ['11', '13', '17', '18', '19', '21', ]]}\n",
    "\n",
    "sample2grp = {}\n",
    "for k, v in groups.items():\n",
    "    for s in v:\n",
    "        sample2grp[s] = '{}.{}'.format(k, s.split('brca')[-1])\n",
    "sample2grp"
   ]
  },
  {
   "cell_type": "code",
   "execution_count": 4,
   "id": "9bab37f4",
   "metadata": {},
   "outputs": [
    {
     "name": "stdout",
     "output_type": "stream",
     "text": [
      "data merged into one df in 34-s\n",
      "through brca10. time elapsed: 35-s\n",
      "through brca11. time elapsed: 35-s\n",
      "through brca12. time elapsed: 35-s\n",
      "through brca13. time elapsed: 35-s\n",
      "through brca14. time elapsed: 35-s\n",
      "through brca15. time elapsed: 35-s\n",
      "through brca16. time elapsed: 35-s\n",
      "through brca17. time elapsed: 35-s\n",
      "through brca18. time elapsed: 35-s\n",
      "through brca19. time elapsed: 35-s\n",
      "through brca20. time elapsed: 35-s\n",
      "through brca21. time elapsed: 36-s\n",
      "through brca22. time elapsed: 36-s\n",
      "through brca23. time elapsed: 36-s\n",
      "through brca24. time elapsed: 36-s\n",
      "through brca25. time elapsed: 36-s\n",
      "n_tst: 4512\n",
      "pct significant: 66.40\n"
     ]
    }
   ],
   "source": [
    "## 2. enrichment test\n",
    "enrich_df = read_pickle(cleaned_motifs_brca)\n",
    "enrich_out = chi2ovr(\n",
    "    data=enrich_df,\n",
    "    groups=None,\n",
    "    notB_key='end_cnt_before', \n",
    "    B_key='end_cnt_after',\n",
    "    return_df=True,\n",
    "    verbose=True,\n",
    "    name_key='modified_names',\n",
    "    )\n",
    "print('pct significant: {:.2f}'.format(100*(enrich_out['p_bonferonni'] < 0.5).sum()/enrich_out.shape[0]))"
   ]
  },
  {
   "cell_type": "code",
   "execution_count": 5,
   "id": "c0f71fcd",
   "metadata": {
    "scrolled": true
   },
   "outputs": [
    {
     "data": {
      "text/html": [
       "<div>\n",
       "<style scoped>\n",
       "    .dataframe tbody tr th:only-of-type {\n",
       "        vertical-align: middle;\n",
       "    }\n",
       "\n",
       "    .dataframe tbody tr th {\n",
       "        vertical-align: top;\n",
       "    }\n",
       "\n",
       "    .dataframe thead th {\n",
       "        text-align: right;\n",
       "    }\n",
       "</style>\n",
       "<table border=\"1\" class=\"dataframe\">\n",
       "  <thead>\n",
       "    <tr style=\"text-align: right;\">\n",
       "      <th></th>\n",
       "      <th>modified_names</th>\n",
       "      <th>p_chi2</th>\n",
       "      <th>OR</th>\n",
       "      <th>sample</th>\n",
       "      <th>p_bonferonni</th>\n",
       "      <th>sample2</th>\n",
       "    </tr>\n",
       "  </thead>\n",
       "  <tbody>\n",
       "    <tr>\n",
       "      <th>0</th>\n",
       "      <td>FOX/4</td>\n",
       "      <td>0.000000e+00</td>\n",
       "      <td>1.286587</td>\n",
       "      <td>brca10</td>\n",
       "      <td>0.000000e+00</td>\n",
       "      <td>luminal.10</td>\n",
       "    </tr>\n",
       "    <tr>\n",
       "      <th>1</th>\n",
       "      <td>FOX/5</td>\n",
       "      <td>0.000000e+00</td>\n",
       "      <td>1.281843</td>\n",
       "      <td>brca10</td>\n",
       "      <td>0.000000e+00</td>\n",
       "      <td>luminal.10</td>\n",
       "    </tr>\n",
       "    <tr>\n",
       "      <th>2</th>\n",
       "      <td>GC-tract</td>\n",
       "      <td>0.000000e+00</td>\n",
       "      <td>0.926368</td>\n",
       "      <td>brca10</td>\n",
       "      <td>0.000000e+00</td>\n",
       "      <td>luminal.10</td>\n",
       "    </tr>\n",
       "    <tr>\n",
       "      <th>3</th>\n",
       "      <td>CCAAT/CEBP</td>\n",
       "      <td>0.000000e+00</td>\n",
       "      <td>0.506255</td>\n",
       "      <td>brca10</td>\n",
       "      <td>0.000000e+00</td>\n",
       "      <td>luminal.10</td>\n",
       "    </tr>\n",
       "    <tr>\n",
       "      <th>4</th>\n",
       "      <td>KLF/SP/2</td>\n",
       "      <td>1.050775e-311</td>\n",
       "      <td>0.938397</td>\n",
       "      <td>brca10</td>\n",
       "      <td>4.741096e-308</td>\n",
       "      <td>luminal.10</td>\n",
       "    </tr>\n",
       "    <tr>\n",
       "      <th>...</th>\n",
       "      <td>...</td>\n",
       "      <td>...</td>\n",
       "      <td>...</td>\n",
       "      <td>...</td>\n",
       "      <td>...</td>\n",
       "      <td>...</td>\n",
       "    </tr>\n",
       "    <tr>\n",
       "      <th>811</th>\n",
       "      <td>CREB/ATF/1</td>\n",
       "      <td>5.841132e-06</td>\n",
       "      <td>1.047281</td>\n",
       "      <td>brca25</td>\n",
       "      <td>2.635519e-02</td>\n",
       "      <td>basal.25</td>\n",
       "    </tr>\n",
       "    <tr>\n",
       "      <th>812</th>\n",
       "      <td>SMAD</td>\n",
       "      <td>5.937564e-06</td>\n",
       "      <td>0.976011</td>\n",
       "      <td>brca25</td>\n",
       "      <td>2.679029e-02</td>\n",
       "      <td>basal.25</td>\n",
       "    </tr>\n",
       "    <tr>\n",
       "      <th>813</th>\n",
       "      <td>ETS/1</td>\n",
       "      <td>1.391125e-03</td>\n",
       "      <td>0.981970</td>\n",
       "      <td>brca25</td>\n",
       "      <td>6.276755e+00</td>\n",
       "      <td>basal.25</td>\n",
       "    </tr>\n",
       "    <tr>\n",
       "      <th>814</th>\n",
       "      <td>IRF/1</td>\n",
       "      <td>1.058550e-01</td>\n",
       "      <td>1.018667</td>\n",
       "      <td>brca25</td>\n",
       "      <td>4.776176e+02</td>\n",
       "      <td>basal.25</td>\n",
       "    </tr>\n",
       "    <tr>\n",
       "      <th>815</th>\n",
       "      <td>SOX/1</td>\n",
       "      <td>6.006049e-01</td>\n",
       "      <td>1.004038</td>\n",
       "      <td>brca25</td>\n",
       "      <td>2.709929e+03</td>\n",
       "      <td>basal.25</td>\n",
       "    </tr>\n",
       "  </tbody>\n",
       "</table>\n",
       "<p>816 rows × 6 columns</p>\n",
       "</div>"
      ],
      "text/plain": [
       "    modified_names         p_chi2        OR  sample   p_bonferonni     sample2\n",
       "0            FOX/4   0.000000e+00  1.286587  brca10   0.000000e+00  luminal.10\n",
       "1            FOX/5   0.000000e+00  1.281843  brca10   0.000000e+00  luminal.10\n",
       "2         GC-tract   0.000000e+00  0.926368  brca10   0.000000e+00  luminal.10\n",
       "3       CCAAT/CEBP   0.000000e+00  0.506255  brca10   0.000000e+00  luminal.10\n",
       "4         KLF/SP/2  1.050775e-311  0.938397  brca10  4.741096e-308  luminal.10\n",
       "..             ...            ...       ...     ...            ...         ...\n",
       "811     CREB/ATF/1   5.841132e-06  1.047281  brca25   2.635519e-02    basal.25\n",
       "812           SMAD   5.937564e-06  0.976011  brca25   2.679029e-02    basal.25\n",
       "813          ETS/1   1.391125e-03  0.981970  brca25   6.276755e+00    basal.25\n",
       "814          IRF/1   1.058550e-01  1.018667  brca25   4.776176e+02    basal.25\n",
       "815          SOX/1   6.006049e-01  1.004038  brca25   2.709929e+03    basal.25\n",
       "\n",
       "[816 rows x 6 columns]"
      ]
     },
     "execution_count": 5,
     "metadata": {},
     "output_type": "execute_result"
    }
   ],
   "source": [
    "## 3. visualize\n",
    "agg = viz_compare_enrich(enrich_out, name_key='modified_names', drop_duplicates_key='modified_names', names2display=sample2grp)\n",
    "agg"
   ]
  },
  {
   "cell_type": "code",
   "execution_count": 6,
   "id": "1012754c",
   "metadata": {
    "scrolled": false
   },
   "outputs": [
    {
     "data": {
      "image/png": "[encoded data removed]",
      "text/plain": [
       "<Figure size 720x720 with 4 Axes>"
      ]
     },
     "metadata": {
      "needs_background": "light"
     },
     "output_type": "display_data"
    }
   ],
   "source": [
    "grid ={'zscore': ['rowcol',],\n",
    "       'topn': [20],\n",
    "       'drop': ['ZNF']}\n",
    "\n",
    "\n",
    "zscore_type = 'rowcol'\n",
    "n = 20\n",
    "drop_motif = 'ZNF'\n",
    "\n",
    "agg, p, dt = viz_compare_enrich(\n",
    "    enrich_out, \n",
    "    name_key='modified_names', \n",
    "    drop_duplicates_key='modified_names', \n",
    "    names2display=sample2grp,\n",
    "    topn=n,\n",
    "    drop=drop_motif,\n",
    "    zscore=zscore_type,\n",
    "    save_plot=None,\n",
    "    save_mat=None,\n",
    "    return_plot_obj=True,\n",
    ")\n",
    "\n"
   ]
  },
  {
   "cell_type": "code",
   "execution_count": 7,
   "id": "9929c21d",
   "metadata": {
    "scrolled": true
   },
   "outputs": [
    {
     "name": "stdout",
     "output_type": "stream",
     "text": [
      "[12, 21, 57, 20, 18, 17, 19, 46, 52, 47, 44, 45, 13, 14, 15, 16, 74, 75, 54, 76, 56, 36, 49, 53, 34, 48, 61, 30, 80, 51, 70, 9, 8, 22, 31, 55, 78, 77, 7, 79, 60, 41, 40, 42, 1, 0, 2, 33, 72, 67, 65, 73, 35, 32, 66, 68, 59, 27, 64, 43, 25, 26, 71, 69, 10, 11, 23, 62, 29, 63, 28, 58, 38, 37, 39, 3, 6, 4, 5, 24, 50]\n",
      "[7, 8, 11, 5, 14, 15, 12, 13, 9, 6, 10, 0, 1, 4, 2, 3]\n",
      "Index(['EVI1/MECOM', 'GATA', 'POU/1', 'FOX/6', 'FOX/4', 'FOX/3', 'FOX/5',\n",
      "       'NR/12', 'NR/7', 'NR/16', 'NR/1', 'NR/11', 'Ebox/CACGTG/1',\n",
      "       'Ebox/CACGTG/2', 'Ebox/CAGATGG', 'Ebox/CAGCTG', 'TFAP2/1', 'TFAP2/2',\n",
      "       'P53-like/1', 'TFCP2', 'PLAG1', 'MZF1', 'NR/19', 'NRF1', 'MBD2',\n",
      "       'NR/18', 'RFX/1', 'KLF/SP/1', 'ZIC/2', 'NR/3', 'SREBF1', 'EGR', 'E2F/2',\n",
      "       'GC-tract', 'KLF/SP/2', 'PAX/2', 'ZFX', 'ZBTB7A', 'CTCF', 'ZIC',\n",
      "       'REL-halfsite', 'NFKB/2', 'NFKB/1', 'NFKB/3', 'AP1/2', 'AP1/1', 'BATF',\n",
      "       'MAF', 'TBX/4', 'SOX/3', 'SMARCA5', 'TEAD', 'MEF2', 'LEF1', 'SOX/1',\n",
      "       'SOX/4', 'RBPJ', 'HIC/1', 'SMAD', 'NFY', 'HD/18', 'HD/2', 'STAT/2',\n",
      "       'SPI', 'ETS/1', 'ETS/2', 'GFI', 'RUNX/1', 'IRF/2', 'SIX/1', 'IRF/1',\n",
      "       'PRDM1', 'NFI/2', 'NFI/1', 'NFI/3', 'CCAAT/CEBP', 'CREB/ATF/3',\n",
      "       'CREB/ATF/1', 'CREB/ATF/2', 'GRHL', 'NR/20'],\n",
      "      dtype='object', name='modified_names')\n",
      "Index(['her2.17', 'her2.18', 'luminal.10', 'her2.11', 'luminal.20',\n",
      "       'luminal.22', 'luminal.12', 'luminal.15', 'her2.19', 'her2.13',\n",
      "       'her2.21', 'basal.14', 'basal.16', 'basal.25', 'basal.23', 'basal.24'],\n",
      "      dtype='object', name='sample2')\n"
     ]
    }
   ],
   "source": [
    "print(p.dendrogram_row.reordered_ind)\n",
    "print(p.dendrogram_col.reordered_ind)\n",
    "print(dt[\"df_plot\"].index[p.dendrogram_row.reordered_ind])\n",
    "print(dt[\"df_plot\"].columns[p.dendrogram_col.reordered_ind])"
   ]
  },
  {
   "cell_type": "markdown",
   "id": "ee7d60bf-699d-4852-8db7-62d1a8c8d707",
   "metadata": {},
   "source": [
    "# Cancer samples"
   ]
  },
  {
   "cell_type": "code",
   "execution_count": 8,
   "id": "dd0c35ab",
   "metadata": {},
   "outputs": [],
   "source": [
    "cleaned_motifs_cancer = \"cleaned_instances_cancer.pkl\" ### TODO\n"
   ]
  },
  {
   "cell_type": "code",
   "execution_count": 10,
   "id": "8b415e82",
   "metadata": {},
   "outputs": [
    {
     "name": "stdout",
     "output_type": "stream",
     "text": [
      "data merged into one df in 56-s\n",
      "through brca. time elapsed: 56-s\n",
      "through gbm. time elapsed: 56-s\n",
      "through coad. time elapsed: 56-s\n",
      "through luad. time elapsed: 56-s\n",
      "through skcm. time elapsed: 57-s\n",
      "through kirp. time elapsed: 57-s\n",
      "through kirc. time elapsed: 57-s\n",
      "through blca. time elapsed: 57-s\n",
      "n_tst: 2256\n",
      "pct significant: 79.83\n"
     ]
    }
   ],
   "source": [
    "## 2. enrichment test\n",
    "enrich_df = read_pickle(cleaned_motifs_cancer)\n",
    "enrich_out = chi2ovr(\n",
    "    data=enrich_df,\n",
    "    groups=None,\n",
    "    notB_key='end_cnt_before', \n",
    "    B_key='end_cnt_after',\n",
    "    return_df=True,\n",
    "    verbose=True,\n",
    "    name_key='modified_names',\n",
    "    )\n",
    "print('pct significant: {:.2f}'.format(100*(enrich_out['p_bonferonni'] < 0.5).sum()/enrich_out.shape[0]))\n",
    "\n",
    "        "
   ]
  },
  {
   "cell_type": "code",
   "execution_count": 11,
   "id": "f362ddcd",
   "metadata": {
    "scrolled": true
   },
   "outputs": [
    {
     "data": {
      "text/html": [
       "<div>\n",
       "<style scoped>\n",
       "    .dataframe tbody tr th:only-of-type {\n",
       "        vertical-align: middle;\n",
       "    }\n",
       "\n",
       "    .dataframe tbody tr th {\n",
       "        vertical-align: top;\n",
       "    }\n",
       "\n",
       "    .dataframe thead th {\n",
       "        text-align: right;\n",
       "    }\n",
       "</style>\n",
       "<table border=\"1\" class=\"dataframe\">\n",
       "  <thead>\n",
       "    <tr style=\"text-align: right;\">\n",
       "      <th></th>\n",
       "      <th>modified_names</th>\n",
       "      <th>p_chi2</th>\n",
       "      <th>OR</th>\n",
       "      <th>sample</th>\n",
       "      <th>p_bonferonni</th>\n",
       "    </tr>\n",
       "  </thead>\n",
       "  <tbody>\n",
       "    <tr>\n",
       "      <th>0</th>\n",
       "      <td>P53-like/1</td>\n",
       "      <td>0.000000e+00</td>\n",
       "      <td>1.691950</td>\n",
       "      <td>blca</td>\n",
       "      <td>0.000000</td>\n",
       "    </tr>\n",
       "    <tr>\n",
       "      <th>1</th>\n",
       "      <td>GRHL</td>\n",
       "      <td>0.000000e+00</td>\n",
       "      <td>1.683910</td>\n",
       "      <td>blca</td>\n",
       "      <td>0.000000</td>\n",
       "    </tr>\n",
       "    <tr>\n",
       "      <th>2</th>\n",
       "      <td>TFCP2</td>\n",
       "      <td>0.000000e+00</td>\n",
       "      <td>1.375563</td>\n",
       "      <td>blca</td>\n",
       "      <td>0.000000</td>\n",
       "    </tr>\n",
       "    <tr>\n",
       "      <th>3</th>\n",
       "      <td>ETS/1</td>\n",
       "      <td>0.000000e+00</td>\n",
       "      <td>1.260021</td>\n",
       "      <td>blca</td>\n",
       "      <td>0.000000</td>\n",
       "    </tr>\n",
       "    <tr>\n",
       "      <th>4</th>\n",
       "      <td>SPI</td>\n",
       "      <td>0.000000e+00</td>\n",
       "      <td>1.231284</td>\n",
       "      <td>blca</td>\n",
       "      <td>0.000000</td>\n",
       "    </tr>\n",
       "    <tr>\n",
       "      <th>...</th>\n",
       "      <td>...</td>\n",
       "      <td>...</td>\n",
       "      <td>...</td>\n",
       "      <td>...</td>\n",
       "      <td>...</td>\n",
       "    </tr>\n",
       "    <tr>\n",
       "      <th>459</th>\n",
       "      <td>HD/17</td>\n",
       "      <td>1.101986e-07</td>\n",
       "      <td>0.939755</td>\n",
       "      <td>skcm</td>\n",
       "      <td>0.000249</td>\n",
       "    </tr>\n",
       "    <tr>\n",
       "      <th>460</th>\n",
       "      <td>HD/18</td>\n",
       "      <td>1.452420e-07</td>\n",
       "      <td>0.973936</td>\n",
       "      <td>skcm</td>\n",
       "      <td>0.000328</td>\n",
       "    </tr>\n",
       "    <tr>\n",
       "      <th>461</th>\n",
       "      <td>MAF</td>\n",
       "      <td>1.873430e-02</td>\n",
       "      <td>1.010803</td>\n",
       "      <td>skcm</td>\n",
       "      <td>42.264591</td>\n",
       "    </tr>\n",
       "    <tr>\n",
       "      <th>462</th>\n",
       "      <td>TEAD</td>\n",
       "      <td>9.746056e-02</td>\n",
       "      <td>0.990847</td>\n",
       "      <td>skcm</td>\n",
       "      <td>219.871023</td>\n",
       "    </tr>\n",
       "    <tr>\n",
       "      <th>463</th>\n",
       "      <td>HD/21</td>\n",
       "      <td>9.114929e-01</td>\n",
       "      <td>0.998374</td>\n",
       "      <td>skcm</td>\n",
       "      <td>2056.327925</td>\n",
       "    </tr>\n",
       "  </tbody>\n",
       "</table>\n",
       "<p>464 rows × 5 columns</p>\n",
       "</div>"
      ],
      "text/plain": [
       "    modified_names        p_chi2        OR sample  p_bonferonni\n",
       "0       P53-like/1  0.000000e+00  1.691950   blca      0.000000\n",
       "1             GRHL  0.000000e+00  1.683910   blca      0.000000\n",
       "2            TFCP2  0.000000e+00  1.375563   blca      0.000000\n",
       "3            ETS/1  0.000000e+00  1.260021   blca      0.000000\n",
       "4              SPI  0.000000e+00  1.231284   blca      0.000000\n",
       "..             ...           ...       ...    ...           ...\n",
       "459          HD/17  1.101986e-07  0.939755   skcm      0.000249\n",
       "460          HD/18  1.452420e-07  0.973936   skcm      0.000328\n",
       "461            MAF  1.873430e-02  1.010803   skcm     42.264591\n",
       "462           TEAD  9.746056e-02  0.990847   skcm    219.871023\n",
       "463          HD/21  9.114929e-01  0.998374   skcm   2056.327925\n",
       "\n",
       "[464 rows x 5 columns]"
      ]
     },
     "execution_count": 11,
     "metadata": {},
     "output_type": "execute_result"
    }
   ],
   "source": [
    "## 3. visualize\n",
    "agg = viz_compare_enrich(enrich_out, name_key='modified_names', drop_duplicates_key='modified_names')\n",
    "agg"
   ]
  },
  {
   "cell_type": "code",
   "execution_count": 12,
   "id": "8cd62660",
   "metadata": {
    "scrolled": true
   },
   "outputs": [
    {
     "data": {
      "image/png": "[encoded data removed]",
      "text/plain": [
       "<Figure size 720x720 with 4 Axes>"
      ]
     },
     "metadata": {
      "needs_background": "light"
     },
     "output_type": "display_data"
    }
   ],
   "source": [
    "zscore_type = 'rowcol'\n",
    "n = 20\n",
    "drop_motif = 'ZNF'\n",
    "\n",
    "agg, p, dt = viz_compare_enrich(\n",
    "    enrich_out, \n",
    "    name_key='modified_names', \n",
    "    drop_duplicates_key='modified_names', \n",
    "    names2display=None,\n",
    "    topn=n,\n",
    "    drop=drop_motif,\n",
    "    zscore=zscore_type,\n",
    "    save_plot=None,\n",
    "    save_mat=None,\n",
    "    return_plot_obj=True,\n",
    ")\n"
   ]
  },
  {
   "cell_type": "code",
   "execution_count": 13,
   "id": "f500bd41",
   "metadata": {},
   "outputs": [
    {
     "name": "stdout",
     "output_type": "stream",
     "text": [
      "[53, 48, 55, 52, 49, 50, 51, 29, 47, 58, 24, 59, 77, 82, 0, 1, 4, 40, 7, 60, 78, 79, 65, 12, 13, 22, 69, 16, 61, 41, 43, 54, 68, 70, 45, 44, 46, 34, 66, 64, 62, 63, 42, 56, 14, 15, 11, 33, 2, 32, 30, 31, 5, 81, 8, 21, 38, 6, 37, 67, 83, 35, 10, 9, 71, 75, 73, 74, 20, 76, 26, 25, 27, 3, 28, 36, 39, 72, 57, 80, 23, 19, 17, 18]\n",
      "[2, 0, 6, 4, 5, 3, 1, 7]\n",
      "Index(['NR/2', 'NR/1', 'NR/3', 'NR/16', 'NR/11', 'NR/12', 'NR/13', 'HD/2',\n",
      "       'NFKB/1', 'PAX/1', 'HD/10', 'PAX/2', 'TEAD', 'ZIC', 'AP1/1', 'AP1/2',\n",
      "       'CREB/ATF/1', 'MAF', 'EBF1', 'PRDM16', 'TFAP2/1', 'TFAP2/2', 'RUNX/1',\n",
      "       'Ebox/CACGTG/1', 'Ebox/CACGTG/2', 'GFI', 'SOX/3', 'Ebox/CATATG', 'RBPJ',\n",
      "       'MEF2', 'NFAT/2', 'NR/20', 'SOX/1', 'SOX/4', 'NFI/2', 'NFI/1', 'NFI/3',\n",
      "       'HIC/1', 'SMAD', 'RFX/3', 'RFX/1', 'RFX/2', 'MYB/5', 'OSR2',\n",
      "       'Ebox/CAGATGG', 'Ebox/CAGCTG', 'Ebox/CACCTG', 'HEN1', 'CCAAT/CEBP',\n",
      "       'HD/4', 'HD/21', 'HD/22', 'CTCF', 'ZFX', 'EGR', 'GC-tract', 'KLF/SP/2',\n",
      "       'E2F/2', 'KLF/SP/1', 'SNAI2', 'ZIC/2', 'IRF/1', 'ETS/2', 'ETS/1', 'SPI',\n",
      "       'TBX/4', 'TBX/2', 'TBX/3', 'GATA', 'TCF/LEF', 'HD/14', 'HD/13', 'HD/17',\n",
      "       'CPEB1', 'HD/18', 'IRF/2', 'LEF1', 'TATA', 'P53-like/1', 'TFCP2',\n",
      "       'GRHL', 'FOX/6', 'FOX/4', 'FOX/5'],\n",
      "      dtype='object', name='modified_names')\n",
      "Index(['coad', 'blca', 'luad', 'kirc', 'kirp', 'gbm', 'brca', 'skcm'], dtype='object', name='sample')\n"
     ]
    }
   ],
   "source": [
    "print(p.dendrogram_row.reordered_ind)\n",
    "print(p.dendrogram_col.reordered_ind)\n",
    "print(dt[\"df_plot\"].index[p.dendrogram_row.reordered_ind])\n",
    "print(dt[\"df_plot\"].columns[p.dendrogram_col.reordered_ind])"
   ]
  },
  {
   "cell_type": "code",
   "execution_count": null,
   "id": "a71b08f0",
   "metadata": {},
   "outputs": [],
   "source": []
  }
 ],
 "metadata": {
  "kernelspec": {
   "display_name": "Python 3 (ipykernel)",
   "language": "python",
   "name": "python3"
  },
  "language_info": {
   "codemirror_mode": {
    "name": "ipython",
    "version": 3
   },
   "file_extension": ".py",
   "mimetype": "text/x-python",
   "name": "python",
   "nbconvert_exporter": "python",
   "pygments_lexer": "ipython3",
   "version": "3.10.4"
  }
 },
 "nbformat": 4,
 "nbformat_minor": 5
}
