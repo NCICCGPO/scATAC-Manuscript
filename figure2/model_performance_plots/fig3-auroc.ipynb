{
 "cells": [
  {
   "cell_type": "code",
   "execution_count": 1,
   "id": "2b907d5f",
   "metadata": {},
   "outputs": [],
   "source": [
    "### Version checks\n",
    "import numpy as np\n",
    "import glob\n",
    "\n",
    "from pyfaidx import Fasta\n",
    "fasta_seq=Fasta('/illumina/scratch/deep_learning/lsundaram/singlecelldatasets/TCGA/GRCh38_no_alt_analysis_set_GCA_000001405.15.fasta')\n",
    "\n",
    "import pandas as pd\n",
    "import os\n",
    "import matplotlib.pyplot as plt\n",
    "import scipy.stats\n",
    "from pybedtools import BedTool"
   ]
  },
  {
   "cell_type": "code",
   "execution_count": 2,
   "id": "68e2a2ef",
   "metadata": {
    "scrolled": true
   },
   "outputs": [
    {
     "name": "stdout",
     "output_type": "stream",
     "text": [
      "GBM39_cloneA\n",
      "0 0.8884417594840766\n",
      "1 0.8738123585235223\n",
      "2 0.8491710005456086\n",
      "3 0.9051566092514188\n",
      "4 0.7580595434631539\n",
      "0.8549282542535561\n",
      "[0.8884417594840766, 0.8738123585235223, 0.8491710005456086, 0.9051566092514188, 0.7580595434631539]\n",
      "GBM39_cloneB\n",
      "0 0.915497985421588\n",
      "1 0.9130430781471709\n",
      "2 0.9212047365438145\n",
      "3 0.9156200799502853\n",
      "4 0.9266649158219791\n",
      "0.9184061591769674\n",
      "[0.915497985421588, 0.9130430781471709, 0.9212047365438145, 0.9156200799502853, 0.9266649158219791]\n",
      "GBM45_cloneA\n",
      "0 0.8249839781891513\n",
      "1 0.8911955685681052\n",
      "2 0.863970323118015\n",
      "3 0.9052152413783197\n",
      "4 0.8022700057214801\n",
      "0.8575270233950143\n",
      "[0.8249839781891513, 0.8911955685681052, 0.863970323118015, 0.9052152413783197, 0.8022700057214801]\n",
      "GBM45_cloneB\n",
      "0 0.8879019424504706\n",
      "1 0.8859514830392804\n",
      "2 0.7435829019976625\n",
      "2 0.8791931236116974\n",
      "3 0.811064013086171\n",
      "4 0.8572341221327895\n",
      "0.8642689368640818\n",
      "[0.8879019424504706, 0.8859514830392804, 0.8791931236116974, 0.811064013086171, 0.8572341221327895]\n"
     ]
    },
    {
     "data": {
      "text/html": [
       "<div>\n",
       "<style scoped>\n",
       "    .dataframe tbody tr th:only-of-type {\n",
       "        vertical-align: middle;\n",
       "    }\n",
       "\n",
       "    .dataframe tbody tr th {\n",
       "        vertical-align: top;\n",
       "    }\n",
       "\n",
       "    .dataframe thead th {\n",
       "        text-align: right;\n",
       "    }\n",
       "</style>\n",
       "<table border=\"1\" class=\"dataframe\">\n",
       "  <thead>\n",
       "    <tr style=\"text-align: right;\">\n",
       "      <th></th>\n",
       "      <th>AuROC</th>\n",
       "      <th>AuPRC</th>\n",
       "    </tr>\n",
       "  </thead>\n",
       "  <tbody>\n",
       "    <tr>\n",
       "      <th>GBM39_cloneA</th>\n",
       "      <td>0.854928</td>\n",
       "      <td>0.849411</td>\n",
       "    </tr>\n",
       "    <tr>\n",
       "      <th>GBM39_cloneB</th>\n",
       "      <td>0.918406</td>\n",
       "      <td>0.916317</td>\n",
       "    </tr>\n",
       "    <tr>\n",
       "      <th>GBM45_cloneA</th>\n",
       "      <td>0.857527</td>\n",
       "      <td>0.837014</td>\n",
       "    </tr>\n",
       "    <tr>\n",
       "      <th>GBM45_cloneB</th>\n",
       "      <td>0.864269</td>\n",
       "      <td>0.852807</td>\n",
       "    </tr>\n",
       "  </tbody>\n",
       "</table>\n",
       "</div>"
      ],
      "text/plain": [
       "                 AuROC     AuPRC\n",
       "GBM39_cloneA  0.854928  0.849411\n",
       "GBM39_cloneB  0.918406  0.916317\n",
       "GBM45_cloneA  0.857527  0.837014\n",
       "GBM45_cloneB  0.864269  0.852807"
      ]
     },
     "execution_count": 2,
     "metadata": {},
     "output_type": "execute_result"
    }
   ],
   "source": [
    "import re\n",
    "df = pd.DataFrame()\n",
    "df_auroc = pd.DataFrame()\n",
    "outdir = \"/illumina/scratch/deep_learning/akumar22/TCGA/models_250_1364_minibatch_prejitter/gbm_subclone/\"\n",
    "cancer_to_auroc = {}\n",
    "for cancer_name in [\"GBM39_cloneA\",\"GBM39_cloneB\",\"GBM45_cloneA\",\"GBM45_cloneB\"]:\n",
    "    print(cancer_name)\n",
    "    avg_auroc= []\n",
    "    avg_auprc = []\n",
    "    for fold in range(5):\n",
    "        \n",
    "        logfile = f\"{outdir}/{cancer_name}/fold_{fold}/{cancer_name}_prejitter_fold{fold}.txt\"\n",
    "        with open(logfile,\"r\") as f:\n",
    "            filter1 = re.compile(\"AUROC\")\n",
    "            filter2 = re.compile(\"AUPRC\")\n",
    "            auroc = 0.0 \n",
    "            for line in f.readlines(): ### get the last occurrence                                   \n",
    "                if filter1.match(line): \n",
    "                    auroc = float(re.findall(\"\\d+\\.\\d+\", line)[0])\n",
    "                    print(fold,auroc)\n",
    "                if filter2.match(line): \n",
    "                    auprc = float(re.findall(\"\\d+\\.\\d+\", line)[0])\n",
    "            avg_auprc.append(auprc)\n",
    "            avg_auroc.append(auroc)   \n",
    "            \n",
    "            df_auroc.loc[fold,cancer_name] = auroc\n",
    "\n",
    "    assert len(avg_auroc) == 5\n",
    "    print(np.mean(avg_auroc))\n",
    "    print(avg_auroc)\n",
    "    cancer_to_auroc[cancer_name] = np.mean(avg_auroc)\n",
    "    df.loc[cancer_name,\"AuROC\"] = np.mean(avg_auroc)\n",
    "    df.loc[cancer_name,\"AuPRC\"] = np.mean(np.mean(avg_auprc))\n",
    "\n",
    "df\n",
    "    "
   ]
  },
  {
   "cell_type": "code",
   "execution_count": 3,
   "id": "45f57a02",
   "metadata": {},
   "outputs": [],
   "source": [
    "df_auroc.to_excel(\"auroc_gbmsubclone.xlsx\",index=None)"
   ]
  },
  {
   "cell_type": "code",
   "execution_count": 3,
   "id": "a380544d",
   "metadata": {},
   "outputs": [
    {
     "data": {
      "image/png": "[encoded data removed]",
      "text/plain": [
       "<Figure size 432x288 with 1 Axes>"
      ]
     },
     "metadata": {
      "needs_background": "light"
     },
     "output_type": "display_data"
    }
   ],
   "source": [
    "import matplotlib\n",
    "plt.rcParams[\"figure.figsize\"]=20,10\n",
    "matplotlib.rcParams['pdf.fonttype']=42\n",
    "fig,ax=plt.subplots()\n",
    "df_auroc.boxplot(ax=ax)\n",
    "ax.set_title(\"auroc\")\n",
    "ax.set_xticks(ax.get_xticks(),rotation=90)\n",
    "ax.grid(False)\n",
    "ax.set_ylim(0.5,1.0)\n",
    "fig.savefig(f'auroc_gbm.pdf',dpi=1200)\n",
    "plt.show()"
   ]
  }
 ],
 "metadata": {
  "kernelspec": {
   "display_name": "Python 3 (ipykernel)",
   "language": "python",
   "name": "python3"
  },
  "language_info": {
   "codemirror_mode": {
    "name": "ipython",
    "version": 3
   },
   "file_extension": ".py",
   "mimetype": "text/x-python",
   "name": "python",
   "nbconvert_exporter": "python",
   "pygments_lexer": "ipython3",
   "version": "3.10.4"
  }
 },
 "nbformat": 4,
 "nbformat_minor": 5
}
