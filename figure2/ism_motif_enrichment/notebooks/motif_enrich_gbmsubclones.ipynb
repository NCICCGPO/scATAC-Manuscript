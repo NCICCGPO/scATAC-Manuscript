{
 "cells": [
  {
   "cell_type": "markdown",
   "id": "87147943-9ba1-4873-bbbc-c373309a8290",
   "metadata": {},
   "source": [
    "# motif enrichment comparisons\n",
    "\n",
    "## summary\n",
    "\n",
    "- want to see what motifs are enriched by combining shap contribution and ISM approahces (union)\n",
    "- want to compare what is enriched in one group relative to background \n",
    "\n",
    "## analysis overview\n",
    "\n",
    "### subclones\n",
    "\n",
    "- "
   ]
  },
  {
   "cell_type": "code",
   "execution_count": null,
   "id": "c2e40da9-a0b3-4ab4-90d7-0849b8d6d4f8",
   "metadata": {},
   "outputs": [],
   "source": [
    "%matplotlib inline\n",
    "\n",
    "import os\n",
    "import numpy as np\n",
    "import pandas as pd\n",
    "from scipy import stats\n",
    "import datetime\n",
    "import time\n",
    "import sys\n",
    "sys.path.append('./')\n",
    "from reg_diffs.scripts import evalism_v22 as evalism \n",
    "from reg_diffs.scripts.analysis import motif_enrichment_cmp as mtfcmp\n",
    "from reg_diffs.scripts import utils as regutils\n",
    "import glob\n",
    "import pickle\n",
    "\n",
    "import matplotlib.pyplot as plt\n",
    "import seaborn as sns\n",
    "\n",
    "from scipy.stats import chi2_contingency\n",
    "\n",
    "import re\n",
    "import pybedtools\n",
    "import scipy\n",
    "\n",
    "from sklearn.linear_model import LinearRegression\n",
    "from adjustText import adjust_text\n",
    "from scipy.stats import spearmanr\n",
    "\n",
    "import scanpy as sc"
   ]
  },
  {
   "cell_type": "markdown",
   "id": "2f6e4f67-b7b8-4efc-a7ef-2334f3f0cc1f",
   "metadata": {},
   "source": [
    "## GBM 39\n",
    "\n",
    "### cmp btw subclones\n",
    "\n",
    "* clone A\n",
    "* clone B"
   ]
  },
  {
   "cell_type": "code",
   "execution_count": null,
   "id": "ac4cd3ba-dbd6-4782-a6a9-dff450d5f3e9",
   "metadata": {},
   "outputs": [],
   "source": [
    "cleaned_motif_file = './results/reg_diffs/ismshap_gbm_subclone_vierstrav1.pkl'\n",
    "data = regutils.load_from_pickle(cleaned_motif_file)"
   ]
  },
  {
   "cell_type": "code",
   "execution_count": null,
   "id": "c8aba3c5-b149-47d5-ad5b-2d0f61b36a04",
   "metadata": {},
   "outputs": [],
   "source": [
    "# # specify groups\n",
    "\n",
    "# groups = {'luminal': ['brca{}'.format(n) for n in ['10', '12', '15', '20', '22', ]],\n",
    "#           'basal': ['brca{}'.format(n) for n in ['14', '16', '23', '24', '25', ]],\n",
    "#           'her2': ['brca{}'.format(n) for n in ['11', '13', '17', '18', '19', '21', ]]}\n",
    "\n",
    "# sample2grp = {}\n",
    "# for k, v in groups.items():\n",
    "#     for s in v:\n",
    "#         sample2grp[s] = '{}.{}'.format(k, s.split('brca')[-1])\n",
    "# sample2grp"
   ]
  },
  {
   "cell_type": "markdown",
   "id": "4e20a981-bdcf-4b1a-ab1a-7329f7c3415c",
   "metadata": {},
   "source": [
    "# names\n",
    "\n",
    "Need to modify motif names for simplicity"
   ]
  },
  {
   "cell_type": "code",
   "execution_count": null,
   "id": "2957ec95-2b60-4a32-b0de-6f3ff482baec",
   "metadata": {},
   "outputs": [],
   "source": [
    "load = True"
   ]
  },
  {
   "cell_type": "code",
   "execution_count": null,
   "id": "ddc71dd9-6ac3-4464-9aa2-d0c0d6e4568e",
   "metadata": {},
   "outputs": [],
   "source": [
    "# get names\n",
    "names = []\n",
    "for k in data.keys():\n",
    "    names += data[k]['group_name'].unique().tolist()\n",
    "    names = list(np.unique(names))"
   ]
  },
  {
   "cell_type": "code",
   "execution_count": null,
   "id": "55f96e93-8df9-43e7-a786-17d18c1946e4",
   "metadata": {},
   "outputs": [],
   "source": [
    "len(names)"
   ]
  },
  {
   "cell_type": "code",
   "execution_count": null,
   "id": "ebb60a27-96cb-4a10-a234-57530443d286",
   "metadata": {},
   "outputs": [],
   "source": [
    "# make keys of middle part, sort, if first 3 letters are shared \n",
    "name_keys = {} \n",
    "for name in names:\n",
    "    s = name.split('/')\n",
    "    s.sort()\n",
    "    if len(s) > 2:\n",
    "        print('Problem? See:', s, 'as:', '/'.join(s[1:]))\n",
    "        s = s[1:]\n",
    "    if (len(s) > 1 and s[0][:3] == s[1][:3]) or (len(s) == 1): # first 3 letters, take only first element or manual rename\n",
    "        if (re.search('....\\d', s[0]) or s[0][:4] in ['CTCF', 'GATA', ]) and 'ZNF' not in s[0][:4]: \n",
    "            s = [s[0][:4]]\n",
    "        else:\n",
    "            s = [s[0][:3]]\n",
    "    elif len(s) == 2 and re.search('^\\d', s[0]):\n",
    "        s = [s[1]]\n",
    "    name_keys[name] = '/'.join(s)\n",
    "\n",
    "# remap the solos to existing ones"
   ]
  },
  {
   "cell_type": "code",
   "execution_count": null,
   "id": "ea09eaba-407c-419d-9aa2-c6a1820f0068",
   "metadata": {},
   "outputs": [],
   "source": [
    "len(list(np.unique(list(name_keys.values()))))"
   ]
  },
  {
   "cell_type": "markdown",
   "id": "44a5cc6d-e83c-495e-811e-f13398ce1d78",
   "metadata": {},
   "source": [
    "### transfer name keys"
   ]
  },
  {
   "cell_type": "code",
   "execution_count": null,
   "id": "9160c685-97a6-4d55-aae1-d9c6194d0675",
   "metadata": {},
   "outputs": [],
   "source": [
    "# add name keys\n",
    "data['GBM39_cloneA']['modified_names'] = data['GBM39_cloneA']['group_name'].map(name_keys)\n",
    "data['GBM39_cloneB']['modified_names'] = data['GBM39_cloneB']['group_name'].map(name_keys)\n",
    "data['GBM45_cloneA']['modified_names'] = data['GBM45_cloneA']['group_name'].map(name_keys)\n",
    "data['GBM45_cloneB']['modified_names'] = data['GBM45_cloneB']['group_name'].map(name_keys)\n",
    "\n",
    "# split into two clones\n",
    "gbm39 = {'cloneA': data['GBM39_cloneA'],\n",
    "         'cloneB': data['GBM39_cloneB']}\n",
    "gbm45 = {'cloneA': data['GBM45_cloneA'],\n",
    "         'cloneB': data['GBM45_cloneB']}"
   ]
  },
  {
   "cell_type": "markdown",
   "id": "d310084c-43fc-4ca2-b98e-be847c66564a",
   "metadata": {},
   "source": [
    "# GBM 39"
   ]
  },
  {
   "cell_type": "code",
   "execution_count": null,
   "id": "d4611f85-a9cd-420a-808b-bce4cf927a59",
   "metadata": {},
   "outputs": [],
   "source": [
    "export = False\n",
    "load = False"
   ]
  },
  {
   "cell_type": "code",
   "execution_count": null,
   "id": "bb877927-54ac-48e0-806d-b4bca9e19667",
   "metadata": {},
   "outputs": [],
   "source": [
    "# run pipeline\n",
    "\n",
    "name_key = 'modified_names'\n",
    "\n",
    "## tst w/o modified names\n",
    "enrich_out = evalism.chi2ovr(\n",
    "    data=gbm39,\n",
    "    groups=None,\n",
    "    notB_key='end_cnt_before', \n",
    "    B_key='end_cnt_after',\n",
    "    return_df=True,\n",
    "    verbose=True,\n",
    "    name_key=name_key,\n",
    "    )\n",
    "# print('pct significant: {:.2f}'.format(100*(enrich_out['p_bonferonni'] < 0.5).sum()/enrich_out.shape[0]))\n",
    "# if export:\n",
    "#     enrich_out.to_csv('./tmp/reg_diffs/results/mtfcmp_cloneAvB_ism_shap_gbm39.csv')\n",
    "        \n",
    "# ## 3. visualize\n",
    "# agg = mtfcmp.viz_compare_enrich(enrich_out, name_key=name_key, drop_duplicates_key=name_key, names2display=None)\n",
    "# agg\n"
   ]
  },
  {
   "cell_type": "code",
   "execution_count": null,
   "id": "9829c019-29ee-4fd2-9a4b-878aca7f1b82",
   "metadata": {},
   "outputs": [],
   "source": [
    "export = True"
   ]
  },
  {
   "cell_type": "code",
   "execution_count": null,
   "id": "7ff8d73e-66c1-494d-948a-c382062583be",
   "metadata": {
    "collapsed": true,
    "jupyter": {
     "outputs_hidden": true
    },
    "tags": []
   },
   "outputs": [],
   "source": [
    "####################################################\n",
    "# args\n",
    "####################################################\n",
    "suffix = 'clstrmp_mtfcmp_gbm39AvB'\n",
    "grid ={'zscore': ['row', 'col', 'rowcol', None, ],\n",
    "       'topn': [10, 20, None],\n",
    "       'drop': ['ZNF', None]}\n",
    "####################################################\n",
    "\n",
    "dt = datetime.datetime.now().strftime('%y%m%d')\n",
    "pfp = os.path.join('./results/tmp/', dt)\n",
    "if not os.path.exists(pfp):\n",
    "    os.makedirs(pfp)\n",
    "\n",
    "count = 0\n",
    "for zscore_type in grid['zscore']:\n",
    "    for n in grid['topn']:\n",
    "        for drop_motif in grid['drop']:\n",
    "            print(count, '{}_{}_{}'.format(zscore_type, n, drop_motif))\n",
    "            agg, p, dt = mtfcmp.viz_compare_enrich(\n",
    "                enrich_out, \n",
    "                name_key=name_key, \n",
    "                drop_duplicates_key='modified_names', \n",
    "                names2display=None,\n",
    "                topn=n,\n",
    "                drop=drop_motif,\n",
    "                zscore=zscore_type,\n",
    "                save_plot=None if not export else os.path.join(pfp, '{}_z{}_top{}_drop{}.pdf'.format(suffix, zscore_type, n, drop_motif)),\n",
    "                save_mat=None if not export else './tmp/results/reg_diffs/{}_z{}_top{}_drop{}.csv'.format(suffix, zscore_type, n, drop_motif),\n",
    "                return_plot_obj=True,\n",
    "            )\n",
    "            if export:\n",
    "                dt['df_prez'].to_csv('./tmp/results/reg_diffs/{}_z{}_top{}_drop{}_preZ.csv'.format(suffix, zscore_type, n, drop_motif))\n",
    "                print('  wrote {}'.format('./tmp/results/reg_diffs/{}_z{}_top{}_drop{}_preZ.csv'.format(suffix, zscore_type, n, drop_motif)))\n",
    "            count+=1\n"
   ]
  },
  {
   "cell_type": "code",
   "execution_count": null,
   "id": "520cf3a2-60c2-48a2-bb9d-20f72715596d",
   "metadata": {},
   "outputs": [],
   "source": [
    "print(dt.index[p.dendrogram_row.reordered_ind])\n",
    "print(dt.columns[p.dendrogram_col.reordered_ind])"
   ]
  },
  {
   "cell_type": "markdown",
   "id": "3c3de910-20c3-4b01-be01-740b7a6f0e2e",
   "metadata": {},
   "source": [
    "# GBM 45"
   ]
  },
  {
   "cell_type": "code",
   "execution_count": null,
   "id": "67822697-b077-4dc0-a9b6-2c43c16729d3",
   "metadata": {},
   "outputs": [],
   "source": [
    "# run tst\n",
    "enrich_out = evalism.chi2ovr(\n",
    "        data=gbm45,\n",
    "        groups=None,\n",
    "        notB_key='end_cnt_before', \n",
    "        B_key='end_cnt_after',\n",
    "        return_df=True,\n",
    "        verbose=True,\n",
    "        name_key=name_key,\n",
    "        )\n"
   ]
  },
  {
   "cell_type": "code",
   "execution_count": null,
   "id": "f3eb2623-931a-46a3-af8a-b4a4d2124896",
   "metadata": {
    "collapsed": true,
    "jupyter": {
     "outputs_hidden": true
    },
    "tags": []
   },
   "outputs": [],
   "source": [
    "# ####################################################\n",
    "# # args\n",
    "# ####################################################\n",
    "# suffix = 'clstrmp_mtfcmp_gbm45AvB'\n",
    "# grid ={'zscore': ['row', 'col', 'rowcol', None, ],\n",
    "#        'topn': [10, 20, None],\n",
    "#        'drop': ['ZNF', None]}\n",
    "# ####################################################\n",
    "\n",
    "# dt = datetime.datetime.now().strftime('%y%m%d')\n",
    "# pfp = os.path.join('./results/tmp/', dt)\n",
    "# if not os.path.exists(pfp):\n",
    "#     os.makedirs(pfp)\n",
    "\n",
    "# count = 0\n",
    "# for zscore_type in grid['zscore']:\n",
    "#     for n in grid['topn']:\n",
    "#         for drop_motif in grid['drop']:\n",
    "#             print(count, '{}_{}_{}'.format(zscore_type, n, drop_motif))\n",
    "#             agg, p, dt = mtfcmp.viz_compare_enrich(\n",
    "#                 enrich_out, \n",
    "#                 name_key=name_key, \n",
    "#                 drop_duplicates_key='modified_names', \n",
    "#                 names2display=None,\n",
    "#                 topn=n,\n",
    "#                 drop=drop_motif,\n",
    "#                 zscore=zscore_type,\n",
    "#                 save_plot=None if not export else os.path.join(pfp, '{}_z{}_top{}_drop{}.pdf'.format(suffix, zscore_type, n, drop_motif)),\n",
    "#                 save_mat=None if not export else './tmp/results/reg_diffs/{}_z{}_top{}_drop{}.csv'.format(suffix, zscore_type, n, drop_motif),\n",
    "#                 return_plot_obj=True,\n",
    "#             )\n",
    "#             if export:\n",
    "#                 dt['df_prez'].to_csv('./tmp/results/reg_diffs/{}_z{}_top{}_drop{}_preZ.csv'.format(suffix, zscore_type, n, drop_motif))\n",
    "#                 print('  wrote {}'.format('./tmp/results/reg_diffs/{}_z{}_top{}_drop{}_preZ.csv'.format(suffix, zscore_type, n, drop_motif)))\n",
    "#             count+=1\n"
   ]
  },
  {
   "cell_type": "markdown",
   "id": "50657a92-fd6d-4d14-965c-46f61344610f",
   "metadata": {},
   "source": [
    "# restrict to sub-seq\n",
    "\n",
    "## chr 6\n",
    "\n"
   ]
  },
  {
   "cell_type": "code",
   "execution_count": null,
   "id": "16785d1d-a43a-495f-8959-e17b5fb3b5c2",
   "metadata": {},
   "outputs": [],
   "source": [
    "gbm_39_chr6 = {'cloneA': gbm39['cloneA'].loc[gbm39['cloneA']['seqnames']=='chr6'],\n",
    "               'cloneB': gbm39['cloneB'].loc[gbm39['cloneB']['seqnames']=='chr6']}\n",
    "gbm_45_chr6 = {'cloneA': gbm45['cloneA'].loc[gbm45['cloneA']['seqnames']=='chr6'],\n",
    "               'cloneB': gbm45['cloneB'].loc[gbm45['cloneB']['seqnames']=='chr6']}"
   ]
  },
  {
   "cell_type": "markdown",
   "id": "f8a13dfb-a1a0-48ee-97cb-40b154ee0a94",
   "metadata": {},
   "source": [
    "### gbm 39"
   ]
  },
  {
   "cell_type": "code",
   "execution_count": null,
   "id": "0f37889b-f10c-4add-84ee-d29291da15dd",
   "metadata": {},
   "outputs": [],
   "source": [
    "# modify dataframe, then plot\n",
    "# run tst\n",
    "enrich_out = evalism.chi2ovr(\n",
    "        data=gbm_39_chr6,\n",
    "        groups=None,\n",
    "        notB_key='end_cnt_before', \n",
    "        B_key='end_cnt_after',\n",
    "        return_df=True,\n",
    "        verbose=True,\n",
    "        name_key=name_key,\n",
    "        )"
   ]
  },
  {
   "cell_type": "code",
   "execution_count": null,
   "id": "09744b1c-d594-4c8a-af54-2459b3194886",
   "metadata": {
    "collapsed": true,
    "jupyter": {
     "outputs_hidden": true
    },
    "tags": []
   },
   "outputs": [],
   "source": [
    "####################################################\n",
    "# args\n",
    "####################################################\n",
    "suffix = 'clstrmp_mtfcmp_gbm39AvB_chr6'\n",
    "grid ={'zscore': ['row', 'col', 'rowcol', None, ],\n",
    "       'topn': [10, 20, None],\n",
    "       'drop': ['ZNF', None]}\n",
    "####################################################\n",
    "\n",
    "dt = datetime.datetime.now().strftime('%y%m%d')\n",
    "pfp = os.path.join('./results/tmp/', dt)\n",
    "if not os.path.exists(pfp):\n",
    "    os.makedirs(pfp)\n",
    "\n",
    "count = 0\n",
    "for zscore_type in grid['zscore']:\n",
    "    for n in grid['topn']:\n",
    "        for drop_motif in grid['drop']:\n",
    "            print(count, '{}_{}_{}'.format(zscore_type, n, drop_motif))\n",
    "            agg, p, dt = mtfcmp.viz_compare_enrich(\n",
    "                enrich_out, \n",
    "                name_key=name_key, \n",
    "                drop_duplicates_key='modified_names', \n",
    "                names2display=None,\n",
    "                topn=n,\n",
    "                drop=drop_motif,\n",
    "                zscore=zscore_type,\n",
    "                save_plot=None if not export else os.path.join(pfp, '{}_z{}_top{}_drop{}.pdf'.format(suffix, zscore_type, n, drop_motif)),\n",
    "                save_mat=None if not export else './tmp/results/reg_diffs/{}_z{}_top{}_drop{}.csv'.format(suffix, zscore_type, n, drop_motif),\n",
    "                return_plot_obj=True,\n",
    "            )\n",
    "            if export:\n",
    "                dt['df_prez'].to_csv('./tmp/results/reg_diffs/{}_z{}_top{}_drop{}_preZ.csv'.format(suffix, zscore_type, n, drop_motif))\n",
    "                print('  wrote {}'.format('./tmp/results/reg_diffs/{}_z{}_top{}_drop{}_preZ.csv'.format(suffix, zscore_type, n, drop_motif)))\n",
    "            count+=1\n"
   ]
  },
  {
   "cell_type": "markdown",
   "id": "50b24a46-58e2-43b8-b0af-89944df2a032",
   "metadata": {},
   "source": [
    "### gbm 45"
   ]
  },
  {
   "cell_type": "code",
   "execution_count": null,
   "id": "078e4cd6-50ce-463d-99bd-ee507fe4bb8c",
   "metadata": {},
   "outputs": [],
   "source": [
    "# modify dataframe, then plot\n",
    "# run tst\n",
    "enrich_out = evalism.chi2ovr(\n",
    "        data=gbm_45_chr6,\n",
    "        groups=None,\n",
    "        notB_key='end_cnt_before', \n",
    "        B_key='end_cnt_after',\n",
    "        return_df=True,\n",
    "        verbose=True,\n",
    "        name_key=name_key,\n",
    "        )"
   ]
  },
  {
   "cell_type": "code",
   "execution_count": null,
   "id": "6bc2065d-09e5-4dad-bb13-f00ef0622c11",
   "metadata": {
    "collapsed": true,
    "jupyter": {
     "outputs_hidden": true
    },
    "tags": []
   },
   "outputs": [],
   "source": [
    "####################################################\n",
    "# args\n",
    "####################################################\n",
    "suffix = 'clstrmp_mtfcmp_gbm45AvB_chr6'\n",
    "grid ={'zscore': ['row', 'col', 'rowcol', None, ],\n",
    "       'topn': [10, 20, None],\n",
    "       'drop': ['ZNF', None]}\n",
    "####################################################\n",
    "\n",
    "dt = datetime.datetime.now().strftime('%y%m%d')\n",
    "pfp = os.path.join('./results/tmp/', dt)\n",
    "if not os.path.exists(pfp):\n",
    "    os.makedirs(pfp)\n",
    "\n",
    "count = 0\n",
    "for zscore_type in grid['zscore']:\n",
    "    for n in grid['topn']:\n",
    "        for drop_motif in grid['drop']:\n",
    "            print(count, '{}_{}_{}'.format(zscore_type, n, drop_motif))\n",
    "            agg, p, dt = mtfcmp.viz_compare_enrich(\n",
    "                enrich_out, \n",
    "                name_key=name_key, \n",
    "                drop_duplicates_key='modified_names', \n",
    "                names2display=None,\n",
    "                topn=n,\n",
    "                drop=drop_motif,\n",
    "                zscore=zscore_type,\n",
    "                save_plot=None if not export else os.path.join(pfp, '{}_z{}_top{}_drop{}.pdf'.format(suffix, zscore_type, n, drop_motif)),\n",
    "                save_mat=None if not export else './tmp/results/reg_diffs/{}_z{}_top{}_drop{}.csv'.format(suffix, zscore_type, n, drop_motif),\n",
    "                return_plot_obj=True,\n",
    "            )\n",
    "            if export:\n",
    "                dt['df_prez'].to_csv('./tmp/results/reg_diffs/{}_z{}_top{}_drop{}_preZ.csv'.format(suffix, zscore_type, n, drop_motif))\n",
    "                print('  wrote {}'.format('./tmp/results/reg_diffs/{}_z{}_top{}_drop{}_preZ.csv'.format(suffix, zscore_type, n, drop_motif)))\n",
    "            count+=1\n"
   ]
  },
  {
   "cell_type": "markdown",
   "id": "9c844420-008f-49d5-bcdd-ffa3bbd1048a",
   "metadata": {},
   "source": [
    "## exclude chr 6"
   ]
  },
  {
   "cell_type": "code",
   "execution_count": null,
   "id": "000b525c-91c6-419d-b745-ef8ecdc47958",
   "metadata": {},
   "outputs": [],
   "source": [
    "gbm_39_nochr6 = {'cloneA': gbm39['cloneA'].loc[gbm39['cloneA']['seqnames']!='chr6'],\n",
    "               'cloneB': gbm39['cloneB'].loc[gbm39['cloneB']['seqnames']!='chr6']}\n",
    "gbm_45_nochr6 = {'cloneA': gbm45['cloneA'].loc[gbm45['cloneA']['seqnames']!='chr6'],\n",
    "               'cloneB': gbm45['cloneB'].loc[gbm45['cloneB']['seqnames']!='chr6']}"
   ]
  },
  {
   "cell_type": "code",
   "execution_count": null,
   "id": "d9dd98dc-5414-49c8-9bf8-130b18563292",
   "metadata": {},
   "outputs": [],
   "source": [
    "# modify dataframe, then plot\n",
    "# run tst\n",
    "enrich_out = evalism.chi2ovr(\n",
    "        data=gbm_45_nochr6,\n",
    "        groups=None,\n",
    "        notB_key='end_cnt_before', \n",
    "        B_key='end_cnt_after',\n",
    "        return_df=True,\n",
    "        verbose=True,\n",
    "        name_key=name_key,\n",
    "        )"
   ]
  },
  {
   "cell_type": "code",
   "execution_count": null,
   "id": "fd221d6b-d922-46dc-980d-1497953ad6bc",
   "metadata": {
    "tags": []
   },
   "outputs": [],
   "source": [
    "####################################################\n",
    "# args\n",
    "####################################################\n",
    "suffix = 'clstrmp_mtfcmp_gbm45AvB_nochr6'\n",
    "grid ={'zscore': ['rowcol', None, ],\n",
    "       'topn': [None],\n",
    "       'drop': [None]}\n",
    "####################################################\n",
    "\n",
    "dt = datetime.datetime.now().strftime('%y%m%d')\n",
    "pfp = os.path.join('./results/tmp/', dt)\n",
    "if not os.path.exists(pfp):\n",
    "    os.makedirs(pfp)\n",
    "\n",
    "count = 0\n",
    "for zscore_type in grid['zscore']:\n",
    "    for n in grid['topn']:\n",
    "        for drop_motif in grid['drop']:\n",
    "            print(count, '{}_{}_{}'.format(zscore_type, n, drop_motif))\n",
    "            agg, p, dt = mtfcmp.viz_compare_enrich(\n",
    "                enrich_out, \n",
    "                name_key=name_key, \n",
    "                drop_duplicates_key='modified_names', \n",
    "                names2display=None,\n",
    "                topn=n,\n",
    "                drop=drop_motif,\n",
    "                zscore=zscore_type,\n",
    "                save_plot=None if not export else os.path.join(pfp, '{}_z{}_top{}_drop{}.pdf'.format(suffix, zscore_type, n, drop_motif)),\n",
    "                save_mat=None if not export else './tmp/results/reg_diffs/{}_z{}_top{}_drop{}.csv'.format(suffix, zscore_type, n, drop_motif),\n",
    "                return_plot_obj=True,\n",
    "            )\n",
    "            if export:\n",
    "                dt['df_prez'].to_csv('./tmp/results/reg_diffs/{}_z{}_top{}_drop{}_preZ.csv'.format(suffix, zscore_type, n, drop_motif))\n",
    "                print('  wrote {}'.format('./tmp/results/reg_diffs/{}_z{}_top{}_drop{}_preZ.csv'.format(suffix, zscore_type, n, drop_motif)))\n",
    "            count+=1\n"
   ]
  },
  {
   "cell_type": "code",
   "execution_count": null,
   "id": "7d0bdcd0-c85c-4c62-a17b-4f68ddcf07e7",
   "metadata": {},
   "outputs": [],
   "source": [
    "agg"
   ]
  },
  {
   "cell_type": "markdown",
   "id": "8a5a2750-2d25-4041-bd5e-f17aab623752",
   "metadata": {},
   "source": [
    "# find genes in chr 6"
   ]
  },
  {
   "cell_type": "code",
   "execution_count": null,
   "id": "5c35e391-9dfe-4f22-ab2b-0b2fc02a379b",
   "metadata": {},
   "outputs": [],
   "source": [
    "tss = './data/ref_data/gencodev39_cage_ratio_to_sum_refined_tss_positions_transcripts_protein_coding_inclZeros_withTranscriptID.tsv'\n",
    "tss = pd.read_csv(tss, sep='\\t')\n",
    "tss_chr6 = tss.loc[tss['chrom']=='chr6']\n",
    "tss_chr6['endB'] = tss_chr6['tss_pos'] + 1\n",
    "gbm45_cloneB_mtf_chr6 = data['GBM45_cloneB'].loc[data['GBM45_cloneB']['seqnames']=='chr6']"
   ]
  },
  {
   "cell_type": "code",
   "execution_count": null,
   "id": "19cd65a8-9477-4c85-a703-ac3296b0153d",
   "metadata": {},
   "outputs": [],
   "source": [
    "gbm_39_nochr6['cloneA'].loc[gbm_39_nochr6['cloneA']['modified_names']=='POU']\n",
    "gbm_39_nochr6['cloneB'].loc[gbm_39_nochr6['cloneB']['modified_names']=='POU']\n",
    "gbm_45_nochr6['cloneA'].loc[gbm_45_nochr6['cloneA']['modified_names']=='POU']\n",
    "gbm_45_nochr6['cloneB'].loc[gbm_45_nochr6['cloneB']['modified_names']=='POU']"
   ]
  },
  {
   "cell_type": "code",
   "execution_count": null,
   "id": "5edd4c55-500f-4a3b-bd60-9868f6bff9a1",
   "metadata": {},
   "outputs": [],
   "source": [
    "import pybedtools\n",
    "Acol = ['seqnames', 'start', 'end'] + [c for c in gbm45_cloneB_mtf_chr6.columns if c not in ['seqnames', 'start', 'end']]\n",
    "Bcol = ['chrom', 'tss_pos', 'endB'] + [c for c in tss_chr6.columns if c not in ['chrom', 'tss_pos', 'endB']]\n",
    "A = pybedtools.BedTool.from_dataframe(gbm45_cloneB_mtf_chr6[Acol])\n",
    "B = pybedtools.BedTool.from_dataframe(tss_chr6[Bcol])"
   ]
  },
  {
   "cell_type": "code",
   "execution_count": null,
   "id": "c074f8c1-daf0-4310-8eff-aa49bd602f44",
   "metadata": {},
   "outputs": [],
   "source": [
    "df = A.sort().closest(B.sort(), d=True, t=\"first\")  \n",
    "target_names = Acol + Bcol + [\"distance_to_tss\"]\n",
    "df = df.to_dataframe(names=target_names)#.drop('peak_summit_1',axis=1)"
   ]
  },
  {
   "cell_type": "code",
   "execution_count": null,
   "id": "7c956d6f-6cb3-46a6-bf1e-ced55386dbae",
   "metadata": {},
   "outputs": [],
   "source": [
    "df.loc[df['modified_names']=='POU']"
   ]
  },
  {
   "cell_type": "code",
   "execution_count": null,
   "id": "a1e02ed8-bf76-48b5-bcc3-b834c21e1ce8",
   "metadata": {},
   "outputs": [],
   "source": [
    "df.loc[df['modified_names']=='POU', ['group_name', 'gene', 'distance_to_tss']].sort_values(by='distance_to_tss').drop_duplicates(subset=['gene']).loc[df['distance_to_tss'] <= 10000]"
   ]
  },
  {
   "cell_type": "markdown",
   "id": "a12573fe-86b1-45e8-aa59-1b750a9cd1f6",
   "metadata": {},
   "source": [
    "# genes not in chr6"
   ]
  },
  {
   "cell_type": "code",
   "execution_count": null,
   "id": "c85bc96c-a53f-4745-b3e4-0c262f8ee492",
   "metadata": {},
   "outputs": [],
   "source": [
    "tss = './data/ref_data/gencodev39_cage_ratio_to_sum_refined_tss_positions_transcripts_protein_coding_inclZeros_withTranscriptID.tsv'\n",
    "tss = pd.read_csv(tss, sep='\\t')\n",
    "tss_nochr6 = tss.loc[tss['chrom']!='chr6']\n",
    "tss_nochr6['endB'] = tss_nochr6['tss_pos'] + 1\n",
    "gbm_sub = data['GBM45_cloneB'].loc[data['GBM45_cloneB']['seqnames']!='chr6']\n",
    "\n",
    "Acol = ['seqnames', 'start', 'end'] + [c for c in gbm_sub.columns if c not in ['seqnames', 'start', 'end']]\n",
    "Bcol = ['chrom', 'tss_pos', 'endB'] + [c for c in tss_nochr6.columns if c not in ['chrom', 'tss_pos', 'endB']]\n",
    "A = pybedtools.BedTool.from_dataframe(gbm_sub[Acol])\n",
    "B = pybedtools.BedTool.from_dataframe(tss_nochr6[Bcol])\n",
    "\n",
    "df = A.sort().closest(B.sort(), d=True, t=\"first\")  \n",
    "target_names = Acol + Bcol + [\"distance_to_tss\"]\n",
    "df = df.to_dataframe(names=target_names)#.drop('peak_summit_1',axis=1)"
   ]
  },
  {
   "cell_type": "code",
   "execution_count": null,
   "id": "b68720b7-3f36-4c63-953a-45555c7b2973",
   "metadata": {},
   "outputs": [],
   "source": [
    "tflist_chr6 = ['AGER', 'ARID1B', 'ATF6B', 'BACH2', 'BCLAF1', 'CASP8AP2', 'CDC5L', 'CDKN1A', 'CITED2', 'DAXX', 'DEK', 'DSP', 'E2F3', 'EDN1', 'ESR1', 'ETV7', 'EXOC2', 'FOXC1', 'FOXF2', 'FOXO3', 'FOXP4', 'FOXQ1', 'GCM1', 'GCM2', 'GTF2H4', 'HDAC2', 'HEY2', 'HIVEP1', 'HIVEP2', 'HLA-DQB1', 'HLA-DQB2', 'HLA-DRB1', 'HLA-DRB5', 'HMGA1', 'HMGN3', 'HSF2', 'HSPA1A', 'HSPA1B', 'ID4', 'IRF4', 'JARID2', 'L3MBTL3', 'LIN28B', 'MAP3K7', 'MAPK14', 'MDFI', 'MED23', 'MYB', 'NCOA7', 'NFKBIL1', 'NFYA', 'NR2E1', 'OLIG3', 'PBX2', 'PGBD1', 'PHF1', 'PIM1', 'PKHD1', 'PLAGL1', 'POLH', 'POU3F2', 'POU5F1', 'PPARD', 'PPP1R10', 'PRDM1', 'PRDM13', 'PRIM2', 'PRKN', 'PRR3', 'RFX6', 'RING1', 'RIPK1', 'RREB1', 'RUNX2', 'RXRB', 'SCML4', 'SGK1', 'SHPRH', 'SIM1', 'SNRPC', 'SOGA3', 'SOX4', 'SPDEF', 'SRF', 'TAB2', 'TAF11', 'TAF8', 'TBP', 'TBPL1', 'TBX18', 'TCF19', 'TCF21', 'TDP2', 'TEAD3', 'TFAP2A', 'TFAP2B', 'TFAP2D', 'TFEB', 'TNF', 'TNFAIP3', 'TRERF1', 'TRIM15', 'TRIM26', 'TRIM27', 'TRIM31', 'TRIM38', 'TRIM40', 'TULP4', 'UFL1', 'VEGFA', 'VGLL2', 'ZBED9', 'ZBTB12', 'ZBTB2', 'ZBTB22', 'ZBTB24', 'ZBTB9', 'ZFP57', 'ZKSCAN3', 'ZKSCAN4', 'ZKSCAN8', 'ZNF165', 'ZNF184', 'ZNF292', 'ZNF311', 'ZNF318', 'ZNF322', 'ZNF391', 'ZNF451', 'ZNF76', 'ZSCAN12', 'ZSCAN16', 'ZSCAN23', 'ZSCAN26', 'ZSCAN31', 'ZSCAN9']"
   ]
  },
  {
   "cell_type": "code",
   "execution_count": null,
   "id": "ea5e0859-f415-457f-9a28-4633309195fe",
   "metadata": {},
   "outputs": [],
   "source": [
    "df.columns"
   ]
  },
  {
   "cell_type": "code",
   "execution_count": null,
   "id": "31dfc27a-ef83-47d8-b7dc-e2c5caf7b6a3",
   "metadata": {},
   "outputs": [],
   "source": [
    "dt = df.loc[df['modified_names']=='POU', ['group_name', 'gene', 'es', 'distance_to_tss']].sort_values(by=['es', 'distance_to_tss'], ascending=[False, True]).drop_duplicates(subset=['gene']).loc[df['distance_to_tss'] <= 10000]\n",
    "dt.head(50)"
   ]
  },
  {
   "cell_type": "code",
   "execution_count": null,
   "id": "04d2416e-de5c-4849-9d27-07e24e6534e5",
   "metadata": {},
   "outputs": [],
   "source": [
    "df.columns"
   ]
  },
  {
   "cell_type": "code",
   "execution_count": null,
   "id": "57da6cb0-6f9a-4dae-8629-d59bcaf30c76",
   "metadata": {},
   "outputs": [],
   "source": [
    "df.loc[df['gene'].isin(['NEUROD1', 'ASCL1']) & [True if 'SOX' in s or 'POU' in s else False for s in df['group_name']]].loc[:,  ['group_name', 'gene', 'es', 'contribution', 'distance_to_tss', 'seqnames', 'start', 'end' ]].to_csv('./tmp/results/gbm_subclones_notchr6_ascl1_neurod1_ebox_sox.csv')"
   ]
  },
  {
   "cell_type": "code",
   "execution_count": null,
   "id": "a49d90fc-247e-4516-b04f-23d943fde641",
   "metadata": {},
   "outputs": [],
   "source": [
    "dt = pd.read_csv('./tmp/results/gbm_subclones_notchr6_ascl1_neurod1_ebox_sox.csv')\n",
    "dt"
   ]
  },
  {
   "cell_type": "code",
   "execution_count": null,
   "id": "02f8fd18-1d6c-4d94-b164-121f934f28ad",
   "metadata": {},
   "outputs": [],
   "source": [
    "file = '.data/GBM45_CLONEB_DIFFERENTIALPEAKS.CSV'\n",
    "dt = pd.read_csv(file, index_col=0)\n",
    "dt = dt.loc[dt['seqnames']!='chr6'] # omit chr 6\n"
   ]
  },
  {
   "cell_type": "markdown",
   "id": "d90593a7-b326-475f-8e64-3bb2c5df0b5a",
   "metadata": {},
   "source": [
    "# run enrichment only on this set"
   ]
  },
  {
   "cell_type": "code",
   "execution_count": null,
   "id": "3dd5aed5-56e1-47f2-9d42-830a57a414ef",
   "metadata": {},
   "outputs": [],
   "source": [
    "gbm_sub2 = {}\n",
    "for c in ['cloneA', 'cloneB']:\n",
    "    file = './data/GBM45_{}_DIFFERENTIALPEAKS.CSV'.format(c.upper())\n",
    "    dt = pd.read_csv(file, index_col=0)\n",
    "    dt = dt.loc[dt['seqnames']!='chr6'] # omit chr 6\n",
    "    Acol = ['seqnames', 'start', 'end'] + [c for c in dt.columns if c not in ['seqnames', 'start', 'end']]\n",
    "    Bcol = ['seqnames', 'start', 'end'] + [c for c in gbm_sub.columns if c not in ['seqnames', 'start', 'end']]\n",
    "    Acol_prime = ['seqnames_x', 'start_x', 'end_x'] + [c for c in dt.columns if c not in ['seqnames', 'start', 'end']]\n",
    "    A = pybedtools.BedTool.from_dataframe(dt[Acol])\n",
    "    B = pybedtools.BedTool.from_dataframe(gbm_sub[Bcol])\n",
    "    C = A.intersect(B, wao=True,)\n",
    "    C = C.to_dataframe(names=Acol_prime + Bcol + ['overlap'])\n",
    "    gbm_sub2[c] = data['GBM45_{}'.format(c)].merge(C.loc[C['overlap']!=0, ['seqnames', 'start', 'end', 'group_name']], \n",
    "                                                   on=['seqnames', 'start', 'end', 'group_name'], how='inner')"
   ]
  },
  {
   "cell_type": "code",
   "execution_count": null,
   "id": "15af1e09-a95c-47f5-9978-47923332cab6",
   "metadata": {},
   "outputs": [],
   "source": [
    "# remove non-overlapping\n",
    "non_overlapping = list(set(gbm_sub2['cloneB']['modified_names'].unique()) - set(gbm_sub2['cloneA']['modified_names'].unique())) \n",
    "non_overlapping += list(set(gbm_sub2['cloneA']['modified_names'].unique()) - set(gbm_sub2['cloneB']['modified_names'].unique())) \n",
    "for k,v in gbm_sub2.items():\n",
    "    gbm_sub2[k] = v.loc[~(v['modified_names'].isin(non_overlapping))]\n",
    "print('ignored motifs:', non_overlapping)"
   ]
  },
  {
   "cell_type": "code",
   "execution_count": null,
   "id": "38dc2cc8-ff5d-4364-b498-c283dc2ef548",
   "metadata": {},
   "outputs": [],
   "source": [
    "# modify dataframe, then plot\n",
    "# run tst\n",
    "enrich_out = evalism.chi2ovr(\n",
    "        data=gbm_sub2,\n",
    "        groups=None,\n",
    "        notB_key='end_cnt_before', \n",
    "        B_key='end_cnt_after',\n",
    "        return_df=True,\n",
    "        verbose=True,\n",
    "        name_key=name_key,\n",
    "        )"
   ]
  },
  {
   "cell_type": "code",
   "execution_count": null,
   "id": "9c6eb100-f2e5-4a7e-b7ab-5939af666832",
   "metadata": {},
   "outputs": [],
   "source": [
    "####################################################\n",
    "# args\n",
    "####################################################\n",
    "suffix = 'clstrmp_mtfcmp_gbm45_diffpk_nochr6'\n",
    "grid ={'zscore': ['rowcol'],\n",
    "       'topn': [None],\n",
    "       'drop': [None]}\n",
    "####################################################\n",
    "\n",
    "dt = datetime.datetime.now().strftime('%y%m%d')\n",
    "pfp = os.path.join('./results/tmp/', dt)\n",
    "if not os.path.exists(pfp):\n",
    "    os.makedirs(pfp)\n",
    "\n",
    "count = 0\n",
    "for zscore_type in grid['zscore']:\n",
    "    for n in grid['topn']:\n",
    "        for drop_motif in grid['drop']:\n",
    "            print(count, '{}_{}_{}'.format(zscore_type, n, drop_motif))\n",
    "            agg, p, dt = mtfcmp.viz_compare_enrich(\n",
    "                enrich_out, \n",
    "                name_key=name_key, \n",
    "                drop_duplicates_key='modified_names', \n",
    "                names2display=None,\n",
    "                topn=n,\n",
    "                drop=drop_motif,\n",
    "                zscore=zscore_type,\n",
    "                save_plot=None if not export else os.path.join(pfp, '{}_z{}_top{}_drop{}.pdf'.format(suffix, zscore_type, n, drop_motif)),\n",
    "                save_mat=None if not export else './tmp/results/reg_diffs/{}_z{}_top{}_drop{}.csv'.format(suffix, zscore_type, n, drop_motif),\n",
    "                return_plot_obj=True,\n",
    "            )\n",
    "            if export:\n",
    "                dt['df_prez'].to_csv('./tmp/results/reg_diffs/{}_z{}_top{}_drop{}_preZ.csv'.format(suffix, zscore_type, n, drop_motif))\n",
    "                print('  wrote {}'.format('./tmp/results/reg_diffs/{}_z{}_top{}_drop{}_preZ.csv'.format(suffix, zscore_type, n, drop_motif)))\n",
    "            count+=1\n"
   ]
  },
  {
   "cell_type": "code",
   "execution_count": null,
   "id": "b862ec58-d80f-471f-ad0d-01824f383ffa",
   "metadata": {},
   "outputs": [],
   "source": [
    "agg"
   ]
  },
  {
   "cell_type": "code",
   "execution_count": null,
   "id": "7b2e91bf-b555-4783-a274-5f6d3e2983eb",
   "metadata": {},
   "outputs": [],
   "source": [
    "print(dt.index[p.dendrogram_row.reordered_ind])\n",
    "print(dt.columns[p.dendrogram_col.reordered_ind])"
   ]
  },
  {
   "cell_type": "code",
   "execution_count": null,
   "id": "dcb76ed5-5a53-43c3-ae3f-a8c2b063d44d",
   "metadata": {},
   "outputs": [],
   "source": []
  }
 ],
 "metadata": {
  "kernelspec": {
   "display_name": "Python 3 (ipykernel)",
   "language": "python",
   "name": "python3"
  },
  "language_info": {
   "codemirror_mode": {
    "name": "ipython",
    "version": 3
   },
   "file_extension": ".py",
   "mimetype": "text/x-python",
   "name": "python",
   "nbconvert_exporter": "python",
   "pygments_lexer": "ipython3",
   "version": "3.10.6"
  }
 },
 "nbformat": 4,
 "nbformat_minor": 5
}
