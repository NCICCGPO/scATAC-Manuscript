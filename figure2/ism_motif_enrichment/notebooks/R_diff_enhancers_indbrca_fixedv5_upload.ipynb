{
 "cells": [
  {
   "cell_type": "code",
   "execution_count": 12,
   "metadata": {
    "scrolled": true,
    "vscode": {
     "languageId": "r"
    }
   },
   "outputs": [
    {
     "name": "stderr",
     "output_type": "stream",
     "text": [
      "Loading required package: limma\n",
      "\n",
      "\n",
      "Attaching package: ‘limma’\n",
      "\n",
      "\n",
      "The following object is masked from ‘package:BiocGenerics’:\n",
      "\n",
      "    plotMA\n",
      "\n",
      "\n",
      "Setting default number of Parallel threads to 24.\n",
      "\n"
     ]
    }
   ],
   "source": [
    "library(BiocManager)\n",
    "library(BSgenome.Hsapiens.UCSC.hg38)\n",
    "library(ArchR)\n",
    "library(ggplot2)\n",
    "library(TFBSTools)\n",
    "library(Seurat)\n",
    "library(ggplot2)\n",
    "library(dplyr)\n",
    "library(harmony)\n",
    "# library(SeuratData)\n",
    "# library(Signac)\n",
    "library(BSgenome.Hsapiens.UCSC.hg38)\n",
    "# library(JASPAR2018)\n",
    "library(edgeR)\n",
    "\n",
    "library(ArchR)\n",
    "data(\"geneAnnoHg38\")\n",
    "data(\"genomeAnnoHg38\")\n",
    "geneAnno <- geneAnnoHg38\n",
    "genomeAnno <- genomeAnnoHg38\n",
    "addArchRThreads(24)\n"
   ]
  },
  {
   "cell_type": "code",
   "execution_count": 13,
   "metadata": {
    "vscode": {
     "languageId": "r"
    }
   },
   "outputs": [],
   "source": [
    "library(Matrix)\n",
    "library(SummarizedExperiment)\n",
    "#library(tidyverse)\n",
    "library(uwot)\n",
    "library(edgeR)\n",
    "library(FNN)\n",
    "library(matrixStats)\n",
    "library(Rcpp)\n",
    "set.seed(1)"
   ]
  },
  {
   "cell_type": "code",
   "execution_count": 14,
   "metadata": {
    "vscode": {
     "languageId": "r"
    }
   },
   "outputs": [],
   "source": [
    "sparseRowVariances <- function (m){\n",
    "    rM <- Matrix::rowMeans(m)\n",
    "    rV <- computeSparseRowVariances(m@i + 1, m@x, rM, ncol(m))\n",
    "    return(rV)\n",
    "}\n",
    "\n",
    "#Helper function for summing sparse matrix groups\n",
    "groupSums <- function (mat, groups = NULL, na.rm = TRUE, sparse = FALSE){\n",
    "    stopifnot(!is.null(groups))\n",
    "    stopifnot(length(groups) == ncol(mat))\n",
    "    gm <- lapply(unique(groups), function(x) {\n",
    "        if (sparse) {\n",
    "            Matrix::rowSums(mat[, which(groups == x), drop = F], na.rm = na.rm)\n",
    "        }\n",
    "        else {\n",
    "            rowSums(mat[, which(groups == x), drop = F], na.rm = na.rm)\n",
    "        }\n",
    "    }) %>% Reduce(\"cbind\", .)\n",
    "    colnames(gm) <- unique(groups)\n",
    "    return(gm)\n",
    "}\n",
    "\n",
    "sparseMatTTest <- function(mat1, mat2, m0 = 0){\n",
    "    #Get Population Values\n",
    "    n1 <- ncol(mat1)\n",
    "    n2 <- ncol(mat2)\n",
    "    n <- n1 + n2\n",
    "    #Sparse Row Means\n",
    "    m1 <- Matrix::rowMeans(mat1, na.rm=TRUE)\n",
    "    m2 <- Matrix::rowMeans(mat2, na.rm=TRUE)\n",
    "    #Sparse Row Variances\n",
    "    v1 <- ArchR:::computeSparseRowVariances(mat1@i + 1, mat1@x, m1, n1)\n",
    "    v2 <- ArchR:::computeSparseRowVariances(mat2@i + 1, mat2@x, m2, n2)\n",
    "    #Calculate T Statistic\n",
    "    se <- sqrt( (1/n1 + 1/n2) * ((n1-1)*v1 + (n2-1)*v2)/(n1+n2-2) )\n",
    "    tstat <- (m1-m2-m0)/se\n",
    "    #tstat <- sqrt((n1 * n2) / n) / sqrt((n1-1)/(n-2)*v1 + (n2-1)/(n-2)*v2)\n",
    "    pvalue <- 2*pt(-abs(tstat), n - 2)\n",
    "    fdr <- p.adjust(pvalue, method = \"fdr\")\n",
    "    out <- data.frame(fdr = fdr, pval = pvalue, tstat = tstat, mean1 = m1, mean2 = m2, var1 = v1, var2 = v2, n1 = n1, n2 = n2)\n",
    "    return(out)\n",
    "}"
   ]
  },
  {
   "cell_type": "code",
   "execution_count": 15,
   "metadata": {
    "vscode": {
     "languageId": "r"
    }
   },
   "outputs": [],
   "source": [
    "fn <- unclass(lsf.str(envir = asNamespace(\"ArchR\"), all = TRUE))\n",
    " for(i in seq_along(fn)){\n",
    "  tryCatch({\n",
    "   eval(parse(text=paste0(fn[i], '<-ArchR:::', fn[i])))\n",
    "  }, error = function(x){\n",
    "  })\n",
    " }"
   ]
  },
  {
   "cell_type": "code",
   "execution_count": 16,
   "metadata": {
    "vscode": {
     "languageId": "r"
    }
   },
   "outputs": [],
   "source": [
    "# Code below adapted from ArchR function\n",
    "projectLSI <- function(mat_se = NULL, LSI = NULL){  \n",
    "    require(Matrix)\n",
    "    set.seed(LSI$seed)\n",
    "\n",
    "    subset_rows <- paste(rowData(mat_se)$seqnames, rowData(mat_se)$start) %in% paste(LSI$LSIFeatures$seqnames, LSI$LSIFeatures$start)\n",
    "    mat <- assay(mat_se)\n",
    "    mat <- mat[subset_rows,]\n",
    "\n",
    "    #Get Same Features--whats stored here in lsi isnt exactly whats needed, so I added the lines above this to subset\n",
    "    mat <- mat[LSI$idx,]\n",
    "\n",
    "    #Binarize Matrix\n",
    "    if(LSI$binarize){\n",
    "        mat@x[mat@x > 0] <- 1       \n",
    "    }\n",
    "    \n",
    "    #TF\n",
    "    colSm <- Matrix::colSums(mat)\n",
    "    if(any(colSm == 0)){\n",
    "      exclude <- which(colSm==0)\n",
    "      mat <- mat[,-exclude]\n",
    "      colSm <- colSm[-exclude]\n",
    "    }\n",
    "    mat@x <- mat@x / rep.int(colSm, Matrix::diff(mat@p))\n",
    "\n",
    "    #Adapted from Stuart et al.\n",
    "\n",
    "    #IDF\n",
    "    idf   <- as(LSI$nCol / LSI$rowSm, \"sparseVector\")\n",
    "\n",
    "    #TF-IDF\n",
    "    mat <- as(Matrix::Diagonal(x=as.vector(idf)), \"sparseMatrix\") %*% mat\n",
    "\n",
    "    #Log transform TF-IDF\n",
    "    mat@x <- log(mat@x * LSI$scaleTo + 1) \n",
    "\n",
    "    gc()\n",
    "\n",
    "    #Clean Up Matrix\n",
    "    idxNA <- Matrix::which(is.na(mat),arr.ind=TRUE)\n",
    "    if(length(idxNA) > 0){\n",
    "        mat[idxNA] <- 0\n",
    "    }\n",
    "\n",
    "    #Calc V\n",
    "    V <- Matrix::t(mat) %*% LSI$svd$u %*% Matrix::diag(1/LSI$svd$d)\n",
    "\n",
    "    #LSI Diagonal\n",
    "    svdDiag <- matrix(0, nrow=LSI$nDimensions, ncol=LSI$nDimensions)\n",
    "    diag(svdDiag) <- LSI$svd$d\n",
    "    matSVD <- Matrix::t(svdDiag %*% Matrix::t(V))\n",
    "    matSVD <- as.matrix(matSVD)\n",
    "    rownames(matSVD) <- colnames(mat)\n",
    "    colnames(matSVD) <- paste0(\"LSI\",seq_len(ncol(matSVD)))\n",
    "    matSVD\n",
    "}\n"
   ]
  },
  {
   "cell_type": "code",
   "execution_count": 17,
   "metadata": {
    "scrolled": true,
    "vscode": {
     "languageId": "r"
    }
   },
   "outputs": [
    {
     "name": "stderr",
     "output_type": "stream",
     "text": [
      "Successfully loaded ArchRProject!\n",
      "\n",
      "\n",
      "                                                   / |\n",
      "                                                 /    \\\n",
      "            .                                  /      |.\n",
      "            \\\\\\                              /        |.\n",
      "              \\\\\\                          /           `|.\n",
      "                \\\\\\                      /              |.\n",
      "                  \\                    /                |\\\n",
      "                  \\\\#####\\           /                  ||\n",
      "                ==###########>      /                   ||\n",
      "                 \\\\##==......\\    /                     ||\n",
      "            ______ =       =|__ /__                     ||      \\\\\\\n",
      "        ,--' ,----`-,__ ___/'  --,-`-===================##========>\n",
      "       \\               '        ##_______ _____ ,--,__,=##,__   ///\n",
      "        ,    __==    ___,-,__,--'#'  ==='      `-'    | ##,-/\n",
      "        -,____,---'       \\\\####\\\\________________,--\\\\_##,/\n",
      "           ___      .______        ______  __    __  .______      \n",
      "          /   \\     |   _  \\      /      ||  |  |  | |   _  \\     \n",
      "         /  ^  \\    |  |_)  |    |  ,----'|  |__|  | |  |_)  |    \n",
      "        /  /_\\  \\   |      /     |  |     |   __   | |      /     \n",
      "       /  _____  \\  |  |\\  \\\\___ |  `----.|  |  |  | |  |\\  \\\\___.\n",
      "      /__/     \\__\\ | _| `._____| \\______||__|  |__| | _| `._____|\n",
      "    \n",
      "\n",
      "Successfully loaded ArchRProject!\n",
      "\n",
      "\n",
      "                                                   / |\n",
      "                                                 /    \\\n",
      "            .                                  /      |.\n",
      "            \\\\\\                              /        |.\n",
      "              \\\\\\                          /           `|.\n",
      "                \\\\\\                      /              |.\n",
      "                  \\                    /                |\\\n",
      "                  \\\\#####\\           /                  ||\n",
      "                ==###########>      /                   ||\n",
      "                 \\\\##==......\\    /                     ||\n",
      "            ______ =       =|__ /__                     ||      \\\\\\\n",
      "        ,--' ,----`-,__ ___/'  --,-`-===================##========>\n",
      "       \\               '        ##_______ _____ ,--,__,=##,__   ///\n",
      "        ,    __==    ___,-,__,--'#'  ==='      `-'    | ##,-/\n",
      "        -,____,---'       \\\\####\\\\________________,--\\\\_##,/\n",
      "           ___      .______        ______  __    __  .______      \n",
      "          /   \\     |   _  \\      /      ||  |  |  | |   _  \\     \n",
      "         /  ^  \\    |  |_)  |    |  ,----'|  |__|  | |  |_)  |    \n",
      "        /  /_\\  \\   |      /     |  |     |   __   | |      /     \n",
      "       /  _____  \\  |  |\\  \\\\___ |  `----.|  |  |  | |  |\\  \\\\___.\n",
      "      /__/     \\__\\ | _| `._____| \\______||__|  |__| | _| `._____|\n",
      "    \n",
      "\n"
     ]
    }
   ],
   "source": [
    "# Load normal project and project for all samples\n",
    "proj_featal_invivo <- loadArchRProject(path = \"~/TCGA/ArchR_Projects/controls/breast_control_Archr/\")\n",
    "\n",
    "proj_all_invitro_peaks <- loadArchRProject(path = \"~/TCGA/ArchR_Projects/aggregated_cancertypes_NEW/BRCA_ArchR\")\n",
    "\n"
   ]
  },
  {
   "cell_type": "code",
   "execution_count": 18,
   "metadata": {
    "vscode": {
     "languageId": "r"
    }
   },
   "outputs": [
    {
     "name": "stderr",
     "output_type": "stream",
     "text": [
      "Successfully loaded ArchRProject!\n",
      "\n",
      "\n",
      "                                                   / |\n",
      "                                                 /    \\\n",
      "            .                                  /      |.\n",
      "            \\\\\\                              /        |.\n",
      "              \\\\\\                          /           `|.\n",
      "                \\\\\\                      /              |.\n",
      "                  \\                    /                |\\\n",
      "                  \\\\#####\\           /                  ||\n",
      "                ==###########>      /                   ||\n",
      "                 \\\\##==......\\    /                     ||\n",
      "            ______ =       =|__ /__                     ||      \\\\\\\n",
      "        ,--' ,----`-,__ ___/'  --,-`-===================##========>\n",
      "       \\               '        ##_______ _____ ,--,__,=##,__   ///\n",
      "        ,    __==    ___,-,__,--'#'  ==='      `-'    | ##,-/\n",
      "        -,____,---'       \\\\####\\\\________________,--\\\\_##,/\n",
      "           ___      .______        ______  __    __  .______      \n",
      "          /   \\     |   _  \\      /      ||  |  |  | |   _  \\     \n",
      "         /  ^  \\    |  |_)  |    |  ,----'|  |__|  | |  |_)  |    \n",
      "        /  /_\\  \\   |      /     |  |     |   __   | |      /     \n",
      "       /  _____  \\  |  |\\  \\\\___ |  `----.|  |  |  | |  |\\  \\\\___.\n",
      "      /__/     \\__\\ | _| `._____| \\______||__|  |__| | _| `._____|\n",
      "    \n",
      "\n"
     ]
    }
   ],
   "source": [
    "all_combined<-loadArchRProject(path=\"~/TCGA/ArchR_Projects/Cancer_controls_combined/BRCA_case_control_ArchR_NEW\")\n"
   ]
  },
  {
   "cell_type": "code",
   "execution_count": 19,
   "metadata": {
    "vscode": {
     "languageId": "r"
    }
   },
   "outputs": [],
   "source": [
    "# Load saved lsi\n",
    "lsi <- getReducedDims(proj_featal_invivo, reducedDims = \"IterativeLSI\", returnMatrix = FALSE)\n",
    "\n",
    "# Load Saved UMAP Manifold\n",
    "umap <- getEmbedding(proj_featal_invivo, embedding = \"UMAP\", returnDF = FALSE)\n",
    "#umapManifold <- uwot::load_uwot(umap$params$uwotModel[1])\n",
    "umapManifold <- uwot::load_uwot('~/TCGA/ArchR_Projects/controls/breast_control_Archr/Embeddings/Save-Uwot-UMAP-Params-Harmony-77b925053e6-Date-2020-09-14_Time-12-04-04.tar')\n"
   ]
  },
  {
   "cell_type": "code",
   "execution_count": null,
   "metadata": {
    "vscode": {
     "languageId": "r"
    }
   },
   "outputs": [
    {
     "name": "stderr",
     "output_type": "stream",
     "text": [
      "ArchR logging to : ArchRLogs/ArchR-getMatrixFromProject-4ff91ec9fd97-Date-2023-06-19_Time-11-41-57.log\n",
      "If there is an issue, please report to github with logFile!\n",
      "\n",
      "2023-06-19 11:55:36 : Organizing colData, 13.647 mins elapsed.\n",
      "\n",
      "2023-06-19 11:55:37 : Organizing rowData, 13.666 mins elapsed.\n",
      "\n",
      "2023-06-19 11:55:37 : Organizing rowRanges, 13.667 mins elapsed.\n",
      "\n",
      "2023-06-19 11:55:37 : Organizing Assays (1 of 1), 13.668 mins elapsed.\n",
      "\n"
     ]
    }
   ],
   "source": [
    "se<-getMatrixFromProject(all_combined,useMatrix = \"PeakMatrix\")\n",
    "se\n"
   ]
  },
  {
   "cell_type": "code",
   "execution_count": 37,
   "metadata": {
    "vscode": {
     "languageId": "r"
    }
   },
   "outputs": [
    {
     "data": {
      "text/html": [
       "<style>\n",
       ".list-inline {list-style: none; margin:0; padding: 0}\n",
       ".list-inline>li {display: inline-block}\n",
       ".list-inline>li:not(:last-child)::after {content: \"\\00b7\"; padding: 0 .5ex}\n",
       "</style>\n",
       "<ol class=list-inline><li>506237</li><li>18</li></ol>\n"
      ],
      "text/latex": [
       "\\begin{enumerate*}\n",
       "\\item 506237\n",
       "\\item 18\n",
       "\\end{enumerate*}\n"
      ],
      "text/markdown": [
       "1. 506237\n",
       "2. 18\n",
       "\n",
       "\n"
      ],
      "text/plain": [
       "[1] 506237     18"
      ]
     },
     "metadata": {},
     "output_type": "display_data"
    }
   ],
   "source": [
    "peakset_combined<-(data.frame(getPeakSet(all_combined)))\n",
    "dim(peakset_combined)"
   ]
  },
  {
   "cell_type": "code",
   "execution_count": null,
   "metadata": {
    "vscode": {
     "languageId": "r"
    }
   },
   "outputs": [],
   "source": [
    "coldata<-getCellColData(proj_all_invitro_peaks)\n",
    "coldata[coldata$Sample %like% \"BRCA_2A65DC63_F8CC_4EF4_AB23_3F5FD880FB5E\", 'subtype1']<-'BASAL1'\n",
    "coldata[coldata$Sample %like% \"BRCA_7C6A3AE4_E2EA_42B3_B3F1_81C19E6F2170\", 'subtype1']<-'BASAL2'\n",
    "coldata[coldata$Sample %like% \"BRCA_CB96A542_7AC1_4FEC_A5D2_458D8EEDC6C4\", 'subtype1']<-'BASAL3'\n",
    "coldata[coldata$Sample %like% \"BRCA_DD69EDE9_142D_46E2_AA06_58D07D3230FB\", 'subtype1']<-'BASAL4'\n",
    "coldata[coldata$Sample %like% \"BRCA_CC102C17_C1CA_427A_8C7D_D3E79748A0CD\", 'subtype1']<-'BASAL5'\n",
    "coldata[coldata$Sample %like% \"scATAC_BRCA_8D1E6006_85CB_484A_8B5C_30766D90137B_X001_S01_B1_T1\", 'subtype1']<-'HER2_1'\n",
    "coldata[coldata$Sample %like% \"scATAC_BRCA_8D1E6006_85CB_484A_8B5C_30766D90137B_X003_S03_B1_T2\", 'subtype1']<-'HER2_1a'\n",
    "coldata[coldata$Sample %like% \"BRCA_C147AAD5_A8F1_41D5_8709_21820BE50902\", 'subtype1']<-'HER2_2'\n",
    "coldata[coldata$Sample %like% \"BRCA_94AF19F0_1F2A_41EC_8CB6_96C76227811F\", 'subtype1']<-'HER2_3'\n",
    "coldata[coldata$Sample %like% \"BRCA_1D939DC3_EF0C_40BF_BC60_8C5D46345265\", 'subtype1']<-'HER2_4'\n",
    "coldata[coldata$Sample %like% \"BRCA_11D015DD_1250_48BC_8B5D_3262C97F164B\", 'subtype1']<-'HER2_5'\n",
    "coldata[coldata$Sample %like% \"BRCA_08499A64_3FD8_4E62_AF08_3C66AF93CAE7\", 'subtype1']<-'LumA_1'\n",
    "coldata[coldata$Sample %like% \"BRCA_5C54B79C_DA02_4B22_9FC2_3D61BFFC5559\", 'subtype1']<-'LumA_2'\n",
    "coldata[coldata$Sample %like% \"BRCA_A91AADEA_8299_46D9_A250_76896D690AFD\", 'subtype1']<-'LumA_3'\n",
    "coldata[coldata$Sample %like% \"BRCA_14AD76EE_12F9_40B3_8DCD_4A256E02CF8D\", 'subtype1']<-'LumB_4'\n",
    "coldata[coldata$Sample %like% \"BRCA_C9C8D426_A3FD_4455_89A9_768BC01D66A9\", 'subtype1']<-'LumB_5'\n",
    "\n",
    "proj_all_invitro_peaks$subtype1<-coldata$subtype1\n"
   ]
  },
  {
   "cell_type": "code",
   "execution_count": null,
   "metadata": {},
   "outputs": [],
   "source": [
    "samples_with_cnv <- c('scATAC_BRCA_08499A64_3FD8_4E62_AF08_3C66AF93CAE7_X009_S01_B1_T1',\n",
    "                      # 'scATAC_BRCA_11D015DD_1250_48BC_8B5D_3262C97F164B_X007_S02_B1_T1',\n",
    "                      'scATAC_BRCA_14AD76EE_12F9_40B3_8DCD_4A256E02CF8D_X003_S02_B1_T1',\n",
    "                      'scATAC_BRCA_1D939DC3_EF0C_40BF_BC60_8C5D46345265_X004_S02_B1_T1',\n",
    "                      'scATAC_BRCA_2A65DC63_F8CC_4EF4_AB23_3F5FD880FB5E_X010_S02_B1_T1',\n",
    "                      'scATAC_BRCA_5C54B79C_DA02_4B22_9FC2_3D61BFFC5559_X011_S02_B1_T1',\n",
    "                      'scATAC_BRCA_7C6A3AE4_E2EA_42B3_B3F1_81C19E6F2170_X005_S02_B1_T1',\n",
    "                      'scATAC_BRCA_8D1E6006_85CB_484A_8B5C_30766D90137B_X001_S01_B1_T1',\n",
    "                      'scATAC_BRCA_8D1E6006_85CB_484A_8B5C_30766D90137B_X003_S03_B1_T2',\n",
    "                      'scATAC_BRCA_94AF19F0_1F2A_41EC_8CB6_96C76227811F_X013_S01_B1_T1',\n",
    "                      'scATAC_BRCA_A91AADEA_8299_46D9_A250_76896D690AFD_X006_S02_B1_T1',\n",
    "                      'scATAC_BRCA_C147AAD5_A8F1_41D5_8709_21820BE50902_X008_S02_B1_T1',\n",
    "                      'scATAC_BRCA_C9C8D426_A3FD_4455_89A9_768BC01D66A9_X009_S02_B1_T1',\n",
    "                      'scATAC_BRCA_CB96A542_7AC1_4FEC_A5D2_458D8EEDC6C4_X013_S06_B1_T1',\n",
    "                      'scATAC_BRCA_CC102C17_C1CA_427A_8C7D_D3E79748A0CD_X012_S07_B1_T1',\n",
    "                      'scATAC_BRCA_DD69EDE9_142D_46E2_AA06_58D07D3230FB_X014_S08_B1_T1')"
   ]
  },
  {
   "cell_type": "markdown",
   "metadata": {},
   "source": [
    "# with CNV correction\n",
    "\n",
    "## and CNV cutoffs\n",
    "\n",
    "### disease version"
   ]
  },
  {
   "cell_type": "code",
   "execution_count": null,
   "metadata": {
    "tags": [],
    "vscode": {
     "languageId": "r"
    }
   },
   "outputs": [],
   "source": [
    "pltdiffs_cnv <- list()\n",
    "img<-c()\n",
    "##################WITH CNV NORMALIZATION\n",
    "for(i in samples_with_cnv){\n",
    "sampleName=i\n",
    "print(i)\n",
    "coldata_color<-getCellColData(proj_all_invitro_peaks)\n",
    "subtype_name<-unique(coldata_color[coldata_color$Sample==i,]$subtype1)\n",
    "print(sampleName)\n",
    "mat_se <- getMatrixFromArrow(\n",
    "  ArrowFile = paste0(\"~/TCGA/ArchR_Projects/aggregated_cancertypes_NEW/BRCA_ArchR/ArrowFiles/\", sampleName, \".arrow\"),\n",
    "  useMatrix = \"TileMatrix\",\n",
    "  cellNames = rownames(proj_all_invitro_peaks[proj_all_invitro_peaks$Sample==sampleName,]),\n",
    "  useSeqnames = NULL,\n",
    "  ArchRProj = proj_all_invitro_peaks,\n",
    "  verbose = TRUE,\n",
    "  binarize = TRUE\n",
    ")\n",
    "\n",
    "lsiProjection <- projectLSI(mat_se, lsi)\n",
    "#UMAP Projection\n",
    "set.seed(1)\n",
    "umapProjection <- uwot::umap_transform(as.matrix(lsiProjection)[,1:30], umapManifold, verbose = TRUE)\n",
    "#Plot Projection\n",
    "refDF <- data.frame(row.names = proj_featal_invivo$CellNames , X1 = umapManifold$embedding[,1], X2 = umapManifold$embedding[,2], Type = \"reference\")\n",
    "proDF <- data.frame(row.names = proj_all_invitro_peaks$CellNames, X1 = umapProjection[,1], X2 = umapProjection[,2], Type = subtype_name)\n",
    "projectionDF <- rbind(refDF, proDF)\n",
    "#\n",
    "plotParams <- list()\n",
    "plotParams$x <- projectionDF[, 'X1']\n",
    "plotParams$y <- projectionDF[, 'X2']\n",
    "plotParams$title <- \" Colored by Clusters\"\n",
    "plotParams$baseSize <- 10\n",
    "plotParams$xlabel <- \"UMAP Dimension 1\"\n",
    "plotParams$ylabel <- \"UMAP Dimension 2\"\n",
    "plotParams$color <- as.character(projectionDF$Type)\n",
    "plotParams$size <- 0.2\n",
    "plotParams$randomize <- TRUE\n",
    "plotParams$pal <-c(\"reference\"=\"#E0ECFF\",\"BASAL1\"=\"#ffa07a\", \"BASAL2\"=\"#f08080\", \"BASAL3\"=\"#fa8072\", \"BASAL4\"=\"#e9967a\", \"BASAL5\"=\"#ff6347\", \n",
    "\"HER2_1\"=\"#cd5c5c\", \"HER2_1a\"=\"#ff4500\", \"HER2_2\"=\"#dc143c\", \"HER2_3\"=\"#b22222\", \"HER2_4\"=\"#8b0000\", \n",
    "\"HER2_5\"=\"#800000\", \"LumA_1\"=\"#ff9999\",  \"LumA_2\"=\"#ff6961\", \"LumA_3\"=\"#da614e\",\"LumB_4\"=\"#ea3c53\",\n",
    "\"LumB_5\"=\"#d9603b\")\n",
    "plotParams$labelMeans <- FALSE\n",
    "gg<-do.call(ggPoint,plotParams)\n",
    "gg\n",
    "#\n",
    "#plotPDF(gg, name = paste0(sampleName,'_cancer_Vs_control'), width = 8, height = 8, ArchRProj = proj_all_invitro_peaks, addDOC = FALSE)\n",
    "#break\n",
    "    \n",
    "#Enhancers differential \n",
    "#differentials between the nearest neighbours  \n",
    "#enhancers and enhacer and gene links \n",
    "#Input Parameters\n",
    "input_knn <- 25\n",
    "\n",
    "#LSI-SVD\n",
    "svdReference <- as.data.frame(lsi$matSVD) #loaded lsi\n",
    "svdDisease <- as.data.frame(as.matrix(lsiProjection)) # defined from projectLSI\n",
    "\n",
    "#KNN Nearest Neighbor using FNN #find 25 nn cells\n",
    "library(FNN)\n",
    "set.seed(1)\n",
    "knnDisease <- get.knnx(\n",
    "    data = svdReference,\n",
    "    query = svdDisease,\n",
    "    k = input_knn)\n",
    "\n",
    "\n",
    "#the peaks must be from the combined object so we have both the peaks for comparison\n",
    "#the nearest neighbours is done on the fetal heart alone . \n",
    "#the peaks for differentials are from a combined plot of both \n",
    "head(knnDisease$nn.index[,1])\n",
    "uniqueIdx <- unique(as.vector(knnDisease$nn.index))\n",
    "length(uniqueIdx)\n",
    "#knnDisease$nn.index\n",
    "#Reference cells for testing\n",
    "idxReference <- rownames(svdReference)[uniqueIdx]\n",
    "#idxReference <- rownames(svdReference)\n",
    "idxDisease <- colnames(mat_se)\n",
    "idxDisease<-setdiff(idxDisease,setdiff(idxDisease,  rownames(all_combined)))\n",
    "#If there are more healthy cells downsample healthy cells\n",
    "#If there are more disease cells downasmple disease cells\n",
    "if(length(idxReference) > length(idxDisease)){\n",
    "    idxReference <- sample(idxReference, length(idxDisease))\n",
    "}else{\n",
    "    idxDisease <- sample(idxDisease, length(idxReference))\n",
    "}\n",
    "promoterPeaks <- subjectHits(findOverlaps(resize(getTSS(all_combined), 500 * 2 + 1), getPeakSet(all_combined), ignore.strand=TRUE))\n",
    "\n",
    "    \n",
    "    \n",
    "##############################cnv normalization############################\n",
    "    \n",
    "peakset_combined<-(data.frame(getPeakSet(all_combined)))\n",
    "peakset_combined<-peakset_combined[c('seqnames','start','end')]\n",
    "\n",
    "## reading cnv \n",
    "deletions<-data.frame()\n",
    "a<-unique(proj_all_invitro_peaks$Sample)\n",
    "b<-strsplit(i,split='_', fixed=TRUE)\n",
    "    sample_name<- paste(b[[1]][3],b[[1]][4],b[[1]][5],b[[1]][6],b[[1]][7],sep=\"_\" )\n",
    "    if (sample_name %ni% c('11D015DD_1250_48BC_8B5D_3262C97F164B','0914606C_2CA1_4287_B530_DB70EA93ED6C','57255B8E_9085_4CDF_98DE_B4858BFF5789',\n",
    "                          '74EF44ED_9B3A_4E21_9E86_6C753CF94F4F','5786B3A8_42EB_47D3_A498_7FB1B3396376','F62461A5_6358_41C0_9435_01FA2C47868F',\n",
    "                          '3AB3B701_7C1B_488C_B975_0F6F80F0CB57','DFEC4B50_8B95_4E6C_B78D_D68B890C66FE','0852FA43_7577_4456_8033_9A9156A7B258',\n",
    "                          '211D9CF4_3348_4DCD_8A01_6827435DDB3D','398F831B_A6C7_40D9_9EC4_16CECA35AEA2','8F708E04_2936_4E85_85C2_D1431003898B',\n",
    "                          'F05B8E69_5AD9_4FCF_8980_1307F35BD173','F15664E6_AE19_4B59_971A_8FC8E05CF921','FDA487D2_5293_4315_9212_3836856CCFFB',\n",
    "                          'FE986D7E_FB8B_4B58_A50C_CAED05FFCAA5')) {\n",
    "    file_name<-paste(sample_name,'.csv',sep=\"\")\n",
    "    CNV_calls<-read.csv(paste('~/TCGA/Synapse/cleaned_AWS/',file_name,sep=\"\"))\n",
    "    CNV_calls$sample_name<-sample_name\n",
    "    deletions<-rbind(deletions,CNV_calls)\n",
    "    }\n",
    "\n",
    "\n",
    "### Mapping the CNV regions \n",
    "peakmatches <- findOverlaps(GRanges(peakset_combined), GRanges(deletions))\n",
    "tilemat_granges<-GRanges(peakset_combined)\n",
    "ignore_deletions <- tilemat_granges[queryHits(peakmatches)]\n",
    "copynumber_Call_obj <- GRanges(deletions)[subjectHits(peakmatches)] \n",
    "ignore_deletions$copy_number<-copynumber_Call_obj$Copy_Number\n",
    "##\n",
    "ignore_deletions<-data.frame(ignore_deletions)\n",
    "##\n",
    "jointdataset <- merge(peakset_combined,ignore_deletions, by = c('seqnames','start','end'),all.x=TRUE)\n",
    "jointdataset$id<-paste(as.character(jointdataset$seqnames),'_',as.character(jointdataset$start),'_',as.character(jointdataset$end),sep=',')\n",
    "rownames(jointdataset)<-jointdataset$id\n",
    "\n",
    "# OLD version\n",
    "# jointdataset$CNV<-jointdataset$copy_number\n",
    "# jointdataset$CNV_forignoring<-jointdataset$copy_number\n",
    "# jointdataset[is.na(jointdataset$CNV),'CNV'] <- 1\n",
    "# jointdataset[jointdataset$CNV==0,'CNV'] <- 1\n",
    "# jointdataset[jointdataset$CNV==2,'CNV'] <- 1\n",
    "    \n",
    "# FIXED\n",
    "jointdataset$CNV<-jointdataset$copy_number\n",
    "\n",
    "jointdataset$CNV_multiplicator<-jointdataset$copy_number  \n",
    "jointdataset[is.na(jointdataset$CNV_multiplicator),'CNV_multiplicator'] <- 3\n",
    "jointdataset[jointdataset$CNV_multiplicator !=1,'CNV_multiplicator'] <- 3\n",
    "jointdataset[jointdataset$CNV_multiplicator <=1,'CNV_multiplicator'] <- 2\n",
    "jointdataset[jointdataset$CNV_multiplicator ==3,'CNV_multiplicator'] <- 1\n",
    "\n",
    "\n",
    "jointdataset$CNV<-(jointdataset$CNV)/2\n",
    "#jointdataset$CNV_forignoring<-jointdataset$copy_number\n",
    "jointdataset[is.na(jointdataset$CNV),'CNV'] <- 1\n",
    "jointdataset[jointdataset$CNV<=1,'CNV'] <- 1\n",
    "#\n",
    "    \n",
    "# ALSO OLD version\n",
    "# jointdataset[is.na(jointdataset$CNV_forignoring),'CNV_forignoring'] <- 2\n",
    "# jointdataset[jointdataset$CNV_forignoring==0,'CNV_forignoring'] <- 0\n",
    "# jointdataset[jointdataset$CNV_forignoring==1,'CNV_forignoring'] <- 0\n",
    "print(dim(jointdataset))\n",
    "#\n",
    "peak_Se<-se\n",
    "peak_Se\n",
    "rownames(peak_Se)<-jointdataset$id\n",
    "peak_Se\n",
    "matDisease1 <- assay(peak_Se[,idxDisease])\n",
    "#\n",
    "matDisease1<- matDisease1*jointdataset$CNV_multiplicator  \n",
    "#\n",
    "matDisease1_normalized<- matDisease1/jointdataset$CNV\n",
    "dim(matDisease1_normalized)\n",
    "    \n",
    "matDisease<- matDisease1_normalized \n",
    "\n",
    "#matDisease<-matDisease1_normalized[jointdataset[jointdataset$CNV_forignoring!=0,'id'],]\n",
    "matHealthy_SUBSETTED <- assay(peak_Se[,idxReference])\n",
    "#matHealthy<-matHealthy_SUBSETTED[jointdataset[jointdataset$CNV_forignoring!=0,'id'],]\n",
    "\n",
    "matHealthy<-matHealthy_SUBSETTED\n",
    "########################################\n",
    "    \n",
    "#rowsums_disease <- rowSums(matDisease)\n",
    "#idx<-which(rowsums_disease > 100, arr.ind=TRUE)\n",
    "########################################\n",
    "#matDisease_sub <- matDisease[idx, ]\n",
    "#matHealthy_sub <- matHealthy[idx, ]\n",
    "    \n",
    "#matDisease <- matDisease_sub\n",
    "#matHealthy <- matHealthy_sub\n",
    "    \n",
    "#matHealthy <- assay(se[,idxReference])\n",
    "#matDisease <- assay(se[,idxDisease])\n",
    "#Normalize to scaleTo\n",
    "#######SKIP THE PROMOTER NORM DUE TO MISMATCH\n",
    "#######\n",
    "#promoterpks <- setdiff(jointdataset[promoterPeaks,'id'], setdiff(jointdataset[promoterPeaks,'id'], rownames(matDisease)))\n",
    "#matNormDisease <- t(t(matDisease)/Matrix::colSums(matDisease[promoterpks,])) * 5000\n",
    "#matNormHealthy <- t(t(matHealthy)/Matrix::colSums(matHealthy[promoterpks,])) * 5000\n",
    "#\n",
    "matNormDisease <- t(t(matDisease)/Matrix::colSums(matDisease)) * 5000\n",
    "matNormHealthy <- t(t(matHealthy)/Matrix::colSums(matHealthy)) * 5000\n",
    "   \n",
    "#T-Test Comparisons\n",
    "dfTT <- sparseMatTTest(matNormDisease, matNormHealthy)\n",
    "dfTT$feature <- rownames(matNormDisease)\n",
    "dfTT$log2Mean <- log2(rowMeans(cbind(dfTT$mean1, dfTT$mean2)) + 10^-4)\n",
    "dfTT$log2FC <- log2((dfTT$mean1 + 10^-4)/(dfTT$mean2 + 10^-4))\n",
    "plotDiff <- data.frame(row.names=row.names(dfTT),log2Mean=dfTT$log2Mean,log2FC=dfTT$log2FC,FDR=dfTT$fdr)\n",
    "#plotDiff <- plotDiff[complete.cases(plotDiff),]\n",
    "plotDiff$type <- \"not-differential\"\n",
    "plotDiff$type[plotDiff$log2FC > 1 & plotDiff$FDR < 0.05] <- \"up-regulated\"\n",
    "plotDiff$type[plotDiff$log2FC < -1 & plotDiff$FDR < 0.05] <- \"do-regulated\"\n",
    "\n",
    "\n",
    "print(dim(plotDiff[plotDiff$type=='up-regulated',]))\n",
    "print(dim(plotDiff[plotDiff$type=='do-regulated',]))\n",
    "print(dim(plotDiff[plotDiff$type=='not-differential',]))\n",
    "\n",
    "\n",
    "gg1<-ggplot(plotDiff, aes(log2Mean,log2FC,color=type)) + \n",
    "    geom_point(size=0.5) +\n",
    "    theme_bw() +\n",
    "    xlab(\"log2 Mean\") + \n",
    "    ylab(\"log2 Fold Change\") +\n",
    "    scale_color_manual(values=c(\"not-differential\"=\"lightgrey\", \"do-regulated\"=\"dodgerblue3\", \"up-regulated\"=\"firebrick3\"))\n",
    "\n",
    "img<-c(img,gg1)\n",
    "\n",
    "#plotPDF(gg1, name = paste0(sampleName,'_cancer_Vs_control_MA'), width = 8, height = 8, ArchRProj = proj_all_invitro_peaks, addDOC = FALSE)\n",
    "# break\n",
    "pltdiffs_cnv[[paste(subtype_name, sample_name, sep=': ')]] <- plotDiff\n",
    "}"
   ]
  },
  {
   "cell_type": "code",
   "execution_count": null,
   "metadata": {
    "vscode": {
     "languageId": "r"
    }
   },
   "outputs": [],
   "source": [
    "for (sample in names(pltdiffs_cnv)){\n",
    "    fname = paste(str_split_1(sample, ':')[1], '_cnvcrctv5_gt100_promoterpknorm.csv', sep='')\n",
    "    write.csv(pltdiffs_cnv[[sample]], paste('~/tmp/results/', fname, sep=''))\n",
    "}"
   ]
  },
  {
   "cell_type": "markdown",
   "metadata": {},
   "source": [
    "### healthy version"
   ]
  },
  {
   "cell_type": "code",
   "execution_count": null,
   "metadata": {
    "vscode": {
     "languageId": "r"
    }
   },
   "outputs": [],
   "source": [
    "pltdiffs_cnv_h <- list()##################WITH CNV NORMALIZATION\n",
    "for(i in samples_with_cnv){\n",
    "sampleName=i\n",
    "print(i)\n",
    "coldata_color<-getCellColData(proj_all_invitro_peaks)\n",
    "subtype_name<-unique(coldata_color[coldata_color$Sample==i,]$subtype1)\n",
    "print(sampleName)\n",
    "mat_se <- getMatrixFromArrow(\n",
    "  ArrowFile = paste0(\"~/TCGA/ArchR_Projects/aggregated_cancertypes_NEW/BRCA_ArchR/ArrowFiles/\", sampleName, \".arrow\"),\n",
    "  useMatrix = \"TileMatrix\",\n",
    "  cellNames = rownames(proj_all_invitro_peaks[proj_all_invitro_peaks$Sample==sampleName,]),\n",
    "  useSeqnames = NULL,\n",
    "  ArchRProj = proj_all_invitro_peaks,\n",
    "  verbose = TRUE,\n",
    "  binarize = TRUE\n",
    ")\n",
    "\n",
    "lsiProjection <- projectLSI(mat_se, lsi)\n",
    "#UMAP Projection\n",
    "set.seed(1)\n",
    "umapProjection <- uwot::umap_transform(as.matrix(lsiProjection)[,1:30], umapManifold, verbose = TRUE)\n",
    "#Plot Projection\n",
    "refDF <- data.frame(row.names = proj_featal_invivo$CellNames , X1 = umapManifold$embedding[,1], X2 = umapManifold$embedding[,2], Type = \"reference\")\n",
    "proDF <- data.frame(row.names = proj_all_invitro_peaks$CellNames, X1 = umapProjection[,1], X2 = umapProjection[,2], Type = subtype_name)\n",
    "projectionDF <- rbind(refDF, proDF)\n",
    "#\n",
    "plotParams <- list()\n",
    "plotParams$x <- projectionDF[, 'X1']\n",
    "plotParams$y <- projectionDF[, 'X2']\n",
    "plotParams$title <- \" Colored by Clusters\"\n",
    "plotParams$baseSize <- 10\n",
    "plotParams$xlabel <- \"UMAP Dimension 1\"\n",
    "plotParams$ylabel <- \"UMAP Dimension 2\"\n",
    "plotParams$color <- as.character(projectionDF$Type)\n",
    "plotParams$size <- 0.2\n",
    "plotParams$randomize <- TRUE\n",
    "plotParams$pal <-c(\"reference\"=\"#E0ECFF\",\"BASAL1\"=\"#ffa07a\", \"BASAL2\"=\"#f08080\", \"BASAL3\"=\"#fa8072\", \"BASAL4\"=\"#e9967a\", \"BASAL5\"=\"#ff6347\", \n",
    "\"HER2_1\"=\"#cd5c5c\", \"HER2_1a\"=\"#ff4500\", \"HER2_2\"=\"#dc143c\", \"HER2_3\"=\"#b22222\", \"HER2_4\"=\"#8b0000\", \n",
    "\"HER2_5\"=\"#800000\", \"LumA_1\"=\"#ff9999\",  \"LumA_2\"=\"#ff6961\", \"LumA_3\"=\"#da614e\",\"LumB_4\"=\"#ea3c53\",\n",
    "\"LumB_5\"=\"#d9603b\")\n",
    "plotParams$labelMeans <- FALSE\n",
    "gg<-do.call(ggPoint,plotParams)\n",
    "gg\n",
    "#\n",
    "#plotPDF(gg, name = paste0(sampleName,'_cancer_Vs_control'), width = 8, height = 8, ArchRProj = proj_all_invitro_peaks, addDOC = FALSE)\n",
    "#break\n",
    "    \n",
    "#Enhancers differential \n",
    "#differentials between the nearest neighbours  \n",
    "#enhancers and enhacer and gene links \n",
    "#Input Parameters\n",
    "input_knn <- 25\n",
    "\n",
    "#LSI-SVD\n",
    "svdReference <- as.data.frame(lsi$matSVD) #loaded lsi\n",
    "svdDisease <- as.data.frame(as.matrix(lsiProjection)) # defined from projectLSI\n",
    "\n",
    "#KNN Nearest Neighbor using FNN #find 25 nn cells\n",
    "library(FNN)\n",
    "set.seed(1)\n",
    "knnDisease <- get.knnx(\n",
    "    data = svdReference,\n",
    "    query = svdDisease,\n",
    "    k = input_knn)\n",
    "\n",
    "\n",
    "#the peaks must be from the combined object so we have both the peaks for comparison\n",
    "#the nearest neighbours is done on the fetal heart alone . \n",
    "#the peaks for differentials are from a combined plot of both \n",
    "head(knnDisease$nn.index[,1])\n",
    "uniqueIdx <- unique(as.vector(knnDisease$nn.index))\n",
    "length(uniqueIdx)\n",
    "#knnDisease$nn.index\n",
    "#Reference cells for testing\n",
    "#idxReference <- rownames(svdReference)[uniqueIdx]\n",
    "idxReference <- rownames(svdReference)\n",
    "idxDisease <- colnames(mat_se)\n",
    "idxDisease<-setdiff(idxDisease,setdiff(idxDisease,  rownames(all_combined)))\n",
    "#If there are more healthy cells downsample healthy cells\n",
    "#If there are more disease cells downasmple disease cells\n",
    "if(length(idxReference) > length(idxDisease)){\n",
    "    idxReference <- sample(idxReference, length(idxDisease))\n",
    "}else{\n",
    "    idxDisease <- sample(idxDisease, length(idxReference))\n",
    "}\n",
    "promoterPeaks <- subjectHits(findOverlaps(resize(getTSS(all_combined), 500 * 2 + 1), getPeakSet(all_combined), ignore.strand=TRUE))\n",
    "\n",
    "    \n",
    "    \n",
    "##############################cnv normalization############################\n",
    "    \n",
    "peakset_combined<-(data.frame(getPeakSet(all_combined)))\n",
    "peakset_combined<-peakset_combined[c('seqnames','start','end')]\n",
    "\n",
    "## reading cnv \n",
    "deletions<-data.frame()\n",
    "a<-unique(proj_all_invitro_peaks$Sample)\n",
    "b<-strsplit(i,split='_', fixed=TRUE)\n",
    "    sample_name<- paste(b[[1]][3],b[[1]][4],b[[1]][5],b[[1]][6],b[[1]][7],sep=\"_\" )\n",
    "    if (sample_name %ni% c('11D015DD_1250_48BC_8B5D_3262C97F164B','0914606C_2CA1_4287_B530_DB70EA93ED6C','57255B8E_9085_4CDF_98DE_B4858BFF5789',\n",
    "                          '74EF44ED_9B3A_4E21_9E86_6C753CF94F4F','5786B3A8_42EB_47D3_A498_7FB1B3396376','F62461A5_6358_41C0_9435_01FA2C47868F',\n",
    "                          '3AB3B701_7C1B_488C_B975_0F6F80F0CB57','DFEC4B50_8B95_4E6C_B78D_D68B890C66FE','0852FA43_7577_4456_8033_9A9156A7B258',\n",
    "                          '211D9CF4_3348_4DCD_8A01_6827435DDB3D','398F831B_A6C7_40D9_9EC4_16CECA35AEA2','8F708E04_2936_4E85_85C2_D1431003898B',\n",
    "                          'F05B8E69_5AD9_4FCF_8980_1307F35BD173','F15664E6_AE19_4B59_971A_8FC8E05CF921','FDA487D2_5293_4315_9212_3836856CCFFB',\n",
    "                          'FE986D7E_FB8B_4B58_A50C_CAED05FFCAA5')) {\n",
    "    file_name<-paste(sample_name,'.csv',sep=\"\")\n",
    "    CNV_calls<-read.csv(paste('~/TCGA/Synapse/cleaned_AWS/',file_name,sep=\"\"))\n",
    "    CNV_calls$sample_name<-sample_name\n",
    "    deletions<-rbind(deletions,CNV_calls)\n",
    "    }\n",
    "\n",
    "\n",
    "### Mapping the CNV regions \n",
    "peakmatches <- findOverlaps(GRanges(peakset_combined), GRanges(deletions))\n",
    "tilemat_granges<-GRanges(peakset_combined)\n",
    "ignore_deletions <- tilemat_granges[queryHits(peakmatches)]\n",
    "copynumber_Call_obj <- GRanges(deletions)[subjectHits(peakmatches)] \n",
    "ignore_deletions$copy_number<-copynumber_Call_obj$Copy_Number\n",
    "##\n",
    "ignore_deletions<-data.frame(ignore_deletions)\n",
    "##\n",
    "jointdataset <- merge(peakset_combined,ignore_deletions, by = c('seqnames','start','end'),all.x=TRUE)\n",
    "jointdataset$id<-paste(as.character(jointdataset$seqnames),'_',as.character(jointdataset$start),'_',as.character(jointdataset$end),sep=',')\n",
    "rownames(jointdataset)<-jointdataset$id\n",
    "# OLD version\n",
    "# jointdataset$CNV<-jointdataset$copy_number\n",
    "# jointdataset$CNV_forignoring<-jointdataset$copy_number\n",
    "# jointdataset[is.na(jointdataset$CNV),'CNV'] <- 1\n",
    "# jointdataset[jointdataset$CNV==0,'CNV'] <- 1\n",
    "# jointdataset[jointdataset$CNV==2,'CNV'] <- 1\n",
    "    \n",
    "# FIXED\n",
    "jointdataset$CNV<-jointdataset$copy_number\n",
    "jointdataset$CNV<-(jointdataset$CNV)/2\n",
    "# jointdataset$CNV_forignoring<-jointdataset$copy_number\n",
    "jointdataset[is.na(jointdataset$CNV),'CNV'] <- 1\n",
    "jointdataset[jointdataset$CNV<=1,'CNV'] <- 1\n",
    "#\n",
    "    \n",
    "# ALSO OLD version\n",
    "# jointdataset[is.na(jointdataset$CNV_forignoring),'CNV_forignoring'] <- 2\n",
    "# jointdataset[jointdataset$CNV_forignoring==0,'CNV_forignoring'] <- 0\n",
    "# jointdataset[jointdataset$CNV_forignoring==1,'CNV_forignoring'] <- 0\n",
    "print(dim(jointdataset))\n",
    "#\n",
    "    \n",
    "peak_Se<-se\n",
    "peak_Se\n",
    "rownames(peak_Se)<-jointdataset$id\n",
    "peak_Se\n",
    "matDisease1 <- assay(peak_Se[,idxDisease])\n",
    "matDisease1_normalized<- matDisease1/jointdataset$CNV\n",
    "dim(matDisease1_normalized)\n",
    "    \n",
    "matDisease<- matDisease1_normalized \n",
    "\n",
    "#matDisease<-matDisease1_normalized[jointdataset[jointdataset$CNV_forignoring!=0,'id'],]\n",
    "matHealthy_SUBSETTED <- assay(peak_Se[,idxReference])\n",
    "#matHealthy<-matHealthy_SUBSETTED[jointdataset[jointdataset$CNV_forignoring!=0,'id'],]\n",
    "\n",
    "matHealthy<-matHealthy_SUBSETTED\n",
    "########################################\n",
    "    \n",
    "# rowsums_disease <- rowSums(matDisease)\n",
    "# idx<-which(rowsums_disease > 100, arr.ind=TRUE)\n",
    "rowsums_healthy <- rowSums(matHealthy)\n",
    "idx<-which(rowsums_healthy > 100, arr.ind=TRUE)\n",
    "matDisease_sub <- matDisease[idx, ]\n",
    "matHealthy_sub <- matHealthy[idx, ]\n",
    "    \n",
    "matDisease <- matDisease_sub\n",
    "matHealthy <- matHealthy_sub\n",
    "    \n",
    "#matHealthy <- assay(se[,idxReference])\n",
    "#matDisease <- assay(se[,idxDisease])\n",
    "#Normalize to scaleTo\n",
    "#######SKIP THE PROMOTER NORM DUE TO MISMATCH\n",
    "#######\n",
    "promoterpks <- setdiff(jointdataset[promoterPeaks,'id'], setdiff(jointdataset[promoterPeaks,'id'], rownames(matDisease)))\n",
    "matNormDisease <- t(t(matDisease)/Matrix::colSums(matDisease[promoterpks,])) * 5000\n",
    "matNormHealthy <- t(t(matHealthy)/Matrix::colSums(matHealthy[promoterpks,])) * 5000\n",
    "#T-Test Comparisons\n",
    "dfTT <- sparseMatTTest(matNormDisease, matNormHealthy)\n",
    "dfTT$feature <- rownames(matNormDisease)\n",
    "dfTT$log2Mean <- log2(rowMeans(cbind(dfTT$mean1, dfTT$mean2)) + 10^-4)\n",
    "dfTT$log2FC <- log2((dfTT$mean1 + 10^-4)/(dfTT$mean2 + 10^-4))\n",
    "plotDiff <- data.frame(row.names=row.names(dfTT),log2Mean=dfTT$log2Mean,log2FC=dfTT$log2FC,FDR=dfTT$fdr)\n",
    "#plotDiff <- plotDiff[complete.cases(plotDiff),]\n",
    "plotDiff$type <- \"not-differential\"\n",
    "plotDiff$type[plotDiff$log2FC > 1 & plotDiff$FDR < 0.05] <- \"up-regulated\"\n",
    "plotDiff$type[plotDiff$log2FC < -1 & plotDiff$FDR < 0.05] <- \"do-regulated\"\n",
    "\n",
    "\n",
    "print(dim(plotDiff[plotDiff$type=='up-regulated',]))\n",
    "print(dim(plotDiff[plotDiff$type=='do-regulated',]))\n",
    "print(dim(plotDiff[plotDiff$type=='not-differential',]))\n",
    "\n",
    "\n",
    "gg1<-ggplot(plotDiff, aes(log2Mean,log2FC,color=type)) + \n",
    "    geom_point(size=0.5) +\n",
    "    theme_bw() +\n",
    "    xlab(\"log2 Mean\") + \n",
    "    ylab(\"log2 Fold Change\") +\n",
    "    scale_color_manual(values=c(\"not-differential\"=\"lightgrey\", \"do-regulated\"=\"dodgerblue3\", \"up-regulated\"=\"firebrick3\"))\n",
    "\n",
    "\n",
    "#plotPDF(gg1, name = paste0(sampleName,'_cancer_Vs_control_MA'), width = 8, height = 8, ArchRProj = proj_all_invitro_peaks, addDOC = FALSE)\n",
    "# break\n",
    "pltdiffs_cnv_h[[paste(subtype_name, sample_name, sep=': ')]] <- plotDiff\n",
    "}"
   ]
  },
  {
   "cell_type": "code",
   "execution_count": null,
   "metadata": {
    "vscode": {
     "languageId": "r"
    }
   },
   "outputs": [],
   "source": [
    "for (sample in names(pltdiffs_cnv_h)){\n",
    "    fname = paste(str_split_1(sample, ':')[1], '_cnvcrctv5_gt100_promoterpknorm_healthy.csv', sep='')\n",
    "    write.csv(pltdiffs_cnv_h[[sample]], paste('~/tmp/results/', fname, sep=''))\n",
    "}"
   ]
  },
  {
   "cell_type": "code",
   "execution_count": 23,
   "metadata": {},
   "outputs": [
    {
     "name": "stdout",
     "output_type": "stream",
     "text": [
      "[1] \"here\"\n"
     ]
    }
   ],
   "source": [
    "print('here')"
   ]
  },
  {
   "cell_type": "code",
   "execution_count": null,
   "metadata": {},
   "outputs": [],
   "source": []
  },
  {
   "cell_type": "code",
   "execution_count": null,
   "metadata": {},
   "outputs": [],
   "source": []
  },
  {
   "cell_type": "markdown",
   "metadata": {},
   "source": [
    "# dev"
   ]
  },
  {
   "cell_type": "code",
   "execution_count": null,
   "metadata": {
    "vscode": {
     "languageId": "r"
    }
   },
   "outputs": [],
   "source": [
    "df <- data.frame()\n",
    "for (sample in names(pltdiffs_cnv)){\n",
    "    dt <- pltdiffs_cnv[[sample]]\n",
    "    dt$sample <- str_split_1(sample, ':')[1]\n",
    "    df <- rbind(df, dt)\n",
    "}"
   ]
  },
  {
   "cell_type": "code",
   "execution_count": null,
   "metadata": {
    "vscode": {
     "languageId": "r"
    }
   },
   "outputs": [],
   "source": [
    "df_h <- data.frame()\n",
    "for (sample in names(pltdiffs_cnv_h)){\n",
    "    dt <- pltdiffs_cnv_h[[sample]]\n",
    "    dt$sample <- str_split_1(sample, ':')[1]\n",
    "    df_h <- rbind(df_h, dt)\n",
    "}"
   ]
  },
  {
   "cell_type": "code",
   "execution_count": null,
   "metadata": {
    "vscode": {
     "languageId": "r"
    }
   },
   "outputs": [],
   "source": [
    "\n",
    "dt <- merge(df, df_h, by.x=0, by.y=0, suffixes=c(\"_d\", \"_h\"), all=TRUE )"
   ]
  },
  {
   "cell_type": "code",
   "execution_count": null,
   "metadata": {},
   "outputs": [],
   "source": [
    "dt"
   ]
  },
  {
   "cell_type": "code",
   "execution_count": null,
   "metadata": {
    "vscode": {
     "languageId": "r"
    }
   },
   "outputs": [],
   "source": [
    "options(repr.plot.width=18, repr.plot.height=12)\n",
    "p <- ggplot( data=df, aes( x=sample, fill=type) ) +\n",
    "    geom_bar( stat='count', position='dodge' ) +\n",
    "    theme( axis.text.x=element_text(angle=90), aspect.ratio=1/3) \n",
    "print(p)"
   ]
  },
  {
   "cell_type": "code",
   "execution_count": null,
   "metadata": {
    "vscode": {
     "languageId": "r"
    }
   },
   "outputs": [],
   "source": [
    "# getPeakSet(all_combined)"
   ]
  },
  {
   "cell_type": "code",
   "execution_count": null,
   "metadata": {
    "vscode": {
     "languageId": "r"
    }
   },
   "outputs": [],
   "source": [
    "# make plot\n",
    "# print nb up/down/not per sample and map sample to luminal status\n",
    "df <-list()\n",
    "for (sample in names(pltdiffs_cnv)){\n",
    "    sample_name <- str_split_1(sample, ':')[1]\n",
    "    df[[sample_name]] <- c(sample_name, \n",
    "                  sum(pltdiffs_cnv[[sample]]$type=='up-regulated'),\n",
    "                  sum(pltdiffs_cnv[[sample]]$type=='do-regulated'),\n",
    "                  506237 - sum(pltdiffs_cnv[[sample]]$type=='not-differential')\n",
    "                  )\n",
    "}\n",
    "df <- do.call(rbind, df)\n",
    "df <- data.frame(df)\n",
    "colnames(df) <- c(\"sample\", \"n_up\", \"n_down\", \"not\")\n",
    "\n",
    "options(repr.plot.width=18, repr.plot.height=12)\n",
    "dt <- melt( data=df, id.vars='sample' )\n",
    "dt$value <- as.numeric(dt$value)\n",
    "p <- ggplot( data=dt, aes( x=sample, y=value, fill=variable ) ) +\n",
    "    geom_bar( stat='identity', position='dodge' ) +\n",
    "    theme( axis.text.x=element_text(angle=90), aspect.ratio=1/3)\n",
    "print(p)\n",
    "# dev.off()"
   ]
  },
  {
   "cell_type": "code",
   "execution_count": null,
   "metadata": {
    "vscode": {
     "languageId": "r"
    }
   },
   "outputs": [],
   "source": [
    "\n",
    "gg2<-ggplot(pltdiffs_cnv[['HER2_1: 8D1E6006_85CB_484A_8B5C_30766D90137B']], \n",
    "            aes(log2Mean,log2FC,color=type)) + \n",
    "    geom_point(size=0.5) +\n",
    "    theme_bw() +\n",
    "    xlab(\"log2 Mean\") + \n",
    "    ylab(\"log2 Fold Change\") +\n",
    "    scale_color_manual(values=c(\"not-differential\"=\"lightgrey\", \"do-regulated\"=\"dodgerblue3\", \"up-regulated\"=\"firebrick3\"))\n",
    "\n",
    "\n",
    "gg2"
   ]
  },
  {
   "cell_type": "code",
   "execution_count": null,
   "metadata": {
    "vscode": {
     "languageId": "r"
    }
   },
   "outputs": [],
   "source": [
    "\n",
    "gg1<-ggplot(pltdiffs_cnv[['HER2_1a: 8D1E6006_85CB_484A_8B5C_30766D90137B']], \n",
    "            aes(log2Mean,log2FC,color=type)) + \n",
    "    geom_point(size=0.5) +\n",
    "    theme_bw() +\n",
    "    xlab(\"log2 Mean\") + \n",
    "    ylab(\"log2 Fold Change\") +\n",
    "    scale_color_manual(values=c(\"not-differential\"=\"lightgrey\", \"do-regulated\"=\"dodgerblue3\", \"up-regulated\"=\"firebrick3\"))\n",
    "\n",
    "\n",
    "gg1"
   ]
  },
  {
   "cell_type": "code",
   "execution_count": null,
   "metadata": {
    "vscode": {
     "languageId": "r"
    }
   },
   "outputs": [],
   "source": []
  },
  {
   "cell_type": "code",
   "execution_count": null,
   "metadata": {
    "vscode": {
     "languageId": "r"
    }
   },
   "outputs": [],
   "source": []
  },
  {
   "cell_type": "code",
   "execution_count": null,
   "metadata": {
    "vscode": {
     "languageId": "r"
    }
   },
   "outputs": [],
   "source": []
  },
  {
   "cell_type": "markdown",
   "metadata": {},
   "source": [
    "# dev"
   ]
  },
  {
   "cell_type": "code",
   "execution_count": null,
   "metadata": {
    "vscode": {
     "languageId": "r"
    }
   },
   "outputs": [],
   "source": [
    "head(rownames(matDisease))"
   ]
  },
  {
   "cell_type": "code",
   "execution_count": null,
   "metadata": {
    "vscode": {
     "languageId": "r"
    }
   },
   "outputs": [],
   "source": [
    "promoterpks <- setdiff(jointdataset[promoterPeaks,'id'], setdiff(jointdataset[promoterPeaks,'id'], rownames(matDisease)))"
   ]
  },
  {
   "cell_type": "code",
   "execution_count": null,
   "metadata": {
    "vscode": {
     "languageId": "r"
    }
   },
   "outputs": [],
   "source": [
    "length(promoterpks)"
   ]
  },
  {
   "cell_type": "code",
   "execution_count": null,
   "metadata": {
    "vscode": {
     "languageId": "r"
    }
   },
   "outputs": [],
   "source": [
    "length(promoterpks)"
   ]
  },
  {
   "cell_type": "code",
   "execution_count": null,
   "metadata": {
    "vscode": {
     "languageId": "r"
    }
   },
   "outputs": [],
   "source": [
    "promoterpks <- setdiff(jointdataset[promoterPeaks,'id'], setdiff(jointdataset[promoterPeaks,'id'], rownames(matDisease)))\n",
    "matNormDisease <- t(t(matDisease)/Matrix::colSums(matDisease[promoterpks,])) * 5000\n",
    "matNormHealthy <- t(t(matHealthy)/Matrix::colSums(matHealthy[promoterpks,])) * 5000\n",
    "#T-Test Comparisons\n",
    "dfTT <- sparseMatTTest(matNormDisease, matNormHealthy)\n",
    "dfTT$feature <- rownames(matNormDisease)\n",
    "dfTT$log2Mean <- log2(rowMeans(cbind(dfTT$mean1, dfTT$mean2)) + 10^-4)\n",
    "dfTT$log2FC <- log2((dfTT$mean1 + 10^-4)/(dfTT$mean2 + 10^-4))\n",
    "plotDiff <- data.frame(row.names=row.names(dfTT),log2Mean=dfTT$log2Mean,log2FC=dfTT$log2FC,FDR=dfTT$fdr)\n",
    "#plotDiff <- plotDiff[complete.cases(plotDiff),]\n",
    "plotDiff$type <- \"not-differential\"\n",
    "plotDiff$type[plotDiff$log2FC > 1 & plotDiff$FDR < 0.05] <- \"up-regulated\"\n",
    "plotDiff$type[plotDiff$log2FC < -1 & plotDiff$FDR < 0.05] <- \"do-regulated\"\n",
    "\n",
    "\n",
    "print(dim(plotDiff[plotDiff$type=='up-regulated',]))\n",
    "print(dim(plotDiff[plotDiff$type=='do-regulated',]))\n",
    "print(dim(plotDiff[plotDiff$type=='not-differential',]))\n",
    "\n",
    "\n",
    "gg1<-ggplot(plotDiff, aes(log2Mean,log2FC,color=type)) + \n",
    "    geom_point(size=0.5) +\n",
    "    theme_bw() +\n",
    "    xlab(\"log2 Mean\") + \n",
    "    ylab(\"log2 Fold Change\") +\n",
    "    scale_color_manual(values=c(\"not-differential\"=\"lightgrey\", \"do-regulated\"=\"dodgerblue3\", \"up-regulated\"=\"firebrick3\"))"
   ]
  },
  {
   "cell_type": "code",
   "execution_count": null,
   "metadata": {
    "vscode": {
     "languageId": "r"
    }
   },
   "outputs": [],
   "source": [
    "gg1"
   ]
  },
  {
   "cell_type": "code",
   "execution_count": null,
   "metadata": {
    "vscode": {
     "languageId": "r"
    }
   },
   "outputs": [],
   "source": [
    "print('here')"
   ]
  },
  {
   "cell_type": "markdown",
   "metadata": {},
   "source": [
    "# try diff cnv rowsum cutoffsm"
   ]
  },
  {
   "cell_type": "code",
   "execution_count": null,
   "metadata": {
    "vscode": {
     "languageId": "r"
    }
   },
   "outputs": [],
   "source": [
    "pltdiffs_cnv <- list()##################WITH CNV NORMALIZATION\n",
    "for(i in samples_with_cnv){\n",
    "sampleName=i\n",
    "print(i)\n",
    "coldata_color<-getCellColData(proj_all_invitro_peaks)\n",
    "subtype_name<-unique(coldata_color[coldata_color$Sample==i,]$subtype1)\n",
    "print(sampleName)\n",
    "mat_se <- getMatrixFromArrow(\n",
    "  ArrowFile = paste0(\"~/TCGA/ArchR_Projects/aggregated_cancertypes_NEW/BRCA_ArchR/ArrowFiles/\", sampleName, \".arrow\"),\n",
    "  useMatrix = \"TileMatrix\",\n",
    "  cellNames = rownames(proj_all_invitro_peaks[proj_all_invitro_peaks$Sample==sampleName,]),\n",
    "  useSeqnames = NULL,\n",
    "  ArchRProj = proj_all_invitro_peaks,\n",
    "  verbose = TRUE,\n",
    "  binarize = TRUE\n",
    ")\n",
    "\n",
    "lsiProjection <- projectLSI(mat_se, lsi)\n",
    "#UMAP Projection\n",
    "set.seed(1)\n",
    "umapProjection <- uwot::umap_transform(as.matrix(lsiProjection)[,1:30], umapManifold, verbose = TRUE)\n",
    "#Plot Projection\n",
    "refDF <- data.frame(row.names = proj_featal_invivo$CellNames , X1 = umapManifold$embedding[,1], X2 = umapManifold$embedding[,2], Type = \"reference\")\n",
    "proDF <- data.frame(row.names = proj_all_invitro_peaks$CellNames, X1 = umapProjection[,1], X2 = umapProjection[,2], Type = subtype_name)\n",
    "projectionDF <- rbind(refDF, proDF)\n",
    "#\n",
    "plotParams <- list()\n",
    "plotParams$x <- projectionDF[, 'X1']\n",
    "plotParams$y <- projectionDF[, 'X2']\n",
    "plotParams$title <- \" Colored by Clusters\"\n",
    "plotParams$baseSize <- 10\n",
    "plotParams$xlabel <- \"UMAP Dimension 1\"\n",
    "plotParams$ylabel <- \"UMAP Dimension 2\"\n",
    "plotParams$color <- as.character(projectionDF$Type)\n",
    "plotParams$size <- 0.2\n",
    "plotParams$randomize <- TRUE\n",
    "plotParams$pal <-c(\"reference\"=\"#E0ECFF\",\"BASAL1\"=\"#ffa07a\", \"BASAL2\"=\"#f08080\", \"BASAL3\"=\"#fa8072\", \"BASAL4\"=\"#e9967a\", \"BASAL5\"=\"#ff6347\", \n",
    "\"HER2_1\"=\"#cd5c5c\", \"HER2_1a\"=\"#ff4500\", \"HER2_2\"=\"#dc143c\", \"HER2_3\"=\"#b22222\", \"HER2_4\"=\"#8b0000\", \n",
    "\"HER2_5\"=\"#800000\", \"LumA_1\"=\"#ff9999\",  \"LumA_2\"=\"#ff6961\", \"LumA_3\"=\"#da614e\",\"LumB_4\"=\"#ea3c53\",\n",
    "\"LumB_5\"=\"#d9603b\")\n",
    "plotParams$labelMeans <- FALSE\n",
    "gg<-do.call(ggPoint,plotParams)\n",
    "gg\n",
    "#\n",
    "#plotPDF(gg, name = paste0(sampleName,'_cancer_Vs_control'), width = 8, height = 8, ArchRProj = proj_all_invitro_peaks, addDOC = FALSE)\n",
    "#break\n",
    "    \n",
    "#Enhancers differential \n",
    "#differentials between the nearest neighbours  \n",
    "#enhancers and enhacer and gene links \n",
    "#Input Parameters\n",
    "input_knn <- 25\n",
    "\n",
    "#LSI-SVD\n",
    "svdReference <- as.data.frame(lsi$matSVD) #loaded lsi\n",
    "svdDisease <- as.data.frame(as.matrix(lsiProjection)) # defined from projectLSI\n",
    "\n",
    "#KNN Nearest Neighbor using FNN #find 25 nn cells\n",
    "library(FNN)\n",
    "set.seed(1)\n",
    "knnDisease <- get.knnx(\n",
    "    data = svdReference,\n",
    "    query = svdDisease,\n",
    "    k = input_knn)\n",
    "\n",
    "\n",
    "#the peaks must be from the combined object so we have both the peaks for comparison\n",
    "#the nearest neighbours is done on the fetal heart alone . \n",
    "#the peaks for differentials are from a combined plot of both \n",
    "head(knnDisease$nn.index[,1])\n",
    "uniqueIdx <- unique(as.vector(knnDisease$nn.index))\n",
    "length(uniqueIdx)\n",
    "#knnDisease$nn.index\n",
    "#Reference cells for testing\n",
    "#idxReference <- rownames(svdReference)[uniqueIdx]\n",
    "idxReference <- rownames(svdReference)\n",
    "idxDisease <- colnames(mat_se)\n",
    "idxDisease<-setdiff(idxDisease,setdiff(idxDisease,  rownames(all_combined)))\n",
    "#If there are more healthy cells downsample healthy cells\n",
    "#If there are more disease cells downasmple disease cells\n",
    "if(length(idxReference) > length(idxDisease)){\n",
    "    idxReference <- sample(idxReference, length(idxDisease))\n",
    "}else{\n",
    "    idxDisease <- sample(idxDisease, length(idxReference))\n",
    "}\n",
    "promoterPeaks <- subjectHits(findOverlaps(resize(getTSS(all_combined), 500 * 2 + 1), getPeakSet(all_combined), ignore.strand=TRUE))\n",
    "\n",
    "    \n",
    "    \n",
    "##############################cnv normalization############################\n",
    "    \n",
    "peakset_combined<-(data.frame(getPeakSet(all_combined)))\n",
    "peakset_combined<-peakset_combined[c('seqnames','start','end')]\n",
    "\n",
    "## reading cnv \n",
    "deletions<-data.frame()\n",
    "a<-unique(proj_all_invitro_peaks$Sample)\n",
    "b<-strsplit(i,split='_', fixed=TRUE)\n",
    "    sample_name<- paste(b[[1]][3],b[[1]][4],b[[1]][5],b[[1]][6],b[[1]][7],sep=\"_\" )\n",
    "    if (sample_name %ni% c('11D015DD_1250_48BC_8B5D_3262C97F164B','0914606C_2CA1_4287_B530_DB70EA93ED6C','57255B8E_9085_4CDF_98DE_B4858BFF5789',\n",
    "                          '74EF44ED_9B3A_4E21_9E86_6C753CF94F4F','5786B3A8_42EB_47D3_A498_7FB1B3396376','F62461A5_6358_41C0_9435_01FA2C47868F',\n",
    "                          '3AB3B701_7C1B_488C_B975_0F6F80F0CB57','DFEC4B50_8B95_4E6C_B78D_D68B890C66FE','0852FA43_7577_4456_8033_9A9156A7B258',\n",
    "                          '211D9CF4_3348_4DCD_8A01_6827435DDB3D','398F831B_A6C7_40D9_9EC4_16CECA35AEA2','8F708E04_2936_4E85_85C2_D1431003898B',\n",
    "                          'F05B8E69_5AD9_4FCF_8980_1307F35BD173','F15664E6_AE19_4B59_971A_8FC8E05CF921','FDA487D2_5293_4315_9212_3836856CCFFB',\n",
    "                          'FE986D7E_FB8B_4B58_A50C_CAED05FFCAA5')) {\n",
    "    file_name<-paste(sample_name,'.csv',sep=\"\")\n",
    "    CNV_calls<-read.csv(paste('~/TCGA/Synapse/cleaned_AWS/',file_name,sep=\"\"))\n",
    "    CNV_calls$sample_name<-sample_name\n",
    "    deletions<-rbind(deletions,CNV_calls)\n",
    "    }\n",
    "\n",
    "\n",
    "### Mapping the CNV regions \n",
    "peakmatches <- findOverlaps(GRanges(peakset_combined), GRanges(deletions))\n",
    "tilemat_granges<-GRanges(peakset_combined)\n",
    "ignore_deletions <- tilemat_granges[queryHits(peakmatches)]\n",
    "copynumber_Call_obj <- GRanges(deletions)[subjectHits(peakmatches)] \n",
    "ignore_deletions$copy_number<-copynumber_Call_obj$Copy_Number\n",
    "##\n",
    "ignore_deletions<-data.frame(ignore_deletions)\n",
    "##\n",
    "jointdataset <- merge(peakset_combined,ignore_deletions, by = c('seqnames','start','end'),all.x=TRUE)\n",
    "jointdataset$id<-paste(as.character(jointdataset$seqnames),'_',as.character(jointdataset$start),'_',as.character(jointdataset$end),sep=',')\n",
    "rownames(jointdataset)<-jointdataset$id\n",
    "#\n",
    "jointdataset$CNV<-jointdataset$copy_number\n",
    "jointdataset$CNV_forignoring<-jointdataset$copy_number\n",
    "jointdataset[is.na(jointdataset$CNV),'CNV'] <- 1\n",
    "jointdataset[jointdataset$CNV==0,'CNV'] <- 1\n",
    "jointdataset[jointdataset$CNV==2,'CNV'] <- 1\n",
    "#\n",
    "jointdataset[is.na(jointdataset$CNV_forignoring),'CNV_forignoring'] <- 2\n",
    "jointdataset[jointdataset$CNV_forignoring==0,'CNV_forignoring'] <- 0\n",
    "jointdataset[jointdataset$CNV_forignoring==1,'CNV_forignoring'] <- 0\n",
    "print(dim(jointdataset))\n",
    "#\n",
    "peak_Se<-se\n",
    "peak_Se\n",
    "rownames(peak_Se)<-jointdataset$id\n",
    "peak_Se\n",
    "matDisease1 <- assay(peak_Se[,idxDisease])\n",
    "matDisease1_normalized<- matDisease1/jointdataset$CNV\n",
    "dim(matDisease1_normalized)\n",
    "    \n",
    "matDisease<- matDisease1_normalized \n",
    "\n",
    "#matDisease<-matDisease1_normalized[jointdataset[jointdataset$CNV_forignoring!=0,'id'],]\n",
    "matHealthy_SUBSETTED <- assay(peak_Se[,idxReference])\n",
    "#matHealthy<-matHealthy_SUBSETTED[jointdataset[jointdataset$CNV_forignoring!=0,'id'],]\n",
    "\n",
    "matHealthy<-matHealthy_SUBSETTED\n",
    "########################################\n",
    "    \n",
    "rowsums_disease <- rowSums(matDisease)\n",
    "idx<-which(rowsums_disease > 50, arr.ind=TRUE)\n",
    "matDisease_sub <- matDisease[idx, ]\n",
    "matHealthy_sub <- matHealthy[idx, ]\n",
    "    \n",
    "matDisease <- matDisease_sub\n",
    "matHealthy <- matHealthy_sub\n",
    "    \n",
    "#matHealthy <- assay(se[,idxReference])\n",
    "#matDisease <- assay(se[,idxDisease])\n",
    "#Normalize to scaleTo\n",
    "#######SKIP THE PROMOTER NORM DUE TO MISMATCH\n",
    "#######\n",
    "promoterpks <- setdiff(jointdataset[promoterPeaks,'id'], setdiff(jointdataset[promoterPeaks,'id'], rownames(matDisease)))\n",
    "matNormDisease <- t(t(matDisease)/Matrix::colSums(matDisease[promoterpks,])) * 5000\n",
    "matNormHealthy <- t(t(matHealthy)/Matrix::colSums(matHealthy[promoterpks,])) * 5000\n",
    "#T-Test Comparisons\n",
    "dfTT <- sparseMatTTest(matNormDisease, matNormHealthy)\n",
    "dfTT$feature <- rownames(matNormDisease)\n",
    "dfTT$log2Mean <- log2(rowMeans(cbind(dfTT$mean1, dfTT$mean2)) + 10^-4)\n",
    "dfTT$log2FC <- log2((dfTT$mean1 + 10^-4)/(dfTT$mean2 + 10^-4))\n",
    "plotDiff <- data.frame(row.names=row.names(dfTT),log2Mean=dfTT$log2Mean,log2FC=dfTT$log2FC,FDR=dfTT$fdr)\n",
    "#plotDiff <- plotDiff[complete.cases(plotDiff),]\n",
    "plotDiff$type <- \"not-differential\"\n",
    "plotDiff$type[plotDiff$log2FC > 1 & plotDiff$FDR < 0.05] <- \"up-regulated\"\n",
    "plotDiff$type[plotDiff$log2FC < -1 & plotDiff$FDR < 0.05] <- \"do-regulated\"\n",
    "\n",
    "\n",
    "print(dim(plotDiff[plotDiff$type=='up-regulated',]))\n",
    "print(dim(plotDiff[plotDiff$type=='do-regulated',]))\n",
    "print(dim(plotDiff[plotDiff$type=='not-differential',]))\n",
    "\n",
    "\n",
    "gg1<-ggplot(plotDiff, aes(log2Mean,log2FC,color=type)) + \n",
    "    geom_point(size=0.5) +\n",
    "    theme_bw() +\n",
    "    xlab(\"log2 Mean\") + \n",
    "    ylab(\"log2 Fold Change\") +\n",
    "    scale_color_manual(values=c(\"not-differential\"=\"lightgrey\", \"do-regulated\"=\"dodgerblue3\", \"up-regulated\"=\"firebrick3\"))\n",
    "\n",
    "\n",
    "#plotPDF(gg1, name = paste0(sampleName,'_cancer_Vs_control_MA'), width = 8, height = 8, ArchRProj = proj_all_invitro_peaks, addDOC = FALSE)\n",
    "# break\n",
    "pltdiffs_cnv[[paste(subtype_name, sample_name, sep=': ')]] <- plotDiff\n",
    "}"
   ]
  },
  {
   "cell_type": "code",
   "execution_count": null,
   "metadata": {
    "vscode": {
     "languageId": "r"
    }
   },
   "outputs": [],
   "source": [
    "pltdiffs_cnv_h <- list()##################WITH CNV NORMALIZATION\n",
    "for(i in samples_with_cnv){\n",
    "sampleName=i\n",
    "print(i)\n",
    "coldata_color<-getCellColData(proj_all_invitro_peaks)\n",
    "subtype_name<-unique(coldata_color[coldata_color$Sample==i,]$subtype1)\n",
    "print(sampleName)\n",
    "mat_se <- getMatrixFromArrow(\n",
    "  ArrowFile = paste0(\"~/TCGA/ArchR_Projects/aggregated_cancertypes_NEW/BRCA_ArchR/ArrowFiles/\", sampleName, \".arrow\"),\n",
    "  useMatrix = \"TileMatrix\",\n",
    "  cellNames = rownames(proj_all_invitro_peaks[proj_all_invitro_peaks$Sample==sampleName,]),\n",
    "  useSeqnames = NULL,\n",
    "  ArchRProj = proj_all_invitro_peaks,\n",
    "  verbose = TRUE,\n",
    "  binarize = TRUE\n",
    ")\n",
    "\n",
    "lsiProjection <- projectLSI(mat_se, lsi)\n",
    "#UMAP Projection\n",
    "set.seed(1)\n",
    "umapProjection <- uwot::umap_transform(as.matrix(lsiProjection)[,1:30], umapManifold, verbose = TRUE)\n",
    "#Plot Projection\n",
    "refDF <- data.frame(row.names = proj_featal_invivo$CellNames , X1 = umapManifold$embedding[,1], X2 = umapManifold$embedding[,2], Type = \"reference\")\n",
    "proDF <- data.frame(row.names = proj_all_invitro_peaks$CellNames, X1 = umapProjection[,1], X2 = umapProjection[,2], Type = subtype_name)\n",
    "projectionDF <- rbind(refDF, proDF)\n",
    "#\n",
    "plotParams <- list()\n",
    "plotParams$x <- projectionDF[, 'X1']\n",
    "plotParams$y <- projectionDF[, 'X2']\n",
    "plotParams$title <- \" Colored by Clusters\"\n",
    "plotParams$baseSize <- 10\n",
    "plotParams$xlabel <- \"UMAP Dimension 1\"\n",
    "plotParams$ylabel <- \"UMAP Dimension 2\"\n",
    "plotParams$color <- as.character(projectionDF$Type)\n",
    "plotParams$size <- 0.2\n",
    "plotParams$randomize <- TRUE\n",
    "plotParams$pal <-c(\"reference\"=\"#E0ECFF\",\"BASAL1\"=\"#ffa07a\", \"BASAL2\"=\"#f08080\", \"BASAL3\"=\"#fa8072\", \"BASAL4\"=\"#e9967a\", \"BASAL5\"=\"#ff6347\", \n",
    "\"HER2_1\"=\"#cd5c5c\", \"HER2_1a\"=\"#ff4500\", \"HER2_2\"=\"#dc143c\", \"HER2_3\"=\"#b22222\", \"HER2_4\"=\"#8b0000\", \n",
    "\"HER2_5\"=\"#800000\", \"LumA_1\"=\"#ff9999\",  \"LumA_2\"=\"#ff6961\", \"LumA_3\"=\"#da614e\",\"LumB_4\"=\"#ea3c53\",\n",
    "\"LumB_5\"=\"#d9603b\")\n",
    "plotParams$labelMeans <- FALSE\n",
    "gg<-do.call(ggPoint,plotParams)\n",
    "gg\n",
    "#\n",
    "#plotPDF(gg, name = paste0(sampleName,'_cancer_Vs_control'), width = 8, height = 8, ArchRProj = proj_all_invitro_peaks, addDOC = FALSE)\n",
    "#break\n",
    "    \n",
    "#Enhancers differential \n",
    "#differentials between the nearest neighbours  \n",
    "#enhancers and enhacer and gene links \n",
    "#Input Parameters\n",
    "input_knn <- 25\n",
    "\n",
    "#LSI-SVD\n",
    "svdReference <- as.data.frame(lsi$matSVD) #loaded lsi\n",
    "svdDisease <- as.data.frame(as.matrix(lsiProjection)) # defined from projectLSI\n",
    "\n",
    "#KNN Nearest Neighbor using FNN #find 25 nn cells\n",
    "library(FNN)\n",
    "set.seed(1)\n",
    "knnDisease <- get.knnx(\n",
    "    data = svdReference,\n",
    "    query = svdDisease,\n",
    "    k = input_knn)\n",
    "\n",
    "\n",
    "#the peaks must be from the combined object so we have both the peaks for comparison\n",
    "#the nearest neighbours is done on the fetal heart alone . \n",
    "#the peaks for differentials are from a combined plot of both \n",
    "head(knnDisease$nn.index[,1])\n",
    "uniqueIdx <- unique(as.vector(knnDisease$nn.index))\n",
    "length(uniqueIdx)\n",
    "#knnDisease$nn.index\n",
    "#Reference cells for testing\n",
    "#idxReference <- rownames(svdReference)[uniqueIdx]\n",
    "idxReference <- rownames(svdReference)\n",
    "idxDisease <- colnames(mat_se)\n",
    "idxDisease<-setdiff(idxDisease,setdiff(idxDisease,  rownames(all_combined)))\n",
    "#If there are more healthy cells downsample healthy cells\n",
    "#If there are more disease cells downasmple disease cells\n",
    "if(length(idxReference) > length(idxDisease)){\n",
    "    idxReference <- sample(idxReference, length(idxDisease))\n",
    "}else{\n",
    "    idxDisease <- sample(idxDisease, length(idxReference))\n",
    "}\n",
    "promoterPeaks <- subjectHits(findOverlaps(resize(getTSS(all_combined), 500 * 2 + 1), getPeakSet(all_combined), ignore.strand=TRUE))\n",
    "\n",
    "    \n",
    "    \n",
    "##############################cnv normalization############################\n",
    "    \n",
    "peakset_combined<-(data.frame(getPeakSet(all_combined)))\n",
    "peakset_combined<-peakset_combined[c('seqnames','start','end')]\n",
    "\n",
    "## reading cnv \n",
    "deletions<-data.frame()\n",
    "a<-unique(proj_all_invitro_peaks$Sample)\n",
    "b<-strsplit(i,split='_', fixed=TRUE)\n",
    "    sample_name<- paste(b[[1]][3],b[[1]][4],b[[1]][5],b[[1]][6],b[[1]][7],sep=\"_\" )\n",
    "    if (sample_name %ni% c('11D015DD_1250_48BC_8B5D_3262C97F164B','0914606C_2CA1_4287_B530_DB70EA93ED6C','57255B8E_9085_4CDF_98DE_B4858BFF5789',\n",
    "                          '74EF44ED_9B3A_4E21_9E86_6C753CF94F4F','5786B3A8_42EB_47D3_A498_7FB1B3396376','F62461A5_6358_41C0_9435_01FA2C47868F',\n",
    "                          '3AB3B701_7C1B_488C_B975_0F6F80F0CB57','DFEC4B50_8B95_4E6C_B78D_D68B890C66FE','0852FA43_7577_4456_8033_9A9156A7B258',\n",
    "                          '211D9CF4_3348_4DCD_8A01_6827435DDB3D','398F831B_A6C7_40D9_9EC4_16CECA35AEA2','8F708E04_2936_4E85_85C2_D1431003898B',\n",
    "                          'F05B8E69_5AD9_4FCF_8980_1307F35BD173','F15664E6_AE19_4B59_971A_8FC8E05CF921','FDA487D2_5293_4315_9212_3836856CCFFB',\n",
    "                          'FE986D7E_FB8B_4B58_A50C_CAED05FFCAA5')) {\n",
    "    file_name<-paste(sample_name,'.csv',sep=\"\")\n",
    "    CNV_calls<-read.csv(paste('~/TCGA/Synapse/cleaned_AWS/',file_name,sep=\"\"))\n",
    "    CNV_calls$sample_name<-sample_name\n",
    "    deletions<-rbind(deletions,CNV_calls)\n",
    "    }\n",
    "\n",
    "\n",
    "### Mapping the CNV regions \n",
    "peakmatches <- findOverlaps(GRanges(peakset_combined), GRanges(deletions))\n",
    "tilemat_granges<-GRanges(peakset_combined)\n",
    "ignore_deletions <- tilemat_granges[queryHits(peakmatches)]\n",
    "copynumber_Call_obj <- GRanges(deletions)[subjectHits(peakmatches)] \n",
    "ignore_deletions$copy_number<-copynumber_Call_obj$Copy_Number\n",
    "##\n",
    "ignore_deletions<-data.frame(ignore_deletions)\n",
    "##\n",
    "jointdataset <- merge(peakset_combined,ignore_deletions, by = c('seqnames','start','end'),all.x=TRUE)\n",
    "jointdataset$id<-paste(as.character(jointdataset$seqnames),'_',as.character(jointdataset$start),'_',as.character(jointdataset$end),sep=',')\n",
    "rownames(jointdataset)<-jointdataset$id\n",
    "#\n",
    "jointdataset$CNV<-jointdataset$copy_number\n",
    "jointdataset$CNV_forignoring<-jointdataset$copy_number\n",
    "jointdataset[is.na(jointdataset$CNV),'CNV'] <- 1\n",
    "jointdataset[jointdataset$CNV==0,'CNV'] <- 1\n",
    "jointdataset[jointdataset$CNV==2,'CNV'] <- 1\n",
    "#\n",
    "jointdataset[is.na(jointdataset$CNV_forignoring),'CNV_forignoring'] <- 2\n",
    "jointdataset[jointdataset$CNV_forignoring==0,'CNV_forignoring'] <- 0\n",
    "jointdataset[jointdataset$CNV_forignoring==1,'CNV_forignoring'] <- 0\n",
    "print(dim(jointdataset))\n",
    "#\n",
    "peak_Se<-se\n",
    "peak_Se\n",
    "rownames(peak_Se)<-jointdataset$id\n",
    "peak_Se\n",
    "matDisease1 <- assay(peak_Se[,idxDisease])\n",
    "matDisease1_normalized<- matDisease1/jointdataset$CNV\n",
    "dim(matDisease1_normalized)\n",
    "    \n",
    "matDisease<- matDisease1_normalized \n",
    "\n",
    "#matDisease<-matDisease1_normalized[jointdataset[jointdataset$CNV_forignoring!=0,'id'],]\n",
    "matHealthy_SUBSETTED <- assay(peak_Se[,idxReference])\n",
    "#matHealthy<-matHealthy_SUBSETTED[jointdataset[jointdataset$CNV_forignoring!=0,'id'],]\n",
    "\n",
    "matHealthy<-matHealthy_SUBSETTED\n",
    "########################################\n",
    "    \n",
    "# rowsums_disease <- rowSums(matDisease)\n",
    "# idx<-which(rowsums_disease > 100, arr.ind=TRUE)\n",
    "rowsums_healthy <- rowSums(matHealthy)\n",
    "idx<-which(rowsums_healthy > 100, arr.ind=TRUE)\n",
    "matDisease_sub <- matDisease[idx, ]\n",
    "matHealthy_sub <- matHealthy[idx, ]\n",
    "    \n",
    "matDisease <- matDisease_sub\n",
    "matHealthy <- matHealthy_sub\n",
    "    \n",
    "#matHealthy <- assay(se[,idxReference])\n",
    "#matDisease <- assay(se[,idxDisease])\n",
    "#Normalize to scaleTo\n",
    "#######SKIP THE PROMOTER NORM DUE TO MISMATCH\n",
    "#######\n",
    "promoterpks <- setdiff(jointdataset[promoterPeaks,'id'], setdiff(jointdataset[promoterPeaks,'id'], rownames(matDisease)))\n",
    "matNormDisease <- t(t(matDisease)/Matrix::colSums(matDisease[promoterpks,])) * 5000\n",
    "matNormHealthy <- t(t(matHealthy)/Matrix::colSums(matHealthy[promoterpks,])) * 5000\n",
    "#T-Test Comparisons\n",
    "dfTT <- sparseMatTTest(matNormDisease, matNormHealthy)\n",
    "dfTT$feature <- rownames(matNormDisease)\n",
    "dfTT$log2Mean <- log2(rowMeans(cbind(dfTT$mean1, dfTT$mean2)) + 10^-4)\n",
    "dfTT$log2FC <- log2((dfTT$mean1 + 10^-4)/(dfTT$mean2 + 10^-4))\n",
    "plotDiff <- data.frame(row.names=row.names(dfTT),log2Mean=dfTT$log2Mean,log2FC=dfTT$log2FC,FDR=dfTT$fdr)\n",
    "#plotDiff <- plotDiff[complete.cases(plotDiff),]\n",
    "plotDiff$type <- \"not-differential\"\n",
    "plotDiff$type[plotDiff$log2FC > 1 & plotDiff$FDR < 0.05] <- \"up-regulated\"\n",
    "plotDiff$type[plotDiff$log2FC < -1 & plotDiff$FDR < 0.05] <- \"do-regulated\"\n",
    "\n",
    "\n",
    "print(dim(plotDiff[plotDiff$type=='up-regulated',]))\n",
    "print(dim(plotDiff[plotDiff$type=='do-regulated',]))\n",
    "print(dim(plotDiff[plotDiff$type=='not-differential',]))\n",
    "\n",
    "\n",
    "gg1<-ggplot(plotDiff, aes(log2Mean,log2FC,color=type)) + \n",
    "    geom_point(size=0.5) +\n",
    "    theme_bw() +\n",
    "    xlab(\"log2 Mean\") + \n",
    "    ylab(\"log2 Fold Change\") +\n",
    "    scale_color_manual(values=c(\"not-differential\"=\"lightgrey\", \"do-regulated\"=\"dodgerblue3\", \"up-regulated\"=\"firebrick3\"))\n",
    "\n",
    "\n",
    "#plotPDF(gg1, name = paste0(sampleName,'_cancer_Vs_control_MA'), width = 8, height = 8, ArchRProj = proj_all_invitro_peaks, addDOC = FALSE)\n",
    "# break\n",
    "pltdiffs_cnv_h[[paste(subtype_name, sample_name, sep=': ')]] <- plotDiff\n",
    "}"
   ]
  },
  {
   "cell_type": "code",
   "execution_count": null,
   "metadata": {
    "vscode": {
     "languageId": "r"
    }
   },
   "outputs": [],
   "source": [
    "# save\n",
    "for (sample in names(pltdiffs_cnv)){\n",
    "    fname = paste(str_split_1(sample, ':')[1], '_cnvcrct_gt50_promoterpknorm.csv', sep='')\n",
    "    write.csv(pltdiffs_cnv[[sample]], paste('~/tmp/results/', fname, sep=''))\n",
    "}\n",
    "\n",
    "for (sample in names(pltdiffs_cnv_h)){\n",
    "    fname = paste(str_split_1(sample, ':')[1], '_cnvcrct_gt50_promoterpknorm_healthy.csv', sep='')\n",
    "    write.csv(pltdiffs_cnv_h[[sample]], paste('~/tmp/results/', fname, sep=''))\n",
    "}"
   ]
  },
  {
   "cell_type": "code",
   "execution_count": null,
   "metadata": {
    "vscode": {
     "languageId": "r"
    }
   },
   "outputs": [],
   "source": [
    "new_samples <- c('basal_up', 'basal_do', 'her_up', 'her_do', 'lum_up', 'lum_do')\n",
    "pks <- list()\n",
    "for (k in new_samples){\n",
    "    kk <- paste(k, '.csv', sep='')\n",
    "    file <- paste('~/reg_diffs/results/overlapping_diffpks_indbrcaVctrl_', kk, sep='')\n",
    "    pks[[k]] <- read.csv(file)\n",
    "}"
   ]
  },
  {
   "cell_type": "code",
   "execution_count": null,
   "metadata": {
    "vscode": {
     "languageId": "r"
    }
   },
   "outputs": [],
   "source": [
    "pks[['basal_up']]$X0"
   ]
  },
  {
   "cell_type": "code",
   "execution_count": null,
   "metadata": {
    "vscode": {
     "languageId": "r"
    }
   },
   "outputs": [],
   "source": [
    "length(pltdiffs_cnv_h)"
   ]
  },
  {
   "cell_type": "markdown",
   "metadata": {
    "vscode": {
     "languageId": "r"
    }
   },
   "source": [
    "# alt motif enrichment"
   ]
  },
  {
   "cell_type": "code",
   "execution_count": null,
   "metadata": {},
   "outputs": [],
   "source": [
    "function (matches = NULL, compare = NULL, background = NULL){    \n",
    "    matches <- .getAssay(matches, grep(\"matches\", names(assays(matches)), value = TRUE, ignore.case = TRUE)) \n",
    "    matchCompare <- matches[compare, , drop = FALSE] \n",
    "    matchBackground <- matches[background, , drop = FALSE] \n",
    "    matchCompareTotal <- Matrix::colSums(matchCompare) \n",
    "    matchBackgroundTotal <- Matrix::colSums(matchBackground) \n",
    "    pOut <- data.frame(feature = colnames(matches), \n",
    "                       CompareFrequency = matchCompareTotal, \n",
    "                       nCompare = nrow(matchCompare), \n",
    "                       CompareProportion = matchCompareTotal/nrow(matchCompare), \n",
    "                       BackgroundFrequency = matchBackgroundTotal, \n",
    "                       nBackground = nrow(matchBackground), \n",
    "                       BackgroundProporition = matchBackgroundTotal/nrow(matchBackground)) \n",
    "    pOut$Enrichment <- pOut$CompareProportion/pOut$BackgroundProporition \n",
    "    pOut$mlog10p <- lapply(seq_len(nrow(pOut)), function(x) { p <- -phyper(pOut$CompareFrequency[x] - 1, pOut$BackgroundFrequency[x], pOut$nBackground[x] - pOut$BackgroundFrequency[x], pOut$nCompare[x], lower.tail = FALSE, log.p = TRUE) return(p/log(10)) }) %>% unlist %>% round(4) \n",
    "    pOut$mlog10Padj <- pmax(pOut$mlog10p - log10(ncol(pOut)), 0) \n",
    "    pOut <- pOut[order(pOut$mlog10p, decreasing = TRUE), , drop = FALSE] \n",
    "    pOut\n",
    "}"
   ]
  },
  {
   "cell_type": "code",
   "execution_count": null,
   "metadata": {},
   "outputs": [],
   "source": [
    "phyper(pOut$CompareFrequency[x] - 1, pOut$BackgroundFrequency[x], pOut$nBackground[x] - pOut$BackgroundFrequency[x], pOut$nCompare[x], lower.tail = FALSE, log.p = TRUE)"
   ]
  },
  {
   "cell_type": "code",
   "execution_count": null,
   "metadata": {},
   "outputs": [],
   "source": [
    "phyper(38, 108, 191618, 66938, lower.tail=FALSE, log.p=FALSE)"
   ]
  },
  {
   "cell_type": "code",
   "execution_count": null,
   "metadata": {},
   "outputs": [],
   "source": []
  }
 ],
 "metadata": {
  "kernelspec": {
   "display_name": "R",
   "language": "R",
   "name": "ir"
  },
  "language_info": {
   "codemirror_mode": "r",
   "file_extension": ".r",
   "mimetype": "text/x-r-source",
   "name": "R",
   "pygments_lexer": "r",
   "version": "4.2.3"
  }
 },
 "nbformat": 4,
 "nbformat_minor": 4
}
