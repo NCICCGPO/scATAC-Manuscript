{
 "cells": [
  {
   "cell_type": "markdown",
   "id": "c3f32d00",
   "metadata": {},
   "source": [
    "### best sanity is to run part of the notebook after restarting the kernel\n",
    "- for instance to get 5x pli, restart and run only the relevant cells\n",
    "- for 5x random, restart and run only relevant cells\n",
    "- TODO: Check if just running all cells in order gives same results"
   ]
  },
  {
   "cell_type": "code",
   "execution_count": null,
   "id": "ef6fa252",
   "metadata": {},
   "outputs": [],
   "source": [
    "import os\n",
    "import matplotlib.pyplot as plt\n",
    "import numpy as np\n",
    "import pandas as pd\n",
    "from IPython.display import display, HTML\n",
    "import scipy.stats\n",
    "from pybedtools import BedTool\n",
    "import pickle\n",
    "from tqdm import tqdm\n",
    "from pyfaidx import Fasta\n",
    "\n",
    "from seq2atac.stable import compute_gc_bed, one_hot_encode, read_pickle, compute_signal, write_pickle\n",
    "from seq2atac.analysis import get_promoterai_tss, get_cosmic_pancan_genes, fasta_file\n",
    "from seq2atac.analysis.enrichment_utils import create_pancancer_distribution_plots, create_pancancer_correlations, create_pancancer_valuecounts, create_pancancer_distribution_plots_discrete\n",
    "from seq2atac.analysis.sample_controls import matching_logic\n",
    "from seq2atac.analysis.mutation_utils import compute_vierstra_groups, compute_trinuc, ingene_indicator\n",
    "from seq2atac.analysis.mutation_processing_pipeline_utils import annotateNearestGene, annotateScore, filterannotatePeaks, annotatePhylopScore, annotatePhylopScorePeak, annotateBedfile"
   ]
  },
  {
   "cell_type": "code",
   "execution_count": null,
   "id": "c62d0c53",
   "metadata": {},
   "outputs": [],
   "source": [
    "all_tcga_cancers = [\"BLCA\",\"BRCA\",\"GBM\",\"COAD\",\"KIRC\",\"KIRP\",\"LUAD\"]"
   ]
  },
  {
   "cell_type": "markdown",
   "id": "ba74376b",
   "metadata": {},
   "source": [
    "### Expt 1"
   ]
  },
  {
   "cell_type": "code",
   "execution_count": null,
   "id": "563f34a2",
   "metadata": {},
   "outputs": [],
   "source": [
    "## requires access to indexed peakfiles in akumar22"
   ]
  },
  {
   "cell_type": "code",
   "execution_count": null,
   "id": "e462bb51",
   "metadata": {},
   "outputs": [],
   "source": [
    "ctcf_vierstra_file = \"../process_tcga_icgc/ctcf_vierstra.bed\"\n",
    "pancan_genes = read_pickle(\"../process_tcga_icgc/ogtsg.pkl\")\n",
    "len(pancan_genes)"
   ]
  },
  {
   "cell_type": "code",
   "execution_count": null,
   "id": "39648b9f",
   "metadata": {},
   "outputs": [],
   "source": [
    "#### \n",
    "somatic_df_dict = {}\n",
    "for cancer_name in all_tcga_cancers:\n",
    "    print(cancer_name)\n",
    "    somatic_df = read_pickle(f\"../somatic_filtered/{cancer_name}_filtered_annotated_somatic.pkl\")\n",
    "    print(somatic_df.shape)\n",
    "    \n",
    "    ### remove uncleaned ctcf\n",
    "    somatic_df = annotateBedfile(somatic_df,\n",
    "                                 ctcf_vierstra_file,\n",
    "                                 \"ctcf_uncleaned\")\n",
    "    somatic_df = somatic_df[somatic_df[\"ctcf_uncleaned\"]==0]\n",
    "    print(somatic_df.shape)\n",
    "    \n",
    "    ### closest pancan annotation\n",
    "    somatic_df[\"closest_pancan\"] = somatic_df[\"gene\"].apply(lambda x : ingene_indicator(x, pancan_genes))\n",
    "    \n",
    "    ### inside peaks or not\n",
    "    somatic_df = annotateBedfile(somatic_df,\n",
    "                               f\"/illumina/scratch/deep_learning/akumar22/TCGA/mutations_scoring/master_files/cancer_peaks_500/{cancer_name}_peaks_indexed.bed\",\n",
    "                               \"inside_peaks\")\n",
    "    print(somatic_df.shape)\n",
    "    \n",
    "    \n",
    "    assert len(somatic_df.drop_duplicates([\"Chromosome\",\"hg38_start\",\"Tumor_Seq_Allele2\"])) == len(somatic_df)\n",
    "    \n",
    "    somatic_df_dict[cancer_name] = somatic_df\n",
    "    \n",
    "    "
   ]
  },
  {
   "cell_type": "code",
   "execution_count": null,
   "id": "cbcde940",
   "metadata": {},
   "outputs": [],
   "source": [
    "total_fisher = np.zeros((2,2))\n",
    "for cancer_name in all_tcga_cancers:\n",
    "    print(cancer_name)\n",
    "    df = somatic_df_dict[cancer_name].copy()\n",
    "    \n",
    "    l1 = df[(df[\"closest_pancan\"]==1) & (df[\"inside_peaks\"] == 1)]\n",
    "    l2 = df[(df[\"closest_pancan\"]==1) & (df[\"inside_peaks\"] == 0)]\n",
    "    l3 = df[(df[\"closest_pancan\"]==0) & (df[\"inside_peaks\"] == 1)]\n",
    "    l4 = df[(df[\"closest_pancan\"]==0) & (df[\"inside_peaks\"] == 0)]\n",
    "\n",
    "\n",
    "    fisher_matrix = np.array([[len(l1),len(l2)],[len(l3),len(l4)]])\n",
    "    \n",
    "    assert fisher_matrix.sum() == len(df)\n",
    "    total_fisher += fisher_matrix\n",
    "    fold_change,pval = scipy.stats.fisher_exact(fisher_matrix)\n",
    "    print(fisher_matrix,fold_change,pval)\n",
    "    \n",
    "print(\"total\")\n",
    "print(total_fisher)\n",
    "print(scipy.stats.fisher_exact(total_fisher))\n"
   ]
  },
  {
   "cell_type": "markdown",
   "id": "db85dd73",
   "metadata": {},
   "source": [
    "### Expt2 "
   ]
  },
  {
   "cell_type": "code",
   "execution_count": 7,
   "id": "e934ce4b",
   "metadata": {
    "scrolled": false
   },
   "outputs": [
    {
     "data": {
      "text/plain": [
       "{'brca': 0.17696281257796992,\n",
       " 'blca': 0.2097989422114596,\n",
       " 'coad': 0.19172578644761995,\n",
       " 'luad': 0.27739862176416474,\n",
       " 'kirp': 0.23343622358881733,\n",
       " 'kirc': 0.2235218676975348,\n",
       " 'gbm': 0.21235916285438658,\n",
       " 'skcm': 0.19640249133953247}"
      ]
     },
     "execution_count": 7,
     "metadata": {},
     "output_type": "execute_result"
    }
   ],
   "source": [
    "ism_thresh = read_pickle(\"../process_tcga_icgc/ism_thresh_percentile.pkl\")[95]\n",
    "ism_thresh"
   ]
  },
  {
   "cell_type": "code",
   "execution_count": null,
   "id": "09b8cb66",
   "metadata": {},
   "outputs": [],
   "source": [
    "somatic_df_dict = read_pickle(\"somatic_df_dict_lof.pkl\")"
   ]
  },
  {
   "cell_type": "code",
   "execution_count": null,
   "id": "fb26da1a",
   "metadata": {},
   "outputs": [],
   "source": [
    "def get_enrichments(somatic_df_dict, pancan_matched_dict, nonpancan_matched_dict, ism_thresh):\n",
    "    q_to_or = {}\n",
    "    q_to_pval = {}\n",
    "    q_to_fisher = {}\n",
    "    \n",
    "    all_tcga_cancers = list(somatic_df_dict.keys())\n",
    "\n",
    "    for q in [round(x,2) for x in np.linspace(0.5, 0.99, 50)] + [0.975]:\n",
    "        print(q)\n",
    "\n",
    "        total_fisher = np.zeros((2,2))\n",
    "\n",
    "        for cancer_name in all_tcga_cancers:\n",
    "\n",
    "            if cancer_name == \"SKCM\":\n",
    "                continue\n",
    "\n",
    "            somatic_df = somatic_df_dict[cancer_name].copy()\n",
    "\n",
    "\n",
    "            threshold = somatic_df[\"diff_summit_centered\"].quantile(q)\n",
    "            ism_es = None\n",
    "            if ism_thresh:\n",
    "                ism_es = ism_thresh[cancer_name.lower()]\n",
    "\n",
    "            pancan_df = pancan_matched_dict[cancer_name].copy()\n",
    "            nonpancan_df = nonpancan_matched_dict[cancer_name].copy()\n",
    "\n",
    "            l1 = None\n",
    "            if ism_thresh:\n",
    "                l1 = pancan_df[(pancan_df[\"diff_summit_centered\"]>threshold) & (pancan_df[\"ref\"] > ism_es) & (pancan_df[\"ref-mut\"] > 0)]\n",
    "            else:\n",
    "                l1 = pancan_df[(pancan_df[\"diff_summit_centered\"]>threshold)]\n",
    "                \n",
    "            l2 = pancan_df[~pancan_df.index.isin(l1.index)]\n",
    "            \n",
    "            l3 = None\n",
    "            if ism_thresh:\n",
    "                l3 = nonpancan_df[(nonpancan_df[\"diff_summit_centered\"]>threshold) & (nonpancan_df[\"ref\"] > ism_es) & (nonpancan_df[\"ref-mut\"] > 0)]\n",
    "            else:\n",
    "                l3 = nonpancan_df[(nonpancan_df[\"diff_summit_centered\"]>threshold)]\n",
    "                \n",
    "            l4 = nonpancan_df[~nonpancan_df.index.isin(l3.index)]\n",
    "\n",
    "            fisher_matrix = np.array([[len(l1),len(l2)],[len(l3),len(l4)]])\n",
    "\n",
    "            assert fisher_matrix.sum() == len(pancan_df) + len(nonpancan_df)\n",
    "            total_fisher += fisher_matrix\n",
    "            fold_change,pval = scipy.stats.fisher_exact(fisher_matrix)\n",
    "\n",
    "        print(total_fisher)\n",
    "        fold_change,pval = scipy.stats.fisher_exact(total_fisher)\n",
    "        print(fold_change, pval)\n",
    "        q_to_or[q] = fold_change\n",
    "        q_to_pval[q] = -np.log10(pval)\n",
    "        q_to_fisher[q] = total_fisher\n",
    "        \n",
    "    return q_to_fisher, q_to_or, q_to_pval\n",
    "\n",
    "\n",
    "def plot_percentiles(q_to_or, q_to_pval, ymin=0.9, ymax=1.7, title=None, outfile=None):\n",
    "    \n",
    "        \n",
    "    fig,axes = plt.subplots(1,2,figsize=(10,5))\n",
    "    ax1,ax2 = axes\n",
    "    ax1.scatter(q_to_or.keys(),q_to_or.values(), color=\"#ff7f0e\")\n",
    "    ax1.set_xlabel(\"threshold percentile of somatic\")\n",
    "    ax1.set_ylabel(\"fold change\")\n",
    "    ax1.axhline(1.0,color=\"#ff7f0e\")\n",
    "    ax1.set_ylim(ymin,ymax)\n",
    "    \n",
    "    ax2.scatter(q_to_pval.keys(),q_to_pval.values(), color=\"#ff7f0e\")\n",
    "    ax2.set_xlabel(\"threshold percentile of somatic\")\n",
    "    ax2.set_ylabel(\"-log10 p value\")\n",
    "    ax2.axhline(-np.log10(0.05),color=\"#ff7f0e\")\n",
    "\n",
    "    if title:\n",
    "        fig.suptitle(title)\n",
    "    fig.tight_layout()\n",
    "    if outfile:\n",
    "        fig.savefig(outfile,dpi=1200)\n",
    "    else:\n",
    "        plt.show()"
   ]
  },
  {
   "cell_type": "code",
   "execution_count": null,
   "id": "9063fee4",
   "metadata": {},
   "outputs": [],
   "source": [
    "pancan_matched_dict = read_pickle(\"pancan_matched_dict_ogtsg.pkl\")\n",
    "nonpancan_matched_dict = read_pickle(\"nonpancan_matched_dict_ogtsg.pkl\")"
   ]
  },
  {
   "cell_type": "code",
   "execution_count": null,
   "id": "6186a4b2",
   "metadata": {
    "scrolled": true
   },
   "outputs": [],
   "source": [
    "### figure\n",
    "import matplotlib\n",
    "plt.rcParams[\"figure.figsize\"]=20,10\n",
    "matplotlib.rcParams['pdf.fonttype']=42\n",
    "fisher, odds, pvals = get_enrichments(somatic_df_dict, pancan_matched_dict, nonpancan_matched_dict, ism_thresh)\n",
    "plot_percentiles(odds, pvals, 0.8,1.7,\"Odds and p values as a function of threshold\",\"./varied_thresholds_with_ism.pdf\")\n"
   ]
  },
  {
   "cell_type": "code",
   "execution_count": null,
   "id": "06e10577",
   "metadata": {
    "scrolled": true
   },
   "outputs": [],
   "source": [
    "fisher, odds, pvals = get_enrichments(somatic_df_dict, pancan_matched_dict, nonpancan_matched_dict, ism_thresh=None)\n",
    "plot_percentiles(odds, pvals, 0.8,1.7)"
   ]
  },
  {
   "cell_type": "code",
   "execution_count": null,
   "id": "18f28be5",
   "metadata": {},
   "outputs": [],
   "source": [
    "### near tsg"
   ]
  },
  {
   "cell_type": "code",
   "execution_count": null,
   "id": "36300c61",
   "metadata": {},
   "outputs": [],
   "source": [
    "# cosmos_pancan_file = \"/illumina/scratch/deep_learning/asalcedo/cancer_gene_census.csv\"\n",
    "# cosmos_pancan_df = pd.read_csv(cosmos_pancan_file)\n",
    "# cosmos_pancan_df = cosmos_pancan_df[(~cosmos_pancan_df[\"Role in Cancer\"].isna()) & \n",
    "#                                         (cosmos_pancan_df[\"Role in Cancer\"]!=\"fusion\")]\n",
    "\n",
    "# tsg = cosmos_pancan_df[(~cosmos_pancan_df[\"Role in Cancer\"].isin(['oncogene, fusion','oncogene']))][\"Gene Symbol\"].tolist()\n",
    "# tsg = list(set(tsg))\n",
    "# len(tsg)"
   ]
  },
  {
   "cell_type": "code",
   "execution_count": null,
   "id": "5795d8b5",
   "metadata": {},
   "outputs": [],
   "source": [
    "# def get_enrichments_tsg(somatic_df_dict, pancan_matched_dict, nonpancan_matched_dict, ism_thresh):\n",
    "#     q_to_or = {}\n",
    "#     q_to_pval = {}\n",
    "#     q_to_fisher = {}\n",
    "    \n",
    "#     all_tcga_cancers = list(somatic_df_dict.keys())\n",
    "\n",
    "#     for q in [round(x,2) for x in np.linspace(0.5, 0.99, 50)] + [0.975]:\n",
    "#         print(q)\n",
    "\n",
    "#         total_fisher = np.zeros((2,2))\n",
    "\n",
    "#         for cancer_name in all_tcga_cancers:\n",
    "\n",
    "#             if cancer_name == \"SKCM\":\n",
    "#                 continue\n",
    "\n",
    "#             somatic_df = somatic_df_dict[cancer_name].copy()\n",
    "\n",
    "\n",
    "#             threshold = somatic_df[\"diff_summit_centered\"].quantile(q)\n",
    "#             ism_es = None\n",
    "#             if ism_thresh:\n",
    "#                 ism_es = ism_thresh[cancer_name.lower()]\n",
    "\n",
    "#             pancan_df = pancan_matched_dict[cancer_name].copy()\n",
    "#             nonpancan_df = nonpancan_matched_dict[cancer_name].copy()\n",
    "            \n",
    "#             pancan_df[\"closest_tsg\"] = pancan_df[\"gene\"].apply(lambda x : ingene_indicator(x, tsg))\n",
    "#             pancan_df = pancan_df[pancan_df[\"closest_tsg\"]==1]\n",
    "#             nonpancan_df = nonpancan_df[nonpancan_df.index.isin(pancan_df.index)]\n",
    "            \n",
    "            \n",
    "#             print(pancan_df.shape)\n",
    "#             print(nonpancan_df.shape)\n",
    "            \n",
    "#             assert (pancan_df[\"distance_to_summit_discrete\"]==nonpancan_df[\"distance_to_summit_discrete\"]).all()\n",
    "\n",
    "#             l1 = None\n",
    "#             if ism_thresh:\n",
    "#                 l1 = pancan_df[(pancan_df[\"diff_summit_centered\"]>threshold) & (pancan_df[\"ref\"] > ism_es) & (pancan_df[\"ref-mut\"] > 0)]\n",
    "#             else:\n",
    "#                 l1 = pancan_df[(pancan_df[\"diff_summit_centered\"]>threshold)]\n",
    "                \n",
    "#             l2 = pancan_df[~pancan_df.index.isin(l1.index)]\n",
    "            \n",
    "#             l3 = None\n",
    "#             if ism_thresh:\n",
    "#                 l3 = nonpancan_df[(nonpancan_df[\"diff_summit_centered\"]>threshold) & (nonpancan_df[\"ref\"] > ism_es) & (nonpancan_df[\"ref-mut\"] > 0)]\n",
    "#             else:\n",
    "#                 l3 = nonpancan_df[(nonpancan_df[\"diff_summit_centered\"]>threshold)]\n",
    "                \n",
    "#             l4 = nonpancan_df[~nonpancan_df.index.isin(l3.index)]\n",
    "\n",
    "#             fisher_matrix = np.array([[len(l1),len(l2)],[len(l3),len(l4)]])\n",
    "\n",
    "#             assert fisher_matrix.sum() == len(pancan_df) + len(nonpancan_df)\n",
    "#             total_fisher += fisher_matrix\n",
    "#             fold_change,pval = scipy.stats.fisher_exact(fisher_matrix)\n",
    "\n",
    "#         print(total_fisher)\n",
    "#         fold_change,pval = scipy.stats.fisher_exact(total_fisher)\n",
    "#         print(fold_change, pval)\n",
    "#         q_to_or[q] = fold_change\n",
    "#         q_to_pval[q] = -np.log10(pval)\n",
    "#         q_to_fisher[q] = total_fisher\n",
    "        \n",
    "#     return q_to_fisher, q_to_or, q_to_pval\n",
    "\n",
    "\n",
    "# def plot_percentiles(q_to_or, q_to_pval, ymin=0.9, ymax=1.7):\n",
    "    \n",
    "        \n",
    "#     fig,axes = plt.subplots(1,2,figsize=(10,5))\n",
    "#     ax1,ax2 = axes\n",
    "#     ax1.scatter(q_to_or.keys(),q_to_or.values(), color=\"#ff7f0e\")\n",
    "#     ax1.set_xlabel(\"threshold percentile of somatic\")\n",
    "#     ax1.set_ylabel(\"fold change\")\n",
    "#     ax1.axhline(1.0,color=\"#ff7f0e\")\n",
    "#     ax1.set_ylim(ymin,ymax)\n",
    "    \n",
    "#     ax2.scatter(q_to_pval.keys(),q_to_pval.values(), color=\"#ff7f0e\")\n",
    "#     ax2.set_xlabel(\"threshold percentile of somatic\")\n",
    "#     ax2.set_ylabel(\"-log10 p value\")\n",
    "#     ax2.axhline(-np.log10(0.05),color=\"#ff7f0e\")\n",
    "\n",
    "#     fig.suptitle(\"Odds and -log10 p values as the threshold is increased\")\n",
    "#     fig.tight_layout()\n",
    "#     plt.show()"
   ]
  },
  {
   "cell_type": "code",
   "execution_count": null,
   "id": "37c96855",
   "metadata": {
    "scrolled": true
   },
   "outputs": [],
   "source": [
    "# pancan_matched_dict = read_pickle(\"pancan_matched_dict_ogtsg.pkl\")\n",
    "# nonpancan_matched_dict = read_pickle(\"nonpancan_matched_dict_ogtsg.pkl\")\n",
    "\n",
    "# fisher, odds, pvals = get_enrichments_tsg(somatic_df_dict, pancan_matched_dict, nonpancan_matched_dict, ism_thresh)\n",
    "# plot_percentiles(odds, pvals, 0.8,1.7)"
   ]
  },
  {
   "cell_type": "markdown",
   "id": "ff05d11f",
   "metadata": {},
   "source": [
    "### pli matched"
   ]
  },
  {
   "cell_type": "code",
   "execution_count": null,
   "id": "afaddb79",
   "metadata": {
    "scrolled": true
   },
   "outputs": [],
   "source": [
    "### for each random pli geneset - compute odds and p vals as a function of quantile and \n",
    "### create a dataframe with 5 columns (one for each genelist)\n",
    "df_or = pd.DataFrame()\n",
    "df_or.index = [round(x,2) for x in np.linspace(0.5, 0.99, 50)] + [0.975]\n",
    "\n",
    "df_pval = pd.DataFrame()\n",
    "df_pval.index = [round(x,2) for x in np.linspace(0.5, 0.99, 50)] + [0.975]\n",
    "for i in range(5):\n",
    "    \n",
    "    pancan_matched_dict = read_pickle(f\"pancan_matched_dict_pli_x2{i}.pkl\")\n",
    "    nonpancan_matched_dict = read_pickle(f\"nonpancan_matched_dict_pli_x2{i}.pkl\")\n",
    "    \n",
    "    fisher, odds, pvals = get_enrichments(somatic_df_dict, pancan_matched_dict, nonpancan_matched_dict, ism_thresh)\n",
    "\n",
    "    df_or[f\"odds_{i}\"] = df_or.index.map(odds.get)\n",
    "    df_pval[f\"odds_{i}\"] = df_pval.index.map(pvals.get)"
   ]
  },
  {
   "cell_type": "code",
   "execution_count": null,
   "id": "f9251286",
   "metadata": {},
   "outputs": [],
   "source": [
    "### compute median for each quantile and take the corresponding geneset's p value at that quantile\n",
    "odds_median = {}\n",
    "pvals_median = {}\n",
    "df_or_np = df_or.to_numpy()\n",
    "df_pval_np = df_pval.to_numpy()\n",
    "for i in range(len(df_or_np)):\n",
    "    \n",
    "    ors_q = df_or_np[i]\n",
    "    pvals_q = df_pval_np[i]\n",
    "    q = df_or.index[i]\n",
    "    \n",
    "    median_q = sorted(ors_q)[2]\n",
    "    \n",
    "    pval_median_q_index = np.where(ors_q == median_q)[0]\n",
    "    pval_median_q = pvals_q[pval_median_q_index[0]]\n",
    "    \n",
    "    odds_median[q] = median_q\n",
    "    pvals_median[q] = pval_median_q\n",
    "    \n",
    "plot_percentiles(odds_median, pvals_median, 0.8,1.7)"
   ]
  },
  {
   "cell_type": "code",
   "execution_count": null,
   "id": "dda36ea3",
   "metadata": {
    "scrolled": true
   },
   "outputs": [],
   "source": [
    "odds_median[0.975],10**-pvals_median[0.975], odds_median[0.99],10**-pvals_median[0.99]"
   ]
  },
  {
   "cell_type": "markdown",
   "id": "2009ba06",
   "metadata": {},
   "source": [
    "### pli matched near tsg"
   ]
  },
  {
   "cell_type": "code",
   "execution_count": null,
   "id": "f1285d62",
   "metadata": {},
   "outputs": [],
   "source": [
    "# ### for each random pli geneset - compute odds and p vals as a function of quantile and \n",
    "# ### create a dataframe with 5 columns (one for each genelist)\n",
    "# df_or = pd.DataFrame()\n",
    "# df_or.index = [round(x,2) for x in np.linspace(0.5, 0.99, 50)] + [0.975]\n",
    "\n",
    "# df_pval = pd.DataFrame()\n",
    "# df_pval.index = [round(x,2) for x in np.linspace(0.5, 0.99, 50)] + [0.975]\n",
    "# for i in range(5):\n",
    "    \n",
    "#     pancan_matched_dict = read_pickle(f\"pancan_matched_dict_pli_ts_x2{i}.pkl\")\n",
    "#     nonpancan_matched_dict = read_pickle(f\"nonpancan_matched_dict_pli_ts_x2{i}.pkl\")\n",
    "    \n",
    "#     fisher, odds, pvals = get_enrichments(somatic_df_dict, pancan_matched_dict, nonpancan_matched_dict, ism_thresh)\n",
    "\n",
    "#     df_or[f\"odds_{i}\"] = df_or.index.map(odds.get)\n",
    "#     df_pval[f\"odds_{i}\"] = df_pval.index.map(pvals.get)"
   ]
  },
  {
   "cell_type": "code",
   "execution_count": null,
   "id": "ad979b82",
   "metadata": {},
   "outputs": [],
   "source": [
    "# ### compute median for each quantile and take the corresponding geneset's p value at that quantile\n",
    "# odds_median = {}\n",
    "# pvals_median = {}\n",
    "# df_or_np = df_or.to_numpy()\n",
    "# df_pval_np = df_pval.to_numpy()\n",
    "# for i in range(len(df_or_np)):\n",
    "    \n",
    "#     ors_q = df_or_np[i]\n",
    "#     pvals_q = df_pval_np[i]\n",
    "#     q = df_or.index[i]\n",
    "    \n",
    "#     median_q = sorted(ors_q)[2]\n",
    "    \n",
    "#     pval_median_q_index = np.where(ors_q == median_q)[0]\n",
    "#     pval_median_q = pvals_q[pval_median_q_index[0]]\n",
    "    \n",
    "#     odds_median[q] = median_q\n",
    "#     pvals_median[q] = pval_median_q\n",
    "    \n",
    "# plot_percentiles(odds_median, pvals_median, 0.8,1.7)"
   ]
  },
  {
   "cell_type": "markdown",
   "id": "96ea6868",
   "metadata": {},
   "source": [
    "### random near pancan"
   ]
  },
  {
   "cell_type": "code",
   "execution_count": null,
   "id": "d35e45e2",
   "metadata": {
    "scrolled": true
   },
   "outputs": [],
   "source": [
    "### for each random pli geneset - compute odds and p vals as a function of quantile and \n",
    "### create a dataframe with 5 columns (one for each genelist)\n",
    "df_or = pd.DataFrame()\n",
    "df_or.index = [round(x,2) for x in np.linspace(0.5, 0.99, 50)] + [0.975]\n",
    "\n",
    "df_pval = pd.DataFrame()\n",
    "df_pval.index = [round(x,2) for x in np.linspace(0.5, 0.99, 50)] + [0.975]\n",
    "for i in range(5):\n",
    "    \n",
    "    pancan_matched_dict = read_pickle(f\"pancan_matched_dict_random_{i}.pkl\")\n",
    "    nonpancan_matched_dict = read_pickle(f\"nonpancan_matched_dict_random_{i}.pkl\")\n",
    "    \n",
    "    fisher, odds, pvals = get_enrichments(somatic_df_dict, pancan_matched_dict, nonpancan_matched_dict, ism_thresh)\n",
    "\n",
    "    df_or[f\"odds_{i}\"] = df_or.index.map(odds.get)\n",
    "    df_pval[f\"odds_{i}\"] = df_pval.index.map(pvals.get)"
   ]
  },
  {
   "cell_type": "code",
   "execution_count": null,
   "id": "7e607f66",
   "metadata": {},
   "outputs": [],
   "source": [
    "### compute median for each quantile and take the corresponding geneset's p value at that quantile\n",
    "odds_median = {}\n",
    "pvals_median = {}\n",
    "df_or_np = df_or.to_numpy()\n",
    "df_pval_np = df_pval.to_numpy()\n",
    "for i in range(len(df_or_np)):\n",
    "    \n",
    "    ors_q = df_or_np[i]\n",
    "    pvals_q = df_pval_np[i]\n",
    "    q = df_or.index[i]\n",
    "    \n",
    "    median_q = sorted(ors_q)[2]\n",
    "    \n",
    "    pval_median_q_index = np.where(ors_q == median_q)[0]\n",
    "    pval_median_q = pvals_q[pval_median_q_index[0]]\n",
    "    \n",
    "    odds_median[q] = median_q\n",
    "    pvals_median[q] = pval_median_q\n",
    "    \n",
    "plot_percentiles(odds_median, pvals_median, 0.8,1.7)"
   ]
  },
  {
   "cell_type": "code",
   "execution_count": null,
   "id": "8d7ddea3",
   "metadata": {
    "scrolled": true
   },
   "outputs": [],
   "source": [
    "odds_median[0.975],10**-pvals_median[0.975], odds_median[0.99],10**-pvals_median[0.99]"
   ]
  },
  {
   "cell_type": "markdown",
   "id": "f36b4261",
   "metadata": {},
   "source": [
    "### Supplementary plots"
   ]
  },
  {
   "cell_type": "code",
   "execution_count": 3,
   "id": "269966e2",
   "metadata": {},
   "outputs": [],
   "source": [
    "somatic_df_dict = read_pickle(\"somatic_df_dict_lof.pkl\")\n",
    "pancan_matched_dict = read_pickle(\"pancan_matched_dict_ogtsg.pkl\")\n",
    "nonpancan_matched_dict = read_pickle(\"nonpancan_matched_dict_ogtsg.pkl\")"
   ]
  },
  {
   "cell_type": "code",
   "execution_count": 5,
   "id": "6960ba5f",
   "metadata": {},
   "outputs": [],
   "source": [
    "import matplotlib\n",
    "plt.rcParams[\"figure.figsize\"]=20,10\n",
    "matplotlib.rcParams['pdf.fonttype']=42"
   ]
  },
  {
   "cell_type": "markdown",
   "id": "e7dc31fd",
   "metadata": {},
   "source": [
    "### matching - no distribution shift plot"
   ]
  },
  {
   "cell_type": "code",
   "execution_count": null,
   "id": "d81b88f0",
   "metadata": {
    "scrolled": true
   },
   "outputs": [],
   "source": [
    "df=create_pancancer_distribution_plots(pancan_matched_dict, nonpancan_matched_dict,\"diff_summit_centered\",False)\n",
    "df"
   ]
  },
  {
   "cell_type": "code",
   "execution_count": null,
   "id": "4ea3db60",
   "metadata": {
    "scrolled": false
   },
   "outputs": [],
   "source": [
    "# fig,axes = plt.subplots(1,2,figsize=(20,10))\n",
    "# ax1,ax2 = axes\n",
    "# ax1.bar(np.arange(7),\n",
    "#         df[\"ranksums\"],\n",
    "#         0.7,\n",
    "#         label=df.index,\n",
    "#         color='#1f77b4')\n",
    "# ax1.set_xticks(np.arange(len(df.index)), df.index)\n",
    "# ax1.set_xlabel(\"cancer name\")\n",
    "# ax1.set_ylabel(\"ranksum\")\n",
    "# ax1.set_ylim(-5,5)\n",
    "\n",
    "fig,ax2 = plt.subplots(figsize=(20,10))\n",
    "ax2.bar(np.arange(7),\n",
    "        -np.log10(df[\"pvalue\"]),\n",
    "        0.7,\n",
    "        label=df.index,\n",
    "        color='#1f77b4')\n",
    "ax2.set_xticks(np.arange(len(df.index)), df.index)\n",
    "ax2.set_xlabel(\"cancer name\")\n",
    "ax2.set_ylabel(\"-log10 p value\")\n",
    "ax2.axhline(-np.log10(0.05),color=\"#1f77b4\")\n",
    "ax2.set_ylim(0,5)\n",
    "\n",
    "fig.suptitle(\"Matching statistics - p value\")\n",
    "\n",
    "fig.savefig(\"./matching_bar_plot_inside_peaks.pdf\",dpi=1200)\n"
   ]
  },
  {
   "cell_type": "markdown",
   "id": "67b66f74",
   "metadata": {},
   "source": [
    "### table"
   ]
  },
  {
   "cell_type": "code",
   "execution_count": 13,
   "id": "f7b26e7b",
   "metadata": {
    "scrolled": true
   },
   "outputs": [
    {
     "name": "stdout",
     "output_type": "stream",
     "text": [
      "BLCA 0.047121298313140714 0.2097989422114596\n",
      "BRCA 0.046678137779235754 0.17696281257796992\n",
      "GBM 0.0649726867675781 0.21235916285438658\n",
      "COAD 0.04962486773729317 0.19172578644761995\n",
      "KIRC 0.046412371098995216 0.2235218676975348\n",
      "KIRP 0.05527774393558505 0.23343622358881733\n",
      "LUAD 0.0665462560951709 0.27739862176416474\n"
     ]
    },
    {
     "data": {
      "text/plain": [
       "(15342, 13)"
      ]
     },
     "execution_count": 13,
     "metadata": {},
     "output_type": "execute_result"
    }
   ],
   "source": [
    "all_mutations = []\n",
    "df_ism_thresh = []\n",
    "for cancer_name in all_tcga_cancers:\n",
    "    \n",
    "    \n",
    "    somatic_df = somatic_df_dict[cancer_name].copy()\n",
    "    threshold = somatic_df[\"diff_summit_centered\"].quantile(0.975)\n",
    "    ism_es = ism_thresh[cancer_name.lower()]\n",
    "\n",
    "    print(cancer_name, threshold, ism_es)\n",
    "    df_ism_thresh.append((cancer_name, threshold, ism_es))\n",
    "    \n",
    "    pancan_df = pancan_matched_dict[cancer_name][[\"Chromosome\",\"hg38_start\",\"Reference_Allele\",\"Tumor_Seq_Allele2\",\"sample\",\"diff_summit_centered\",\"proba_ref_summit_centered\",\"proba_alt_summit_centered\",\"ref\",\"mut\",\"ref-mut\",\"closest_pancan\"]].copy()\n",
    "    pancan_df[\"sample\"] = pancan_df[\"sample\"].apply(lambda x : x.upper())\n",
    "    pancan_df[\"prioritized\"] = 0\n",
    "    indices = pancan_df[(pancan_df[\"diff_summit_centered\"]>threshold) & (pancan_df[\"ref\"] > ism_es) & (pancan_df[\"ref-mut\"] > 0)].index\n",
    "    pancan_df.loc[indices,\"prioritized\"] = 1\n",
    "\n",
    "    \n",
    "    nonpancan_df = nonpancan_matched_dict[cancer_name][[\"Chromosome\",\"hg38_start\",\"Reference_Allele\",\"Tumor_Seq_Allele2\",\"sample\",\"diff_summit_centered\",\"proba_ref_summit_centered\",\"proba_alt_summit_centered\",\"ref\",\"mut\",\"ref-mut\",\"closest_pancan\"]].copy()\n",
    "    nonpancan_df[\"sample\"] = nonpancan_df[\"sample\"].apply(lambda x : x.upper())\n",
    "    nonpancan_df[\"prioritized\"] = 0\n",
    "    indices = nonpancan_df[(nonpancan_df[\"diff_summit_centered\"]>threshold) & (nonpancan_df[\"ref\"] > ism_es) & (nonpancan_df[\"ref-mut\"] > 0)].index\n",
    "    nonpancan_df.loc[indices,\"prioritized\"] = 1\n",
    "    \n",
    "    all_mutations.append(pancan_df)\n",
    "    all_mutations.append(nonpancan_df)\n",
    "    \n",
    "all_mutations = pd.concat(all_mutations, axis=0, ignore_index=True)\n",
    "all_mutations.shape"
   ]
  },
  {
   "cell_type": "code",
   "execution_count": 16,
   "id": "df51c45c",
   "metadata": {},
   "outputs": [],
   "source": [
    "df_ism_thresh = pd.DataFrame(df_ism_thresh,columns=[\"Cancer Type\",\"Mutation score threshold\",\"ISM threhsold\"])\n",
    "df_ism_thresh[\"Cancer Type\"] = df_ism_thresh[\"Cancer Type\"].apply(lambda x : x.upper())\n",
    "df_ism_thresh.to_excel(\"./lof_thresholds.xlsx\")\n",
    "df_ism_thresh"
   ]
  },
  {
   "cell_type": "code",
   "execution_count": 14,
   "id": "cb369959",
   "metadata": {
    "scrolled": true
   },
   "outputs": [
    {
     "data": {
      "text/html": [
       "<div>\n",
       "<style scoped>\n",
       "    .dataframe tbody tr th:only-of-type {\n",
       "        vertical-align: middle;\n",
       "    }\n",
       "\n",
       "    .dataframe tbody tr th {\n",
       "        vertical-align: top;\n",
       "    }\n",
       "\n",
       "    .dataframe thead th {\n",
       "        text-align: right;\n",
       "    }\n",
       "</style>\n",
       "<table border=\"1\" class=\"dataframe\">\n",
       "  <thead>\n",
       "    <tr style=\"text-align: right;\">\n",
       "      <th></th>\n",
       "      <th>chr</th>\n",
       "      <th>pos</th>\n",
       "      <th>ref</th>\n",
       "      <th>alt</th>\n",
       "      <th>sample</th>\n",
       "      <th>effect_size</th>\n",
       "      <th>ref_proba</th>\n",
       "      <th>alt_proba</th>\n",
       "      <th>ref_ism</th>\n",
       "      <th>alt_ism</th>\n",
       "      <th>ism_diff</th>\n",
       "      <th>og/tsg</th>\n",
       "      <th>prioritized</th>\n",
       "    </tr>\n",
       "  </thead>\n",
       "  <tbody>\n",
       "    <tr>\n",
       "      <th>0</th>\n",
       "      <td>chr1</td>\n",
       "      <td>978707</td>\n",
       "      <td>G</td>\n",
       "      <td>C</td>\n",
       "      <td>LUAD</td>\n",
       "      <td>-0.024571</td>\n",
       "      <td>0.623894</td>\n",
       "      <td>0.648465</td>\n",
       "      <td>0.186169</td>\n",
       "      <td>0.172975</td>\n",
       "      <td>0.013194</td>\n",
       "      <td>0</td>\n",
       "      <td>0</td>\n",
       "    </tr>\n",
       "    <tr>\n",
       "      <th>1</th>\n",
       "      <td>chr1</td>\n",
       "      <td>1552046</td>\n",
       "      <td>T</td>\n",
       "      <td>G</td>\n",
       "      <td>BRCA</td>\n",
       "      <td>-0.001262</td>\n",
       "      <td>0.567517</td>\n",
       "      <td>0.568779</td>\n",
       "      <td>-0.008160</td>\n",
       "      <td>-0.064508</td>\n",
       "      <td>0.056349</td>\n",
       "      <td>0</td>\n",
       "      <td>0</td>\n",
       "    </tr>\n",
       "    <tr>\n",
       "      <th>2</th>\n",
       "      <td>chr1</td>\n",
       "      <td>2127530</td>\n",
       "      <td>G</td>\n",
       "      <td>A</td>\n",
       "      <td>GBM</td>\n",
       "      <td>-0.049524</td>\n",
       "      <td>0.817293</td>\n",
       "      <td>0.866817</td>\n",
       "      <td>0.356885</td>\n",
       "      <td>0.435889</td>\n",
       "      <td>-0.079004</td>\n",
       "      <td>0</td>\n",
       "      <td>0</td>\n",
       "    </tr>\n",
       "    <tr>\n",
       "      <th>3</th>\n",
       "      <td>chr1</td>\n",
       "      <td>2193610</td>\n",
       "      <td>G</td>\n",
       "      <td>C</td>\n",
       "      <td>BRCA</td>\n",
       "      <td>0.004750</td>\n",
       "      <td>0.795651</td>\n",
       "      <td>0.790902</td>\n",
       "      <td>0.062991</td>\n",
       "      <td>0.018371</td>\n",
       "      <td>0.044620</td>\n",
       "      <td>0</td>\n",
       "      <td>0</td>\n",
       "    </tr>\n",
       "    <tr>\n",
       "      <th>4</th>\n",
       "      <td>chr1</td>\n",
       "      <td>2224737</td>\n",
       "      <td>C</td>\n",
       "      <td>A</td>\n",
       "      <td>BLCA</td>\n",
       "      <td>0.017585</td>\n",
       "      <td>0.390333</td>\n",
       "      <td>0.372748</td>\n",
       "      <td>0.005234</td>\n",
       "      <td>-0.774536</td>\n",
       "      <td>0.779770</td>\n",
       "      <td>1</td>\n",
       "      <td>0</td>\n",
       "    </tr>\n",
       "    <tr>\n",
       "      <th>...</th>\n",
       "      <td>...</td>\n",
       "      <td>...</td>\n",
       "      <td>...</td>\n",
       "      <td>...</td>\n",
       "      <td>...</td>\n",
       "      <td>...</td>\n",
       "      <td>...</td>\n",
       "      <td>...</td>\n",
       "      <td>...</td>\n",
       "      <td>...</td>\n",
       "      <td>...</td>\n",
       "      <td>...</td>\n",
       "      <td>...</td>\n",
       "    </tr>\n",
       "    <tr>\n",
       "      <th>15337</th>\n",
       "      <td>chr9</td>\n",
       "      <td>137396336</td>\n",
       "      <td>T</td>\n",
       "      <td>C</td>\n",
       "      <td>LUAD</td>\n",
       "      <td>0.312677</td>\n",
       "      <td>0.761473</td>\n",
       "      <td>0.448796</td>\n",
       "      <td>1.122884</td>\n",
       "      <td>-0.060694</td>\n",
       "      <td>1.183578</td>\n",
       "      <td>0</td>\n",
       "      <td>1</td>\n",
       "    </tr>\n",
       "    <tr>\n",
       "      <th>15338</th>\n",
       "      <td>chr9</td>\n",
       "      <td>137405668</td>\n",
       "      <td>C</td>\n",
       "      <td>A</td>\n",
       "      <td>COAD</td>\n",
       "      <td>0.005860</td>\n",
       "      <td>0.813176</td>\n",
       "      <td>0.807316</td>\n",
       "      <td>-0.185964</td>\n",
       "      <td>-0.265868</td>\n",
       "      <td>0.079904</td>\n",
       "      <td>0</td>\n",
       "      <td>0</td>\n",
       "    </tr>\n",
       "    <tr>\n",
       "      <th>15339</th>\n",
       "      <td>chr9</td>\n",
       "      <td>137436398</td>\n",
       "      <td>G</td>\n",
       "      <td>A</td>\n",
       "      <td>BLCA</td>\n",
       "      <td>-0.006511</td>\n",
       "      <td>0.936512</td>\n",
       "      <td>0.943023</td>\n",
       "      <td>-0.187652</td>\n",
       "      <td>-0.163534</td>\n",
       "      <td>-0.024118</td>\n",
       "      <td>0</td>\n",
       "      <td>0</td>\n",
       "    </tr>\n",
       "    <tr>\n",
       "      <th>15340</th>\n",
       "      <td>chr9</td>\n",
       "      <td>137555968</td>\n",
       "      <td>A</td>\n",
       "      <td>G</td>\n",
       "      <td>COAD</td>\n",
       "      <td>0.003467</td>\n",
       "      <td>0.937267</td>\n",
       "      <td>0.933800</td>\n",
       "      <td>0.451839</td>\n",
       "      <td>0.400671</td>\n",
       "      <td>0.051168</td>\n",
       "      <td>0</td>\n",
       "      <td>0</td>\n",
       "    </tr>\n",
       "    <tr>\n",
       "      <th>15341</th>\n",
       "      <td>chr9</td>\n",
       "      <td>137595987</td>\n",
       "      <td>G</td>\n",
       "      <td>A</td>\n",
       "      <td>BRCA</td>\n",
       "      <td>-0.010783</td>\n",
       "      <td>0.347412</td>\n",
       "      <td>0.358195</td>\n",
       "      <td>0.291971</td>\n",
       "      <td>0.104119</td>\n",
       "      <td>0.187851</td>\n",
       "      <td>0</td>\n",
       "      <td>0</td>\n",
       "    </tr>\n",
       "  </tbody>\n",
       "</table>\n",
       "<p>15342 rows × 13 columns</p>\n",
       "</div>"
      ],
      "text/plain": [
       "        chr        pos ref alt sample  effect_size  ref_proba  alt_proba  \\\n",
       "0      chr1     978707   G   C   LUAD    -0.024571   0.623894   0.648465   \n",
       "1      chr1    1552046   T   G   BRCA    -0.001262   0.567517   0.568779   \n",
       "2      chr1    2127530   G   A    GBM    -0.049524   0.817293   0.866817   \n",
       "3      chr1    2193610   G   C   BRCA     0.004750   0.795651   0.790902   \n",
       "4      chr1    2224737   C   A   BLCA     0.017585   0.390333   0.372748   \n",
       "...     ...        ...  ..  ..    ...          ...        ...        ...   \n",
       "15337  chr9  137396336   T   C   LUAD     0.312677   0.761473   0.448796   \n",
       "15338  chr9  137405668   C   A   COAD     0.005860   0.813176   0.807316   \n",
       "15339  chr9  137436398   G   A   BLCA    -0.006511   0.936512   0.943023   \n",
       "15340  chr9  137555968   A   G   COAD     0.003467   0.937267   0.933800   \n",
       "15341  chr9  137595987   G   A   BRCA    -0.010783   0.347412   0.358195   \n",
       "\n",
       "        ref_ism   alt_ism  ism_diff  og/tsg  prioritized  \n",
       "0      0.186169  0.172975  0.013194       0            0  \n",
       "1     -0.008160 -0.064508  0.056349       0            0  \n",
       "2      0.356885  0.435889 -0.079004       0            0  \n",
       "3      0.062991  0.018371  0.044620       0            0  \n",
       "4      0.005234 -0.774536  0.779770       1            0  \n",
       "...         ...       ...       ...     ...          ...  \n",
       "15337  1.122884 -0.060694  1.183578       0            1  \n",
       "15338 -0.185964 -0.265868  0.079904       0            0  \n",
       "15339 -0.187652 -0.163534 -0.024118       0            0  \n",
       "15340  0.451839  0.400671  0.051168       0            0  \n",
       "15341  0.291971  0.104119  0.187851       0            0  \n",
       "\n",
       "[15342 rows x 13 columns]"
      ]
     },
     "execution_count": 14,
     "metadata": {},
     "output_type": "execute_result"
    }
   ],
   "source": [
    "all_mutations.columns = [\"chr\",\"pos\",\"ref\",\"alt\",\"sample\",\"effect_size\",\"ref_proba\",\"alt_proba\",\"ref_ism\",\"alt_ism\",\"ism_diff\",\"og/tsg\",\"prioritized\"]\n",
    "all_mutations = all_mutations.sort_values([\"chr\",\"pos\",\"sample\"]).reset_index(drop=True)\n",
    "all_mutations"
   ]
  },
  {
   "cell_type": "code",
   "execution_count": 15,
   "id": "42ffd456",
   "metadata": {
    "scrolled": true
   },
   "outputs": [
    {
     "data": {
      "text/plain": [
       "(1.5142418629267003, 0.006473624241152715)"
      ]
     },
     "execution_count": 15,
     "metadata": {},
     "output_type": "execute_result"
    }
   ],
   "source": [
    "### sanity check - please check if the values are correct\n",
    "l1 = all_mutations[(all_mutations[\"prioritized\"]==1) & (all_mutations[\"og/tsg\"]==1)].shape[0]\n",
    "l2 = all_mutations[(all_mutations[\"prioritized\"]==0) & (all_mutations[\"og/tsg\"]==1)].shape[0]\n",
    "l3 = all_mutations[(all_mutations[\"prioritized\"]==1) & (all_mutations[\"og/tsg\"]==0)].shape[0]\n",
    "l4 = all_mutations[(all_mutations[\"prioritized\"]==0) & (all_mutations[\"og/tsg\"]==0)].shape[0]\n",
    "\n",
    "fisher_matrix = [[l1,l2],[l3,l4]]\n",
    "scipy.stats.fisher_exact(fisher_matrix)"
   ]
  },
  {
   "cell_type": "code",
   "execution_count": null,
   "id": "0bc318f6",
   "metadata": {},
   "outputs": [],
   "source": [
    "all_mutations.to_excel(\"./all_mutations_inside_peaks.xlsx\")"
   ]
  },
  {
   "cell_type": "markdown",
   "id": "0a61d574",
   "metadata": {},
   "source": [
    "### correlation plots"
   ]
  },
  {
   "cell_type": "code",
   "execution_count": null,
   "id": "79b22ed0",
   "metadata": {},
   "outputs": [],
   "source": [
    "### compute phylop\n",
    "for cancer_name in all_tcga_cancers:\n",
    "    somatic_df = somatic_df_dict[cancer_name].copy()\n",
    "    print(somatic_df.shape)\n",
    "    somatic_df = annotatePhylopScore(somatic_df,\"phylop_mutation\")\n",
    "    print(somatic_df.shape)\n",
    "    somatic_df_dict[cancer_name] = somatic_df"
   ]
  },
  {
   "cell_type": "code",
   "execution_count": null,
   "id": "c6ffe982",
   "metadata": {},
   "outputs": [],
   "source": [
    "for quantity in [\"gc_peak\",\"phylop_mutation\",\"distance_to_tss\"]:\n",
    "    df_stats = pd.DataFrame()\n",
    "\n",
    "    for cancer_name in all_tcga_cancers:\n",
    "\n",
    "        print(cancer_name)\n",
    "\n",
    "        somatic_df = somatic_df_dict[cancer_name].copy()\n",
    "\n",
    "\n",
    "        for fold in range(5):\n",
    "            spr, pval = scipy.stats.spearmanr(somatic_df[f\"fold_{fold}_diff_summit_centered\"], \n",
    "                                              somatic_df[quantity])\n",
    "            df_stats.loc[fold,cancer_name] = spr\n",
    "\n",
    "\n",
    "    display(df_stats)\n",
    "\n",
    "    fig,ax=plt.subplots()\n",
    "    df_stats.boxplot(ax=ax)\n",
    "    ax.set_title(quantity)\n",
    "    ax.set_xticks(ax.get_xticks(),rotation=90)\n",
    "    ax.grid(False)\n",
    "    ax.set_ylim(-0.3,0.3)\n",
    "    fig.savefig(f'{quantity}_effect_size.pdf',dpi=1200)\n",
    "    plt.show()"
   ]
  },
  {
   "cell_type": "markdown",
   "id": "1aba56d9",
   "metadata": {},
   "source": [
    "### Expt3 - combined LoF and GoF"
   ]
  },
  {
   "cell_type": "code",
   "execution_count": null,
   "id": "1928d3f2",
   "metadata": {},
   "outputs": [],
   "source": [
    "somatic_df_dict_lof = read_pickle(\"somatic_df_dict_lof.pkl\")\n",
    "pancan_matched_dict_lof = read_pickle(\"pancan_matched_dict_ogtsg.pkl\")\n",
    "nonpancan_matched_dict_lof = read_pickle(\"nonpancan_matched_dict_ogtsg.pkl\")"
   ]
  },
  {
   "cell_type": "code",
   "execution_count": null,
   "id": "8062cee1",
   "metadata": {},
   "outputs": [],
   "source": [
    "somatic_df_dict_gof = read_pickle(\"../gof/somatic_df_dict_gof.pkl\")\n",
    "pancan_matched_dict_gof = read_pickle(\"../gof/pancan_matched_dict_ogtsg.pkl\")\n",
    "nonpancan_matched_dict_gof = read_pickle(\"../gof/nonpancan_matched_dict_ogtsg.pkl\")"
   ]
  },
  {
   "cell_type": "code",
   "execution_count": null,
   "id": "e2b5b086",
   "metadata": {},
   "outputs": [],
   "source": [
    "ism_thresh_lof = read_pickle(\"../process_tcga_icgc/ism_thresh_percentile.pkl\")[95]\n",
    "ism_thresh_lof"
   ]
  },
  {
   "cell_type": "code",
   "execution_count": null,
   "id": "6c4ccb81",
   "metadata": {},
   "outputs": [],
   "source": [
    "ism_thresh_gof = read_pickle(\"../process_tcga_icgc/ism_thresh_percentile.pkl\")[99]\n",
    "ism_thresh_gof"
   ]
  },
  {
   "cell_type": "code",
   "execution_count": null,
   "id": "013e5480",
   "metadata": {
    "scrolled": true
   },
   "outputs": [],
   "source": [
    "q_to_or = {}\n",
    "q_to_pval = {}\n",
    "q_to_fisher = {}\n",
    "\n",
    "for q in [round(x,2) for x in np.linspace(0.8, 0.99, 20)] + [0.975]:\n",
    "    print(q)\n",
    "\n",
    "    total_fisher = np.zeros((2,2))\n",
    "    \n",
    "    for cancer_name in all_tcga_cancers:\n",
    "        \n",
    "        if cancer_name == \"SKCM\":\n",
    "            continue\n",
    "\n",
    "        # LoF\n",
    "        somatic_df = somatic_df_dict_lof[cancer_name].copy()\n",
    "        \n",
    "        threshold = somatic_df[\"diff_summit_centered\"].quantile(q)\n",
    "        ism_es = ism_thresh_lof[cancer_name.lower()]\n",
    "        \n",
    "        pancan_df = pancan_matched_dict_lof[cancer_name].copy()\n",
    "        nonpancan_df = nonpancan_matched_dict_lof[cancer_name].copy()\n",
    "        \n",
    "        l1 = pancan_df[(pancan_df[\"diff_summit_centered\"]>threshold) & (pancan_df[\"ref\"] > ism_es) & (pancan_df[\"ref-mut\"] > 0)]\n",
    "        l2 = pancan_df[~pancan_df.index.isin(l1.index)]\n",
    "        l3 = nonpancan_df[(nonpancan_df[\"diff_summit_centered\"]>threshold) & (nonpancan_df[\"ref\"] > ism_es) & (nonpancan_df[\"ref-mut\"] > 0)]\n",
    "        l4 = nonpancan_df[~nonpancan_df.index.isin(l3.index)]\n",
    "        \n",
    "        fisher_matrix = np.array([[len(l1),len(l2)],[len(l3),len(l4)]])\n",
    "        assert fisher_matrix.sum() == len(pancan_df) + len(nonpancan_df)\n",
    "        total_fisher += fisher_matrix\n",
    "        \n",
    "        if q == 0.975:\n",
    "            print(fisher_matrix)\n",
    "        \n",
    "\n",
    "        somatic_df = somatic_df_dict_gof[cancer_name].copy()\n",
    "        \n",
    "        threshold = somatic_df[\"diff_mutation_centered\"].quantile(1.0-q)\n",
    "        ism_es = ism_thresh_gof[cancer_name.lower()]\n",
    "        \n",
    "        pancan_df = pancan_matched_dict_gof[cancer_name].copy()\n",
    "        nonpancan_df = nonpancan_matched_dict_gof[cancer_name].copy()\n",
    "        \n",
    "        l1 = pancan_df[(pancan_df[\"diff_mutation_centered\"]<threshold) & (pancan_df[\"mut\"] > ism_es)& (pancan_df[\"ref-mut\"] < 0)] \n",
    "        l2 = pancan_df[~pancan_df.index.isin(l1.index)]\n",
    "        l3 = nonpancan_df[(nonpancan_df[\"diff_mutation_centered\"]<threshold) & (nonpancan_df[\"mut\"] > ism_es) & (nonpancan_df[\"ref-mut\"] < 0)]\n",
    "        l4 = nonpancan_df[~nonpancan_df.index.isin(l3.index)]\n",
    "        \n",
    "        fisher_matrix = np.array([[len(l1),len(l2)],[len(l3),len(l4)]])\n",
    "        assert fisher_matrix.sum() == len(pancan_df) + len(nonpancan_df)\n",
    "        total_fisher += fisher_matrix\n",
    "        \n",
    "        if q == 0.975:\n",
    "            print(fisher_matrix)\n",
    "    \n",
    "    print(total_fisher)\n",
    "    fold_change,pval = scipy.stats.fisher_exact(total_fisher)\n",
    "    print(fold_change, pval)\n",
    "    q_to_or[q] = fold_change\n",
    "    q_to_pval[q] = -np.log10(pval)\n",
    "    q_to_fisher = total_fisher\n",
    "\n",
    "    \n",
    "import matplotlib\n",
    "plt.rcParams[\"figure.figsize\"]=20,10\n",
    "matplotlib.rcParams['pdf.fonttype']=42\n",
    "fig,axes = plt.subplots(1,2,figsize=(10,5))\n",
    "ax1,ax2 = axes\n",
    "ax1.scatter(q_to_or.keys(),q_to_or.values(), color=\"#ff7f0e\")\n",
    "ax1.set_xlabel(\"threshold percentile of somatic\")\n",
    "ax1.set_ylabel(\"fold change\")\n",
    "ax1.axhline(1.0,color=\"#ff7f0e\")\n",
    "ax1.set_ylim(0.8,1.7)\n",
    "\n",
    "ax2.scatter(q_to_pval.keys(),q_to_pval.values(), color=\"#ff7f0e\")\n",
    "ax2.set_xlabel(\"threshold percentile of somatic\")\n",
    "ax2.set_ylabel(\"-log10 p value\")\n",
    "ax2.axhline(-np.log10(0.05),color=\"#ff7f0e\")\n",
    "\n",
    "fig.suptitle(\"Odds and -log10 p values as the threshold is increased\")\n",
    "fig.tight_layout()\n",
    "fig.savefig(\"./lof_gof_combined_threshold_wise.pdf\",dpi=1200)\n",
    "plt.show()"
   ]
  },
  {
   "cell_type": "code",
   "execution_count": null,
   "id": "238d0cda",
   "metadata": {},
   "outputs": [],
   "source": [
    "print(\"Done\")"
   ]
  },
  {
   "cell_type": "code",
   "execution_count": null,
   "id": "29edac13",
   "metadata": {},
   "outputs": [],
   "source": []
  }
 ],
 "metadata": {
  "kernelspec": {
   "display_name": "Python 3 (ipykernel)",
   "language": "python",
   "name": "python3"
  },
  "language_info": {
   "codemirror_mode": {
    "name": "ipython",
    "version": 3
   },
   "file_extension": ".py",
   "mimetype": "text/x-python",
   "name": "python",
   "nbconvert_exporter": "python",
   "pygments_lexer": "ipython3",
   "version": "3.10.4"
  }
 },
 "nbformat": 4,
 "nbformat_minor": 5
}
