{
 "cells": [
  {
   "cell_type": "code",
   "execution_count": null,
   "id": "96ef0069",
   "metadata": {},
   "outputs": [],
   "source": [
    "import pandas as pd\n",
    "from seq2atac.stable import write_pickle, read_pickle\n",
    "from pybedtools import BedTool"
   ]
  },
  {
   "cell_type": "code",
   "execution_count": null,
   "id": "5132f3b3",
   "metadata": {
    "scrolled": true
   },
   "outputs": [],
   "source": [
    "ctcf_locations = []\n",
    "for chunk in pd.read_csv(\"/illumina/scratch/deep_learning/public_data/motif_clustering_vierstra2020/v1.0/hg38.archetype_motifs.v1.0.bed.gz\",\n",
    "                        sep=\"\\t\",\n",
    "                        header=None,\n",
    "                        chunksize=1e6,\n",
    "                        compression=\"gzip\",\n",
    "                        usecols=[0,1,2,3],\n",
    "                        names=[\"seqnames\",\"start\",\"end\",\"group_name\"]):\n",
    "    chunk_ctcf = chunk[chunk[\"group_name\"].apply(lambda x: \"CTCF\" in x)]\n",
    "    ctcf_locations.append(chunk_ctcf)\n",
    "    print(len(ctcf_locations))"
   ]
  },
  {
   "cell_type": "code",
   "execution_count": null,
   "id": "c80e08c7",
   "metadata": {},
   "outputs": [],
   "source": [
    "ctcf_locations = pd.concat(ctcf_locations,axis=0,ignore_index=True)\n",
    "ctcf_locations.to_csv(\"ctcf_vierstra.bed\",sep=\"\\t\",header=None,index=None)"
   ]
  },
  {
   "cell_type": "code",
   "execution_count": 4,
   "id": "a8974966",
   "metadata": {},
   "outputs": [
    {
     "name": "stdout",
     "output_type": "stream",
     "text": [
      "Done\n"
     ]
    }
   ],
   "source": [
    "print(\"Done\")"
   ]
  },
  {
   "cell_type": "code",
   "execution_count": 5,
   "id": "45db8193",
   "metadata": {},
   "outputs": [
    {
     "name": "stdout",
     "output_type": "stream",
     "text": [
      "4140361 ctcf_vierstra.bed\r\n"
     ]
    }
   ],
   "source": [
    "!wc -l ctcf_vierstra.bed"
   ]
  }
 ],
 "metadata": {
  "kernelspec": {
   "display_name": "Python 3 (ipykernel)",
   "language": "python",
   "name": "python3"
  },
  "language_info": {
   "codemirror_mode": {
    "name": "ipython",
    "version": 3
   },
   "file_extension": ".py",
   "mimetype": "text/x-python",
   "name": "python",
   "nbconvert_exporter": "python",
   "pygments_lexer": "ipython3",
   "version": "3.10.4"
  }
 },
 "nbformat": 4,
 "nbformat_minor": 5
}
