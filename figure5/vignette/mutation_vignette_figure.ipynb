{
 "cells": [
  {
   "cell_type": "code",
   "execution_count": null,
   "id": "5f494c89",
   "metadata": {},
   "outputs": [],
   "source": [
    "import sys\n",
    "import pandas as pd\n",
    "from seq2atac.stable import one_hot_encode, bed_to_numpy, read_pickle\n",
    "from seq2atac.stable.models import model_name_to_fn\n",
    "from seq2atac.analysis.enrichment_utils import get_alt_sequence\n",
    "from seq2atac.analysis.mutation_utils import search_names_in_vierstra_group\n",
    "from pybedtools import BedTool\n",
    "from pyfaidx import Fasta\n",
    "import numpy as np\n",
    "from pyfaidx import Fasta\n",
    "from tqdm import tqdm\n",
    "from copy import deepcopy\n",
    "\n",
    "import os\n",
    "from seq2atac.analysis.shap_utils import plot_summit_centered, plot_mutation_centered, predict_classification_proba\n",
    "import glob\n",
    "from seq2atac.stable.models.convolutional import get_bpnet_model"
   ]
  },
  {
   "cell_type": "code",
   "execution_count": null,
   "id": "4333defc",
   "metadata": {},
   "outputs": [],
   "source": [
    "\n",
    "### get model\n",
    "model = get_bpnet_model(1364,8)\n"
   ]
  },
  {
   "cell_type": "code",
   "execution_count": null,
   "id": "446900d2",
   "metadata": {},
   "outputs": [],
   "source": [
    "all_mutations = pd.read_csv(\"/illumina/scratch/deep_learning/nravindra/tmp/ism/results/genomewide/all_cancers_all_mutations.csv\",index_col=0)\n",
    "\n",
    "def merge_ism_scores(somatic_df,ism_df):\n",
    "    \n",
    "    sh_before = len(somatic_df)\n",
    "    somatic_df = somatic_df.merge(ism_df,how=\"left\")\n",
    "    assert sh_before == somatic_df.shape[0]\n",
    "    \n",
    "    return somatic_df"
   ]
  },
  {
   "cell_type": "code",
   "execution_count": null,
   "id": "0ad349dc",
   "metadata": {},
   "outputs": [],
   "source": [
    "ism_thresh = read_pickle('/illumina/scratch/deep_learning/nravindra/results/reg_diffs/motifism_cancers_thresh_v22.pkl')\n",
    "\n",
    "ism_thresh['reca'] = ism_thresh['kirc']\n",
    "ism_thresh['mela'] = ism_thresh['skcm']\n",
    "ism_thresh"
   ]
  },
  {
   "cell_type": "code",
   "execution_count": null,
   "id": "a1fe3adf",
   "metadata": {},
   "outputs": [],
   "source": [
    "### get fasta file\n",
    "fasta_file = '/illumina/scratch/deep_learning/lsundaram/singlecelldatasets/TCGA/GRCh38_no_alt_analysis_set_GCA_000001405.15.fasta'\n",
    "fasta_seq=Fasta(fasta_file)"
   ]
  },
  {
   "cell_type": "code",
   "execution_count": null,
   "id": "e5c2d8e8",
   "metadata": {
    "scrolled": true
   },
   "outputs": [],
   "source": [
    "somatic_df_dict = {}\n",
    "\n",
    "for cancer_name in [\"BRCA\",\"BLCA\",\"LUAD\",\"COAD\"]:\n",
    "    print(cancer_name)\n",
    "\n",
    "    somatic_df = read_pickle(f\"/illumina/scratch/deep_learning/akumar22/TCGA/mutation_prioritization/matching_experiments/{cancer_name}_somatic_annotated.pkl\")\n",
    "    print(somatic_df.shape)\n",
    "\n",
    "    somatic_df = merge_ism_scores(somatic_df,all_mutations[all_mutations[\"sample\"]==cancer_name.lower()])\n",
    "    print(somatic_df.shape)\n",
    "    ism_es = ism_thresh[cancer_name.lower()]\n",
    "\n",
    "    somatic_df = somatic_df[somatic_df[\"ctcf_uncleaned\"]==0]\n",
    "    print(somatic_df.shape)\n",
    "\n",
    "\n",
    "    somatic_df[\"ap1_fox_indicator\"] = somatic_df[\"vierstra_groups\"].apply(lambda x: search_names_in_vierstra_group(x,[\"AP1/\",\"ATF/\"]))\n",
    "    somatic_df\n",
    "    \n",
    "    somatic_df_dict[cancer_name] = somatic_df"
   ]
  },
  {
   "cell_type": "code",
   "execution_count": null,
   "id": "c3fcc639",
   "metadata": {},
   "outputs": [],
   "source": [
    "###\n",
    "\n",
    "interesting_indices = {\"BRCA\":[35924, 25566, 34128],\n",
    "                       \"COAD\":[34825, 38715, 18844, 27088, 10769],\n",
    "                       \"BLCA\":[10605, 1242],\n",
    "                       \"LUAD\":[12047, 3544, 6551]}"
   ]
  },
  {
   "cell_type": "code",
   "execution_count": null,
   "id": "8f1a27c1",
   "metadata": {},
   "outputs": [],
   "source": [
    "all_sample_interesting_indicesk,vv in interesting_indices.items():\n",
    "    for v in vv:\n",
    "        all_sample_names.append(f\"{k}_{v}\")"
   ]
  },
  {
   "cell_type": "code",
   "execution_count": null,
   "id": "8e050591",
   "metadata": {},
   "outputs": [],
   "source": [
    "### for each of the index, generate mutation and summit centered ref and alt scores"
   ]
  },
  {
   "cell_type": "code",
   "execution_count": null,
   "id": "a0e6c611",
   "metadata": {},
   "outputs": [],
   "source": [
    "!mkdir shap_scores/"
   ]
  },
  {
   "cell_type": "code",
   "execution_count": null,
   "id": "5811156b",
   "metadata": {},
   "outputs": [],
   "source": [
    "from seq2atac.analysis.enrichment_utils import get_alt_sequence, get_refalt_sequence\n",
    "from seq2atac.stable import one_hot_encode\n",
    "from seq2atac.analysis.shap_utils import score_classification, compute_shap_score"
   ]
  },
  {
   "cell_type": "code",
   "execution_count": null,
   "id": "f1b6008f",
   "metadata": {
    "scrolled": true
   },
   "outputs": [],
   "source": [
    "for cancer_name in [\"BRCA\",\"BLCA\",\"LUAD\",\"COAD\"]:\n",
    "    \n",
    "    ### get weights\n",
    "    weights_files = glob.glob(f\"/illumina/scratch/deep_learning/akumar22/TCGA/models_250_1364_minibatch_prejitter/{cancer_name}/fold_*/model.h5\")\n",
    "    print(weights_files)    \n",
    "\n",
    "    ### get the mutation indices to plot\n",
    "    somatic_df = somatic_df_dict[cancer_name].loc[interesting_indices[cancer_name]]\n",
    "    print(somatic_df)\n",
    "    \n",
    "    for idx,row in somatic_df.iterrows():\n",
    "        print(idx)\n",
    "        \n",
    "#         ### summit centered\n",
    "#         X_ref,X_alt = [one_hot_encode(x) for x in get_alt_sequence(somatic_df.loc[[idx],:],1364,fasta_seq)]\n",
    "#         # compute score\n",
    "#         score1 = score_classification(X_ref,model,weights_files,compute_shap_score) * X_ref\n",
    "#         np.save(f\"./shap_scores/{cancer_name}_{idx}_summit_centered_ref.npy\", score1)\n",
    "#         # compute score\n",
    "#         score2 = score_classification(X_alt,model,weights_files,compute_shap_score) * X_alt\n",
    "#         np.save(f\"./shap_scores/{cancer_name}_{idx}_summit_centered_alt.npy\", score2)\n",
    "        \n",
    "        ### mutation centered\n",
    "        X_ref,X_alt = [one_hot_encode(x) for x in get_refalt_sequence(somatic_df.loc[[idx],:],1364,fasta_seq)]\n",
    "        # compute score\n",
    "        score1 = score_classification(X_ref,model,weights_files,compute_shap_score) * X_ref\n",
    "        np.save(f\"./shap_scores/{cancer_name}_{idx}_mutation_centered_ref.npy\", score1)\n",
    "        # compute score\n",
    "        score2 = score_classification(X_alt,model,weights_files,compute_shap_score) * X_alt\n",
    "        np.save(f\"./shap_scores/{cancer_name}_{idx}_mutation_centered_alt.npy\", score2)\n",
    "    "
   ]
  },
  {
   "cell_type": "code",
   "execution_count": null,
   "id": "21345fdb",
   "metadata": {
    "scrolled": true
   },
   "outputs": [],
   "source": [
    "cancer_name = \"COAD\"\n",
    "### get weights\n",
    "weights_files = glob.glob(f\"/illumina/scratch/deep_learning/akumar22/TCGA/models_250_1364_minibatch_prejitter/{cancer_name}/fold_*/model.h5\")\n",
    "print(weights_files)   \n",
    "\n",
    "\n",
    "somatic_df = pd.DataFrame()\n",
    "somatic_df[\"Chromosome\"] = [\"chr10\"]\n",
    "somatic_df[\"hg38_start\"] = [74871769]\n",
    "somatic_df[\"hg38_end\"] = [74871770]\n",
    "somatic_df[\"Reference_Allele\"] = [\"A\"]\n",
    "somatic_df[\"Tumor_Seq_Allele2\"] = [\"C\"]\n",
    "\n",
    "\n",
    "for idx,row in somatic_df.iterrows():\n",
    "    print(idx)\n",
    "\n",
    "    ### mutation centered\n",
    "    X_ref,X_alt = [one_hot_encode(x) for x in get_refalt_sequence(somatic_df.loc[[idx],:],1364,fasta_seq)]\n",
    "    # compute score\n",
    "    score1 = score_classification(X_ref,model,weights_files,compute_shap_score) * X_ref\n",
    "    np.save(f\"./shap_scores/COAD_AI_mutation_centered_ref.npy\", score1)\n",
    "    # compute score\n",
    "    score2 = score_classification(X_alt,model,weights_files,compute_shap_score) * X_alt\n",
    "    np.save(f\"./shap_scores/COAD_AI_mutation_centered_alt.npy\", score2)\n",
    "    "
   ]
  },
  {
   "cell_type": "code",
   "execution_count": null,
   "id": "6e93e710",
   "metadata": {},
   "outputs": [],
   "source": [
    "print(\"Done\")"
   ]
  },
  {
   "cell_type": "code",
   "execution_count": null,
   "id": "acc9cdf0",
   "metadata": {},
   "outputs": [],
   "source": [
    "## after R plots are generated, move the 200 versions"
   ]
  },
  {
   "cell_type": "code",
   "execution_count": null,
   "id": "8aece7d3",
   "metadata": {},
   "outputs": [],
   "source": [
    "!mkdir shap_scores_200\n",
    "import shutil"
   ]
  },
  {
   "cell_type": "code",
   "execution_count": null,
   "id": "0750637f",
   "metadata": {},
   "outputs": [],
   "source": [
    "for sample in ['BRCA_35924',\n",
    " 'BRCA_25566',\n",
    " 'BRCA_34128',\n",
    " 'COAD_34825',\n",
    " 'COAD_38715',\n",
    " 'COAD_18844',\n",
    " 'COAD_27088',\n",
    " 'COAD_10769',\n",
    " 'BLCA_10605',\n",
    " 'BLCA_1242',\n",
    " 'LUAD_12047',\n",
    " 'LUAD_3544',\n",
    " 'LUAD_6551',\n",
    " 'COAD_AI']:\n",
    "    \n",
    "    print(sample)\n",
    "    \n",
    "    shutil.copy(f\"shap_scores/{sample}_ref_100_FALSE_R.pdf\",f\"shap_scores_200/{sample}_ref_100_FALSE_R.pdf\")\n",
    "    shutil.copy(f\"shap_scores/{sample}_alt_100_FALSE_R.pdf\",f\"shap_scores_200/{sample}_alt_100_FALSE_R.pdf\")"
   ]
  },
  {
   "cell_type": "code",
   "execution_count": null,
   "id": "63b6bfa9",
   "metadata": {},
   "outputs": [],
   "source": [
    "!pwd"
   ]
  },
  {
   "cell_type": "code",
   "execution_count": null,
   "id": "b19cef72",
   "metadata": {},
   "outputs": [],
   "source": [
    "!ls /illumina/scratch/deep_learning/akumar22/TCGA/mutation_prioritization/mutation_vignette/shap_scores_200/"
   ]
  },
  {
   "cell_type": "code",
   "execution_count": null,
   "id": "54a04e93",
   "metadata": {},
   "outputs": [],
   "source": []
  }
 ],
 "metadata": {
  "kernelspec": {
   "display_name": "Python 3 (ipykernel)",
   "language": "python",
   "name": "python3"
  },
  "language_info": {
   "codemirror_mode": {
    "name": "ipython",
    "version": 3
   },
   "file_extension": ".py",
   "mimetype": "text/x-python",
   "name": "python",
   "nbconvert_exporter": "python",
   "pygments_lexer": "ipython3",
   "version": "3.10.4"
  }
 },
 "nbformat": 4,
 "nbformat_minor": 5
}
