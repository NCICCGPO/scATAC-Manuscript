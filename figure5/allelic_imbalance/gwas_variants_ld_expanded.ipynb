{
 "cells": [
  {
   "cell_type": "code",
   "execution_count": 1,
   "metadata": {},
   "outputs": [
    {
     "name": "stderr",
     "output_type": "stream",
     "text": [
      "\n",
      "Attaching package: ‘pryr’\n",
      "\n",
      "\n",
      "The following object is masked from ‘package:data.table’:\n",
      "\n",
      "    address\n",
      "\n",
      "\n",
      "Loading required package: Matrix\n",
      "\n",
      "\n",
      "Attaching package: ‘lmerTest’\n",
      "\n",
      "\n",
      "The following object is masked from ‘package:lme4’:\n",
      "\n",
      "    lmer\n",
      "\n",
      "\n",
      "The following object is masked from ‘package:stats’:\n",
      "\n",
      "    step\n",
      "\n",
      "\n",
      "\n",
      "\n",
      "######################\n",
      "#### bedr v1.0.7 ####\n",
      "######################\n",
      "\n",
      "checking binary availability...\n",
      "  * Checking path for bedtools... PASS\n",
      "    /home/asalcedo/anaconda3/bin/bedtools\n",
      "  * Checking path for bedops... FAIL\n",
      "  * Checking path for tabix... PASS\n",
      "    /home/asalcedo/anaconda3/bin/tabix\n",
      "tests and examples will be skipped on R CMD check if binaries are missing\n",
      "\n",
      "\n",
      "\n",
      "   *****       ***   vcfR   ***       *****\n",
      "   This is vcfR 1.14.0 \n",
      "     browseVignettes('vcfR') # Documentation\n",
      "     citation('vcfR') # Citation\n",
      "   *****       *****      *****       *****\n",
      "\n",
      "\n",
      "\n",
      "Attaching package: ‘vcfR’\n",
      "\n",
      "\n",
      "The following object is masked from ‘package:bedr’:\n",
      "\n",
      "    write.vcf\n",
      "\n",
      "\n"
     ]
    }
   ],
   "source": [
    "library(png)\n",
    "library(reticulate)\n",
    "library(data.table)\n",
    "library(plyr)\n",
    "library(pryr)\n",
    "library(ggplot2)\n",
    "library(nloptr)\n",
    "library(lme4)\n",
    "library(lmerTest)\n",
    "library(stringr)\n",
    "library(bedr)\n",
    "library(vcfR)"
   ]
  },
  {
   "cell_type": "code",
   "execution_count": 2,
   "metadata": {},
   "outputs": [],
   "source": [
    "manifest <- fread('/illumina/scratch/deep_learning/asalcedo/gdc_tcga_atac_jamboree_AWG_metadata.tsv')\n",
    "sample_key <- fread(\"/illumina/scratch/deep_learning/asalcedo/scATAC/atac_tcga_key.txt\")\n",
    "atac_projects <- paste0('TCGA-', c('BLCA', 'BRCA','COAD','GBM', 'KIRC','KIRP','LUAD','SKCM'))"
   ]
  },
  {
   "cell_type": "code",
   "execution_count": 3,
   "metadata": {},
   "outputs": [],
   "source": [
    "all_scores <- fread(\"/illumina/scratch/deep_learning/akumar22/TCGA/mutations_scoring/gwas_breast_control/breast_cancer_gwas_ld_expanded_scored.csv\")"
   ]
  },
  {
   "cell_type": "code",
   "execution_count": 4,
   "metadata": {},
   "outputs": [],
   "source": [
    "all_scores[,idx:=paste0(Chromosome,\"_\",hg38_end, \"_\", Reference_Allele, \"_\", Tumor_Seq_Allele2)]"
   ]
  },
  {
   "cell_type": "code",
   "execution_count": 5,
   "metadata": {},
   "outputs": [],
   "source": [
    "all_scores[,tt:='BRCA']"
   ]
  },
  {
   "cell_type": "code",
   "execution_count": 6,
   "metadata": {},
   "outputs": [],
   "source": [
    "all_vaf_df <- NULL\n",
    "files <- list.files(\"/illumina/scratch/deep_learning/asalcedo/scATAC/BRCA_gwas_vafs/\", pattern=\"expanded2.txt\", full.names=TRUE)\n",
    "for (file in files){\n",
    "    vaf_df <- fread(file)\n",
    "    case_id <- gsub(\"/.*/\", \"\", file)\n",
    "    case_id <- gsub(\"_wgs.*\",\"\", case_id)\n",
    "    vaf_df$case_id <- case_id\n",
    "    all_vaf_df <- rbind(all_vaf_df, vaf_df)    \n",
    "}"
   ]
  },
  {
   "cell_type": "code",
   "execution_count": 13,
   "metadata": {},
   "outputs": [
    {
     "data": {
      "text/html": [
       "<table class=\"dataframe\">\n",
       "<caption>A data.table: 6 × 8</caption>\n",
       "<thead>\n",
       "\t<tr><th scope=col>region</th><th scope=col>ref</th><th scope=col>alt</th><th scope=col>wgs_vaf</th><th scope=col>wgs_dp</th><th scope=col>atac_vaf</th><th scope=col>atac_dp</th><th scope=col>case_id</th></tr>\n",
       "\t<tr><th scope=col>&lt;chr&gt;</th><th scope=col>&lt;chr&gt;</th><th scope=col>&lt;chr&gt;</th><th scope=col>&lt;dbl&gt;</th><th scope=col>&lt;dbl&gt;</th><th scope=col>&lt;dbl&gt;</th><th scope=col>&lt;dbl&gt;</th><th scope=col>&lt;chr&gt;</th></tr>\n",
       "</thead>\n",
       "<tbody>\n",
       "\t<tr><td>chr1:940263-940263</td><td>C</td><td>G</td><td>NA</td><td>NA</td><td>NA</td><td>NA</td><td>TCGA-A2-A0EY</td></tr>\n",
       "\t<tr><td>chr1:941119-941119</td><td>A</td><td>G</td><td>NA</td><td>NA</td><td>NA</td><td>NA</td><td>TCGA-A2-A0EY</td></tr>\n",
       "\t<tr><td>chr1:942335-942335</td><td>C</td><td>G</td><td>NA</td><td>NA</td><td>NA</td><td>NA</td><td>TCGA-A2-A0EY</td></tr>\n",
       "\t<tr><td>chr1:943937-943937</td><td>C</td><td>T</td><td> 0</td><td>24</td><td> 0</td><td> 7</td><td>TCGA-A2-A0EY</td></tr>\n",
       "\t<tr><td>chr1:952180-952180</td><td>A</td><td>C</td><td>NA</td><td>NA</td><td>NA</td><td>NA</td><td>TCGA-A2-A0EY</td></tr>\n",
       "\t<tr><td>chr1:957900-957900</td><td>G</td><td>A</td><td>NA</td><td>NA</td><td>NA</td><td>NA</td><td>TCGA-A2-A0EY</td></tr>\n",
       "</tbody>\n",
       "</table>\n"
      ],
      "text/latex": [
       "A data.table: 6 × 8\n",
       "\\begin{tabular}{llllllll}\n",
       " region & ref & alt & wgs\\_vaf & wgs\\_dp & atac\\_vaf & atac\\_dp & case\\_id\\\\\n",
       " <chr> & <chr> & <chr> & <dbl> & <dbl> & <dbl> & <dbl> & <chr>\\\\\n",
       "\\hline\n",
       "\t chr1:940263-940263 & C & G & NA & NA & NA & NA & TCGA-A2-A0EY\\\\\n",
       "\t chr1:941119-941119 & A & G & NA & NA & NA & NA & TCGA-A2-A0EY\\\\\n",
       "\t chr1:942335-942335 & C & G & NA & NA & NA & NA & TCGA-A2-A0EY\\\\\n",
       "\t chr1:943937-943937 & C & T &  0 & 24 &  0 &  7 & TCGA-A2-A0EY\\\\\n",
       "\t chr1:952180-952180 & A & C & NA & NA & NA & NA & TCGA-A2-A0EY\\\\\n",
       "\t chr1:957900-957900 & G & A & NA & NA & NA & NA & TCGA-A2-A0EY\\\\\n",
       "\\end{tabular}\n"
      ],
      "text/markdown": [
       "\n",
       "A data.table: 6 × 8\n",
       "\n",
       "| region &lt;chr&gt; | ref &lt;chr&gt; | alt &lt;chr&gt; | wgs_vaf &lt;dbl&gt; | wgs_dp &lt;dbl&gt; | atac_vaf &lt;dbl&gt; | atac_dp &lt;dbl&gt; | case_id &lt;chr&gt; |\n",
       "|---|---|---|---|---|---|---|---|\n",
       "| chr1:940263-940263 | C | G | NA | NA | NA | NA | TCGA-A2-A0EY |\n",
       "| chr1:941119-941119 | A | G | NA | NA | NA | NA | TCGA-A2-A0EY |\n",
       "| chr1:942335-942335 | C | G | NA | NA | NA | NA | TCGA-A2-A0EY |\n",
       "| chr1:943937-943937 | C | T |  0 | 24 |  0 |  7 | TCGA-A2-A0EY |\n",
       "| chr1:952180-952180 | A | C | NA | NA | NA | NA | TCGA-A2-A0EY |\n",
       "| chr1:957900-957900 | G | A | NA | NA | NA | NA | TCGA-A2-A0EY |\n",
       "\n"
      ],
      "text/plain": [
       "  region             ref alt wgs_vaf wgs_dp atac_vaf atac_dp case_id     \n",
       "1 chr1:940263-940263 C   G   NA      NA     NA       NA      TCGA-A2-A0EY\n",
       "2 chr1:941119-941119 A   G   NA      NA     NA       NA      TCGA-A2-A0EY\n",
       "3 chr1:942335-942335 C   G   NA      NA     NA       NA      TCGA-A2-A0EY\n",
       "4 chr1:943937-943937 C   T    0      24      0        7      TCGA-A2-A0EY\n",
       "5 chr1:952180-952180 A   C   NA      NA     NA       NA      TCGA-A2-A0EY\n",
       "6 chr1:957900-957900 G   A   NA      NA     NA       NA      TCGA-A2-A0EY"
      ]
     },
     "metadata": {},
     "output_type": "display_data"
    }
   ],
   "source": [
    "head(all_vaf_df)"
   ]
  },
  {
   "cell_type": "code",
   "execution_count": 7,
   "metadata": {},
   "outputs": [],
   "source": [
    "all_vaf_df[,vaf_difference:=atac_vaf-wgs_vaf]\n",
    "all_vaf_df[,chrom:=gsub(\":.*\",\"\",region)]\n",
    "all_vaf_df[,pos:=gsub(\".*-\",\"\",region)]\n",
    "all_vaf_df[,idx:=paste0(chrom,\"_\",pos,\"_\",ref,\"_\",alt)]"
   ]
  },
  {
   "cell_type": "code",
   "execution_count": 16,
   "metadata": {},
   "outputs": [
    {
     "data": {
      "text/html": [
       "<table class=\"dataframe\">\n",
       "<caption>A data.table: 6 × 12</caption>\n",
       "<thead>\n",
       "\t<tr><th scope=col>region</th><th scope=col>ref</th><th scope=col>alt</th><th scope=col>wgs_vaf</th><th scope=col>wgs_dp</th><th scope=col>atac_vaf</th><th scope=col>atac_dp</th><th scope=col>case_id</th><th scope=col>vaf_difference</th><th scope=col>chrom</th><th scope=col>pos</th><th scope=col>idx</th></tr>\n",
       "\t<tr><th scope=col>&lt;chr&gt;</th><th scope=col>&lt;chr&gt;</th><th scope=col>&lt;chr&gt;</th><th scope=col>&lt;dbl&gt;</th><th scope=col>&lt;dbl&gt;</th><th scope=col>&lt;dbl&gt;</th><th scope=col>&lt;dbl&gt;</th><th scope=col>&lt;chr&gt;</th><th scope=col>&lt;dbl&gt;</th><th scope=col>&lt;chr&gt;</th><th scope=col>&lt;chr&gt;</th><th scope=col>&lt;chr&gt;</th></tr>\n",
       "</thead>\n",
       "<tbody>\n",
       "\t<tr><td>chr1:940263-940263</td><td>C</td><td>G</td><td>NA</td><td>NA</td><td>NA</td><td>NA</td><td>TCGA-A2-A0EY</td><td>NA</td><td>chr1</td><td>940263</td><td>chr1_940263_C_G</td></tr>\n",
       "\t<tr><td>chr1:941119-941119</td><td>A</td><td>G</td><td>NA</td><td>NA</td><td>NA</td><td>NA</td><td>TCGA-A2-A0EY</td><td>NA</td><td>chr1</td><td>941119</td><td>chr1_941119_A_G</td></tr>\n",
       "\t<tr><td>chr1:942335-942335</td><td>C</td><td>G</td><td>NA</td><td>NA</td><td>NA</td><td>NA</td><td>TCGA-A2-A0EY</td><td>NA</td><td>chr1</td><td>942335</td><td>chr1_942335_C_G</td></tr>\n",
       "\t<tr><td>chr1:943937-943937</td><td>C</td><td>T</td><td> 0</td><td>24</td><td> 0</td><td> 7</td><td>TCGA-A2-A0EY</td><td> 0</td><td>chr1</td><td>943937</td><td>chr1_943937_C_T</td></tr>\n",
       "\t<tr><td>chr1:952180-952180</td><td>A</td><td>C</td><td>NA</td><td>NA</td><td>NA</td><td>NA</td><td>TCGA-A2-A0EY</td><td>NA</td><td>chr1</td><td>952180</td><td>chr1_952180_A_C</td></tr>\n",
       "\t<tr><td>chr1:957900-957900</td><td>G</td><td>A</td><td>NA</td><td>NA</td><td>NA</td><td>NA</td><td>TCGA-A2-A0EY</td><td>NA</td><td>chr1</td><td>957900</td><td>chr1_957900_G_A</td></tr>\n",
       "</tbody>\n",
       "</table>\n"
      ],
      "text/latex": [
       "A data.table: 6 × 12\n",
       "\\begin{tabular}{llllllllllll}\n",
       " region & ref & alt & wgs\\_vaf & wgs\\_dp & atac\\_vaf & atac\\_dp & case\\_id & vaf\\_difference & chrom & pos & idx\\\\\n",
       " <chr> & <chr> & <chr> & <dbl> & <dbl> & <dbl> & <dbl> & <chr> & <dbl> & <chr> & <chr> & <chr>\\\\\n",
       "\\hline\n",
       "\t chr1:940263-940263 & C & G & NA & NA & NA & NA & TCGA-A2-A0EY & NA & chr1 & 940263 & chr1\\_940263\\_C\\_G\\\\\n",
       "\t chr1:941119-941119 & A & G & NA & NA & NA & NA & TCGA-A2-A0EY & NA & chr1 & 941119 & chr1\\_941119\\_A\\_G\\\\\n",
       "\t chr1:942335-942335 & C & G & NA & NA & NA & NA & TCGA-A2-A0EY & NA & chr1 & 942335 & chr1\\_942335\\_C\\_G\\\\\n",
       "\t chr1:943937-943937 & C & T &  0 & 24 &  0 &  7 & TCGA-A2-A0EY &  0 & chr1 & 943937 & chr1\\_943937\\_C\\_T\\\\\n",
       "\t chr1:952180-952180 & A & C & NA & NA & NA & NA & TCGA-A2-A0EY & NA & chr1 & 952180 & chr1\\_952180\\_A\\_C\\\\\n",
       "\t chr1:957900-957900 & G & A & NA & NA & NA & NA & TCGA-A2-A0EY & NA & chr1 & 957900 & chr1\\_957900\\_G\\_A\\\\\n",
       "\\end{tabular}\n"
      ],
      "text/markdown": [
       "\n",
       "A data.table: 6 × 12\n",
       "\n",
       "| region &lt;chr&gt; | ref &lt;chr&gt; | alt &lt;chr&gt; | wgs_vaf &lt;dbl&gt; | wgs_dp &lt;dbl&gt; | atac_vaf &lt;dbl&gt; | atac_dp &lt;dbl&gt; | case_id &lt;chr&gt; | vaf_difference &lt;dbl&gt; | chrom &lt;chr&gt; | pos &lt;chr&gt; | idx &lt;chr&gt; |\n",
       "|---|---|---|---|---|---|---|---|---|---|---|---|\n",
       "| chr1:940263-940263 | C | G | NA | NA | NA | NA | TCGA-A2-A0EY | NA | chr1 | 940263 | chr1_940263_C_G |\n",
       "| chr1:941119-941119 | A | G | NA | NA | NA | NA | TCGA-A2-A0EY | NA | chr1 | 941119 | chr1_941119_A_G |\n",
       "| chr1:942335-942335 | C | G | NA | NA | NA | NA | TCGA-A2-A0EY | NA | chr1 | 942335 | chr1_942335_C_G |\n",
       "| chr1:943937-943937 | C | T |  0 | 24 |  0 |  7 | TCGA-A2-A0EY |  0 | chr1 | 943937 | chr1_943937_C_T |\n",
       "| chr1:952180-952180 | A | C | NA | NA | NA | NA | TCGA-A2-A0EY | NA | chr1 | 952180 | chr1_952180_A_C |\n",
       "| chr1:957900-957900 | G | A | NA | NA | NA | NA | TCGA-A2-A0EY | NA | chr1 | 957900 | chr1_957900_G_A |\n",
       "\n"
      ],
      "text/plain": [
       "  region             ref alt wgs_vaf wgs_dp atac_vaf atac_dp case_id     \n",
       "1 chr1:940263-940263 C   G   NA      NA     NA       NA      TCGA-A2-A0EY\n",
       "2 chr1:941119-941119 A   G   NA      NA     NA       NA      TCGA-A2-A0EY\n",
       "3 chr1:942335-942335 C   G   NA      NA     NA       NA      TCGA-A2-A0EY\n",
       "4 chr1:943937-943937 C   T    0      24      0        7      TCGA-A2-A0EY\n",
       "5 chr1:952180-952180 A   C   NA      NA     NA       NA      TCGA-A2-A0EY\n",
       "6 chr1:957900-957900 G   A   NA      NA     NA       NA      TCGA-A2-A0EY\n",
       "  vaf_difference chrom pos    idx            \n",
       "1 NA             chr1  940263 chr1_940263_C_G\n",
       "2 NA             chr1  941119 chr1_941119_A_G\n",
       "3 NA             chr1  942335 chr1_942335_C_G\n",
       "4  0             chr1  943937 chr1_943937_C_T\n",
       "5 NA             chr1  952180 chr1_952180_A_C\n",
       "6 NA             chr1  957900 chr1_957900_G_A"
      ]
     },
     "metadata": {},
     "output_type": "display_data"
    }
   ],
   "source": [
    "head(all_vaf_df)"
   ]
  },
  {
   "cell_type": "code",
   "execution_count": 9,
   "metadata": {},
   "outputs": [
    {
     "data": {
      "text/html": [
       "548300"
      ],
      "text/latex": [
       "548300"
      ],
      "text/markdown": [
       "548300"
      ],
      "text/plain": [
       "[1] 548300"
      ]
     },
     "metadata": {},
     "output_type": "display_data"
    },
    {
     "data": {
      "text/html": [
       "10"
      ],
      "text/latex": [
       "10"
      ],
      "text/markdown": [
       "10"
      ],
      "text/plain": [
       "[1] 10"
      ]
     },
     "metadata": {},
     "output_type": "display_data"
    }
   ],
   "source": [
    "nrow(all_vaf_df)\n",
    "length(unique(all_vaf_df$case_id))"
   ]
  },
  {
   "cell_type": "code",
   "execution_count": 11,
   "metadata": {},
   "outputs": [
    {
     "data": {
      "text/html": [
       "<table class=\"dataframe\">\n",
       "<caption>A data.table: 6 × 21</caption>\n",
       "<thead>\n",
       "\t<tr><th scope=col>Chromosome</th><th scope=col>hg38_start</th><th scope=col>hg38_end</th><th scope=col>Reference_Allele</th><th scope=col>Tumor_Seq_Allele2</th><th scope=col>mutation_id</th><th scope=col>rsid</th><th scope=col>peak_chr</th><th scope=col>peak_start</th><th scope=col>peak_end</th><th scope=col>⋯</th><th scope=col>proba_ref_summit_centered</th><th scope=col>proba_alt_summit_centered</th><th scope=col>diff_summit_centered</th><th scope=col>proba_ref_mutation_centered</th><th scope=col>proba_alt_mutation_centered</th><th scope=col>diff_mutation_centered</th><th scope=col>lof_summit_centered</th><th scope=col>gof_mutation_centered</th><th scope=col>idx</th><th scope=col>tt</th></tr>\n",
       "\t<tr><th scope=col>&lt;chr&gt;</th><th scope=col>&lt;int&gt;</th><th scope=col>&lt;int&gt;</th><th scope=col>&lt;chr&gt;</th><th scope=col>&lt;chr&gt;</th><th scope=col>&lt;chr&gt;</th><th scope=col>&lt;chr&gt;</th><th scope=col>&lt;chr&gt;</th><th scope=col>&lt;int&gt;</th><th scope=col>&lt;int&gt;</th><th scope=col>⋯</th><th scope=col>&lt;dbl&gt;</th><th scope=col>&lt;dbl&gt;</th><th scope=col>&lt;dbl&gt;</th><th scope=col>&lt;dbl&gt;</th><th scope=col>&lt;dbl&gt;</th><th scope=col>&lt;dbl&gt;</th><th scope=col>&lt;int&gt;</th><th scope=col>&lt;int&gt;</th><th scope=col>&lt;chr&gt;</th><th scope=col>&lt;chr&gt;</th></tr>\n",
       "</thead>\n",
       "<tbody>\n",
       "\t<tr><td>chr1</td><td>940262</td><td>940263</td><td>C</td><td>G</td><td>940263:C:G</td><td>rs7411115</td><td>chr1</td><td>940107</td><td>940607</td><td>⋯</td><td>0.9679392</td><td>0.9602326</td><td> 0.0077065825</td><td>0.9881744</td><td>0.9839960</td><td> 0.004178405</td><td>0</td><td>0</td><td>chr1_940263_C_G</td><td>BRCA</td></tr>\n",
       "\t<tr><td>chr1</td><td>941118</td><td>941119</td><td>A</td><td>G</td><td>941119:A:G</td><td>rs4372192</td><td>chr1</td><td>940759</td><td>941259</td><td>⋯</td><td>0.9423096</td><td>0.9410040</td><td> 0.0013055801</td><td>0.8032633</td><td>0.7799586</td><td> 0.023304760</td><td>0</td><td>0</td><td>chr1_941119_A_G</td><td>BRCA</td></tr>\n",
       "\t<tr><td>chr1</td><td>942334</td><td>942335</td><td>C</td><td>G</td><td>942335:C:G</td><td>rs6605066</td><td>chr1</td><td>942136</td><td>942636</td><td>⋯</td><td>0.9075794</td><td>0.9030668</td><td> 0.0045126080</td><td>0.9308685</td><td>0.9232513</td><td> 0.007617176</td><td>0</td><td>0</td><td>chr1_942335_C_G</td><td>BRCA</td></tr>\n",
       "\t<tr><td>chr1</td><td>943936</td><td>943937</td><td>C</td><td>T</td><td>943937:C:T</td><td>rs7523549</td><td>chr1</td><td>943742</td><td>944242</td><td>⋯</td><td>0.7011319</td><td>0.7133506</td><td>-0.0122187140</td><td>0.5945183</td><td>0.6094178</td><td>-0.014899492</td><td>0</td><td>0</td><td>chr1_943937_C_T</td><td>BRCA</td></tr>\n",
       "\t<tr><td>chr1</td><td>952179</td><td>952180</td><td>A</td><td>C</td><td>952180:A:C</td><td>rs3748595</td><td>chr1</td><td>951725</td><td>952225</td><td>⋯</td><td>0.5001137</td><td>0.5029615</td><td>-0.0028478503</td><td>0.8109176</td><td>0.8479017</td><td>-0.036984146</td><td>0</td><td>0</td><td>chr1_952180_A_C</td><td>BRCA</td></tr>\n",
       "\t<tr><td>chr1</td><td>957899</td><td>957900</td><td>G</td><td>A</td><td>957900:G:A</td><td>rs4970371</td><td>chr1</td><td>957596</td><td>958096</td><td>⋯</td><td>0.9041237</td><td>0.9038093</td><td> 0.0003144145</td><td>0.8898162</td><td>0.8866321</td><td> 0.003184080</td><td>0</td><td>0</td><td>chr1_957900_G_A</td><td>BRCA</td></tr>\n",
       "</tbody>\n",
       "</table>\n"
      ],
      "text/latex": [
       "A data.table: 6 × 21\n",
       "\\begin{tabular}{lllllllllllllllllllll}\n",
       " Chromosome & hg38\\_start & hg38\\_end & Reference\\_Allele & Tumor\\_Seq\\_Allele2 & mutation\\_id & rsid & peak\\_chr & peak\\_start & peak\\_end & ⋯ & proba\\_ref\\_summit\\_centered & proba\\_alt\\_summit\\_centered & diff\\_summit\\_centered & proba\\_ref\\_mutation\\_centered & proba\\_alt\\_mutation\\_centered & diff\\_mutation\\_centered & lof\\_summit\\_centered & gof\\_mutation\\_centered & idx & tt\\\\\n",
       " <chr> & <int> & <int> & <chr> & <chr> & <chr> & <chr> & <chr> & <int> & <int> & ⋯ & <dbl> & <dbl> & <dbl> & <dbl> & <dbl> & <dbl> & <int> & <int> & <chr> & <chr>\\\\\n",
       "\\hline\n",
       "\t chr1 & 940262 & 940263 & C & G & 940263:C:G & rs7411115 & chr1 & 940107 & 940607 & ⋯ & 0.9679392 & 0.9602326 &  0.0077065825 & 0.9881744 & 0.9839960 &  0.004178405 & 0 & 0 & chr1\\_940263\\_C\\_G & BRCA\\\\\n",
       "\t chr1 & 941118 & 941119 & A & G & 941119:A:G & rs4372192 & chr1 & 940759 & 941259 & ⋯ & 0.9423096 & 0.9410040 &  0.0013055801 & 0.8032633 & 0.7799586 &  0.023304760 & 0 & 0 & chr1\\_941119\\_A\\_G & BRCA\\\\\n",
       "\t chr1 & 942334 & 942335 & C & G & 942335:C:G & rs6605066 & chr1 & 942136 & 942636 & ⋯ & 0.9075794 & 0.9030668 &  0.0045126080 & 0.9308685 & 0.9232513 &  0.007617176 & 0 & 0 & chr1\\_942335\\_C\\_G & BRCA\\\\\n",
       "\t chr1 & 943936 & 943937 & C & T & 943937:C:T & rs7523549 & chr1 & 943742 & 944242 & ⋯ & 0.7011319 & 0.7133506 & -0.0122187140 & 0.5945183 & 0.6094178 & -0.014899492 & 0 & 0 & chr1\\_943937\\_C\\_T & BRCA\\\\\n",
       "\t chr1 & 952179 & 952180 & A & C & 952180:A:C & rs3748595 & chr1 & 951725 & 952225 & ⋯ & 0.5001137 & 0.5029615 & -0.0028478503 & 0.8109176 & 0.8479017 & -0.036984146 & 0 & 0 & chr1\\_952180\\_A\\_C & BRCA\\\\\n",
       "\t chr1 & 957899 & 957900 & G & A & 957900:G:A & rs4970371 & chr1 & 957596 & 958096 & ⋯ & 0.9041237 & 0.9038093 &  0.0003144145 & 0.8898162 & 0.8866321 &  0.003184080 & 0 & 0 & chr1\\_957900\\_G\\_A & BRCA\\\\\n",
       "\\end{tabular}\n"
      ],
      "text/markdown": [
       "\n",
       "A data.table: 6 × 21\n",
       "\n",
       "| Chromosome &lt;chr&gt; | hg38_start &lt;int&gt; | hg38_end &lt;int&gt; | Reference_Allele &lt;chr&gt; | Tumor_Seq_Allele2 &lt;chr&gt; | mutation_id &lt;chr&gt; | rsid &lt;chr&gt; | peak_chr &lt;chr&gt; | peak_start &lt;int&gt; | peak_end &lt;int&gt; | ⋯ ⋯ | proba_ref_summit_centered &lt;dbl&gt; | proba_alt_summit_centered &lt;dbl&gt; | diff_summit_centered &lt;dbl&gt; | proba_ref_mutation_centered &lt;dbl&gt; | proba_alt_mutation_centered &lt;dbl&gt; | diff_mutation_centered &lt;dbl&gt; | lof_summit_centered &lt;int&gt; | gof_mutation_centered &lt;int&gt; | idx &lt;chr&gt; | tt &lt;chr&gt; |\n",
       "|---|---|---|---|---|---|---|---|---|---|---|---|---|---|---|---|---|---|---|---|---|\n",
       "| chr1 | 940262 | 940263 | C | G | 940263:C:G | rs7411115 | chr1 | 940107 | 940607 | ⋯ | 0.9679392 | 0.9602326 |  0.0077065825 | 0.9881744 | 0.9839960 |  0.004178405 | 0 | 0 | chr1_940263_C_G | BRCA |\n",
       "| chr1 | 941118 | 941119 | A | G | 941119:A:G | rs4372192 | chr1 | 940759 | 941259 | ⋯ | 0.9423096 | 0.9410040 |  0.0013055801 | 0.8032633 | 0.7799586 |  0.023304760 | 0 | 0 | chr1_941119_A_G | BRCA |\n",
       "| chr1 | 942334 | 942335 | C | G | 942335:C:G | rs6605066 | chr1 | 942136 | 942636 | ⋯ | 0.9075794 | 0.9030668 |  0.0045126080 | 0.9308685 | 0.9232513 |  0.007617176 | 0 | 0 | chr1_942335_C_G | BRCA |\n",
       "| chr1 | 943936 | 943937 | C | T | 943937:C:T | rs7523549 | chr1 | 943742 | 944242 | ⋯ | 0.7011319 | 0.7133506 | -0.0122187140 | 0.5945183 | 0.6094178 | -0.014899492 | 0 | 0 | chr1_943937_C_T | BRCA |\n",
       "| chr1 | 952179 | 952180 | A | C | 952180:A:C | rs3748595 | chr1 | 951725 | 952225 | ⋯ | 0.5001137 | 0.5029615 | -0.0028478503 | 0.8109176 | 0.8479017 | -0.036984146 | 0 | 0 | chr1_952180_A_C | BRCA |\n",
       "| chr1 | 957899 | 957900 | G | A | 957900:G:A | rs4970371 | chr1 | 957596 | 958096 | ⋯ | 0.9041237 | 0.9038093 |  0.0003144145 | 0.8898162 | 0.8866321 |  0.003184080 | 0 | 0 | chr1_957900_G_A | BRCA |\n",
       "\n"
      ],
      "text/plain": [
       "  Chromosome hg38_start hg38_end Reference_Allele Tumor_Seq_Allele2 mutation_id\n",
       "1 chr1       940262     940263   C                G                 940263:C:G \n",
       "2 chr1       941118     941119   A                G                 941119:A:G \n",
       "3 chr1       942334     942335   C                G                 942335:C:G \n",
       "4 chr1       943936     943937   C                T                 943937:C:T \n",
       "5 chr1       952179     952180   A                C                 952180:A:C \n",
       "6 chr1       957899     957900   G                A                 957900:G:A \n",
       "  rsid      peak_chr peak_start peak_end ⋯ proba_ref_summit_centered\n",
       "1 rs7411115 chr1     940107     940607   ⋯ 0.9679392                \n",
       "2 rs4372192 chr1     940759     941259   ⋯ 0.9423096                \n",
       "3 rs6605066 chr1     942136     942636   ⋯ 0.9075794                \n",
       "4 rs7523549 chr1     943742     944242   ⋯ 0.7011319                \n",
       "5 rs3748595 chr1     951725     952225   ⋯ 0.5001137                \n",
       "6 rs4970371 chr1     957596     958096   ⋯ 0.9041237                \n",
       "  proba_alt_summit_centered diff_summit_centered proba_ref_mutation_centered\n",
       "1 0.9602326                  0.0077065825        0.9881744                  \n",
       "2 0.9410040                  0.0013055801        0.8032633                  \n",
       "3 0.9030668                  0.0045126080        0.9308685                  \n",
       "4 0.7133506                 -0.0122187140        0.5945183                  \n",
       "5 0.5029615                 -0.0028478503        0.8109176                  \n",
       "6 0.9038093                  0.0003144145        0.8898162                  \n",
       "  proba_alt_mutation_centered diff_mutation_centered lof_summit_centered\n",
       "1 0.9839960                    0.004178405           0                  \n",
       "2 0.7799586                    0.023304760           0                  \n",
       "3 0.9232513                    0.007617176           0                  \n",
       "4 0.6094178                   -0.014899492           0                  \n",
       "5 0.8479017                   -0.036984146           0                  \n",
       "6 0.8866321                    0.003184080           0                  \n",
       "  gof_mutation_centered idx             tt  \n",
       "1 0                     chr1_940263_C_G BRCA\n",
       "2 0                     chr1_941119_A_G BRCA\n",
       "3 0                     chr1_942335_C_G BRCA\n",
       "4 0                     chr1_943937_C_T BRCA\n",
       "5 0                     chr1_952180_A_C BRCA\n",
       "6 0                     chr1_957900_G_A BRCA"
      ]
     },
     "metadata": {},
     "output_type": "display_data"
    }
   ],
   "source": [
    "head(all_scores)"
   ]
  },
  {
   "cell_type": "code",
   "execution_count": 8,
   "metadata": {},
   "outputs": [],
   "source": [
    "all_vafs_scored <- merge(all_vaf_df, all_scores[,.( diff_summit_centered, idx, lof_summit_centered)], by.x=c(\"idx\"), by.y=c(\"idx\"), all=TRUE)\n",
    "all_vafs_scored <- unique(all_vafs_scored)"
   ]
  },
  {
   "cell_type": "code",
   "execution_count": 9,
   "metadata": {},
   "outputs": [
    {
     "data": {
      "text/html": [
       "462100"
      ],
      "text/latex": [
       "462100"
      ],
      "text/markdown": [
       "462100"
      ],
      "text/plain": [
       "[1] 462100"
      ]
     },
     "metadata": {},
     "output_type": "display_data"
    },
    {
     "data": {
      "text/html": [
       "10"
      ],
      "text/latex": [
       "10"
      ],
      "text/markdown": [
       "10"
      ],
      "text/plain": [
       "[1] 10"
      ]
     },
     "metadata": {},
     "output_type": "display_data"
    },
    {
     "data": {
      "text/html": [
       "<table class=\"dataframe\">\n",
       "<caption>A data.table: 6 × 14</caption>\n",
       "<thead>\n",
       "\t<tr><th scope=col>idx</th><th scope=col>region</th><th scope=col>ref</th><th scope=col>alt</th><th scope=col>wgs_vaf</th><th scope=col>wgs_dp</th><th scope=col>atac_vaf</th><th scope=col>atac_dp</th><th scope=col>case_id</th><th scope=col>vaf_difference</th><th scope=col>chrom</th><th scope=col>pos</th><th scope=col>diff_summit_centered</th><th scope=col>lof_summit_centered</th></tr>\n",
       "\t<tr><th scope=col>&lt;chr&gt;</th><th scope=col>&lt;chr&gt;</th><th scope=col>&lt;chr&gt;</th><th scope=col>&lt;chr&gt;</th><th scope=col>&lt;dbl&gt;</th><th scope=col>&lt;dbl&gt;</th><th scope=col>&lt;dbl&gt;</th><th scope=col>&lt;dbl&gt;</th><th scope=col>&lt;chr&gt;</th><th scope=col>&lt;dbl&gt;</th><th scope=col>&lt;chr&gt;</th><th scope=col>&lt;chr&gt;</th><th scope=col>&lt;dbl&gt;</th><th scope=col>&lt;int&gt;</th></tr>\n",
       "</thead>\n",
       "<tbody>\n",
       "\t<tr><td>chr10_101121409_C_T</td><td>chr10:101121409-101121409</td><td>C</td><td>T</td><td>0</td><td>24</td><td>0</td><td> 2</td><td>TCGA-A2-A0EY</td><td>0</td><td>chr10</td><td>101121409</td><td>-0.01054764</td><td>0</td></tr>\n",
       "\t<tr><td>chr10_101121409_C_T</td><td>chr10:101121409-101121409</td><td>C</td><td>T</td><td>0</td><td> 3</td><td>0</td><td>12</td><td>TCGA-A2-A0YG</td><td>0</td><td>chr10</td><td>101121409</td><td>-0.01054764</td><td>0</td></tr>\n",
       "\t<tr><td>chr10_101121409_C_T</td><td>chr10:101121409-101121409</td><td>C</td><td>T</td><td>0</td><td> 2</td><td>0</td><td> 7</td><td>TCGA-A7-A0D9</td><td>0</td><td>chr10</td><td>101121409</td><td>-0.01054764</td><td>0</td></tr>\n",
       "\t<tr><td>chr10_101121409_C_T</td><td>chr10:101121409-101121409</td><td>C</td><td>T</td><td>0</td><td>34</td><td>0</td><td> 6</td><td>TCGA-A8-A094</td><td>0</td><td>chr10</td><td>101121409</td><td>-0.01054764</td><td>0</td></tr>\n",
       "\t<tr><td>chr10_101121409_C_T</td><td>chr10:101121409-101121409</td><td>C</td><td>T</td><td>0</td><td>36</td><td>0</td><td>14</td><td>TCGA-AO-A03L</td><td>0</td><td>chr10</td><td>101121409</td><td>-0.01054764</td><td>0</td></tr>\n",
       "\t<tr><td>chr10_101121409_C_T</td><td>chr10:101121409-101121409</td><td>C</td><td>T</td><td>0</td><td>31</td><td>0</td><td>15</td><td>TCGA-AO-A03N</td><td>0</td><td>chr10</td><td>101121409</td><td>-0.01054764</td><td>0</td></tr>\n",
       "</tbody>\n",
       "</table>\n"
      ],
      "text/latex": [
       "A data.table: 6 × 14\n",
       "\\begin{tabular}{llllllllllllll}\n",
       " idx & region & ref & alt & wgs\\_vaf & wgs\\_dp & atac\\_vaf & atac\\_dp & case\\_id & vaf\\_difference & chrom & pos & diff\\_summit\\_centered & lof\\_summit\\_centered\\\\\n",
       " <chr> & <chr> & <chr> & <chr> & <dbl> & <dbl> & <dbl> & <dbl> & <chr> & <dbl> & <chr> & <chr> & <dbl> & <int>\\\\\n",
       "\\hline\n",
       "\t chr10\\_101121409\\_C\\_T & chr10:101121409-101121409 & C & T & 0 & 24 & 0 &  2 & TCGA-A2-A0EY & 0 & chr10 & 101121409 & -0.01054764 & 0\\\\\n",
       "\t chr10\\_101121409\\_C\\_T & chr10:101121409-101121409 & C & T & 0 &  3 & 0 & 12 & TCGA-A2-A0YG & 0 & chr10 & 101121409 & -0.01054764 & 0\\\\\n",
       "\t chr10\\_101121409\\_C\\_T & chr10:101121409-101121409 & C & T & 0 &  2 & 0 &  7 & TCGA-A7-A0D9 & 0 & chr10 & 101121409 & -0.01054764 & 0\\\\\n",
       "\t chr10\\_101121409\\_C\\_T & chr10:101121409-101121409 & C & T & 0 & 34 & 0 &  6 & TCGA-A8-A094 & 0 & chr10 & 101121409 & -0.01054764 & 0\\\\\n",
       "\t chr10\\_101121409\\_C\\_T & chr10:101121409-101121409 & C & T & 0 & 36 & 0 & 14 & TCGA-AO-A03L & 0 & chr10 & 101121409 & -0.01054764 & 0\\\\\n",
       "\t chr10\\_101121409\\_C\\_T & chr10:101121409-101121409 & C & T & 0 & 31 & 0 & 15 & TCGA-AO-A03N & 0 & chr10 & 101121409 & -0.01054764 & 0\\\\\n",
       "\\end{tabular}\n"
      ],
      "text/markdown": [
       "\n",
       "A data.table: 6 × 14\n",
       "\n",
       "| idx &lt;chr&gt; | region &lt;chr&gt; | ref &lt;chr&gt; | alt &lt;chr&gt; | wgs_vaf &lt;dbl&gt; | wgs_dp &lt;dbl&gt; | atac_vaf &lt;dbl&gt; | atac_dp &lt;dbl&gt; | case_id &lt;chr&gt; | vaf_difference &lt;dbl&gt; | chrom &lt;chr&gt; | pos &lt;chr&gt; | diff_summit_centered &lt;dbl&gt; | lof_summit_centered &lt;int&gt; |\n",
       "|---|---|---|---|---|---|---|---|---|---|---|---|---|---|\n",
       "| chr10_101121409_C_T | chr10:101121409-101121409 | C | T | 0 | 24 | 0 |  2 | TCGA-A2-A0EY | 0 | chr10 | 101121409 | -0.01054764 | 0 |\n",
       "| chr10_101121409_C_T | chr10:101121409-101121409 | C | T | 0 |  3 | 0 | 12 | TCGA-A2-A0YG | 0 | chr10 | 101121409 | -0.01054764 | 0 |\n",
       "| chr10_101121409_C_T | chr10:101121409-101121409 | C | T | 0 |  2 | 0 |  7 | TCGA-A7-A0D9 | 0 | chr10 | 101121409 | -0.01054764 | 0 |\n",
       "| chr10_101121409_C_T | chr10:101121409-101121409 | C | T | 0 | 34 | 0 |  6 | TCGA-A8-A094 | 0 | chr10 | 101121409 | -0.01054764 | 0 |\n",
       "| chr10_101121409_C_T | chr10:101121409-101121409 | C | T | 0 | 36 | 0 | 14 | TCGA-AO-A03L | 0 | chr10 | 101121409 | -0.01054764 | 0 |\n",
       "| chr10_101121409_C_T | chr10:101121409-101121409 | C | T | 0 | 31 | 0 | 15 | TCGA-AO-A03N | 0 | chr10 | 101121409 | -0.01054764 | 0 |\n",
       "\n"
      ],
      "text/plain": [
       "  idx                 region                    ref alt wgs_vaf wgs_dp atac_vaf\n",
       "1 chr10_101121409_C_T chr10:101121409-101121409 C   T   0       24     0       \n",
       "2 chr10_101121409_C_T chr10:101121409-101121409 C   T   0        3     0       \n",
       "3 chr10_101121409_C_T chr10:101121409-101121409 C   T   0        2     0       \n",
       "4 chr10_101121409_C_T chr10:101121409-101121409 C   T   0       34     0       \n",
       "5 chr10_101121409_C_T chr10:101121409-101121409 C   T   0       36     0       \n",
       "6 chr10_101121409_C_T chr10:101121409-101121409 C   T   0       31     0       \n",
       "  atac_dp case_id      vaf_difference chrom pos       diff_summit_centered\n",
       "1  2      TCGA-A2-A0EY 0              chr10 101121409 -0.01054764         \n",
       "2 12      TCGA-A2-A0YG 0              chr10 101121409 -0.01054764         \n",
       "3  7      TCGA-A7-A0D9 0              chr10 101121409 -0.01054764         \n",
       "4  6      TCGA-A8-A094 0              chr10 101121409 -0.01054764         \n",
       "5 14      TCGA-AO-A03L 0              chr10 101121409 -0.01054764         \n",
       "6 15      TCGA-AO-A03N 0              chr10 101121409 -0.01054764         \n",
       "  lof_summit_centered\n",
       "1 0                  \n",
       "2 0                  \n",
       "3 0                  \n",
       "4 0                  \n",
       "5 0                  \n",
       "6 0                  "
      ]
     },
     "metadata": {},
     "output_type": "display_data"
    }
   ],
   "source": [
    "nrow(all_vafs_scored[!is.na(lof_summit_centered),])\n",
    "length(unique(all_vafs_scored[!is.na(lof_summit_centered),]$case_id))\n",
    "head(all_vafs_scored)"
   ]
  },
  {
   "cell_type": "code",
   "execution_count": 22,
   "metadata": {},
   "outputs": [
    {
     "data": {
      "text/html": [
       "462100"
      ],
      "text/latex": [
       "462100"
      ],
      "text/markdown": [
       "462100"
      ],
      "text/plain": [
       "[1] 462100"
      ]
     },
     "metadata": {},
     "output_type": "display_data"
    }
   ],
   "source": [
    "nrow(all_vaf_df)"
   ]
  },
  {
   "cell_type": "code",
   "execution_count": 24,
   "metadata": {},
   "outputs": [
    {
     "data": {
      "text/html": [
       "462100"
      ],
      "text/latex": [
       "462100"
      ],
      "text/markdown": [
       "462100"
      ],
      "text/plain": [
       "[1] 462100"
      ]
     },
     "metadata": {},
     "output_type": "display_data"
    },
    {
     "data": {
      "text/html": [
       "462100"
      ],
      "text/latex": [
       "462100"
      ],
      "text/markdown": [
       "462100"
      ],
      "text/plain": [
       "[1] 462100"
      ]
     },
     "metadata": {},
     "output_type": "display_data"
    }
   ],
   "source": [
    "nrow(all_vafs_scored)\n",
    "nrow(all_vafs_scored[!is.na(diff_summit_centered)])"
   ]
  },
  {
   "cell_type": "code",
   "execution_count": 31,
   "metadata": {},
   "outputs": [
    {
     "data": {
      "text/html": [
       "46210"
      ],
      "text/latex": [
       "46210"
      ],
      "text/markdown": [
       "46210"
      ],
      "text/plain": [
       "[1] 46210"
      ]
     },
     "metadata": {},
     "output_type": "display_data"
    },
    {
     "data": {
      "text/html": [
       "2945"
      ],
      "text/latex": [
       "2945"
      ],
      "text/markdown": [
       "2945"
      ],
      "text/plain": [
       "[1] 2945"
      ]
     },
     "metadata": {},
     "output_type": "display_data"
    }
   ],
   "source": [
    "length(unique(all_vafs_scored$idx))\n",
    "length(unique(filtered_vafs_scored$idx))"
   ]
  },
  {
   "cell_type": "code",
   "execution_count": 10,
   "metadata": {},
   "outputs": [],
   "source": [
    "filtered_vafs_scored <- all_vafs_scored[(wgs_dp > 30) & (atac_dp > 30),][wgs_vaf > 0.4,]"
   ]
  },
  {
   "cell_type": "code",
   "execution_count": 21,
   "metadata": {},
   "outputs": [
    {
     "data": {
      "text/plain": [
       "\n",
       "TCGA-A2-A0EY TCGA-A2-A0YG TCGA-A8-A094 TCGA-AO-A03L TCGA-AO-A03N TCGA-AO-A0JM \n",
       "          18            2            7           18            6            4 \n",
       "TCGA-BH-A0E0 TCGA-C8-A12Q TCGA-C8-A130 \n",
       "           8           11            2 "
      ]
     },
     "metadata": {},
     "output_type": "display_data"
    },
    {
     "data": {
      "text/plain": [
       "\n",
       "TCGA-A2-A0EY TCGA-A2-A0YG TCGA-A7-A0D9 TCGA-A8-A094 TCGA-AO-A03L TCGA-AO-A03N \n",
       "         734          196           75          489          841          463 \n",
       "TCGA-AO-A0JM TCGA-BH-A0E0 TCGA-C8-A12Q TCGA-C8-A130 \n",
       "         252          294          578          171 "
      ]
     },
     "metadata": {},
     "output_type": "display_data"
    }
   ],
   "source": [
    "table(filtered_vafs_scored[lof_summit_centered > 0,]$case_id)\n",
    "table(filtered_vafs_scored$case_id)"
   ]
  },
  {
   "cell_type": "code",
   "execution_count": 12,
   "metadata": {},
   "outputs": [
    {
     "data": {
      "text/html": [
       "<table class=\"dataframe\">\n",
       "<caption>A data.table: 6 × 14</caption>\n",
       "<thead>\n",
       "\t<tr><th scope=col>idx</th><th scope=col>region</th><th scope=col>ref</th><th scope=col>alt</th><th scope=col>wgs_vaf</th><th scope=col>wgs_dp</th><th scope=col>atac_vaf</th><th scope=col>atac_dp</th><th scope=col>case_id</th><th scope=col>vaf_difference</th><th scope=col>chrom</th><th scope=col>pos</th><th scope=col>diff_summit_centered</th><th scope=col>lof_summit_centered</th></tr>\n",
       "\t<tr><th scope=col>&lt;chr&gt;</th><th scope=col>&lt;chr&gt;</th><th scope=col>&lt;chr&gt;</th><th scope=col>&lt;chr&gt;</th><th scope=col>&lt;dbl&gt;</th><th scope=col>&lt;dbl&gt;</th><th scope=col>&lt;dbl&gt;</th><th scope=col>&lt;dbl&gt;</th><th scope=col>&lt;chr&gt;</th><th scope=col>&lt;dbl&gt;</th><th scope=col>&lt;chr&gt;</th><th scope=col>&lt;chr&gt;</th><th scope=col>&lt;dbl&gt;</th><th scope=col>&lt;int&gt;</th></tr>\n",
       "</thead>\n",
       "<tbody>\n",
       "\t<tr><td>chr10_101454023_G_C</td><td>chr10:101454023-101454023</td><td>G</td><td>C</td><td>0.4081633</td><td>49</td><td>0.4848485</td><td> 33</td><td>TCGA-AO-A0JM</td><td> 0.07668522</td><td>chr10</td><td>101454023</td><td>-8.853555e-03</td><td>0</td></tr>\n",
       "\t<tr><td>chr10_101817731_G_A</td><td>chr10:101817731-101817731</td><td>G</td><td>A</td><td>0.5897436</td><td>39</td><td>0.5400000</td><td> 50</td><td>TCGA-C8-A12Q</td><td>-0.04974359</td><td>chr10</td><td>101817731</td><td> 4.404187e-04</td><td>0</td></tr>\n",
       "\t<tr><td>chr10_102198894_T_C</td><td>chr10:102198894-102198894</td><td>T</td><td>C</td><td>0.5166667</td><td>60</td><td>0.5703125</td><td>128</td><td>TCGA-BH-A0E0</td><td> 0.05364583</td><td>chr10</td><td>102198894</td><td> 8.583069e-05</td><td>0</td></tr>\n",
       "\t<tr><td>chr10_110433715_G_C</td><td>chr10:110433715-110433715</td><td>G</td><td>C</td><td>0.9841270</td><td>63</td><td>0.9736842</td><td> 38</td><td>TCGA-AO-A03L</td><td>-0.01044277</td><td>chr10</td><td>110433715</td><td>-1.316369e-03</td><td>0</td></tr>\n",
       "\t<tr><td>chr10_110433979_C_G</td><td>chr10:110433979-110433979</td><td>C</td><td>G</td><td>0.4067797</td><td>59</td><td>0.1090909</td><td> 55</td><td>TCGA-AO-A03N</td><td>-0.29768875</td><td>chr10</td><td>110433979</td><td> 1.218911e-01</td><td>1</td></tr>\n",
       "\t<tr><td>chr10_110434034_G_T</td><td>chr10:110434034-110434034</td><td>G</td><td>T</td><td>0.5294118</td><td>34</td><td>0.9729730</td><td> 37</td><td>TCGA-A8-A094</td><td> 0.44356121</td><td>chr10</td><td>110434034</td><td> 2.604544e-03</td><td>0</td></tr>\n",
       "</tbody>\n",
       "</table>\n"
      ],
      "text/latex": [
       "A data.table: 6 × 14\n",
       "\\begin{tabular}{llllllllllllll}\n",
       " idx & region & ref & alt & wgs\\_vaf & wgs\\_dp & atac\\_vaf & atac\\_dp & case\\_id & vaf\\_difference & chrom & pos & diff\\_summit\\_centered & lof\\_summit\\_centered\\\\\n",
       " <chr> & <chr> & <chr> & <chr> & <dbl> & <dbl> & <dbl> & <dbl> & <chr> & <dbl> & <chr> & <chr> & <dbl> & <int>\\\\\n",
       "\\hline\n",
       "\t chr10\\_101454023\\_G\\_C & chr10:101454023-101454023 & G & C & 0.4081633 & 49 & 0.4848485 &  33 & TCGA-AO-A0JM &  0.07668522 & chr10 & 101454023 & -8.853555e-03 & 0\\\\\n",
       "\t chr10\\_101817731\\_G\\_A & chr10:101817731-101817731 & G & A & 0.5897436 & 39 & 0.5400000 &  50 & TCGA-C8-A12Q & -0.04974359 & chr10 & 101817731 &  4.404187e-04 & 0\\\\\n",
       "\t chr10\\_102198894\\_T\\_C & chr10:102198894-102198894 & T & C & 0.5166667 & 60 & 0.5703125 & 128 & TCGA-BH-A0E0 &  0.05364583 & chr10 & 102198894 &  8.583069e-05 & 0\\\\\n",
       "\t chr10\\_110433715\\_G\\_C & chr10:110433715-110433715 & G & C & 0.9841270 & 63 & 0.9736842 &  38 & TCGA-AO-A03L & -0.01044277 & chr10 & 110433715 & -1.316369e-03 & 0\\\\\n",
       "\t chr10\\_110433979\\_C\\_G & chr10:110433979-110433979 & C & G & 0.4067797 & 59 & 0.1090909 &  55 & TCGA-AO-A03N & -0.29768875 & chr10 & 110433979 &  1.218911e-01 & 1\\\\\n",
       "\t chr10\\_110434034\\_G\\_T & chr10:110434034-110434034 & G & T & 0.5294118 & 34 & 0.9729730 &  37 & TCGA-A8-A094 &  0.44356121 & chr10 & 110434034 &  2.604544e-03 & 0\\\\\n",
       "\\end{tabular}\n"
      ],
      "text/markdown": [
       "\n",
       "A data.table: 6 × 14\n",
       "\n",
       "| idx &lt;chr&gt; | region &lt;chr&gt; | ref &lt;chr&gt; | alt &lt;chr&gt; | wgs_vaf &lt;dbl&gt; | wgs_dp &lt;dbl&gt; | atac_vaf &lt;dbl&gt; | atac_dp &lt;dbl&gt; | case_id &lt;chr&gt; | vaf_difference &lt;dbl&gt; | chrom &lt;chr&gt; | pos &lt;chr&gt; | diff_summit_centered &lt;dbl&gt; | lof_summit_centered &lt;int&gt; |\n",
       "|---|---|---|---|---|---|---|---|---|---|---|---|---|---|\n",
       "| chr10_101454023_G_C | chr10:101454023-101454023 | G | C | 0.4081633 | 49 | 0.4848485 |  33 | TCGA-AO-A0JM |  0.07668522 | chr10 | 101454023 | -8.853555e-03 | 0 |\n",
       "| chr10_101817731_G_A | chr10:101817731-101817731 | G | A | 0.5897436 | 39 | 0.5400000 |  50 | TCGA-C8-A12Q | -0.04974359 | chr10 | 101817731 |  4.404187e-04 | 0 |\n",
       "| chr10_102198894_T_C | chr10:102198894-102198894 | T | C | 0.5166667 | 60 | 0.5703125 | 128 | TCGA-BH-A0E0 |  0.05364583 | chr10 | 102198894 |  8.583069e-05 | 0 |\n",
       "| chr10_110433715_G_C | chr10:110433715-110433715 | G | C | 0.9841270 | 63 | 0.9736842 |  38 | TCGA-AO-A03L | -0.01044277 | chr10 | 110433715 | -1.316369e-03 | 0 |\n",
       "| chr10_110433979_C_G | chr10:110433979-110433979 | C | G | 0.4067797 | 59 | 0.1090909 |  55 | TCGA-AO-A03N | -0.29768875 | chr10 | 110433979 |  1.218911e-01 | 1 |\n",
       "| chr10_110434034_G_T | chr10:110434034-110434034 | G | T | 0.5294118 | 34 | 0.9729730 |  37 | TCGA-A8-A094 |  0.44356121 | chr10 | 110434034 |  2.604544e-03 | 0 |\n",
       "\n"
      ],
      "text/plain": [
       "  idx                 region                    ref alt wgs_vaf   wgs_dp\n",
       "1 chr10_101454023_G_C chr10:101454023-101454023 G   C   0.4081633 49    \n",
       "2 chr10_101817731_G_A chr10:101817731-101817731 G   A   0.5897436 39    \n",
       "3 chr10_102198894_T_C chr10:102198894-102198894 T   C   0.5166667 60    \n",
       "4 chr10_110433715_G_C chr10:110433715-110433715 G   C   0.9841270 63    \n",
       "5 chr10_110433979_C_G chr10:110433979-110433979 C   G   0.4067797 59    \n",
       "6 chr10_110434034_G_T chr10:110434034-110434034 G   T   0.5294118 34    \n",
       "  atac_vaf  atac_dp case_id      vaf_difference chrom pos      \n",
       "1 0.4848485  33     TCGA-AO-A0JM  0.07668522    chr10 101454023\n",
       "2 0.5400000  50     TCGA-C8-A12Q -0.04974359    chr10 101817731\n",
       "3 0.5703125 128     TCGA-BH-A0E0  0.05364583    chr10 102198894\n",
       "4 0.9736842  38     TCGA-AO-A03L -0.01044277    chr10 110433715\n",
       "5 0.1090909  55     TCGA-AO-A03N -0.29768875    chr10 110433979\n",
       "6 0.9729730  37     TCGA-A8-A094  0.44356121    chr10 110434034\n",
       "  diff_summit_centered lof_summit_centered\n",
       "1 -8.853555e-03        0                  \n",
       "2  4.404187e-04        0                  \n",
       "3  8.583069e-05        0                  \n",
       "4 -1.316369e-03        0                  \n",
       "5  1.218911e-01        1                  \n",
       "6  2.604544e-03        0                  "
      ]
     },
     "metadata": {},
     "output_type": "display_data"
    }
   ],
   "source": [
    "head(filtered_vafs_scored)"
   ]
  },
  {
   "cell_type": "code",
   "execution_count": 13,
   "metadata": {},
   "outputs": [],
   "source": [
    "out_df <- filtered_vafs_scored[,.(chrom, pos, ref, alt, idx, case_id, atac_dp, wgs_dp, atac_vaf, wgs_vaf, vaf_difference, diff_summit_centered, lof_summit_centered)]"
   ]
  },
  {
   "cell_type": "code",
   "execution_count": 14,
   "metadata": {},
   "outputs": [
    {
     "data": {
      "text/html": [
       "<table class=\"dataframe\">\n",
       "<caption>A data.table: 6 × 13</caption>\n",
       "<thead>\n",
       "\t<tr><th scope=col>chrom</th><th scope=col>pos</th><th scope=col>ref</th><th scope=col>alt</th><th scope=col>idx</th><th scope=col>case_id</th><th scope=col>atac_dp</th><th scope=col>wgs_dp</th><th scope=col>atac_vaf</th><th scope=col>wgs_vaf</th><th scope=col>vaf_difference</th><th scope=col>diff_summit_centered</th><th scope=col>lof_summit_centered</th></tr>\n",
       "\t<tr><th scope=col>&lt;chr&gt;</th><th scope=col>&lt;chr&gt;</th><th scope=col>&lt;chr&gt;</th><th scope=col>&lt;chr&gt;</th><th scope=col>&lt;chr&gt;</th><th scope=col>&lt;chr&gt;</th><th scope=col>&lt;dbl&gt;</th><th scope=col>&lt;dbl&gt;</th><th scope=col>&lt;dbl&gt;</th><th scope=col>&lt;dbl&gt;</th><th scope=col>&lt;dbl&gt;</th><th scope=col>&lt;dbl&gt;</th><th scope=col>&lt;int&gt;</th></tr>\n",
       "</thead>\n",
       "<tbody>\n",
       "\t<tr><td>chr10</td><td>101454023</td><td>G</td><td>C</td><td>chr10_101454023_G_C</td><td>TCGA-AO-A0JM</td><td> 33</td><td>49</td><td>0.4848485</td><td>0.4081633</td><td> 0.07668522</td><td>-8.853555e-03</td><td>0</td></tr>\n",
       "\t<tr><td>chr10</td><td>101817731</td><td>G</td><td>A</td><td>chr10_101817731_G_A</td><td>TCGA-C8-A12Q</td><td> 50</td><td>39</td><td>0.5400000</td><td>0.5897436</td><td>-0.04974359</td><td> 4.404187e-04</td><td>0</td></tr>\n",
       "\t<tr><td>chr10</td><td>102198894</td><td>T</td><td>C</td><td>chr10_102198894_T_C</td><td>TCGA-BH-A0E0</td><td>128</td><td>60</td><td>0.5703125</td><td>0.5166667</td><td> 0.05364583</td><td> 8.583069e-05</td><td>0</td></tr>\n",
       "\t<tr><td>chr10</td><td>110433715</td><td>G</td><td>C</td><td>chr10_110433715_G_C</td><td>TCGA-AO-A03L</td><td> 38</td><td>63</td><td>0.9736842</td><td>0.9841270</td><td>-0.01044277</td><td>-1.316369e-03</td><td>0</td></tr>\n",
       "\t<tr><td>chr10</td><td>110433979</td><td>C</td><td>G</td><td>chr10_110433979_C_G</td><td>TCGA-AO-A03N</td><td> 55</td><td>59</td><td>0.1090909</td><td>0.4067797</td><td>-0.29768875</td><td> 1.218911e-01</td><td>1</td></tr>\n",
       "\t<tr><td>chr10</td><td>110434034</td><td>G</td><td>T</td><td>chr10_110434034_G_T</td><td>TCGA-A8-A094</td><td> 37</td><td>34</td><td>0.9729730</td><td>0.5294118</td><td> 0.44356121</td><td> 2.604544e-03</td><td>0</td></tr>\n",
       "</tbody>\n",
       "</table>\n"
      ],
      "text/latex": [
       "A data.table: 6 × 13\n",
       "\\begin{tabular}{lllllllllllll}\n",
       " chrom & pos & ref & alt & idx & case\\_id & atac\\_dp & wgs\\_dp & atac\\_vaf & wgs\\_vaf & vaf\\_difference & diff\\_summit\\_centered & lof\\_summit\\_centered\\\\\n",
       " <chr> & <chr> & <chr> & <chr> & <chr> & <chr> & <dbl> & <dbl> & <dbl> & <dbl> & <dbl> & <dbl> & <int>\\\\\n",
       "\\hline\n",
       "\t chr10 & 101454023 & G & C & chr10\\_101454023\\_G\\_C & TCGA-AO-A0JM &  33 & 49 & 0.4848485 & 0.4081633 &  0.07668522 & -8.853555e-03 & 0\\\\\n",
       "\t chr10 & 101817731 & G & A & chr10\\_101817731\\_G\\_A & TCGA-C8-A12Q &  50 & 39 & 0.5400000 & 0.5897436 & -0.04974359 &  4.404187e-04 & 0\\\\\n",
       "\t chr10 & 102198894 & T & C & chr10\\_102198894\\_T\\_C & TCGA-BH-A0E0 & 128 & 60 & 0.5703125 & 0.5166667 &  0.05364583 &  8.583069e-05 & 0\\\\\n",
       "\t chr10 & 110433715 & G & C & chr10\\_110433715\\_G\\_C & TCGA-AO-A03L &  38 & 63 & 0.9736842 & 0.9841270 & -0.01044277 & -1.316369e-03 & 0\\\\\n",
       "\t chr10 & 110433979 & C & G & chr10\\_110433979\\_C\\_G & TCGA-AO-A03N &  55 & 59 & 0.1090909 & 0.4067797 & -0.29768875 &  1.218911e-01 & 1\\\\\n",
       "\t chr10 & 110434034 & G & T & chr10\\_110434034\\_G\\_T & TCGA-A8-A094 &  37 & 34 & 0.9729730 & 0.5294118 &  0.44356121 &  2.604544e-03 & 0\\\\\n",
       "\\end{tabular}\n"
      ],
      "text/markdown": [
       "\n",
       "A data.table: 6 × 13\n",
       "\n",
       "| chrom &lt;chr&gt; | pos &lt;chr&gt; | ref &lt;chr&gt; | alt &lt;chr&gt; | idx &lt;chr&gt; | case_id &lt;chr&gt; | atac_dp &lt;dbl&gt; | wgs_dp &lt;dbl&gt; | atac_vaf &lt;dbl&gt; | wgs_vaf &lt;dbl&gt; | vaf_difference &lt;dbl&gt; | diff_summit_centered &lt;dbl&gt; | lof_summit_centered &lt;int&gt; |\n",
       "|---|---|---|---|---|---|---|---|---|---|---|---|---|\n",
       "| chr10 | 101454023 | G | C | chr10_101454023_G_C | TCGA-AO-A0JM |  33 | 49 | 0.4848485 | 0.4081633 |  0.07668522 | -8.853555e-03 | 0 |\n",
       "| chr10 | 101817731 | G | A | chr10_101817731_G_A | TCGA-C8-A12Q |  50 | 39 | 0.5400000 | 0.5897436 | -0.04974359 |  4.404187e-04 | 0 |\n",
       "| chr10 | 102198894 | T | C | chr10_102198894_T_C | TCGA-BH-A0E0 | 128 | 60 | 0.5703125 | 0.5166667 |  0.05364583 |  8.583069e-05 | 0 |\n",
       "| chr10 | 110433715 | G | C | chr10_110433715_G_C | TCGA-AO-A03L |  38 | 63 | 0.9736842 | 0.9841270 | -0.01044277 | -1.316369e-03 | 0 |\n",
       "| chr10 | 110433979 | C | G | chr10_110433979_C_G | TCGA-AO-A03N |  55 | 59 | 0.1090909 | 0.4067797 | -0.29768875 |  1.218911e-01 | 1 |\n",
       "| chr10 | 110434034 | G | T | chr10_110434034_G_T | TCGA-A8-A094 |  37 | 34 | 0.9729730 | 0.5294118 |  0.44356121 |  2.604544e-03 | 0 |\n",
       "\n"
      ],
      "text/plain": [
       "  chrom pos       ref alt idx                 case_id      atac_dp wgs_dp\n",
       "1 chr10 101454023 G   C   chr10_101454023_G_C TCGA-AO-A0JM  33     49    \n",
       "2 chr10 101817731 G   A   chr10_101817731_G_A TCGA-C8-A12Q  50     39    \n",
       "3 chr10 102198894 T   C   chr10_102198894_T_C TCGA-BH-A0E0 128     60    \n",
       "4 chr10 110433715 G   C   chr10_110433715_G_C TCGA-AO-A03L  38     63    \n",
       "5 chr10 110433979 C   G   chr10_110433979_C_G TCGA-AO-A03N  55     59    \n",
       "6 chr10 110434034 G   T   chr10_110434034_G_T TCGA-A8-A094  37     34    \n",
       "  atac_vaf  wgs_vaf   vaf_difference diff_summit_centered lof_summit_centered\n",
       "1 0.4848485 0.4081633  0.07668522    -8.853555e-03        0                  \n",
       "2 0.5400000 0.5897436 -0.04974359     4.404187e-04        0                  \n",
       "3 0.5703125 0.5166667  0.05364583     8.583069e-05        0                  \n",
       "4 0.9736842 0.9841270 -0.01044277    -1.316369e-03        0                  \n",
       "5 0.1090909 0.4067797 -0.29768875     1.218911e-01        1                  \n",
       "6 0.9729730 0.5294118  0.44356121     2.604544e-03        0                  "
      ]
     },
     "metadata": {},
     "output_type": "display_data"
    }
   ],
   "source": [
    "head(out_df)"
   ]
  },
  {
   "cell_type": "code",
   "execution_count": 15,
   "metadata": {},
   "outputs": [],
   "source": [
    "write.table(out_df,file=\"/illumina/scratch/deep_learning/asalcedo/scATAC/tables/gwas_ld_expanded_variants_with_scores.txt\", quote=FALSE, row.names = FALSE, sep=\"\\t\")"
   ]
  },
  {
   "cell_type": "code",
   "execution_count": 25,
   "metadata": {},
   "outputs": [
    {
     "data": {
      "text/html": [
       "<table class=\"dataframe\">\n",
       "<caption>A data.table: 2 × 2</caption>\n",
       "<thead>\n",
       "\t<tr><th scope=col>lof_summit_centered</th><th scope=col>N</th></tr>\n",
       "\t<tr><th scope=col>&lt;int&gt;</th><th scope=col>&lt;int&gt;</th></tr>\n",
       "</thead>\n",
       "<tbody>\n",
       "\t<tr><td>0</td><td>4017</td></tr>\n",
       "\t<tr><td>1</td><td>  76</td></tr>\n",
       "</tbody>\n",
       "</table>\n"
      ],
      "text/latex": [
       "A data.table: 2 × 2\n",
       "\\begin{tabular}{ll}\n",
       " lof\\_summit\\_centered & N\\\\\n",
       " <int> & <int>\\\\\n",
       "\\hline\n",
       "\t 0 & 4017\\\\\n",
       "\t 1 &   76\\\\\n",
       "\\end{tabular}\n"
      ],
      "text/markdown": [
       "\n",
       "A data.table: 2 × 2\n",
       "\n",
       "| lof_summit_centered &lt;int&gt; | N &lt;int&gt; |\n",
       "|---|---|\n",
       "| 0 | 4017 |\n",
       "| 1 |   76 |\n",
       "\n"
      ],
      "text/plain": [
       "  lof_summit_centered N   \n",
       "1 0                   4017\n",
       "2 1                     76"
      ]
     },
     "metadata": {},
     "output_type": "display_data"
    }
   ],
   "source": [
    "filtered_vafs_scored[,.N,by=lof_summit_centered]"
   ]
  },
  {
   "cell_type": "code",
   "execution_count": 26,
   "metadata": {},
   "outputs": [
    {
     "data": {
      "text/html": [
       "<table class=\"dataframe\">\n",
       "<caption>A data.table: 2 × 2</caption>\n",
       "<thead>\n",
       "\t<tr><th scope=col>lof_summit_centered</th><th scope=col>N</th></tr>\n",
       "\t<tr><th scope=col>&lt;int&gt;</th><th scope=col>&lt;int&gt;</th></tr>\n",
       "</thead>\n",
       "<tbody>\n",
       "\t<tr><td>0</td><td>4017</td></tr>\n",
       "\t<tr><td>1</td><td>  76</td></tr>\n",
       "</tbody>\n",
       "</table>\n"
      ],
      "text/latex": [
       "A data.table: 2 × 2\n",
       "\\begin{tabular}{ll}\n",
       " lof\\_summit\\_centered & N\\\\\n",
       " <int> & <int>\\\\\n",
       "\\hline\n",
       "\t 0 & 4017\\\\\n",
       "\t 1 &   76\\\\\n",
       "\\end{tabular}\n"
      ],
      "text/markdown": [
       "\n",
       "A data.table: 2 × 2\n",
       "\n",
       "| lof_summit_centered &lt;int&gt; | N &lt;int&gt; |\n",
       "|---|---|\n",
       "| 0 | 4017 |\n",
       "| 1 |   76 |\n",
       "\n"
      ],
      "text/plain": [
       "  lof_summit_centered N   \n",
       "1 0                   4017\n",
       "2 1                     76"
      ]
     },
     "metadata": {},
     "output_type": "display_data"
    },
    {
     "data": {
      "image/png": "[encoded data removed]",
      "text/plain": [
       "plot without title"
      ]
     },
     "metadata": {
      "image/png": {
       "height": 420,
       "width": 420
      }
     },
     "output_type": "display_data"
    }
   ],
   "source": [
    "filtered_vafs_scored[,.N,by=lof_summit_centered]\n",
    "ggplot(filtered_vafs_scored, aes(x=vaf_difference, color=as.factor(lof_summit_centered))) + geom_density(aes(y=..scaled..), alpha=.1) + xlab(\"ATAC VAF - WGS VAF\") + ylab(\"Density\")"
   ]
  },
  {
   "cell_type": "code",
   "execution_count": 27,
   "metadata": {},
   "outputs": [
    {
     "data": {
      "text/plain": [
       "\n",
       "\tWelch Two Sample t-test\n",
       "\n",
       "data:  test_df[lof_summit_centered == 1, ]$vaf_difference and test_df[lof_summit_centered == 0, ]$vaf_difference\n",
       "t = -4.4304, df = 76.498, p-value = 3.092e-05\n",
       "alternative hypothesis: true difference in means is not equal to 0\n",
       "95 percent confidence interval:\n",
       " -0.1489533 -0.0565699\n",
       "sample estimates:\n",
       "  mean of x   mean of y \n",
       "-0.12135955 -0.01859796 \n"
      ]
     },
     "metadata": {},
     "output_type": "display_data"
    },
    {
     "data": {
      "text/plain": [
       "\n",
       "\tWilcoxon rank sum test with continuity correction\n",
       "\n",
       "data:  test_df[lof_summit_centered == 1, ]$vaf_difference and test_df[lof_summit_centered == 0, ]$vaf_difference\n",
       "W = 101968, p-value = 6.848e-07\n",
       "alternative hypothesis: true location shift is not equal to 0\n"
      ]
     },
     "metadata": {},
     "output_type": "display_data"
    }
   ],
   "source": [
    "test_df <- filtered_vafs_scored\n",
    "t.test(test_df[lof_summit_centered == 1,]$vaf_difference, test_df[lof_summit_centered == 0,]$vaf_difference)\n",
    "wilcox.test(test_df[lof_summit_centered == 1,]$vaf_difference, test_df[lof_summit_centered == 0,]$vaf_difference)"
   ]
  }
 ],
 "metadata": {
  "kernelspec": {
   "display_name": "R",
   "language": "R",
   "name": "ir"
  },
  "language_info": {
   "codemirror_mode": "r",
   "file_extension": ".r",
   "mimetype": "text/x-r-source",
   "name": "R",
   "pygments_lexer": "r",
   "version": "4.2.0"
  }
 },
 "nbformat": 4,
 "nbformat_minor": 2
}
