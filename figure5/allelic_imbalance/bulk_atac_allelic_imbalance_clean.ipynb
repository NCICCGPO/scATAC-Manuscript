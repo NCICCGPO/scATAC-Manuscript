{
 "cells": [
  {
   "cell_type": "code",
   "execution_count": 1,
   "metadata": {},
   "outputs": [],
   "source": [
    "library(data.table)\n",
    "library(ggplot2)"
   ]
  },
  {
   "cell_type": "code",
   "execution_count": 2,
   "metadata": {},
   "outputs": [],
   "source": [
    "filtered_vafs <- fread(\"/illumina/scratch/deep_learning/asalcedo/scATAC/scATAC_vafs/TCGA_bulk_AI_variants.txt\")"
   ]
  },
  {
   "cell_type": "code",
   "execution_count": 3,
   "metadata": {},
   "outputs": [],
   "source": [
    "sample_key <- fread(\"/illumina/scratch/deep_learning/asalcedo/scATAC/atac_tcga_key.txt\")"
   ]
  },
  {
   "cell_type": "code",
   "execution_count": 4,
   "metadata": {},
   "outputs": [],
   "source": [
    "sample_key <- fread(\"/illumina/scratch/deep_learning/asalcedo/scATAC/190101_Samples_For_scATAC.csv\")"
   ]
  },
  {
   "cell_type": "code",
   "execution_count": 6,
   "metadata": {},
   "outputs": [
    {
     "data": {
      "text/html": [
       "<table class=\"dataframe\">\n",
       "<caption>A data.table: 6 × 21</caption>\n",
       "<thead>\n",
       "\t<tr><th scope=col>idx</th><th scope=col>acronym</th><th scope=col>case_id</th><th scope=col>region</th><th scope=col>ref</th><th scope=col>alt</th><th scope=col>atac_vaf</th><th scope=col>atac_dp</th><th scope=col>chrom</th><th scope=col>pos</th><th scope=col>⋯</th><th scope=col>wgs_vaf</th><th scope=col>ref_count</th><th scope=col>alt_count</th><th scope=col>total_count</th><th scope=col>gender</th><th scope=col>vaf_difference</th><th scope=col>diff_summit_centered</th><th scope=col>diff_mutation_centered</th><th scope=col>lof_summit_centered</th><th scope=col>gof_mutation_centered</th></tr>\n",
       "\t<tr><th scope=col>&lt;chr&gt;</th><th scope=col>&lt;chr&gt;</th><th scope=col>&lt;chr&gt;</th><th scope=col>&lt;chr&gt;</th><th scope=col>&lt;chr&gt;</th><th scope=col>&lt;chr&gt;</th><th scope=col>&lt;dbl&gt;</th><th scope=col>&lt;int&gt;</th><th scope=col>&lt;chr&gt;</th><th scope=col>&lt;int&gt;</th><th scope=col>⋯</th><th scope=col>&lt;dbl&gt;</th><th scope=col>&lt;int&gt;</th><th scope=col>&lt;int&gt;</th><th scope=col>&lt;int&gt;</th><th scope=col>&lt;chr&gt;</th><th scope=col>&lt;dbl&gt;</th><th scope=col>&lt;dbl&gt;</th><th scope=col>&lt;dbl&gt;</th><th scope=col>&lt;int&gt;</th><th scope=col>&lt;int&gt;</th></tr>\n",
       "</thead>\n",
       "<tbody>\n",
       "\t<tr><td>chr10_100186039_C_T</td><td>BRCA</td><td>TCGA-BH-A0HP</td><td>chr10:100186039-100186039</td><td>C</td><td>T</td><td>0.0000000</td><td>151</td><td>chr10</td><td>100186039</td><td>⋯</td><td>0.09917355</td><td>109</td><td>12</td><td>121</td><td>FEMALE</td><td>-0.09917355</td><td> 0.032485664</td><td> 0.051526308</td><td>0</td><td>0</td></tr>\n",
       "\t<tr><td>chr10_100186243_G_C</td><td>BRCA</td><td>TCGA-C8-A12T</td><td>chr10:100186243-100186243</td><td>G</td><td>C</td><td>0.0000000</td><td>218</td><td>chr10</td><td>100186243</td><td>⋯</td><td>0.14166667</td><td>103</td><td>17</td><td>120</td><td>FEMALE</td><td>-0.14166667</td><td>-0.003796756</td><td>-0.003147066</td><td>0</td><td>0</td></tr>\n",
       "\t<tr><td>chr10_100229245_C_A</td><td>BLCA</td><td>TCGA-BL-A13J</td><td>chr10:100229245-100229245</td><td>C</td><td>A</td><td>0.3442623</td><td> 61</td><td>chr10</td><td>100229245</td><td>⋯</td><td>0.26086957</td><td> 51</td><td>18</td><td> 69</td><td>MALE  </td><td> 0.08339273</td><td>-0.002357304</td><td> 0.004987359</td><td>0</td><td>0</td></tr>\n",
       "\t<tr><td>chr10_100229638_C_G</td><td>BLCA</td><td>TCGA-BL-A13J</td><td>chr10:100229638-100229638</td><td>C</td><td>G</td><td>0.3271028</td><td>107</td><td>chr10</td><td>100229638</td><td>⋯</td><td>0.16867470</td><td> 69</td><td>14</td><td> 83</td><td>MALE  </td><td> 0.15842810</td><td> 0.146393000</td><td> 0.117428064</td><td>1</td><td>0</td></tr>\n",
       "\t<tr><td>chr10_100267579_C_A</td><td>LUAD</td><td>TCGA-73-A9RS</td><td>chr10:100267579-100267579</td><td>C</td><td>A</td><td>0.5000000</td><td> 52</td><td>chr10</td><td>100267579</td><td>⋯</td><td>0.35227273</td><td> 57</td><td>31</td><td> 88</td><td>MALE  </td><td> 0.14772727</td><td> 0.010443866</td><td> 0.021115422</td><td>0</td><td>0</td></tr>\n",
       "\t<tr><td>chr10_100267656_G_A</td><td>BRCA</td><td>TCGA-AO-A0JG</td><td>chr10:100267656-100267656</td><td>G</td><td>A</td><td>0.4933333</td><td> 75</td><td>chr10</td><td>100267656</td><td>⋯</td><td>0.29245283</td><td> 75</td><td>31</td><td>106</td><td>FEMALE</td><td> 0.20088050</td><td> 0.016299367</td><td> 0.029590249</td><td>0</td><td>0</td></tr>\n",
       "</tbody>\n",
       "</table>\n"
      ],
      "text/latex": [
       "A data.table: 6 × 21\n",
       "\\begin{tabular}{lllllllllllllllllllll}\n",
       " idx & acronym & case\\_id & region & ref & alt & atac\\_vaf & atac\\_dp & chrom & pos & ⋯ & wgs\\_vaf & ref\\_count & alt\\_count & total\\_count & gender & vaf\\_difference & diff\\_summit\\_centered & diff\\_mutation\\_centered & lof\\_summit\\_centered & gof\\_mutation\\_centered\\\\\n",
       " <chr> & <chr> & <chr> & <chr> & <chr> & <chr> & <dbl> & <int> & <chr> & <int> & ⋯ & <dbl> & <int> & <int> & <int> & <chr> & <dbl> & <dbl> & <dbl> & <int> & <int>\\\\\n",
       "\\hline\n",
       "\t chr10\\_100186039\\_C\\_T & BRCA & TCGA-BH-A0HP & chr10:100186039-100186039 & C & T & 0.0000000 & 151 & chr10 & 100186039 & ⋯ & 0.09917355 & 109 & 12 & 121 & FEMALE & -0.09917355 &  0.032485664 &  0.051526308 & 0 & 0\\\\\n",
       "\t chr10\\_100186243\\_G\\_C & BRCA & TCGA-C8-A12T & chr10:100186243-100186243 & G & C & 0.0000000 & 218 & chr10 & 100186243 & ⋯ & 0.14166667 & 103 & 17 & 120 & FEMALE & -0.14166667 & -0.003796756 & -0.003147066 & 0 & 0\\\\\n",
       "\t chr10\\_100229245\\_C\\_A & BLCA & TCGA-BL-A13J & chr10:100229245-100229245 & C & A & 0.3442623 &  61 & chr10 & 100229245 & ⋯ & 0.26086957 &  51 & 18 &  69 & MALE   &  0.08339273 & -0.002357304 &  0.004987359 & 0 & 0\\\\\n",
       "\t chr10\\_100229638\\_C\\_G & BLCA & TCGA-BL-A13J & chr10:100229638-100229638 & C & G & 0.3271028 & 107 & chr10 & 100229638 & ⋯ & 0.16867470 &  69 & 14 &  83 & MALE   &  0.15842810 &  0.146393000 &  0.117428064 & 1 & 0\\\\\n",
       "\t chr10\\_100267579\\_C\\_A & LUAD & TCGA-73-A9RS & chr10:100267579-100267579 & C & A & 0.5000000 &  52 & chr10 & 100267579 & ⋯ & 0.35227273 &  57 & 31 &  88 & MALE   &  0.14772727 &  0.010443866 &  0.021115422 & 0 & 0\\\\\n",
       "\t chr10\\_100267656\\_G\\_A & BRCA & TCGA-AO-A0JG & chr10:100267656-100267656 & G & A & 0.4933333 &  75 & chr10 & 100267656 & ⋯ & 0.29245283 &  75 & 31 & 106 & FEMALE &  0.20088050 &  0.016299367 &  0.029590249 & 0 & 0\\\\\n",
       "\\end{tabular}\n"
      ],
      "text/markdown": [
       "\n",
       "A data.table: 6 × 21\n",
       "\n",
       "| idx &lt;chr&gt; | acronym &lt;chr&gt; | case_id &lt;chr&gt; | region &lt;chr&gt; | ref &lt;chr&gt; | alt &lt;chr&gt; | atac_vaf &lt;dbl&gt; | atac_dp &lt;int&gt; | chrom &lt;chr&gt; | pos &lt;int&gt; | ⋯ ⋯ | wgs_vaf &lt;dbl&gt; | ref_count &lt;int&gt; | alt_count &lt;int&gt; | total_count &lt;int&gt; | gender &lt;chr&gt; | vaf_difference &lt;dbl&gt; | diff_summit_centered &lt;dbl&gt; | diff_mutation_centered &lt;dbl&gt; | lof_summit_centered &lt;int&gt; | gof_mutation_centered &lt;int&gt; |\n",
       "|---|---|---|---|---|---|---|---|---|---|---|---|---|---|---|---|---|---|---|---|---|\n",
       "| chr10_100186039_C_T | BRCA | TCGA-BH-A0HP | chr10:100186039-100186039 | C | T | 0.0000000 | 151 | chr10 | 100186039 | ⋯ | 0.09917355 | 109 | 12 | 121 | FEMALE | -0.09917355 |  0.032485664 |  0.051526308 | 0 | 0 |\n",
       "| chr10_100186243_G_C | BRCA | TCGA-C8-A12T | chr10:100186243-100186243 | G | C | 0.0000000 | 218 | chr10 | 100186243 | ⋯ | 0.14166667 | 103 | 17 | 120 | FEMALE | -0.14166667 | -0.003796756 | -0.003147066 | 0 | 0 |\n",
       "| chr10_100229245_C_A | BLCA | TCGA-BL-A13J | chr10:100229245-100229245 | C | A | 0.3442623 |  61 | chr10 | 100229245 | ⋯ | 0.26086957 |  51 | 18 |  69 | MALE   |  0.08339273 | -0.002357304 |  0.004987359 | 0 | 0 |\n",
       "| chr10_100229638_C_G | BLCA | TCGA-BL-A13J | chr10:100229638-100229638 | C | G | 0.3271028 | 107 | chr10 | 100229638 | ⋯ | 0.16867470 |  69 | 14 |  83 | MALE   |  0.15842810 |  0.146393000 |  0.117428064 | 1 | 0 |\n",
       "| chr10_100267579_C_A | LUAD | TCGA-73-A9RS | chr10:100267579-100267579 | C | A | 0.5000000 |  52 | chr10 | 100267579 | ⋯ | 0.35227273 |  57 | 31 |  88 | MALE   |  0.14772727 |  0.010443866 |  0.021115422 | 0 | 0 |\n",
       "| chr10_100267656_G_A | BRCA | TCGA-AO-A0JG | chr10:100267656-100267656 | G | A | 0.4933333 |  75 | chr10 | 100267656 | ⋯ | 0.29245283 |  75 | 31 | 106 | FEMALE |  0.20088050 |  0.016299367 |  0.029590249 | 0 | 0 |\n",
       "\n"
      ],
      "text/plain": [
       "  idx                 acronym case_id      region                    ref alt\n",
       "1 chr10_100186039_C_T BRCA    TCGA-BH-A0HP chr10:100186039-100186039 C   T  \n",
       "2 chr10_100186243_G_C BRCA    TCGA-C8-A12T chr10:100186243-100186243 G   C  \n",
       "3 chr10_100229245_C_A BLCA    TCGA-BL-A13J chr10:100229245-100229245 C   A  \n",
       "4 chr10_100229638_C_G BLCA    TCGA-BL-A13J chr10:100229638-100229638 C   G  \n",
       "5 chr10_100267579_C_A LUAD    TCGA-73-A9RS chr10:100267579-100267579 C   A  \n",
       "6 chr10_100267656_G_A BRCA    TCGA-AO-A0JG chr10:100267656-100267656 G   A  \n",
       "  atac_vaf  atac_dp chrom pos       ⋯ wgs_vaf    ref_count alt_count\n",
       "1 0.0000000 151     chr10 100186039 ⋯ 0.09917355 109       12       \n",
       "2 0.0000000 218     chr10 100186243 ⋯ 0.14166667 103       17       \n",
       "3 0.3442623  61     chr10 100229245 ⋯ 0.26086957  51       18       \n",
       "4 0.3271028 107     chr10 100229638 ⋯ 0.16867470  69       14       \n",
       "5 0.5000000  52     chr10 100267579 ⋯ 0.35227273  57       31       \n",
       "6 0.4933333  75     chr10 100267656 ⋯ 0.29245283  75       31       \n",
       "  total_count gender vaf_difference diff_summit_centered diff_mutation_centered\n",
       "1 121         FEMALE -0.09917355     0.032485664          0.051526308          \n",
       "2 120         FEMALE -0.14166667    -0.003796756         -0.003147066          \n",
       "3  69         MALE    0.08339273    -0.002357304          0.004987359          \n",
       "4  83         MALE    0.15842810     0.146393000          0.117428064          \n",
       "5  88         MALE    0.14772727     0.010443866          0.021115422          \n",
       "6 106         FEMALE  0.20088050     0.016299367          0.029590249          \n",
       "  lof_summit_centered gof_mutation_centered\n",
       "1 0                   0                    \n",
       "2 0                   0                    \n",
       "3 0                   0                    \n",
       "4 1                   0                    \n",
       "5 0                   0                    \n",
       "6 0                   0                    "
      ]
     },
     "metadata": {},
     "output_type": "display_data"
    }
   ],
   "source": [
    "head(filtered_vafs)"
   ]
  },
  {
   "cell_type": "code",
   "execution_count": 4,
   "metadata": {},
   "outputs": [
    {
     "data": {
      "text/html": [
       "<style>\n",
       ".list-inline {list-style: none; margin:0; padding: 0}\n",
       ".list-inline>li {display: inline-block}\n",
       ".list-inline>li:not(:last-child)::after {content: \"\\00b7\"; padding: 0 .5ex}\n",
       "</style>\n",
       "<ol class=list-inline><li>'#'</li><li>'TCGA-BOX-ID'</li><li>'ROW'</li><li>'COLUMN'</li><li>'Biospecimen Barcode Side'</li><li>'Batch #'</li><li>'Disease Abbreviation'</li><li>'Tissue Type'</li><li>'Histology'</li><li>'Case_UUID'</li><li>'stanfordUUID'</li><li>'Chang-Box-ID'</li><li>'Batch'</li><li>'SampleID'</li><li>'UUID_SampleName Prefix'</li><li>'Remaining Nuclei Frozen'</li><li>'QC Pass/Fail'</li><li>'FractionMito'</li><li>'TSSscore'</li><li>'ESTIMATE_TumorPurity'</li><li>'ABSOLUTE_TumorPurity'</li><li>'LUMP_TumorPurity'</li><li>'IHC_TumorPurity'</li><li>'CPE_TumorPurity'</li><li>'methLeukFraction'</li><li>'BRCA_ConsensusCall?'</li><li>'For scATAC?'</li><li>'scATAC Batch'</li><li>'HiChIP_Performed'</li><li>'has_WGS'</li><li>'has_WXS'</li><li>'has_GenotypingArray'</li><li>'has_MethylationArray'</li><li>'has_Meth450K'</li><li>'has_Meth27K'</li><li>'has_miRNA-Seq'</li><li>'has_RNA-Seq'</li><li>'cohort'</li><li>'state'</li><li>'submitter_id'</li><li>'updated_datetime'</li><li>'KH_PAM50'</li><li>'KH_Confidence'</li><li>'BRCA_scmod2'</li><li>'BRCA_pam50'</li><li>'BRCA_ic10'</li><li>'BRCA_ic11'</li><li>'TCGA_ID'</li><li>'CNV_MYC'</li><li>'CNV_TERC'</li><li>'CNV_CCND1'</li><li>'CNV_EGFR'</li><li>'CNV_MDM2'</li><li>'CNV_ERBB2'</li><li>'CNV_CCNE1'</li><li>'CNV_ARID1A'</li><li>'CNV_TP53'</li><li>'CNV_CDKN2B'</li><li>'CNV_CDKN2A'</li><li>'ARID1A_WXS'</li><li>'ARID1A_WXS_highSum'</li><li>'ARID1A_WXS_lowSum'</li><li>'V63'</li></ol>\n"
      ],
      "text/latex": [
       "\\begin{enumerate*}\n",
       "\\item '\\#'\n",
       "\\item 'TCGA-BOX-ID'\n",
       "\\item 'ROW'\n",
       "\\item 'COLUMN'\n",
       "\\item 'Biospecimen Barcode Side'\n",
       "\\item 'Batch \\#'\n",
       "\\item 'Disease Abbreviation'\n",
       "\\item 'Tissue Type'\n",
       "\\item 'Histology'\n",
       "\\item 'Case\\_UUID'\n",
       "\\item 'stanfordUUID'\n",
       "\\item 'Chang-Box-ID'\n",
       "\\item 'Batch'\n",
       "\\item 'SampleID'\n",
       "\\item 'UUID\\_SampleName Prefix'\n",
       "\\item 'Remaining Nuclei Frozen'\n",
       "\\item 'QC Pass/Fail'\n",
       "\\item 'FractionMito'\n",
       "\\item 'TSSscore'\n",
       "\\item 'ESTIMATE\\_TumorPurity'\n",
       "\\item 'ABSOLUTE\\_TumorPurity'\n",
       "\\item 'LUMP\\_TumorPurity'\n",
       "\\item 'IHC\\_TumorPurity'\n",
       "\\item 'CPE\\_TumorPurity'\n",
       "\\item 'methLeukFraction'\n",
       "\\item 'BRCA\\_ConsensusCall?'\n",
       "\\item 'For scATAC?'\n",
       "\\item 'scATAC Batch'\n",
       "\\item 'HiChIP\\_Performed'\n",
       "\\item 'has\\_WGS'\n",
       "\\item 'has\\_WXS'\n",
       "\\item 'has\\_GenotypingArray'\n",
       "\\item 'has\\_MethylationArray'\n",
       "\\item 'has\\_Meth450K'\n",
       "\\item 'has\\_Meth27K'\n",
       "\\item 'has\\_miRNA-Seq'\n",
       "\\item 'has\\_RNA-Seq'\n",
       "\\item 'cohort'\n",
       "\\item 'state'\n",
       "\\item 'submitter\\_id'\n",
       "\\item 'updated\\_datetime'\n",
       "\\item 'KH\\_PAM50'\n",
       "\\item 'KH\\_Confidence'\n",
       "\\item 'BRCA\\_scmod2'\n",
       "\\item 'BRCA\\_pam50'\n",
       "\\item 'BRCA\\_ic10'\n",
       "\\item 'BRCA\\_ic11'\n",
       "\\item 'TCGA\\_ID'\n",
       "\\item 'CNV\\_MYC'\n",
       "\\item 'CNV\\_TERC'\n",
       "\\item 'CNV\\_CCND1'\n",
       "\\item 'CNV\\_EGFR'\n",
       "\\item 'CNV\\_MDM2'\n",
       "\\item 'CNV\\_ERBB2'\n",
       "\\item 'CNV\\_CCNE1'\n",
       "\\item 'CNV\\_ARID1A'\n",
       "\\item 'CNV\\_TP53'\n",
       "\\item 'CNV\\_CDKN2B'\n",
       "\\item 'CNV\\_CDKN2A'\n",
       "\\item 'ARID1A\\_WXS'\n",
       "\\item 'ARID1A\\_WXS\\_highSum'\n",
       "\\item 'ARID1A\\_WXS\\_lowSum'\n",
       "\\item 'V63'\n",
       "\\end{enumerate*}\n"
      ],
      "text/markdown": [
       "1. '#'\n",
       "2. 'TCGA-BOX-ID'\n",
       "3. 'ROW'\n",
       "4. 'COLUMN'\n",
       "5. 'Biospecimen Barcode Side'\n",
       "6. 'Batch #'\n",
       "7. 'Disease Abbreviation'\n",
       "8. 'Tissue Type'\n",
       "9. 'Histology'\n",
       "10. 'Case_UUID'\n",
       "11. 'stanfordUUID'\n",
       "12. 'Chang-Box-ID'\n",
       "13. 'Batch'\n",
       "14. 'SampleID'\n",
       "15. 'UUID_SampleName Prefix'\n",
       "16. 'Remaining Nuclei Frozen'\n",
       "17. 'QC Pass/Fail'\n",
       "18. 'FractionMito'\n",
       "19. 'TSSscore'\n",
       "20. 'ESTIMATE_TumorPurity'\n",
       "21. 'ABSOLUTE_TumorPurity'\n",
       "22. 'LUMP_TumorPurity'\n",
       "23. 'IHC_TumorPurity'\n",
       "24. 'CPE_TumorPurity'\n",
       "25. 'methLeukFraction'\n",
       "26. 'BRCA_ConsensusCall?'\n",
       "27. 'For scATAC?'\n",
       "28. 'scATAC Batch'\n",
       "29. 'HiChIP_Performed'\n",
       "30. 'has_WGS'\n",
       "31. 'has_WXS'\n",
       "32. 'has_GenotypingArray'\n",
       "33. 'has_MethylationArray'\n",
       "34. 'has_Meth450K'\n",
       "35. 'has_Meth27K'\n",
       "36. 'has_miRNA-Seq'\n",
       "37. 'has_RNA-Seq'\n",
       "38. 'cohort'\n",
       "39. 'state'\n",
       "40. 'submitter_id'\n",
       "41. 'updated_datetime'\n",
       "42. 'KH_PAM50'\n",
       "43. 'KH_Confidence'\n",
       "44. 'BRCA_scmod2'\n",
       "45. 'BRCA_pam50'\n",
       "46. 'BRCA_ic10'\n",
       "47. 'BRCA_ic11'\n",
       "48. 'TCGA_ID'\n",
       "49. 'CNV_MYC'\n",
       "50. 'CNV_TERC'\n",
       "51. 'CNV_CCND1'\n",
       "52. 'CNV_EGFR'\n",
       "53. 'CNV_MDM2'\n",
       "54. 'CNV_ERBB2'\n",
       "55. 'CNV_CCNE1'\n",
       "56. 'CNV_ARID1A'\n",
       "57. 'CNV_TP53'\n",
       "58. 'CNV_CDKN2B'\n",
       "59. 'CNV_CDKN2A'\n",
       "60. 'ARID1A_WXS'\n",
       "61. 'ARID1A_WXS_highSum'\n",
       "62. 'ARID1A_WXS_lowSum'\n",
       "63. 'V63'\n",
       "\n",
       "\n"
      ],
      "text/plain": [
       " [1] \"#\"                        \"TCGA-BOX-ID\"             \n",
       " [3] \"ROW\"                      \"COLUMN\"                  \n",
       " [5] \"Biospecimen Barcode Side\" \"Batch #\"                 \n",
       " [7] \"Disease Abbreviation\"     \"Tissue Type\"             \n",
       " [9] \"Histology\"                \"Case_UUID\"               \n",
       "[11] \"stanfordUUID\"             \"Chang-Box-ID\"            \n",
       "[13] \"Batch\"                    \"SampleID\"                \n",
       "[15] \"UUID_SampleName Prefix\"   \"Remaining Nuclei Frozen\" \n",
       "[17] \"QC Pass/Fail\"             \"FractionMito\"            \n",
       "[19] \"TSSscore\"                 \"ESTIMATE_TumorPurity\"    \n",
       "[21] \"ABSOLUTE_TumorPurity\"     \"LUMP_TumorPurity\"        \n",
       "[23] \"IHC_TumorPurity\"          \"CPE_TumorPurity\"         \n",
       "[25] \"methLeukFraction\"         \"BRCA_ConsensusCall?\"     \n",
       "[27] \"For scATAC?\"              \"scATAC Batch\"            \n",
       "[29] \"HiChIP_Performed\"         \"has_WGS\"                 \n",
       "[31] \"has_WXS\"                  \"has_GenotypingArray\"     \n",
       "[33] \"has_MethylationArray\"     \"has_Meth450K\"            \n",
       "[35] \"has_Meth27K\"              \"has_miRNA-Seq\"           \n",
       "[37] \"has_RNA-Seq\"              \"cohort\"                  \n",
       "[39] \"state\"                    \"submitter_id\"            \n",
       "[41] \"updated_datetime\"         \"KH_PAM50\"                \n",
       "[43] \"KH_Confidence\"            \"BRCA_scmod2\"             \n",
       "[45] \"BRCA_pam50\"               \"BRCA_ic10\"               \n",
       "[47] \"BRCA_ic11\"                \"TCGA_ID\"                 \n",
       "[49] \"CNV_MYC\"                  \"CNV_TERC\"                \n",
       "[51] \"CNV_CCND1\"                \"CNV_EGFR\"                \n",
       "[53] \"CNV_MDM2\"                 \"CNV_ERBB2\"               \n",
       "[55] \"CNV_CCNE1\"                \"CNV_ARID1A\"              \n",
       "[57] \"CNV_TP53\"                 \"CNV_CDKN2B\"              \n",
       "[59] \"CNV_CDKN2A\"               \"ARID1A_WXS\"              \n",
       "[61] \"ARID1A_WXS_highSum\"       \"ARID1A_WXS_lowSum\"       \n",
       "[63] \"V63\"                     "
      ]
     },
     "metadata": {},
     "output_type": "display_data"
    }
   ],
   "source": [
    "colnames(sample_key)"
   ]
  },
  {
   "cell_type": "code",
   "execution_count": 7,
   "metadata": {},
   "outputs": [],
   "source": [
    "sample_key$in_scATAC <- sapply(sample_key[,'For scATAC?'][[1]], function(x) grepl(\"yes\", tolower(x)))"
   ]
  },
  {
   "cell_type": "code",
   "execution_count": 7,
   "metadata": {},
   "outputs": [
    {
     "data": {
      "text/plain": [
       "\n",
       "FALSE  TRUE \n",
       "  352    72 "
      ]
     },
     "metadata": {},
     "output_type": "display_data"
    }
   ],
   "source": [
    "table(sample_key$in_scATAC)"
   ]
  },
  {
   "cell_type": "code",
   "execution_count": 11,
   "metadata": {},
   "outputs": [],
   "source": [
    "filtered_vafs[,in_scATAC:=(case_id %in% sample_key[in_scATAC == TRUE,]$submitter_id)]"
   ]
  },
  {
   "cell_type": "code",
   "execution_count": 12,
   "metadata": {},
   "outputs": [],
   "source": [
    "filtered_vafs[in_scATAC==TRUE,vaf_difference:=NA]"
   ]
  },
  {
   "cell_type": "code",
   "execution_count": 13,
   "metadata": {},
   "outputs": [
    {
     "data": {
      "text/html": [
       "<table class=\"dataframe\">\n",
       "<caption>A data.table: 6 × 22</caption>\n",
       "<thead>\n",
       "\t<tr><th scope=col>idx</th><th scope=col>acronym</th><th scope=col>case_id</th><th scope=col>region</th><th scope=col>ref</th><th scope=col>alt</th><th scope=col>atac_vaf</th><th scope=col>atac_dp</th><th scope=col>chrom</th><th scope=col>pos</th><th scope=col>⋯</th><th scope=col>ref_count</th><th scope=col>alt_count</th><th scope=col>total_count</th><th scope=col>gender</th><th scope=col>vaf_difference</th><th scope=col>diff_summit_centered</th><th scope=col>diff_mutation_centered</th><th scope=col>lof_summit_centered</th><th scope=col>gof_mutation_centered</th><th scope=col>in_scATAC</th></tr>\n",
       "\t<tr><th scope=col>&lt;chr&gt;</th><th scope=col>&lt;chr&gt;</th><th scope=col>&lt;chr&gt;</th><th scope=col>&lt;chr&gt;</th><th scope=col>&lt;chr&gt;</th><th scope=col>&lt;chr&gt;</th><th scope=col>&lt;dbl&gt;</th><th scope=col>&lt;int&gt;</th><th scope=col>&lt;chr&gt;</th><th scope=col>&lt;int&gt;</th><th scope=col>⋯</th><th scope=col>&lt;int&gt;</th><th scope=col>&lt;int&gt;</th><th scope=col>&lt;int&gt;</th><th scope=col>&lt;chr&gt;</th><th scope=col>&lt;dbl&gt;</th><th scope=col>&lt;dbl&gt;</th><th scope=col>&lt;dbl&gt;</th><th scope=col>&lt;int&gt;</th><th scope=col>&lt;int&gt;</th><th scope=col>&lt;lgl&gt;</th></tr>\n",
       "</thead>\n",
       "<tbody>\n",
       "\t<tr><td>chr10_100186039_C_T</td><td>BRCA</td><td>TCGA-BH-A0HP</td><td>chr10:100186039-100186039</td><td>C</td><td>T</td><td>0.0000000</td><td>151</td><td>chr10</td><td>100186039</td><td>⋯</td><td>109</td><td>12</td><td>121</td><td>FEMALE</td><td>-0.09917355</td><td> 0.032485664</td><td> 0.051526308</td><td>0</td><td>0</td><td>FALSE</td></tr>\n",
       "\t<tr><td>chr10_100186243_G_C</td><td>BRCA</td><td>TCGA-C8-A12T</td><td>chr10:100186243-100186243</td><td>G</td><td>C</td><td>0.0000000</td><td>218</td><td>chr10</td><td>100186243</td><td>⋯</td><td>103</td><td>17</td><td>120</td><td>FEMALE</td><td>-0.14166667</td><td>-0.003796756</td><td>-0.003147066</td><td>0</td><td>0</td><td>FALSE</td></tr>\n",
       "\t<tr><td>chr10_100229245_C_A</td><td>BLCA</td><td>TCGA-BL-A13J</td><td>chr10:100229245-100229245</td><td>C</td><td>A</td><td>0.3442623</td><td> 61</td><td>chr10</td><td>100229245</td><td>⋯</td><td> 51</td><td>18</td><td> 69</td><td>MALE  </td><td>         NA</td><td>-0.002357304</td><td> 0.004987359</td><td>0</td><td>0</td><td> TRUE</td></tr>\n",
       "\t<tr><td>chr10_100229638_C_G</td><td>BLCA</td><td>TCGA-BL-A13J</td><td>chr10:100229638-100229638</td><td>C</td><td>G</td><td>0.3271028</td><td>107</td><td>chr10</td><td>100229638</td><td>⋯</td><td> 69</td><td>14</td><td> 83</td><td>MALE  </td><td>         NA</td><td> 0.146393000</td><td> 0.117428064</td><td>1</td><td>0</td><td> TRUE</td></tr>\n",
       "\t<tr><td>chr10_100267579_C_A</td><td>LUAD</td><td>TCGA-73-A9RS</td><td>chr10:100267579-100267579</td><td>C</td><td>A</td><td>0.5000000</td><td> 52</td><td>chr10</td><td>100267579</td><td>⋯</td><td> 57</td><td>31</td><td> 88</td><td>MALE  </td><td>         NA</td><td> 0.010443866</td><td> 0.021115422</td><td>0</td><td>0</td><td> TRUE</td></tr>\n",
       "\t<tr><td>chr10_100267656_G_A</td><td>BRCA</td><td>TCGA-AO-A0JG</td><td>chr10:100267656-100267656</td><td>G</td><td>A</td><td>0.4933333</td><td> 75</td><td>chr10</td><td>100267656</td><td>⋯</td><td> 75</td><td>31</td><td>106</td><td>FEMALE</td><td> 0.20088050</td><td> 0.016299367</td><td> 0.029590249</td><td>0</td><td>0</td><td>FALSE</td></tr>\n",
       "</tbody>\n",
       "</table>\n"
      ],
      "text/latex": [
       "A data.table: 6 × 22\n",
       "\\begin{tabular}{lllllllllllllllllllll}\n",
       " idx & acronym & case\\_id & region & ref & alt & atac\\_vaf & atac\\_dp & chrom & pos & ⋯ & ref\\_count & alt\\_count & total\\_count & gender & vaf\\_difference & diff\\_summit\\_centered & diff\\_mutation\\_centered & lof\\_summit\\_centered & gof\\_mutation\\_centered & in\\_scATAC\\\\\n",
       " <chr> & <chr> & <chr> & <chr> & <chr> & <chr> & <dbl> & <int> & <chr> & <int> & ⋯ & <int> & <int> & <int> & <chr> & <dbl> & <dbl> & <dbl> & <int> & <int> & <lgl>\\\\\n",
       "\\hline\n",
       "\t chr10\\_100186039\\_C\\_T & BRCA & TCGA-BH-A0HP & chr10:100186039-100186039 & C & T & 0.0000000 & 151 & chr10 & 100186039 & ⋯ & 109 & 12 & 121 & FEMALE & -0.09917355 &  0.032485664 &  0.051526308 & 0 & 0 & FALSE\\\\\n",
       "\t chr10\\_100186243\\_G\\_C & BRCA & TCGA-C8-A12T & chr10:100186243-100186243 & G & C & 0.0000000 & 218 & chr10 & 100186243 & ⋯ & 103 & 17 & 120 & FEMALE & -0.14166667 & -0.003796756 & -0.003147066 & 0 & 0 & FALSE\\\\\n",
       "\t chr10\\_100229245\\_C\\_A & BLCA & TCGA-BL-A13J & chr10:100229245-100229245 & C & A & 0.3442623 &  61 & chr10 & 100229245 & ⋯ &  51 & 18 &  69 & MALE   &          NA & -0.002357304 &  0.004987359 & 0 & 0 &  TRUE\\\\\n",
       "\t chr10\\_100229638\\_C\\_G & BLCA & TCGA-BL-A13J & chr10:100229638-100229638 & C & G & 0.3271028 & 107 & chr10 & 100229638 & ⋯ &  69 & 14 &  83 & MALE   &          NA &  0.146393000 &  0.117428064 & 1 & 0 &  TRUE\\\\\n",
       "\t chr10\\_100267579\\_C\\_A & LUAD & TCGA-73-A9RS & chr10:100267579-100267579 & C & A & 0.5000000 &  52 & chr10 & 100267579 & ⋯ &  57 & 31 &  88 & MALE   &          NA &  0.010443866 &  0.021115422 & 0 & 0 &  TRUE\\\\\n",
       "\t chr10\\_100267656\\_G\\_A & BRCA & TCGA-AO-A0JG & chr10:100267656-100267656 & G & A & 0.4933333 &  75 & chr10 & 100267656 & ⋯ &  75 & 31 & 106 & FEMALE &  0.20088050 &  0.016299367 &  0.029590249 & 0 & 0 & FALSE\\\\\n",
       "\\end{tabular}\n"
      ],
      "text/markdown": [
       "\n",
       "A data.table: 6 × 22\n",
       "\n",
       "| idx &lt;chr&gt; | acronym &lt;chr&gt; | case_id &lt;chr&gt; | region &lt;chr&gt; | ref &lt;chr&gt; | alt &lt;chr&gt; | atac_vaf &lt;dbl&gt; | atac_dp &lt;int&gt; | chrom &lt;chr&gt; | pos &lt;int&gt; | ⋯ ⋯ | ref_count &lt;int&gt; | alt_count &lt;int&gt; | total_count &lt;int&gt; | gender &lt;chr&gt; | vaf_difference &lt;dbl&gt; | diff_summit_centered &lt;dbl&gt; | diff_mutation_centered &lt;dbl&gt; | lof_summit_centered &lt;int&gt; | gof_mutation_centered &lt;int&gt; | in_scATAC &lt;lgl&gt; |\n",
       "|---|---|---|---|---|---|---|---|---|---|---|---|---|---|---|---|---|---|---|---|---|\n",
       "| chr10_100186039_C_T | BRCA | TCGA-BH-A0HP | chr10:100186039-100186039 | C | T | 0.0000000 | 151 | chr10 | 100186039 | ⋯ | 109 | 12 | 121 | FEMALE | -0.09917355 |  0.032485664 |  0.051526308 | 0 | 0 | FALSE |\n",
       "| chr10_100186243_G_C | BRCA | TCGA-C8-A12T | chr10:100186243-100186243 | G | C | 0.0000000 | 218 | chr10 | 100186243 | ⋯ | 103 | 17 | 120 | FEMALE | -0.14166667 | -0.003796756 | -0.003147066 | 0 | 0 | FALSE |\n",
       "| chr10_100229245_C_A | BLCA | TCGA-BL-A13J | chr10:100229245-100229245 | C | A | 0.3442623 |  61 | chr10 | 100229245 | ⋯ |  51 | 18 |  69 | MALE   |          NA | -0.002357304 |  0.004987359 | 0 | 0 |  TRUE |\n",
       "| chr10_100229638_C_G | BLCA | TCGA-BL-A13J | chr10:100229638-100229638 | C | G | 0.3271028 | 107 | chr10 | 100229638 | ⋯ |  69 | 14 |  83 | MALE   |          NA |  0.146393000 |  0.117428064 | 1 | 0 |  TRUE |\n",
       "| chr10_100267579_C_A | LUAD | TCGA-73-A9RS | chr10:100267579-100267579 | C | A | 0.5000000 |  52 | chr10 | 100267579 | ⋯ |  57 | 31 |  88 | MALE   |          NA |  0.010443866 |  0.021115422 | 0 | 0 |  TRUE |\n",
       "| chr10_100267656_G_A | BRCA | TCGA-AO-A0JG | chr10:100267656-100267656 | G | A | 0.4933333 |  75 | chr10 | 100267656 | ⋯ |  75 | 31 | 106 | FEMALE |  0.20088050 |  0.016299367 |  0.029590249 | 0 | 0 | FALSE |\n",
       "\n"
      ],
      "text/plain": [
       "  idx                 acronym case_id      region                    ref alt\n",
       "1 chr10_100186039_C_T BRCA    TCGA-BH-A0HP chr10:100186039-100186039 C   T  \n",
       "2 chr10_100186243_G_C BRCA    TCGA-C8-A12T chr10:100186243-100186243 G   C  \n",
       "3 chr10_100229245_C_A BLCA    TCGA-BL-A13J chr10:100229245-100229245 C   A  \n",
       "4 chr10_100229638_C_G BLCA    TCGA-BL-A13J chr10:100229638-100229638 C   G  \n",
       "5 chr10_100267579_C_A LUAD    TCGA-73-A9RS chr10:100267579-100267579 C   A  \n",
       "6 chr10_100267656_G_A BRCA    TCGA-AO-A0JG chr10:100267656-100267656 G   A  \n",
       "  atac_vaf  atac_dp chrom pos       ⋯ ref_count alt_count total_count gender\n",
       "1 0.0000000 151     chr10 100186039 ⋯ 109       12        121         FEMALE\n",
       "2 0.0000000 218     chr10 100186243 ⋯ 103       17        120         FEMALE\n",
       "3 0.3442623  61     chr10 100229245 ⋯  51       18         69         MALE  \n",
       "4 0.3271028 107     chr10 100229638 ⋯  69       14         83         MALE  \n",
       "5 0.5000000  52     chr10 100267579 ⋯  57       31         88         MALE  \n",
       "6 0.4933333  75     chr10 100267656 ⋯  75       31        106         FEMALE\n",
       "  vaf_difference diff_summit_centered diff_mutation_centered\n",
       "1 -0.09917355     0.032485664          0.051526308          \n",
       "2 -0.14166667    -0.003796756         -0.003147066          \n",
       "3          NA    -0.002357304          0.004987359          \n",
       "4          NA     0.146393000          0.117428064          \n",
       "5          NA     0.010443866          0.021115422          \n",
       "6  0.20088050     0.016299367          0.029590249          \n",
       "  lof_summit_centered gof_mutation_centered in_scATAC\n",
       "1 0                   0                     FALSE    \n",
       "2 0                   0                     FALSE    \n",
       "3 0                   0                      TRUE    \n",
       "4 1                   0                      TRUE    \n",
       "5 0                   0                      TRUE    \n",
       "6 0                   0                     FALSE    "
      ]
     },
     "metadata": {},
     "output_type": "display_data"
    }
   ],
   "source": [
    "head(filtered_vafs)"
   ]
  },
  {
   "cell_type": "code",
   "execution_count": 8,
   "metadata": {},
   "outputs": [
    {
     "data": {
      "text/html": [
       "<table class=\"dataframe\">\n",
       "<caption>A data.table: 2 × 2</caption>\n",
       "<thead>\n",
       "\t<tr><th scope=col>lof_summit_centered</th><th scope=col>N</th></tr>\n",
       "\t<tr><th scope=col>&lt;int&gt;</th><th scope=col>&lt;int&gt;</th></tr>\n",
       "</thead>\n",
       "<tbody>\n",
       "\t<tr><td>0</td><td>5248</td></tr>\n",
       "\t<tr><td>1</td><td> 114</td></tr>\n",
       "</tbody>\n",
       "</table>\n"
      ],
      "text/latex": [
       "A data.table: 2 × 2\n",
       "\\begin{tabular}{ll}\n",
       " lof\\_summit\\_centered & N\\\\\n",
       " <int> & <int>\\\\\n",
       "\\hline\n",
       "\t 0 & 5248\\\\\n",
       "\t 1 &  114\\\\\n",
       "\\end{tabular}\n"
      ],
      "text/markdown": [
       "\n",
       "A data.table: 2 × 2\n",
       "\n",
       "| lof_summit_centered &lt;int&gt; | N &lt;int&gt; |\n",
       "|---|---|\n",
       "| 0 | 5248 |\n",
       "| 1 |  114 |\n",
       "\n"
      ],
      "text/plain": [
       "  lof_summit_centered N   \n",
       "1 0                   5248\n",
       "2 1                    114"
      ]
     },
     "metadata": {},
     "output_type": "display_data"
    },
    {
     "data": {
      "image/png": "[encoded data removed]",
      "text/plain": [
       "plot without title"
      ]
     },
     "metadata": {
      "image/png": {
       "height": 420,
       "width": 420
      }
     },
     "output_type": "display_data"
    }
   ],
   "source": [
    "filtered_vafs[!(case_id %in% sample_key[in_scATAC == TRUE,]$submitter_id),][,.N, by=lof_summit_centered]\n",
    "ggplot(filtered_vafs[!(case_id %in% sample_key[in_scATAC == TRUE,]$submitter_id),], aes(x=vaf_difference, color=as.factor(lof_summit_centered))) + geom_density(aes(y=..scaled..), alpha=.1) + xlab(\"ATAC VAF - WGS VAF\")"
   ]
  },
  {
   "cell_type": "code",
   "execution_count": 11,
   "metadata": {},
   "outputs": [
    {
     "data": {
      "text/plain": [
       "\n",
       "\tWelch Two Sample t-test\n",
       "\n",
       "data:  filtered_vafs[!(case_id %in% sample_key[in_scATAC == TRUE, ]$submitter_id), ][lof_summit_centered == 1, ]$vaf_difference and filtered_vafs[!(case_id %in% sample_key[in_scATAC == TRUE, ]$submitter_id), ][lof_summit_centered == 0, ]$vaf_difference\n",
       "t = -6.513, df = 118.07, p-value = 1.882e-09\n",
       "alternative hypothesis: true difference in means is not equal to 0\n",
       "95 percent confidence interval:\n",
       " -0.13136688 -0.07010908\n",
       "sample estimates:\n",
       "  mean of x   mean of y \n",
       "-0.07251974  0.02821824 \n"
      ]
     },
     "metadata": {},
     "output_type": "display_data"
    },
    {
     "data": {
      "text/plain": [
       "\n",
       "\tWilcoxon rank sum test with continuity correction\n",
       "\n",
       "data:  filtered_vafs[!(case_id %in% sample_key[in_scATAC == TRUE, ]$submitter_id), ][lof_summit_centered == 1, ]$vaf_difference and filtered_vafs[!(case_id %in% sample_key[in_scATAC == TRUE, ]$submitter_id), ][lof_summit_centered == 0, ]$vaf_difference\n",
       "W = 205745, p-value = 1.121e-08\n",
       "alternative hypothesis: true location shift is not equal to 0\n"
      ]
     },
     "metadata": {},
     "output_type": "display_data"
    }
   ],
   "source": [
    "t.test(filtered_vafs[!(case_id %in% sample_key[in_scATAC == TRUE,]$submitter_id),][lof_summit_centered == 1,]$vaf_difference, filtered_vafs[!(case_id %in% sample_key[in_scATAC == TRUE,]$submitter_id),][lof_summit_centered == 0,]$vaf_difference)\n",
    "wilcox.test(filtered_vafs[!(case_id %in% sample_key[in_scATAC == TRUE,]$submitter_id),][lof_summit_centered == 1,]$vaf_difference, filtered_vafs[!(case_id %in% sample_key[in_scATAC == TRUE,]$submitter_id),][lof_summit_centered == 0,]$vaf_difference)"
   ]
  },
  {
   "cell_type": "code",
   "execution_count": 12,
   "metadata": {},
   "outputs": [
    {
     "data": {
      "text/html": [
       "<table class=\"dataframe\">\n",
       "<caption>A data.table: 2 × 2</caption>\n",
       "<thead>\n",
       "\t<tr><th scope=col>gof_mutation_centered</th><th scope=col>N</th></tr>\n",
       "\t<tr><th scope=col>&lt;int&gt;</th><th scope=col>&lt;int&gt;</th></tr>\n",
       "</thead>\n",
       "<tbody>\n",
       "\t<tr><td>0</td><td>5284</td></tr>\n",
       "\t<tr><td>1</td><td>  78</td></tr>\n",
       "</tbody>\n",
       "</table>\n"
      ],
      "text/latex": [
       "A data.table: 2 × 2\n",
       "\\begin{tabular}{ll}\n",
       " gof\\_mutation\\_centered & N\\\\\n",
       " <int> & <int>\\\\\n",
       "\\hline\n",
       "\t 0 & 5284\\\\\n",
       "\t 1 &   78\\\\\n",
       "\\end{tabular}\n"
      ],
      "text/markdown": [
       "\n",
       "A data.table: 2 × 2\n",
       "\n",
       "| gof_mutation_centered &lt;int&gt; | N &lt;int&gt; |\n",
       "|---|---|\n",
       "| 0 | 5284 |\n",
       "| 1 |   78 |\n",
       "\n"
      ],
      "text/plain": [
       "  gof_mutation_centered N   \n",
       "1 0                     5284\n",
       "2 1                       78"
      ]
     },
     "metadata": {},
     "output_type": "display_data"
    },
    {
     "data": {
      "image/png": "[encoded data removed]",
      "text/plain": [
       "plot without title"
      ]
     },
     "metadata": {
      "image/png": {
       "height": 420,
       "width": 420
      }
     },
     "output_type": "display_data"
    }
   ],
   "source": [
    "filtered_vafs[!(case_id %in% sample_key[in_scATAC == TRUE,]$submitter_id),][,.N, by=gof_mutation_centered]\n",
    "ggplot(filtered_vafs[!(case_id %in% sample_key[in_scATAC == TRUE,]$submitter_id),], aes(x=vaf_difference, color=as.factor(gof_mutation_centered))) + geom_density(aes(y=..scaled..), alpha=.1) + xlab(\"ATAC VAF - WGS VAF\")"
   ]
  },
  {
   "cell_type": "code",
   "execution_count": 13,
   "metadata": {},
   "outputs": [
    {
     "data": {
      "text/plain": [
       "\n",
       "\tWelch Two Sample t-test\n",
       "\n",
       "data:  filtered_vafs[!(case_id %in% sample_key[in_scATAC == TRUE, ]$submitter_id), ][gof_mutation_centered == 1, ]$vaf_difference and filtered_vafs[!(case_id %in% sample_key[in_scATAC == TRUE, ]$submitter_id), ][gof_mutation_centered == 0, ]$vaf_difference\n",
       "t = 2.7138, df = 78.493, p-value = 0.008173\n",
       "alternative hypothesis: true difference in means is not equal to 0\n",
       "95 percent confidence interval:\n",
       " 0.01678413 0.10918629\n",
       "sample estimates:\n",
       " mean of x  mean of y \n",
       "0.08814545 0.02516025 \n"
      ]
     },
     "metadata": {},
     "output_type": "display_data"
    },
    {
     "data": {
      "text/plain": [
       "\n",
       "\tWilcoxon rank sum test with continuity correction\n",
       "\n",
       "data:  filtered_vafs[!(case_id %in% sample_key[in_scATAC == TRUE, ]$submitter_id), ][gof_mutation_centered == 1, ]$vaf_difference and filtered_vafs[!(case_id %in% sample_key[in_scATAC == TRUE, ]$submitter_id), ][gof_mutation_centered == 0, ]$vaf_difference\n",
       "W = 246937, p-value = 0.002607\n",
       "alternative hypothesis: true location shift is not equal to 0\n"
      ]
     },
     "metadata": {},
     "output_type": "display_data"
    }
   ],
   "source": [
    "t.test(filtered_vafs[!(case_id %in% sample_key[in_scATAC == TRUE,]$submitter_id),][gof_mutation_centered == 1,]$vaf_difference, filtered_vafs[!(case_id %in% sample_key[in_scATAC == TRUE,]$submitter_id),][gof_mutation_centered == 0,]$vaf_difference)\n",
    "wilcox.test(filtered_vafs[!(case_id %in% sample_key[in_scATAC == TRUE,]$submitter_id),][gof_mutation_centered == 1,]$vaf_difference, filtered_vafs[!(case_id %in% sample_key[in_scATAC == TRUE,]$submitter_id),][gof_mutation_centered == 0,]$vaf_difference)"
   ]
  },
  {
   "cell_type": "code",
   "execution_count": 14,
   "metadata": {},
   "outputs": [],
   "source": [
    "scATAC_vafs <- fread(\"/illumina/scratch/deep_learning/asalcedo/scATAC/scATAC_vafs/TCGA_scATAC_AI_variants.txt\")"
   ]
  },
  {
   "cell_type": "code",
   "execution_count": 16,
   "metadata": {},
   "outputs": [
    {
     "data": {
      "text/html": [
       "<table class=\"dataframe\">\n",
       "<caption>A data.table: 3 × 22</caption>\n",
       "<thead>\n",
       "\t<tr><th scope=col>idx</th><th scope=col>acronym</th><th scope=col>case_id</th><th scope=col>region</th><th scope=col>ref</th><th scope=col>alt</th><th scope=col>atac_vaf</th><th scope=col>atac_dp</th><th scope=col>chrom</th><th scope=col>pos</th><th scope=col>⋯</th><th scope=col>ref_count</th><th scope=col>alt_count</th><th scope=col>total_count</th><th scope=col>gender</th><th scope=col>vaf_difference</th><th scope=col>diff_summit_centered</th><th scope=col>diff_mutation_centered</th><th scope=col>lof_summit_centered</th><th scope=col>gof_mutation_centered</th><th scope=col>in_scATAC</th></tr>\n",
       "\t<tr><th scope=col>&lt;chr&gt;</th><th scope=col>&lt;chr&gt;</th><th scope=col>&lt;chr&gt;</th><th scope=col>&lt;chr&gt;</th><th scope=col>&lt;chr&gt;</th><th scope=col>&lt;chr&gt;</th><th scope=col>&lt;dbl&gt;</th><th scope=col>&lt;int&gt;</th><th scope=col>&lt;chr&gt;</th><th scope=col>&lt;int&gt;</th><th scope=col>⋯</th><th scope=col>&lt;int&gt;</th><th scope=col>&lt;int&gt;</th><th scope=col>&lt;int&gt;</th><th scope=col>&lt;chr&gt;</th><th scope=col>&lt;dbl&gt;</th><th scope=col>&lt;dbl&gt;</th><th scope=col>&lt;dbl&gt;</th><th scope=col>&lt;int&gt;</th><th scope=col>&lt;int&gt;</th><th scope=col>&lt;lgl&gt;</th></tr>\n",
       "</thead>\n",
       "<tbody>\n",
       "\t<tr><td>chr10_100186039_C_T</td><td>BRCA</td><td>TCGA-BH-A0HP</td><td>chr10:100186039-100186039</td><td>C</td><td>T</td><td>0.0000000</td><td>151</td><td>chr10</td><td>100186039</td><td>⋯</td><td>109</td><td>12</td><td>121</td><td>FEMALE</td><td>-0.09917355</td><td> 0.032485664</td><td> 0.051526308</td><td>0</td><td>0</td><td>FALSE</td></tr>\n",
       "\t<tr><td>chr10_100186243_G_C</td><td>BRCA</td><td>TCGA-C8-A12T</td><td>chr10:100186243-100186243</td><td>G</td><td>C</td><td>0.0000000</td><td>218</td><td>chr10</td><td>100186243</td><td>⋯</td><td>103</td><td>17</td><td>120</td><td>FEMALE</td><td>-0.14166667</td><td>-0.003796756</td><td>-0.003147066</td><td>0</td><td>0</td><td>FALSE</td></tr>\n",
       "\t<tr><td>chr10_100229245_C_A</td><td>BLCA</td><td>TCGA-BL-A13J</td><td>chr10:100229245-100229245</td><td>C</td><td>A</td><td>0.3442623</td><td> 61</td><td>chr10</td><td>100229245</td><td>⋯</td><td> 51</td><td>18</td><td> 69</td><td>MALE  </td><td>         NA</td><td>-0.002357304</td><td> 0.004987359</td><td>0</td><td>0</td><td> TRUE</td></tr>\n",
       "</tbody>\n",
       "</table>\n"
      ],
      "text/latex": [
       "A data.table: 3 × 22\n",
       "\\begin{tabular}{lllllllllllllllllllll}\n",
       " idx & acronym & case\\_id & region & ref & alt & atac\\_vaf & atac\\_dp & chrom & pos & ⋯ & ref\\_count & alt\\_count & total\\_count & gender & vaf\\_difference & diff\\_summit\\_centered & diff\\_mutation\\_centered & lof\\_summit\\_centered & gof\\_mutation\\_centered & in\\_scATAC\\\\\n",
       " <chr> & <chr> & <chr> & <chr> & <chr> & <chr> & <dbl> & <int> & <chr> & <int> & ⋯ & <int> & <int> & <int> & <chr> & <dbl> & <dbl> & <dbl> & <int> & <int> & <lgl>\\\\\n",
       "\\hline\n",
       "\t chr10\\_100186039\\_C\\_T & BRCA & TCGA-BH-A0HP & chr10:100186039-100186039 & C & T & 0.0000000 & 151 & chr10 & 100186039 & ⋯ & 109 & 12 & 121 & FEMALE & -0.09917355 &  0.032485664 &  0.051526308 & 0 & 0 & FALSE\\\\\n",
       "\t chr10\\_100186243\\_G\\_C & BRCA & TCGA-C8-A12T & chr10:100186243-100186243 & G & C & 0.0000000 & 218 & chr10 & 100186243 & ⋯ & 103 & 17 & 120 & FEMALE & -0.14166667 & -0.003796756 & -0.003147066 & 0 & 0 & FALSE\\\\\n",
       "\t chr10\\_100229245\\_C\\_A & BLCA & TCGA-BL-A13J & chr10:100229245-100229245 & C & A & 0.3442623 &  61 & chr10 & 100229245 & ⋯ &  51 & 18 &  69 & MALE   &          NA & -0.002357304 &  0.004987359 & 0 & 0 &  TRUE\\\\\n",
       "\\end{tabular}\n"
      ],
      "text/markdown": [
       "\n",
       "A data.table: 3 × 22\n",
       "\n",
       "| idx &lt;chr&gt; | acronym &lt;chr&gt; | case_id &lt;chr&gt; | region &lt;chr&gt; | ref &lt;chr&gt; | alt &lt;chr&gt; | atac_vaf &lt;dbl&gt; | atac_dp &lt;int&gt; | chrom &lt;chr&gt; | pos &lt;int&gt; | ⋯ ⋯ | ref_count &lt;int&gt; | alt_count &lt;int&gt; | total_count &lt;int&gt; | gender &lt;chr&gt; | vaf_difference &lt;dbl&gt; | diff_summit_centered &lt;dbl&gt; | diff_mutation_centered &lt;dbl&gt; | lof_summit_centered &lt;int&gt; | gof_mutation_centered &lt;int&gt; | in_scATAC &lt;lgl&gt; |\n",
       "|---|---|---|---|---|---|---|---|---|---|---|---|---|---|---|---|---|---|---|---|---|\n",
       "| chr10_100186039_C_T | BRCA | TCGA-BH-A0HP | chr10:100186039-100186039 | C | T | 0.0000000 | 151 | chr10 | 100186039 | ⋯ | 109 | 12 | 121 | FEMALE | -0.09917355 |  0.032485664 |  0.051526308 | 0 | 0 | FALSE |\n",
       "| chr10_100186243_G_C | BRCA | TCGA-C8-A12T | chr10:100186243-100186243 | G | C | 0.0000000 | 218 | chr10 | 100186243 | ⋯ | 103 | 17 | 120 | FEMALE | -0.14166667 | -0.003796756 | -0.003147066 | 0 | 0 | FALSE |\n",
       "| chr10_100229245_C_A | BLCA | TCGA-BL-A13J | chr10:100229245-100229245 | C | A | 0.3442623 |  61 | chr10 | 100229245 | ⋯ |  51 | 18 |  69 | MALE   |          NA | -0.002357304 |  0.004987359 | 0 | 0 |  TRUE |\n",
       "\n"
      ],
      "text/plain": [
       "  idx                 acronym case_id      region                    ref alt\n",
       "1 chr10_100186039_C_T BRCA    TCGA-BH-A0HP chr10:100186039-100186039 C   T  \n",
       "2 chr10_100186243_G_C BRCA    TCGA-C8-A12T chr10:100186243-100186243 G   C  \n",
       "3 chr10_100229245_C_A BLCA    TCGA-BL-A13J chr10:100229245-100229245 C   A  \n",
       "  atac_vaf  atac_dp chrom pos       ⋯ ref_count alt_count total_count gender\n",
       "1 0.0000000 151     chr10 100186039 ⋯ 109       12        121         FEMALE\n",
       "2 0.0000000 218     chr10 100186243 ⋯ 103       17        120         FEMALE\n",
       "3 0.3442623  61     chr10 100229245 ⋯  51       18         69         MALE  \n",
       "  vaf_difference diff_summit_centered diff_mutation_centered\n",
       "1 -0.09917355     0.032485664          0.051526308          \n",
       "2 -0.14166667    -0.003796756         -0.003147066          \n",
       "3          NA    -0.002357304          0.004987359          \n",
       "  lof_summit_centered gof_mutation_centered in_scATAC\n",
       "1 0                   0                     FALSE    \n",
       "2 0                   0                     FALSE    \n",
       "3 0                   0                      TRUE    "
      ]
     },
     "metadata": {},
     "output_type": "display_data"
    }
   ],
   "source": [
    "head(filtered_vafs, 3)"
   ]
  },
  {
   "cell_type": "code",
   "execution_count": 17,
   "metadata": {},
   "outputs": [
    {
     "data": {
      "text/html": [
       "<table class=\"dataframe\">\n",
       "<caption>A data.table: 3 × 22</caption>\n",
       "<thead>\n",
       "\t<tr><th scope=col>idx</th><th scope=col>acronym</th><th scope=col>case_id</th><th scope=col>region</th><th scope=col>ref</th><th scope=col>alt</th><th scope=col>atac_vaf</th><th scope=col>atac_dp</th><th scope=col>chrom</th><th scope=col>pos</th><th scope=col>⋯</th><th scope=col>ref_count</th><th scope=col>alt_count</th><th scope=col>total_count</th><th scope=col>gender</th><th scope=col>vaf_difference</th><th scope=col>diff_summit_centered</th><th scope=col>diff_mutation_centered</th><th scope=col>lof_summit_centered</th><th scope=col>gof_mutation_centered</th><th scope=col>chrX</th></tr>\n",
       "\t<tr><th scope=col>&lt;chr&gt;</th><th scope=col>&lt;chr&gt;</th><th scope=col>&lt;chr&gt;</th><th scope=col>&lt;chr&gt;</th><th scope=col>&lt;chr&gt;</th><th scope=col>&lt;chr&gt;</th><th scope=col>&lt;dbl&gt;</th><th scope=col>&lt;int&gt;</th><th scope=col>&lt;chr&gt;</th><th scope=col>&lt;int&gt;</th><th scope=col>⋯</th><th scope=col>&lt;int&gt;</th><th scope=col>&lt;int&gt;</th><th scope=col>&lt;int&gt;</th><th scope=col>&lt;chr&gt;</th><th scope=col>&lt;dbl&gt;</th><th scope=col>&lt;dbl&gt;</th><th scope=col>&lt;dbl&gt;</th><th scope=col>&lt;int&gt;</th><th scope=col>&lt;int&gt;</th><th scope=col>&lt;lgl&gt;</th></tr>\n",
       "</thead>\n",
       "<tbody>\n",
       "\t<tr><td>chr10_100228872_T_C</td><td>COAD</td><td>TCGA-NH-A5IV</td><td>chr10:100228872-100228872</td><td>T</td><td>C</td><td>0.0000000</td><td>44</td><td>chr10</td><td>100228872</td><td>⋯</td><td>70</td><td>12</td><td>82</td><td>FEMALE</td><td>-0.14634146</td><td>-0.001738071</td><td>-0.024743557</td><td>0</td><td>0</td><td>FALSE</td></tr>\n",
       "\t<tr><td>chr10_100228914_C_G</td><td>BLCA</td><td>TCGA-BL-A13J</td><td>chr10:100228914-100228914</td><td>C</td><td>G</td><td>0.2696629</td><td>89</td><td>chr10</td><td>100228914</td><td>⋯</td><td>60</td><td>10</td><td>70</td><td>MALE  </td><td> 0.12680578</td><td> 0.000333190</td><td>-0.006130636</td><td>0</td><td>0</td><td>FALSE</td></tr>\n",
       "\t<tr><td>chr10_100229245_C_A</td><td>BLCA</td><td>TCGA-BL-A13J</td><td>chr10:100229245-100229245</td><td>C</td><td>A</td><td>0.3030303</td><td>99</td><td>chr10</td><td>100229245</td><td>⋯</td><td>51</td><td>18</td><td>69</td><td>MALE  </td><td> 0.04216074</td><td>-0.002357304</td><td> 0.004987359</td><td>0</td><td>0</td><td>FALSE</td></tr>\n",
       "</tbody>\n",
       "</table>\n"
      ],
      "text/latex": [
       "A data.table: 3 × 22\n",
       "\\begin{tabular}{lllllllllllllllllllll}\n",
       " idx & acronym & case\\_id & region & ref & alt & atac\\_vaf & atac\\_dp & chrom & pos & ⋯ & ref\\_count & alt\\_count & total\\_count & gender & vaf\\_difference & diff\\_summit\\_centered & diff\\_mutation\\_centered & lof\\_summit\\_centered & gof\\_mutation\\_centered & chrX\\\\\n",
       " <chr> & <chr> & <chr> & <chr> & <chr> & <chr> & <dbl> & <int> & <chr> & <int> & ⋯ & <int> & <int> & <int> & <chr> & <dbl> & <dbl> & <dbl> & <int> & <int> & <lgl>\\\\\n",
       "\\hline\n",
       "\t chr10\\_100228872\\_T\\_C & COAD & TCGA-NH-A5IV & chr10:100228872-100228872 & T & C & 0.0000000 & 44 & chr10 & 100228872 & ⋯ & 70 & 12 & 82 & FEMALE & -0.14634146 & -0.001738071 & -0.024743557 & 0 & 0 & FALSE\\\\\n",
       "\t chr10\\_100228914\\_C\\_G & BLCA & TCGA-BL-A13J & chr10:100228914-100228914 & C & G & 0.2696629 & 89 & chr10 & 100228914 & ⋯ & 60 & 10 & 70 & MALE   &  0.12680578 &  0.000333190 & -0.006130636 & 0 & 0 & FALSE\\\\\n",
       "\t chr10\\_100229245\\_C\\_A & BLCA & TCGA-BL-A13J & chr10:100229245-100229245 & C & A & 0.3030303 & 99 & chr10 & 100229245 & ⋯ & 51 & 18 & 69 & MALE   &  0.04216074 & -0.002357304 &  0.004987359 & 0 & 0 & FALSE\\\\\n",
       "\\end{tabular}\n"
      ],
      "text/markdown": [
       "\n",
       "A data.table: 3 × 22\n",
       "\n",
       "| idx &lt;chr&gt; | acronym &lt;chr&gt; | case_id &lt;chr&gt; | region &lt;chr&gt; | ref &lt;chr&gt; | alt &lt;chr&gt; | atac_vaf &lt;dbl&gt; | atac_dp &lt;int&gt; | chrom &lt;chr&gt; | pos &lt;int&gt; | ⋯ ⋯ | ref_count &lt;int&gt; | alt_count &lt;int&gt; | total_count &lt;int&gt; | gender &lt;chr&gt; | vaf_difference &lt;dbl&gt; | diff_summit_centered &lt;dbl&gt; | diff_mutation_centered &lt;dbl&gt; | lof_summit_centered &lt;int&gt; | gof_mutation_centered &lt;int&gt; | chrX &lt;lgl&gt; |\n",
       "|---|---|---|---|---|---|---|---|---|---|---|---|---|---|---|---|---|---|---|---|---|\n",
       "| chr10_100228872_T_C | COAD | TCGA-NH-A5IV | chr10:100228872-100228872 | T | C | 0.0000000 | 44 | chr10 | 100228872 | ⋯ | 70 | 12 | 82 | FEMALE | -0.14634146 | -0.001738071 | -0.024743557 | 0 | 0 | FALSE |\n",
       "| chr10_100228914_C_G | BLCA | TCGA-BL-A13J | chr10:100228914-100228914 | C | G | 0.2696629 | 89 | chr10 | 100228914 | ⋯ | 60 | 10 | 70 | MALE   |  0.12680578 |  0.000333190 | -0.006130636 | 0 | 0 | FALSE |\n",
       "| chr10_100229245_C_A | BLCA | TCGA-BL-A13J | chr10:100229245-100229245 | C | A | 0.3030303 | 99 | chr10 | 100229245 | ⋯ | 51 | 18 | 69 | MALE   |  0.04216074 | -0.002357304 |  0.004987359 | 0 | 0 | FALSE |\n",
       "\n"
      ],
      "text/plain": [
       "  idx                 acronym case_id      region                    ref alt\n",
       "1 chr10_100228872_T_C COAD    TCGA-NH-A5IV chr10:100228872-100228872 T   C  \n",
       "2 chr10_100228914_C_G BLCA    TCGA-BL-A13J chr10:100228914-100228914 C   G  \n",
       "3 chr10_100229245_C_A BLCA    TCGA-BL-A13J chr10:100229245-100229245 C   A  \n",
       "  atac_vaf  atac_dp chrom pos       ⋯ ref_count alt_count total_count gender\n",
       "1 0.0000000 44      chr10 100228872 ⋯ 70        12        82          FEMALE\n",
       "2 0.2696629 89      chr10 100228914 ⋯ 60        10        70          MALE  \n",
       "3 0.3030303 99      chr10 100229245 ⋯ 51        18        69          MALE  \n",
       "  vaf_difference diff_summit_centered diff_mutation_centered\n",
       "1 -0.14634146    -0.001738071         -0.024743557          \n",
       "2  0.12680578     0.000333190         -0.006130636          \n",
       "3  0.04216074    -0.002357304          0.004987359          \n",
       "  lof_summit_centered gof_mutation_centered chrX \n",
       "1 0                   0                     FALSE\n",
       "2 0                   0                     FALSE\n",
       "3 0                   0                     FALSE"
      ]
     },
     "metadata": {},
     "output_type": "display_data"
    }
   ],
   "source": [
    "head(scATAC_vafs,3)"
   ]
  },
  {
   "cell_type": "code",
   "execution_count": 79,
   "metadata": {},
   "outputs": [],
   "source": [
    "merged_vafs <- merge(filtered_vafs, scATAC_vafs[,.(idx, chrom, pos, ref, alt, case_id, atac_vaf, atac_dp, total_count, wgs_vaf, vaf_difference, diff_summit_centered, diff_mutation_centered, lof_summit_centered, gof_mutation_centered )], by=c(\"idx\", \"chrom\", \"pos\", \"ref\", \"alt\", \"case_id\"), all=TRUE)"
   ]
  },
  {
   "cell_type": "code",
   "execution_count": 70,
   "metadata": {},
   "outputs": [
    {
     "data": {
      "text/html": [
       "TRUE"
      ],
      "text/latex": [
       "TRUE"
      ],
      "text/markdown": [
       "TRUE"
      ],
      "text/plain": [
       "[1] TRUE"
      ]
     },
     "metadata": {},
     "output_type": "display_data"
    },
    {
     "data": {
      "text/html": [
       "TRUE"
      ],
      "text/latex": [
       "TRUE"
      ],
      "text/markdown": [
       "TRUE"
      ],
      "text/plain": [
       "[1] TRUE"
      ]
     },
     "metadata": {},
     "output_type": "display_data"
    },
    {
     "data": {
      "text/html": [
       "TRUE"
      ],
      "text/latex": [
       "TRUE"
      ],
      "text/markdown": [
       "TRUE"
      ],
      "text/plain": [
       "[1] TRUE"
      ]
     },
     "metadata": {},
     "output_type": "display_data"
    },
    {
     "data": {
      "text/html": [
       "TRUE"
      ],
      "text/latex": [
       "TRUE"
      ],
      "text/markdown": [
       "TRUE"
      ],
      "text/plain": [
       "[1] TRUE"
      ]
     },
     "metadata": {},
     "output_type": "display_data"
    },
    {
     "data": {
      "text/html": [
       "TRUE"
      ],
      "text/latex": [
       "TRUE"
      ],
      "text/markdown": [
       "TRUE"
      ],
      "text/plain": [
       "[1] TRUE"
      ]
     },
     "metadata": {},
     "output_type": "display_data"
    },
    {
     "data": {
      "text/html": [
       "TRUE"
      ],
      "text/latex": [
       "TRUE"
      ],
      "text/markdown": [
       "TRUE"
      ],
      "text/plain": [
       "[1] TRUE"
      ]
     },
     "metadata": {},
     "output_type": "display_data"
    }
   ],
   "source": [
    "all(merged_vafs[in_scATAC==TRUE,]$wgs_vaf.x == merged_vafs[in_scATAC==TRUE,]$wgs_vaf.y, na.rm=TRUE)\n",
    "all(merged_vafs[in_scATAC==TRUE,]$total_count.x == merged_vafs[in_scATAC==TRUE,]$total_count.y, na.rm=TRUE)\n",
    "all(merged_vafs[in_scATAC==TRUE,]$diff_summit_centered.x == merged_vafs[in_scATAC==TRUE,]$diff_summit_centered.y, na.rm=TRUE)\n",
    "all(merged_vafs[in_scATAC==TRUE,]$diff_mutation_centered.x == merged_vafs[in_scATAC==TRUE,]$diff_mutation_centered.y, na.rm=TRUE)\n",
    "all(merged_vafs[in_scATAC==TRUE,]$gof_mutation_centered.x == merged_vafs[in_scATAC==TRUE,]$gof_mutation_centered.y, na.rm=TRUE)\n",
    "all(merged_vafs[in_scATAC==TRUE,]$lof_mutation_centered.x == merged_vafs[in_scATAC==TRUE,]$lof_mutation_centered.y, na.rm=TRUE)"
   ]
  },
  {
   "cell_type": "code",
   "execution_count": 80,
   "metadata": {},
   "outputs": [],
   "source": [
    "merged_vafs[,wgs_vaf:=wgs_vaf.x]\n",
    "merged_vafs[is.na(wgs_vaf.x),wgs_vaf:=wgs_vaf.y]\n",
    "merged_vafs[,wgs_dp:=total_count.x]\n",
    "merged_vafs[is.na(total_count.x),wgs_dp:=total_count.y]\n",
    "merged_vafs[,diff_summit_centered:=diff_summit_centered.x]\n",
    "merged_vafs[is.na(diff_summit_centered.x),diff_summit_centered:=diff_summit_centered.y]\n",
    "merged_vafs[,diff_mutation_centered:=diff_mutation_centered.x]\n",
    "merged_vafs[is.na(diff_mutation_centered.x),diff_mutation_centered:=diff_mutation_centered.y]\n",
    "merged_vafs[,gof_mutation_centered:=gof_mutation_centered.x]\n",
    "merged_vafs[is.na(gof_mutation_centered.x),gof_mutation_centered:=gof_mutation_centered.y]\n",
    "merged_vafs[,lof_summit_centered:=lof_summit_centered.x]\n",
    "merged_vafs[is.na(lof_summit_centered.x),lof_summit_centered:=lof_summit_centered.y]"
   ]
  },
  {
   "cell_type": "code",
   "execution_count": 81,
   "metadata": {},
   "outputs": [],
   "source": [
    "merged_vafs[,filter:=NULL]\n",
    "merged_vafs[,wgs_vaf.x:=NULL]\n",
    "merged_vafs[,wgs_vaf.y:=NULL]\n",
    "merged_vafs[,total_count.x:=NULL]\n",
    "merged_vafs[,total_count.y:=NULL]\n",
    "merged_vafs[,ref_count:=NULL]\n",
    "merged_vafs[,alt_count:=NULL]\n",
    "merged_vafs[,diff_summit_centered.x:=NULL]\n",
    "merged_vafs[,diff_summit_centered.y:=NULL]\n",
    "merged_vafs[,diff_mutation_centered.x:=NULL]\n",
    "merged_vafs[,diff_mutation_centered.y:=NULL]\n",
    "merged_vafs[,lof_summit_centered.x:=NULL]\n",
    "merged_vafs[,lof_summit_centered.y:=NULL]\n",
    "merged_vafs[,gof_mutation_centered.x:=NULL]\n",
    "merged_vafs[,gof_mutation_centered.y:=NULL]\n",
    "merged_vafs[,region:=NULL]\n",
    "merged_vafs[,acronym:=NULL]\n",
    "merged_vafs[,gender:=NULL]\n"
   ]
  },
  {
   "cell_type": "code",
   "execution_count": 82,
   "metadata": {},
   "outputs": [
    {
     "data": {
      "text/html": [
       "<style>\n",
       ".list-inline {list-style: none; margin:0; padding: 0}\n",
       ".list-inline>li {display: inline-block}\n",
       ".list-inline>li:not(:last-child)::after {content: \"\\00b7\"; padding: 0 .5ex}\n",
       "</style>\n",
       "<ol class=list-inline><li>'idx'</li><li>'chrom'</li><li>'pos'</li><li>'ref'</li><li>'alt'</li><li>'case_id'</li><li>'atac_vaf.x'</li><li>'atac_dp.x'</li><li>'vaf_difference.x'</li><li>'in_scATAC'</li><li>'atac_vaf.y'</li><li>'atac_dp.y'</li><li>'vaf_difference.y'</li><li>'wgs_vaf'</li><li>'wgs_dp'</li><li>'diff_summit_centered'</li><li>'diff_mutation_centered'</li><li>'gof_mutation_centered'</li><li>'lof_summit_centered'</li></ol>\n"
      ],
      "text/latex": [
       "\\begin{enumerate*}\n",
       "\\item 'idx'\n",
       "\\item 'chrom'\n",
       "\\item 'pos'\n",
       "\\item 'ref'\n",
       "\\item 'alt'\n",
       "\\item 'case\\_id'\n",
       "\\item 'atac\\_vaf.x'\n",
       "\\item 'atac\\_dp.x'\n",
       "\\item 'vaf\\_difference.x'\n",
       "\\item 'in\\_scATAC'\n",
       "\\item 'atac\\_vaf.y'\n",
       "\\item 'atac\\_dp.y'\n",
       "\\item 'vaf\\_difference.y'\n",
       "\\item 'wgs\\_vaf'\n",
       "\\item 'wgs\\_dp'\n",
       "\\item 'diff\\_summit\\_centered'\n",
       "\\item 'diff\\_mutation\\_centered'\n",
       "\\item 'gof\\_mutation\\_centered'\n",
       "\\item 'lof\\_summit\\_centered'\n",
       "\\end{enumerate*}\n"
      ],
      "text/markdown": [
       "1. 'idx'\n",
       "2. 'chrom'\n",
       "3. 'pos'\n",
       "4. 'ref'\n",
       "5. 'alt'\n",
       "6. 'case_id'\n",
       "7. 'atac_vaf.x'\n",
       "8. 'atac_dp.x'\n",
       "9. 'vaf_difference.x'\n",
       "10. 'in_scATAC'\n",
       "11. 'atac_vaf.y'\n",
       "12. 'atac_dp.y'\n",
       "13. 'vaf_difference.y'\n",
       "14. 'wgs_vaf'\n",
       "15. 'wgs_dp'\n",
       "16. 'diff_summit_centered'\n",
       "17. 'diff_mutation_centered'\n",
       "18. 'gof_mutation_centered'\n",
       "19. 'lof_summit_centered'\n",
       "\n",
       "\n"
      ],
      "text/plain": [
       " [1] \"idx\"                    \"chrom\"                  \"pos\"                   \n",
       " [4] \"ref\"                    \"alt\"                    \"case_id\"               \n",
       " [7] \"atac_vaf.x\"             \"atac_dp.x\"              \"vaf_difference.x\"      \n",
       "[10] \"in_scATAC\"              \"atac_vaf.y\"             \"atac_dp.y\"             \n",
       "[13] \"vaf_difference.y\"       \"wgs_vaf\"                \"wgs_dp\"                \n",
       "[16] \"diff_summit_centered\"   \"diff_mutation_centered\" \"gof_mutation_centered\" \n",
       "[19] \"lof_summit_centered\"   "
      ]
     },
     "metadata": {},
     "output_type": "display_data"
    }
   ],
   "source": [
    "colnames(merged_vafs)"
   ]
  },
  {
   "cell_type": "code",
   "execution_count": 84,
   "metadata": {},
   "outputs": [],
   "source": [
    "colnames(merged_vafs)[c(7,8,9,11,12,13)] <- c(\"bulk_atac_vaf\", \"bulk_atac_dp\",\"bulk_atac_vaf_difference\",\"scATAC_vaf\",\"scATAC_dp\",\"scATAC_vaf_difference\")"
   ]
  },
  {
   "cell_type": "code",
   "execution_count": 86,
   "metadata": {},
   "outputs": [
    {
     "data": {
      "text/html": [
       "<table class=\"dataframe\">\n",
       "<caption>A data.table: 19 × 2</caption>\n",
       "<thead>\n",
       "\t<tr><th scope=col>V1</th><th scope=col>V2</th></tr>\n",
       "\t<tr><th scope=col>&lt;chr&gt;</th><th scope=col>&lt;int&gt;</th></tr>\n",
       "</thead>\n",
       "<tbody>\n",
       "\t<tr><td>idx                     </td><td> 1</td></tr>\n",
       "\t<tr><td>chrom                   </td><td> 2</td></tr>\n",
       "\t<tr><td>pos                     </td><td> 3</td></tr>\n",
       "\t<tr><td>ref                     </td><td> 4</td></tr>\n",
       "\t<tr><td>alt                     </td><td> 5</td></tr>\n",
       "\t<tr><td>case_id                 </td><td> 6</td></tr>\n",
       "\t<tr><td>bulk_atac_vaf           </td><td> 7</td></tr>\n",
       "\t<tr><td>bulk_atac_dp            </td><td> 8</td></tr>\n",
       "\t<tr><td>bulk_atac_vaf_difference</td><td> 9</td></tr>\n",
       "\t<tr><td>in_scATAC               </td><td>10</td></tr>\n",
       "\t<tr><td>scATAC_vaf              </td><td>11</td></tr>\n",
       "\t<tr><td>scATAC_dp               </td><td>12</td></tr>\n",
       "\t<tr><td>scATAC_vaf_difference   </td><td>13</td></tr>\n",
       "\t<tr><td>wgs_vaf                 </td><td>14</td></tr>\n",
       "\t<tr><td>wgs_dp                  </td><td>15</td></tr>\n",
       "\t<tr><td>diff_summit_centered    </td><td>16</td></tr>\n",
       "\t<tr><td>diff_mutation_centered  </td><td>17</td></tr>\n",
       "\t<tr><td>gof_mutation_centered   </td><td>18</td></tr>\n",
       "\t<tr><td>lof_summit_centered     </td><td>19</td></tr>\n",
       "</tbody>\n",
       "</table>\n"
      ],
      "text/latex": [
       "A data.table: 19 × 2\n",
       "\\begin{tabular}{ll}\n",
       " V1 & V2\\\\\n",
       " <chr> & <int>\\\\\n",
       "\\hline\n",
       "\t idx                      &  1\\\\\n",
       "\t chrom                    &  2\\\\\n",
       "\t pos                      &  3\\\\\n",
       "\t ref                      &  4\\\\\n",
       "\t alt                      &  5\\\\\n",
       "\t case\\_id                  &  6\\\\\n",
       "\t bulk\\_atac\\_vaf            &  7\\\\\n",
       "\t bulk\\_atac\\_dp             &  8\\\\\n",
       "\t bulk\\_atac\\_vaf\\_difference &  9\\\\\n",
       "\t in\\_scATAC                & 10\\\\\n",
       "\t scATAC\\_vaf               & 11\\\\\n",
       "\t scATAC\\_dp                & 12\\\\\n",
       "\t scATAC\\_vaf\\_difference    & 13\\\\\n",
       "\t wgs\\_vaf                  & 14\\\\\n",
       "\t wgs\\_dp                   & 15\\\\\n",
       "\t diff\\_summit\\_centered     & 16\\\\\n",
       "\t diff\\_mutation\\_centered   & 17\\\\\n",
       "\t gof\\_mutation\\_centered    & 18\\\\\n",
       "\t lof\\_summit\\_centered      & 19\\\\\n",
       "\\end{tabular}\n"
      ],
      "text/markdown": [
       "\n",
       "A data.table: 19 × 2\n",
       "\n",
       "| V1 &lt;chr&gt; | V2 &lt;int&gt; |\n",
       "|---|---|\n",
       "| idx                      |  1 |\n",
       "| chrom                    |  2 |\n",
       "| pos                      |  3 |\n",
       "| ref                      |  4 |\n",
       "| alt                      |  5 |\n",
       "| case_id                  |  6 |\n",
       "| bulk_atac_vaf            |  7 |\n",
       "| bulk_atac_dp             |  8 |\n",
       "| bulk_atac_vaf_difference |  9 |\n",
       "| in_scATAC                | 10 |\n",
       "| scATAC_vaf               | 11 |\n",
       "| scATAC_dp                | 12 |\n",
       "| scATAC_vaf_difference    | 13 |\n",
       "| wgs_vaf                  | 14 |\n",
       "| wgs_dp                   | 15 |\n",
       "| diff_summit_centered     | 16 |\n",
       "| diff_mutation_centered   | 17 |\n",
       "| gof_mutation_centered    | 18 |\n",
       "| lof_summit_centered      | 19 |\n",
       "\n"
      ],
      "text/plain": [
       "   V1                       V2\n",
       "1  idx                       1\n",
       "2  chrom                     2\n",
       "3  pos                       3\n",
       "4  ref                       4\n",
       "5  alt                       5\n",
       "6  case_id                   6\n",
       "7  bulk_atac_vaf             7\n",
       "8  bulk_atac_dp              8\n",
       "9  bulk_atac_vaf_difference  9\n",
       "10 in_scATAC                10\n",
       "11 scATAC_vaf               11\n",
       "12 scATAC_dp                12\n",
       "13 scATAC_vaf_difference    13\n",
       "14 wgs_vaf                  14\n",
       "15 wgs_dp                   15\n",
       "16 diff_summit_centered     16\n",
       "17 diff_mutation_centered   17\n",
       "18 gof_mutation_centered    18\n",
       "19 lof_summit_centered      19"
      ]
     },
     "metadata": {},
     "output_type": "display_data"
    }
   ],
   "source": [
    "data.table(colnames(merged_vafs), c(1:ncol(merged_vafs)))"
   ]
  },
  {
   "cell_type": "code",
   "execution_count": 87,
   "metadata": {},
   "outputs": [],
   "source": [
    "out_df <- cbind(merged_vafs[,c(1:6)],merged_vafs[,c(10,14,15)], merged_vafs[,c(7:9)], merged_vafs[,c(11:13)], merged_vafs[,c(16:19)])"
   ]
  },
  {
   "cell_type": "code",
   "execution_count": 89,
   "metadata": {},
   "outputs": [],
   "source": [
    "out_df[is.na(in_scATAC) & (case_id %in% scATAC_vafs$case_id), in_scATAC:=TRUE]"
   ]
  },
  {
   "cell_type": "code",
   "execution_count": 92,
   "metadata": {},
   "outputs": [
    {
     "data": {
      "text/html": [
       "<table class=\"dataframe\">\n",
       "<caption>A data.table: 6 × 10</caption>\n",
       "<thead>\n",
       "\t<tr><th scope=col>bulk_atac_vaf</th><th scope=col>bulk_atac_dp</th><th scope=col>bulk_atac_vaf_difference</th><th scope=col>scATAC_vaf</th><th scope=col>scATAC_dp</th><th scope=col>scATAC_vaf_difference</th><th scope=col>diff_summit_centered</th><th scope=col>diff_mutation_centered</th><th scope=col>gof_mutation_centered</th><th scope=col>lof_summit_centered</th></tr>\n",
       "\t<tr><th scope=col>&lt;dbl&gt;</th><th scope=col>&lt;int&gt;</th><th scope=col>&lt;dbl&gt;</th><th scope=col>&lt;dbl&gt;</th><th scope=col>&lt;int&gt;</th><th scope=col>&lt;dbl&gt;</th><th scope=col>&lt;dbl&gt;</th><th scope=col>&lt;dbl&gt;</th><th scope=col>&lt;int&gt;</th><th scope=col>&lt;int&gt;</th></tr>\n",
       "</thead>\n",
       "<tbody>\n",
       "\t<tr><td>0.0000000</td><td>151</td><td>-0.09917355</td><td>       NA</td><td> NA</td><td>         NA</td><td> 0.032485664</td><td> 0.051526308</td><td>0</td><td>0</td></tr>\n",
       "\t<tr><td>0.0000000</td><td>218</td><td>-0.14166667</td><td>       NA</td><td> NA</td><td>         NA</td><td>-0.003796756</td><td>-0.003147066</td><td>0</td><td>0</td></tr>\n",
       "\t<tr><td>       NA</td><td> NA</td><td>         NA</td><td>0.0000000</td><td> 44</td><td>-0.14634146</td><td>-0.001738071</td><td>-0.024743557</td><td>0</td><td>0</td></tr>\n",
       "\t<tr><td>       NA</td><td> NA</td><td>         NA</td><td>0.2696629</td><td> 89</td><td> 0.12680578</td><td> 0.000333190</td><td>-0.006130636</td><td>0</td><td>0</td></tr>\n",
       "\t<tr><td>0.3442623</td><td> 61</td><td>         NA</td><td>0.3030303</td><td> 99</td><td> 0.04216074</td><td>-0.002357304</td><td> 0.004987359</td><td>0</td><td>0</td></tr>\n",
       "\t<tr><td>0.3271028</td><td>107</td><td>         NA</td><td>0.3096234</td><td>239</td><td> 0.14094873</td><td> 0.146393000</td><td> 0.117428064</td><td>0</td><td>1</td></tr>\n",
       "</tbody>\n",
       "</table>\n"
      ],
      "text/latex": [
       "A data.table: 6 × 10\n",
       "\\begin{tabular}{llllllllll}\n",
       " bulk\\_atac\\_vaf & bulk\\_atac\\_dp & bulk\\_atac\\_vaf\\_difference & scATAC\\_vaf & scATAC\\_dp & scATAC\\_vaf\\_difference & diff\\_summit\\_centered & diff\\_mutation\\_centered & gof\\_mutation\\_centered & lof\\_summit\\_centered\\\\\n",
       " <dbl> & <int> & <dbl> & <dbl> & <int> & <dbl> & <dbl> & <dbl> & <int> & <int>\\\\\n",
       "\\hline\n",
       "\t 0.0000000 & 151 & -0.09917355 &        NA &  NA &          NA &  0.032485664 &  0.051526308 & 0 & 0\\\\\n",
       "\t 0.0000000 & 218 & -0.14166667 &        NA &  NA &          NA & -0.003796756 & -0.003147066 & 0 & 0\\\\\n",
       "\t        NA &  NA &          NA & 0.0000000 &  44 & -0.14634146 & -0.001738071 & -0.024743557 & 0 & 0\\\\\n",
       "\t        NA &  NA &          NA & 0.2696629 &  89 &  0.12680578 &  0.000333190 & -0.006130636 & 0 & 0\\\\\n",
       "\t 0.3442623 &  61 &          NA & 0.3030303 &  99 &  0.04216074 & -0.002357304 &  0.004987359 & 0 & 0\\\\\n",
       "\t 0.3271028 & 107 &          NA & 0.3096234 & 239 &  0.14094873 &  0.146393000 &  0.117428064 & 0 & 1\\\\\n",
       "\\end{tabular}\n"
      ],
      "text/markdown": [
       "\n",
       "A data.table: 6 × 10\n",
       "\n",
       "| bulk_atac_vaf &lt;dbl&gt; | bulk_atac_dp &lt;int&gt; | bulk_atac_vaf_difference &lt;dbl&gt; | scATAC_vaf &lt;dbl&gt; | scATAC_dp &lt;int&gt; | scATAC_vaf_difference &lt;dbl&gt; | diff_summit_centered &lt;dbl&gt; | diff_mutation_centered &lt;dbl&gt; | gof_mutation_centered &lt;int&gt; | lof_summit_centered &lt;int&gt; |\n",
       "|---|---|---|---|---|---|---|---|---|---|\n",
       "| 0.0000000 | 151 | -0.09917355 |        NA |  NA |          NA |  0.032485664 |  0.051526308 | 0 | 0 |\n",
       "| 0.0000000 | 218 | -0.14166667 |        NA |  NA |          NA | -0.003796756 | -0.003147066 | 0 | 0 |\n",
       "|        NA |  NA |          NA | 0.0000000 |  44 | -0.14634146 | -0.001738071 | -0.024743557 | 0 | 0 |\n",
       "|        NA |  NA |          NA | 0.2696629 |  89 |  0.12680578 |  0.000333190 | -0.006130636 | 0 | 0 |\n",
       "| 0.3442623 |  61 |          NA | 0.3030303 |  99 |  0.04216074 | -0.002357304 |  0.004987359 | 0 | 0 |\n",
       "| 0.3271028 | 107 |          NA | 0.3096234 | 239 |  0.14094873 |  0.146393000 |  0.117428064 | 0 | 1 |\n",
       "\n"
      ],
      "text/plain": [
       "  bulk_atac_vaf bulk_atac_dp bulk_atac_vaf_difference scATAC_vaf scATAC_dp\n",
       "1 0.0000000     151          -0.09917355                     NA   NA      \n",
       "2 0.0000000     218          -0.14166667                     NA   NA      \n",
       "3        NA      NA                   NA              0.0000000   44      \n",
       "4        NA      NA                   NA              0.2696629   89      \n",
       "5 0.3442623      61                   NA              0.3030303   99      \n",
       "6 0.3271028     107                   NA              0.3096234  239      \n",
       "  scATAC_vaf_difference diff_summit_centered diff_mutation_centered\n",
       "1          NA            0.032485664          0.051526308          \n",
       "2          NA           -0.003796756         -0.003147066          \n",
       "3 -0.14634146           -0.001738071         -0.024743557          \n",
       "4  0.12680578            0.000333190         -0.006130636          \n",
       "5  0.04216074           -0.002357304          0.004987359          \n",
       "6  0.14094873            0.146393000          0.117428064          \n",
       "  gof_mutation_centered lof_summit_centered\n",
       "1 0                     0                  \n",
       "2 0                     0                  \n",
       "3 0                     0                  \n",
       "4 0                     0                  \n",
       "5 0                     0                  \n",
       "6 0                     1                  "
      ]
     },
     "metadata": {},
     "output_type": "display_data"
    }
   ],
   "source": [
    "head(out_df[,10:19])"
   ]
  },
  {
   "cell_type": "code",
   "execution_count": 94,
   "metadata": {},
   "outputs": [],
   "source": [
    "write.table(out_df, file=\"/illumina/scratch/deep_learning/asalcedo/scATAC/tables/allelic_imbalance.txt\", quote=FALSE, row.names = FALSE, sep=\"\\t\")"
   ]
  },
  {
   "cell_type": "code",
   "execution_count": null,
   "metadata": {},
   "outputs": [],
   "source": []
  }
 ],
 "metadata": {
  "kernelspec": {
   "display_name": "R",
   "language": "R",
   "name": "ir"
  },
  "language_info": {
   "codemirror_mode": "r",
   "file_extension": ".r",
   "mimetype": "text/x-r-source",
   "name": "R",
   "pygments_lexer": "r",
   "version": "4.2.1"
  },
  "orig_nbformat": 4
 },
 "nbformat": 4,
 "nbformat_minor": 2
}
